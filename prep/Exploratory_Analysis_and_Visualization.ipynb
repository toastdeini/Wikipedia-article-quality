{
 "cells": [
  {
   "cell_type": "markdown",
   "metadata": {},
   "source": [
    "# Exploratory Data Analysis"
   ]
  },
  {
   "cell_type": "markdown",
   "metadata": {},
   "source": [
    "## Imports & Read-in"
   ]
  },
  {
   "cell_type": "code",
   "execution_count": 1,
   "metadata": {
    "ExecuteTime": {
     "end_time": "2022-06-02T19:10:57.547731Z",
     "start_time": "2022-06-02T19:10:55.317537Z"
    },
    "scrolled": false
   },
   "outputs": [],
   "source": [
    "# Data manipulation\n",
    "import pandas as pd\n",
    "import numpy as np\n",
    "\n",
    "# Visualization\n",
    "import matplotlib.pyplot as plt\n",
    "%matplotlib inline\n",
    "plt.style.use('seaborn-dark')\n",
    "import seaborn as sns\n",
    "\n",
    "# scikit-learn + XGBoost\n",
    "from sklearn.dummy import DummyClassifier\n",
    "from sklearn.ensemble import RandomForestClassifier, GradientBoostingClassifier\n",
    "from sklearn.feature_extraction.text import CountVectorizer, TfidfVectorizer\n",
    "from sklearn.metrics import confusion_matrix, classification_report,\\\n",
    "                            RocCurveDisplay, roc_curve, roc_auc_score,\\\n",
    "                            ConfusionMatrixDisplay\n",
    "from sklearn.model_selection import train_test_split, cross_validate, GridSearchCV\n",
    "from sklearn.naive_bayes import MultinomialNB\n",
    "from sklearn.pipeline import Pipeline\n",
    "from sklearn.tree import DecisionTreeClassifier\n",
    "from xgboost import XGBClassifier, XGBRFClassifier\n",
    "\n",
    "# Used for saving models\n",
    "import pickle\n",
    "\n",
    "# NLTK\n",
    "import nltk\n",
    "from nltk.corpus import stopwords\n",
    "from nltk.probability import FreqDist\n",
    "from nltk.stem import WordNetLemmatizer\n",
    "# nltk.download('stopwords')\n",
    "sw = stopwords.words('english')\n",
    "\n",
    "# etc.\n",
    "import os\n",
    "import sys\n",
    "module_path = os.path.abspath(os.pardir)\n",
    "if module_path not in sys.path:\n",
    "    sys.path.append(module_path)\n",
    "\n",
    "from src.parse_it import *\n",
    "from src.modeling import *\n",
    "from src.EDA import *"
   ]
  },
  {
   "cell_type": "code",
   "execution_count": 2,
   "metadata": {
    "ExecuteTime": {
     "end_time": "2022-06-02T19:11:06.068307Z",
     "start_time": "2022-06-02T19:10:59.693074Z"
    }
   },
   "outputs": [],
   "source": [
    "df_good = pd.read_csv('../../data/good.csv')\n",
    "df_promo = pd.read_csv('../../data/promotional.csv')"
   ]
  },
  {
   "cell_type": "markdown",
   "metadata": {},
   "source": [
    "Taking a look at a sample article from the `good` articles dataset."
   ]
  },
  {
   "cell_type": "code",
   "execution_count": 3,
   "metadata": {
    "ExecuteTime": {
     "end_time": "2022-06-02T19:11:06.147139Z",
     "start_time": "2022-06-02T19:11:06.134733Z"
    },
    "scrolled": false
   },
   "outputs": [
    {
     "data": {
      "text/plain": [
       "\"Jamal A Davis Here I Stand is a song by American recording artist Usher. It was sent to urban adult contemporary radio on August 18, 2008 by LaFace Records and RCA Records as the fifth single from Usher's fifth studio album of the same name. Penned by the singer with Polow da Don, Adam Blackstone, Gerrell Gaddis, and Dre Vidal, and produced by Dre Vidal, Here I Stand is a slow soul ballad and contains similarities to Stevie Wonder's music. The record was nominated for the Best Male R B Vocal Performance award at the 51st Grammy Awards. Here I Stand maintained a position on the United States Hot R B Hip Hop Songs for several weeks in 2008 and 2009, reaching the top twenty. It also appeared on the US Radio Songs and Bubbling Under Hot 100 Singles charts, peaking at numbers seventy two and six, respectively. Here I Stand was written by Usher, Polow da Don, Adam Blackstone and Gerrell Gaddis, as well as Dre Vidal, who also produced the track. The song was recorded by Vincent Dilorenzo, with assistance from Geoff Rice, at Sony Music Studios, New York City and Zac Recording, Atlanta. Dilorenzo also mixed the record, with assistance from Matt DeSando, at Studio 609, Philadelphia. According to Josh Eells of Blender, Here I Stand was written for Tameka Foster, whom Usher married in August 2007. Composed before their engagement, Here I Stand was played at Usher and Foster's wedding, on Foster's request. The tune is an assurance of sexual fidelity and commitment. In an interview with MTV News, Usher stated, If you listen to the words of 'Here I Stand' , it is very heartfelt, simplistic, yet very soulful. ... It's a man's words to his woman a vow to say that you are the one, and I'll be there for you. A slow jam soul ballad, Here I Stand has been compared to the work of Stevie Wonder by critics. It was included on Usher's fifth studio album of the same name, released on May 13, 2008 by LaFace Records. The song was released to urban adult contemporary radio by LaFace and RCA Records on August 18, 2008, serving as the fifth single from Here I Stand. Usher sang Here I Stand along with Trading Places and What's Your Name at the warmup concert for the 2008 National Football League Kickoff game on September 4. Usher performed Here I Stand at Sony's keynote address at the 2009 Consumer Electronics Show. The song was performed on his One Night Stand Ladies Only Tour, with a slower tempo. Leah Greenblatt of Entertainment Weekly called Here I Stand a throwback to Stevie Wonder, and was disappointed that it was placed near the end of the parent album. USA Today's Steve Jones noted the track as a highlight of the album. Joshua Alston from The A.V. Club wrote that the song lyrically and musically sounds more passionate and more adult than Usher ever has, and called it a syrupy ballad . However, Blender's Josh Eells called the chivalrous number sweet but taxing, like looking at photos from someone elses wedding, while Jim Farber of the Daily News wrote that the song's melody fails . The song ranked at number one on AOL Radio's list of top Usher songs. At the 51st Grammy Awards, Here I Stand was nominated for the Best Male R B Vocal Performance award, but lost to Ne Yo's Miss Independent from his 2008 album, Year of the Gentleman. Following its radio release, Here I Stand debuted on the Hot R B Hip Hop Songs at number seventy five on the issue dated September 20, 2008, and peaked at number eighteen on March 14, 2009. On July 18, 2009 it fell off the chart, having spent forty three weeks on the chart. Here I Stand entered the Bubbling Under Hot 100 Singles at number fourteen on the chart of December 17, 2008. It peaked at number six on January 3, 2009, before it slipped off the chart the following week, having lasted four weeks there. On February 7, 2009, the song appeared on the Hot 100 Airplay Radio Songs at number seventy three, but failed to reappear on the chart the next week. It re entered one place higher, at number seventy two, on March 14, 2009, but again did not gain any traction, with no place achieved on the following chart.\""
      ]
     },
     "execution_count": 3,
     "metadata": {},
     "output_type": "execute_result"
    }
   ],
   "source": [
    "df_good.iloc[12345].text"
   ]
  },
  {
   "cell_type": "markdown",
   "metadata": {},
   "source": [
    "Testing out a custom function, `parse_doc`, which takes care of several NLP preprocessing steps: lowercasing, punctuation and character stripping, lemmatizing, and removing stopwords. It returns a string of *non-unique lemmas*, but can also return a list by setting the argument `as_list = True`. If stemming is preferred to lemmatizing, this can also be done within the function: `stem = 'stem'`."
   ]
  },
  {
   "cell_type": "code",
   "execution_count": 4,
   "metadata": {
    "ExecuteTime": {
     "end_time": "2022-06-02T19:11:06.428070Z",
     "start_time": "2022-06-02T19:11:06.211782Z"
    },
    "scrolled": false
   },
   "outputs": [
    {
     "data": {
      "text/plain": [
       "'jamal davis stand song american record artist usher send urban adult contemporary radio august laface record rca record fifth single usher fifth studio album name pen singer polow da adam blackstone gerrell gaddi dre vidal produce dre vidal stand slow soul ballad contain similarity stevie wonder music record nominate best male r b vocal performance award st grammy award stand maintain position united state hot r b hip hop songs several week reach top twenty also appear u radio song bubble hot single chart peak number seventy two six respectively stand write usher polow da adam blackstone gerrell gaddis well dre vidal also produce track song record vincent dilorenzo assistance geoff rice sony music studios new york city zac record atlanta dilorenzo also mixed record assistance matt desando studio philadelphia accord josh eells blender stand write tameka foster usher marry august compose engagement stand play usher foster wed foster request tune assurance sexual fidelity commitment interview mtv news usher state listen word stand heartfelt simplistic yet soulful man word woman vow say one slow jam soul ballad stand compare work stevie wonder critic include usher fifth studio album name release may laface record song release urban adult contemporary radio laface rca record august serve fifth single stand usher sing stand along trading place name warmup concert national football league kickoff game september usher perform stand sony keynote address consumer electronics show song perform one night stand ladies tour slow tempo leah greenblatt entertainment weekly call stand throwback stevie wonder disappoint place near end parent album usa today steve jones note track highlight album joshua alston v club write song lyrically musically sound passionate adult usher ever call syrupy ballad however blender josh eells call chivalrous number sweet tax like look photo someone elses wed jim farber daily news write song melody fail song ranked number one aol radio list top usher song st grammy award stand nominate best male r b vocal performance award lose ne yo miss independent album year gentleman follow radio release stand debut hot r b hip hop song number seventy five issue date september peak number eighteen march july fell chart spent forty three week chart stand entered bubbling hot single number fourteen chart december peak number six january slip chart follow week last four week february song appear hot airplay radio song number seventy three fail reappear chart next week enter one place high number seventy two march gain traction place achieve follow chart'"
      ]
     },
     "execution_count": 4,
     "metadata": {},
     "output_type": "execute_result"
    }
   ],
   "source": [
    "parse_doc( df_good.iloc[12345].text )"
   ]
  },
  {
   "cell_type": "markdown",
   "metadata": {},
   "source": [
    "And, just to get the lay of the land, a look at one of the `promotional` articles."
   ]
  },
  {
   "cell_type": "code",
   "execution_count": 5,
   "metadata": {
    "ExecuteTime": {
     "end_time": "2022-06-02T19:11:06.505512Z",
     "start_time": "2022-06-02T19:11:06.493249Z"
    },
    "scrolled": true
   },
   "outputs": [
    {
     "data": {
      "text/plain": [
       "'Love Justice International LJI , formerly Tiny Hands International, is a nonprofit organization dedicated to combating social injustice. Love Justice was established in 2005 and is based in Lincoln, Nebraska. Through a child sponsorship program, Love Justice International currently operates 18 family like childrens homes for over 200 orphaned and abandoned children in South Asia. In 2015 Love Justice established a K 12 school located in South Asia. The school provides education for over 150 children in this region. Love Justice developed a strategy called transit monitoring and interception. The strategy is to attack trafficking while it is in the process of occurring and before exploitation and enslavement. The staff monitors at border crossings, bus stations, train stations, and airports, and they look for signs of human trafficking. Love Justice currently operates in 11 countries throughout Asia and Africa, and they have intercepted over 15,000 people who were at risk of human trafficking. Love Justice International acquires detailed data from each trafficking victim . This information is then uploaded into a database that is used to help better understand and fight trafficking networks around the world. Through intelligence led investigations, Love Justice collaborates with local police and uses this detailed and actionable data to arrest, prosecute, and convict traffickers. Their efforts have resulted in over 60 convictions of traffickers around the world, in addition to numerous active cases seeking prosecution and conviction. Love Justice International, formerly Tiny Hands International, was established in 2005 by a group of graduates from Taylor University. Based in Lincoln, Nebraska, this nonprofit organization focuses on helping orphaned and abandoned street children in South Asia and combating human trafficking around the world. Initially, Love Justice focused their efforts on helping orphaned and abandoned children in South Asia by providing stable homes and education. In 2015, Love Justice opened a K 12 school for children in South Asia. In 2006, the organization piloted its first border monitoring station. Over time, this work has expanded to over 200 staff members stationed at multiple transit stations in 11 countries around the world. Tiny Hands is accredited by the Evangelical Council for Financial Accountability.'"
      ]
     },
     "execution_count": 5,
     "metadata": {},
     "output_type": "execute_result"
    }
   ],
   "source": [
    "df_promo.iloc[12345].text"
   ]
  },
  {
   "cell_type": "code",
   "execution_count": 6,
   "metadata": {
    "ExecuteTime": {
     "end_time": "2022-06-02T19:11:06.629928Z",
     "start_time": "2022-06-02T19:11:06.571209Z"
    }
   },
   "outputs": [
    {
     "data": {
      "text/plain": [
       "'love justice international lji formerly tiny hand international nonprofit organization dedicate combat social injustice love justice establish base lincoln nebraska child sponsorship program love justice international currently operate family like childrens home orphan abandoned child south asia love justice establish k school locate south asia school provide education child region love justice develop strategy call transit monitoring interception strategy attack traffic process occur exploitation enslavement staff monitor border crossing bus station train station airport look sign human traffic love justice currently operate country throughout asia africa intercept people risk human traffic love justice international acquires detail data traffic victim information upload database use help well understand fight traffic network around world intelligence lead investigation love justice collaborates local police us detail actionable data arrest prosecute convict trafficker effort result conviction trafficker around world addition numerous active case seek prosecution conviction love justice international formerly tiny hand international establish group graduate taylor university base lincoln nebraska nonprofit organization focus help orphan abandoned street child south asia combat human traffic around world initially love justice focus effort help orphan abandoned child south asia provide stable home education love justice open k school child south asia organization pilot first border monitoring station time work expand staff member station multiple transit station country around world tiny hand accredit evangelical council financial accountability'"
      ]
     },
     "execution_count": 6,
     "metadata": {},
     "output_type": "execute_result"
    }
   ],
   "source": [
    "parse_doc(df_promo.iloc[12345].text)"
   ]
  },
  {
   "cell_type": "markdown",
   "metadata": {},
   "source": [
    "## Sample Size, Scope, and Content"
   ]
  },
  {
   "cell_type": "markdown",
   "metadata": {},
   "source": [
    "How many rows are in each `.csv` file/dataset?"
   ]
  },
  {
   "cell_type": "code",
   "execution_count": 7,
   "metadata": {
    "ExecuteTime": {
     "end_time": "2022-06-02T19:11:06.708000Z",
     "start_time": "2022-06-02T19:11:06.694036Z"
    },
    "scrolled": true
   },
   "outputs": [
    {
     "name": "stdout",
     "output_type": "stream",
     "text": [
      "(30279, 2)\n",
      "(23837, 7)\n"
     ]
    }
   ],
   "source": [
    "print(df_good.shape)\n",
    "print(df_promo.shape)"
   ]
  },
  {
   "cell_type": "markdown",
   "metadata": {},
   "source": [
    "What about in **total**?"
   ]
  },
  {
   "cell_type": "code",
   "execution_count": 8,
   "metadata": {
    "ExecuteTime": {
     "end_time": "2022-06-02T19:11:06.784893Z",
     "start_time": "2022-06-02T19:11:06.771925Z"
    },
    "scrolled": true
   },
   "outputs": [
    {
     "data": {
      "text/plain": [
       "54116"
      ]
     },
     "execution_count": 8,
     "metadata": {},
     "output_type": "execute_result"
    }
   ],
   "source": [
    "df_good.shape[0] + df_promo.shape[0]"
   ]
  },
  {
   "cell_type": "markdown",
   "metadata": {},
   "source": [
    "In terms of **rows/records**,\n",
    "- The dataframe containing **\"good\"** articles has 30,279 entries.\n",
    "- The dataframe containing **\"promotional\"** articles has 23,837 entries.\n",
    "\n",
    "Combined, we have **54,116** articles for examination. The classes are, luckily, fairly balanced.\n",
    "\n",
    "Next, let's discuss features/columns."
   ]
  },
  {
   "cell_type": "code",
   "execution_count": 9,
   "metadata": {
    "ExecuteTime": {
     "end_time": "2022-06-02T19:11:06.880015Z",
     "start_time": "2022-06-02T19:11:06.868264Z"
    }
   },
   "outputs": [
    {
     "name": "stdout",
     "output_type": "stream",
     "text": [
      "Index(['text', 'url'], dtype='object')\n",
      "Index(['text', 'advert', 'coi', 'fanpov', 'pr', 'resume', 'url'], dtype='object')\n"
     ]
    }
   ],
   "source": [
    "print(df_good.columns)\n",
    "print(df_promo.columns)"
   ]
  },
  {
   "cell_type": "markdown",
   "metadata": {},
   "source": [
    "- The dataframe containing **\"good\"** articles has 2 columns - `text` and `url`.\n",
    "- The dataframe containing **\"promotional\"** articles has 7 columns - in addition to `text` and `url`, there are five subtypes of \"promotional tone.\" The values contained in these columns are one-hot encoded binary values:\n",
    "\n",
    "    - `advert`: The article reads like an advertisement.\n",
    "    - `coi`: The article appears to have been written by someone with a close connection to the subject.\n",
    "    - `fanpov`: The article appears to have been written from a fan's point of view, rather than a neutral point of view.\n",
    "    - `pr`: The article reads like a press release/news article.\n",
    "    - `resume`: The (biographical) article reads like a résumé, i.e. it is neither neutral nor encylopedic in nature.\n",
    "    \n",
    "    See the dataframe heads below for a tabular representation of the data."
   ]
  },
  {
   "cell_type": "code",
   "execution_count": 10,
   "metadata": {
    "ExecuteTime": {
     "end_time": "2022-06-02T19:11:06.973673Z",
     "start_time": "2022-06-02T19:11:06.945228Z"
    },
    "scrolled": false
   },
   "outputs": [
    {
     "data": {
      "text/html": [
       "<div>\n",
       "<style scoped>\n",
       "    .dataframe tbody tr th:only-of-type {\n",
       "        vertical-align: middle;\n",
       "    }\n",
       "\n",
       "    .dataframe tbody tr th {\n",
       "        vertical-align: top;\n",
       "    }\n",
       "\n",
       "    .dataframe thead th {\n",
       "        text-align: right;\n",
       "    }\n",
       "</style>\n",
       "<table border=\"1\" class=\"dataframe\">\n",
       "  <thead>\n",
       "    <tr style=\"text-align: right;\">\n",
       "      <th></th>\n",
       "      <th>text</th>\n",
       "      <th>url</th>\n",
       "    </tr>\n",
       "  </thead>\n",
       "  <tbody>\n",
       "    <tr>\n",
       "      <th>0</th>\n",
       "      <td>Nycticebus linglom is a fossil strepsirrhine p...</td>\n",
       "      <td>https://en.wikipedia.org/wiki/%3F%20Nycticebus...</td>\n",
       "    </tr>\n",
       "    <tr>\n",
       "      <th>1</th>\n",
       "      <td>Oryzomys pliocaenicus is a fossil rodent from ...</td>\n",
       "      <td>https://en.wikipedia.org/wiki/%3F%20Oryzomys%2...</td>\n",
       "    </tr>\n",
       "    <tr>\n",
       "      <th>2</th>\n",
       "      <td>.hack dt hk is a series of single player actio...</td>\n",
       "      <td>https://en.wikipedia.org/wiki/.hack%20%28video...</td>\n",
       "    </tr>\n",
       "  </tbody>\n",
       "</table>\n",
       "</div>"
      ],
      "text/plain": [
       "                                                text  \\\n",
       "0  Nycticebus linglom is a fossil strepsirrhine p...   \n",
       "1  Oryzomys pliocaenicus is a fossil rodent from ...   \n",
       "2  .hack dt hk is a series of single player actio...   \n",
       "\n",
       "                                                 url  \n",
       "0  https://en.wikipedia.org/wiki/%3F%20Nycticebus...  \n",
       "1  https://en.wikipedia.org/wiki/%3F%20Oryzomys%2...  \n",
       "2  https://en.wikipedia.org/wiki/.hack%20%28video...  "
      ]
     },
     "execution_count": 10,
     "metadata": {},
     "output_type": "execute_result"
    }
   ],
   "source": [
    "df_good.head(3)"
   ]
  },
  {
   "cell_type": "code",
   "execution_count": 11,
   "metadata": {
    "ExecuteTime": {
     "end_time": "2022-06-02T19:11:07.066878Z",
     "start_time": "2022-06-02T19:11:07.038144Z"
    },
    "scrolled": false
   },
   "outputs": [
    {
     "data": {
      "text/html": [
       "<div>\n",
       "<style scoped>\n",
       "    .dataframe tbody tr th:only-of-type {\n",
       "        vertical-align: middle;\n",
       "    }\n",
       "\n",
       "    .dataframe tbody tr th {\n",
       "        vertical-align: top;\n",
       "    }\n",
       "\n",
       "    .dataframe thead th {\n",
       "        text-align: right;\n",
       "    }\n",
       "</style>\n",
       "<table border=\"1\" class=\"dataframe\">\n",
       "  <thead>\n",
       "    <tr style=\"text-align: right;\">\n",
       "      <th></th>\n",
       "      <th>text</th>\n",
       "      <th>advert</th>\n",
       "      <th>coi</th>\n",
       "      <th>fanpov</th>\n",
       "      <th>pr</th>\n",
       "      <th>resume</th>\n",
       "      <th>url</th>\n",
       "    </tr>\n",
       "  </thead>\n",
       "  <tbody>\n",
       "    <tr>\n",
       "      <th>0</th>\n",
       "      <td>1 Litre no Namida 1, lit. 1 Litre of Tears als...</td>\n",
       "      <td>0</td>\n",
       "      <td>0</td>\n",
       "      <td>1</td>\n",
       "      <td>0</td>\n",
       "      <td>0</td>\n",
       "      <td>https://en.wikipedia.org/wiki/1%20Litre%20no%2...</td>\n",
       "    </tr>\n",
       "    <tr>\n",
       "      <th>1</th>\n",
       "      <td>1DayLater was free, web based software that wa...</td>\n",
       "      <td>1</td>\n",
       "      <td>1</td>\n",
       "      <td>0</td>\n",
       "      <td>0</td>\n",
       "      <td>0</td>\n",
       "      <td>https://en.wikipedia.org/wiki/1DayLater</td>\n",
       "    </tr>\n",
       "    <tr>\n",
       "      <th>2</th>\n",
       "      <td>1E is a privately owned IT software and servic...</td>\n",
       "      <td>1</td>\n",
       "      <td>0</td>\n",
       "      <td>0</td>\n",
       "      <td>0</td>\n",
       "      <td>0</td>\n",
       "      <td>https://en.wikipedia.org/wiki/1E</td>\n",
       "    </tr>\n",
       "  </tbody>\n",
       "</table>\n",
       "</div>"
      ],
      "text/plain": [
       "                                                text  advert  coi  fanpov  pr  \\\n",
       "0  1 Litre no Namida 1, lit. 1 Litre of Tears als...       0    0       1   0   \n",
       "1  1DayLater was free, web based software that wa...       1    1       0   0   \n",
       "2  1E is a privately owned IT software and servic...       1    0       0   0   \n",
       "\n",
       "   resume                                                url  \n",
       "0       0  https://en.wikipedia.org/wiki/1%20Litre%20no%2...  \n",
       "1       0            https://en.wikipedia.org/wiki/1DayLater  \n",
       "2       0                   https://en.wikipedia.org/wiki/1E  "
      ]
     },
     "execution_count": 11,
     "metadata": {},
     "output_type": "execute_result"
    }
   ],
   "source": [
    "df_promo.head(3)"
   ]
  },
  {
   "cell_type": "markdown",
   "metadata": {},
   "source": [
    "### Side Investigation: Average Length of Articles?"
   ]
  },
  {
   "cell_type": "markdown",
   "metadata": {},
   "source": [
    "While reading in the data, I noticed that the `promotional` article I selected at semi-random was considerably shorter than the semi-random `good` article - I had to wonder if this observation held true at all in the rest of the dataset and decided to investigate average article length for each class.\n",
    "\n",
    "`len()` can give us a count of characters - to get a word count, `split()` must first be used to create a *list of words*, on which we can call `len()`."
   ]
  },
  {
   "cell_type": "code",
   "execution_count": 12,
   "metadata": {
    "ExecuteTime": {
     "end_time": "2022-06-02T19:11:07.146091Z",
     "start_time": "2022-06-02T19:11:07.133127Z"
    },
    "scrolled": true
   },
   "outputs": [
    {
     "name": "stdout",
     "output_type": "stream",
     "text": [
      "Character count in first 'good' article: 2877\n",
      "Word count in first 'good' article: 590\n"
     ]
    }
   ],
   "source": [
    "print(f\"Character count in first 'good' article: {len(df_good.iloc[0].text.replace(' ', ''))}\")\n",
    "print(f\"Word count in first 'good' article: {len(df_good.iloc[0].text.split())}\")"
   ]
  },
  {
   "cell_type": "markdown",
   "metadata": {},
   "source": [
    "We can use string methods on the dataframes by calling `.str` - this makes calculations a lot easier.\n",
    "\n",
    "The following cells return an indexed series of each document in `df_good` and `df_promo`, along with the number of characters in each document."
   ]
  },
  {
   "cell_type": "code",
   "execution_count": 13,
   "metadata": {
    "ExecuteTime": {
     "end_time": "2022-06-02T19:11:07.270102Z",
     "start_time": "2022-06-02T19:11:07.211116Z"
    },
    "scrolled": false
   },
   "outputs": [
    {
     "data": {
      "text/plain": [
       "0     3466\n",
       "1     3230\n",
       "2    22691\n",
       "3     5620\n",
       "4     9303\n",
       "Name: text, dtype: int64"
      ]
     },
     "execution_count": 13,
     "metadata": {},
     "output_type": "execute_result"
    }
   ],
   "source": [
    "df_good.text.str.len().head()"
   ]
  },
  {
   "cell_type": "code",
   "execution_count": 14,
   "metadata": {
    "ExecuteTime": {
     "end_time": "2022-06-02T19:11:07.953764Z",
     "start_time": "2022-06-02T19:11:07.351907Z"
    },
    "scrolled": true
   },
   "outputs": [
    {
     "data": {
      "image/png": "[encoded data removed]",
      "text/plain": [
       "<Figure size 432x288 with 1 Axes>"
      ]
     },
     "metadata": {},
     "output_type": "display_data"
    }
   ],
   "source": [
    "plt.hist(df_good.text.str.len());"
   ]
  },
  {
   "cell_type": "code",
   "execution_count": 15,
   "metadata": {
    "ExecuteTime": {
     "end_time": "2022-06-02T19:11:08.061498Z",
     "start_time": "2022-06-02T19:11:08.018541Z"
    },
    "scrolled": true
   },
   "outputs": [
    {
     "data": {
      "text/plain": [
       "0     3439\n",
       "1     1546\n",
       "2     5550\n",
       "3    11461\n",
       "4     1300\n",
       "Name: text, dtype: int64"
      ]
     },
     "execution_count": 15,
     "metadata": {},
     "output_type": "execute_result"
    }
   ],
   "source": [
    "df_promo.text.str.len().head()"
   ]
  },
  {
   "cell_type": "code",
   "execution_count": 16,
   "metadata": {
    "ExecuteTime": {
     "end_time": "2022-06-02T19:11:08.544115Z",
     "start_time": "2022-06-02T19:11:08.125033Z"
    },
    "scrolled": true
   },
   "outputs": [
    {
     "data": {
      "image/png": "[encoded data removed]",
      "text/plain": [
       "<Figure size 432x288 with 1 Axes>"
      ]
     },
     "metadata": {},
     "output_type": "display_data"
    }
   ],
   "source": [
    "plt.hist(df_promo.text.str.len());"
   ]
  },
  {
   "cell_type": "markdown",
   "metadata": {},
   "source": [
    "Obtaining the mean of each document's character count will allow us to determine the average number of characters per document in both `df_good` and `df_promo`."
   ]
  },
  {
   "cell_type": "code",
   "execution_count": 17,
   "metadata": {
    "ExecuteTime": {
     "end_time": "2022-06-02T19:11:08.668107Z",
     "start_time": "2022-06-02T19:11:08.609622Z"
    }
   },
   "outputs": [],
   "source": [
    "mean_char_good = df_good.text.str.len().mean()\n",
    "mean_char_promo = df_promo.text.str.len().mean()"
   ]
  },
  {
   "cell_type": "markdown",
   "metadata": {},
   "source": [
    "As before, we must use `.split()` to get a word count from each document:"
   ]
  },
  {
   "cell_type": "code",
   "execution_count": 18,
   "metadata": {
    "ExecuteTime": {
     "end_time": "2022-06-02T19:11:25.445630Z",
     "start_time": "2022-06-02T19:11:08.734114Z"
    }
   },
   "outputs": [],
   "source": [
    "split_words_good = df_good.text.str.split()\n",
    "split_words_promo = df_promo.text.str.split()"
   ]
  },
  {
   "cell_type": "markdown",
   "metadata": {},
   "source": [
    "We can then get the average word counts from each dataframe's `text` column with a simple `for` loop:"
   ]
  },
  {
   "cell_type": "code",
   "execution_count": 19,
   "metadata": {
    "ExecuteTime": {
     "end_time": "2022-06-02T19:11:25.786638Z",
     "start_time": "2022-06-02T19:11:25.701713Z"
    },
    "scrolled": true
   },
   "outputs": [
    {
     "name": "stdout",
     "output_type": "stream",
     "text": [
      "Mean number of words in a 'good' article: 2629\n",
      "Mean number of words in a 'promotional' article: 768\n"
     ]
    }
   ],
   "source": [
    "total_words_good = 0\n",
    "total_words_promo = 0\n",
    "\n",
    "for article in split_words_good:\n",
    "    total_words_good += len(article)\n",
    "    \n",
    "for article in split_words_promo:\n",
    "    total_words_promo += len(article)\n",
    "    \n",
    "mean_words_good = total_words_good / len(split_words_good)\n",
    "mean_words_promo = total_words_promo / len(split_words_promo)\n",
    "\n",
    "print(f\"Mean number of words in a 'good' article: {mean_words_good:.0f}\")\n",
    "print(f\"Mean number of words in a 'promotional' article: {mean_words_promo:.0f}\")"
   ]
  },
  {
   "cell_type": "code",
   "execution_count": 20,
   "metadata": {
    "ExecuteTime": {
     "end_time": "2022-06-02T19:11:26.097257Z",
     "start_time": "2022-06-02T19:11:26.008166Z"
    }
   },
   "outputs": [
    {
     "name": "stdout",
     "output_type": "stream",
     "text": [
      "Median number of words in a 'good' article: 1936\n",
      "Median number of words in a 'promotional' article: 498\n"
     ]
    }
   ],
   "source": [
    "word_counts_good = []\n",
    "word_counts_promo = []\n",
    "\n",
    "for article in split_words_good:\n",
    "    word_counts_good.append(len(article))\n",
    "    \n",
    "for article in split_words_promo:\n",
    "    word_counts_promo.append(len(article))\n",
    "\n",
    "med_words_good = np.median(word_counts_good)\n",
    "med_words_promo = np.median(word_counts_promo)\n",
    "\n",
    "print(f\"Median number of words in a 'good' article: {med_words_good:.0f}\")\n",
    "print(f\"Median number of words in a 'promotional' article: {med_words_promo:.0f}\")"
   ]
  },
  {
   "cell_type": "code",
   "execution_count": 21,
   "metadata": {
    "ExecuteTime": {
     "end_time": "2022-06-02T19:11:26.840228Z",
     "start_time": "2022-06-02T19:11:26.272375Z"
    },
    "scrolled": false
   },
   "outputs": [
    {
     "data": {
      "image/png": "[encoded data removed]",
      "text/plain": [
       "<Figure size 432x288 with 1 Axes>"
      ]
     },
     "metadata": {},
     "output_type": "display_data"
    }
   ],
   "source": [
    "plt.hist(word_counts_good);"
   ]
  },
  {
   "cell_type": "code",
   "execution_count": 22,
   "metadata": {
    "ExecuteTime": {
     "end_time": "2022-06-02T19:11:27.371599Z",
     "start_time": "2022-06-02T19:11:27.001716Z"
    }
   },
   "outputs": [
    {
     "data": {
      "image/png": "[encoded data removed]",
      "text/plain": [
       "<Figure size 432x288 with 1 Axes>"
      ]
     },
     "metadata": {},
     "output_type": "display_data"
    }
   ],
   "source": [
    "plt.hist(word_counts_promo);"
   ]
  },
  {
   "cell_type": "markdown",
   "metadata": {},
   "source": [
    "...and *then*, we can use those average counts to compare across dataframes:"
   ]
  },
  {
   "cell_type": "code",
   "execution_count": 23,
   "metadata": {
    "ExecuteTime": {
     "end_time": "2022-06-02T19:11:27.511786Z",
     "start_time": "2022-06-02T19:11:27.498433Z"
    },
    "scrolled": true
   },
   "outputs": [
    {
     "name": "stdout",
     "output_type": "stream",
     "text": [
      "Average 'good' article length: 15649 characters, 2629 words\n",
      "Average 'promotional' article length: 4771 characters, 768 words\n",
      "\n",
      "Rough calc of characters per word, 'good' articles: 5.95\n",
      "Rough calc of characters per word, 'promotional' articles: 6.21\n",
      "\n",
      "On average, 'good' articles are 3.4 times longer than 'promotional' articles\n"
     ]
    }
   ],
   "source": [
    "print(f\"Average 'good' article length: {mean_char_good:.0f} characters, {mean_words_good:.0f} words\")\n",
    "print(f\"Average 'promotional' article length: {mean_char_promo:.0f} characters, {mean_words_promo:.0f} words\\n\")\n",
    "print(f\"Rough calc of characters per word, 'good' articles: {(mean_char_good / mean_words_good):.2f}\")\n",
    "print(f\"Rough calc of characters per word, 'promotional' articles: {(mean_char_promo / mean_words_promo):.2f}\\n\")\n",
    "print(f\"On average, 'good' articles are {(mean_words_good / mean_words_promo):.1f} times longer than 'promotional' articles\")"
   ]
  },
  {
   "cell_type": "markdown",
   "metadata": {},
   "source": [
    "(Note that all of this, including the horizontal bar plot below, can be done expeditiously with various helper functions within `src/EDA.py`!)"
   ]
  },
  {
   "cell_type": "code",
   "execution_count": 27,
   "metadata": {
    "ExecuteTime": {
     "end_time": "2022-06-02T19:12:02.167977Z",
     "start_time": "2022-06-02T19:12:00.946842Z"
    },
    "scrolled": false
   },
   "outputs": [
    {
     "data": {
      "image/png": "[encoded data removed]",
      "text/plain": [
       "<Figure size 864x432 with 1 Axes>"
      ]
     },
     "metadata": {},
     "output_type": "display_data"
    }
   ],
   "source": [
    "# Visualization of mean lengths\n",
    "fig, ax = plt.subplots(figsize=(12, 6))\n",
    "\n",
    "plt.xticks(fontsize=15)\n",
    "plt.yticks(fontsize=14, fontweight='bold')\n",
    "ax.tick_params(axis='y', which='major', pad=10, rotation=-10)\n",
    "ax.tick_params(axis='x', which='major', pad=7)\n",
    "\n",
    "\n",
    "ax.barh(y=[\"'Promotional' articles\", \"'Good' articles\"],\n",
    "        width=(mean_words_promo, mean_words_good),\n",
    "        color=['coral', 'teal'])\n",
    "\n",
    "ax.set_title(\"Mean word count\",\n",
    "             pad=15,\n",
    "             fontsize=28,\n",
    "             fontweight='bold')\n",
    "ax.set_xlabel(\"# of words\",\n",
    "              labelpad=20,\n",
    "              fontsize=16);\n",
    "\n",
    "fig.savefig(fname='../images/mean_word_count.png',\n",
    "            dpi=600,\n",
    "            bbox_inches='tight')"
   ]
  },
  {
   "cell_type": "code",
   "execution_count": 26,
   "metadata": {
    "ExecuteTime": {
     "end_time": "2022-06-02T19:11:33.015493Z",
     "start_time": "2022-06-02T19:11:31.352016Z"
    },
    "scrolled": false
   },
   "outputs": [
    {
     "data": {
      "image/png": "[encoded data removed]",
      "text/plain": [
       "<Figure size 864x432 with 1 Axes>"
      ]
     },
     "metadata": {},
     "output_type": "display_data"
    }
   ],
   "source": [
    "# Visualization of median lengths\n",
    "fig, ax = plt.subplots(figsize=(12, 6))\n",
    "\n",
    "plt.xticks(ticks=np.linspace(0, 2000, 5), fontsize=15)\n",
    "plt.yticks(fontsize=14, fontweight='bold')\n",
    "ax.tick_params(axis='y', which='major', pad=10, rotation=-10)\n",
    "ax.tick_params(axis='x', which='major', pad=7)\n",
    "\n",
    "\n",
    "ax.barh(y=[\"'Promotional' articles\", \"'Good' articles\"],\n",
    "        width=(med_words_promo, med_words_good),\n",
    "        color=['coral', 'teal'])\n",
    "\n",
    "ax.set_title(\"Median word count\",\n",
    "             pad=15,\n",
    "             fontsize=28,\n",
    "             fontweight='bold')\n",
    "ax.set_xlabel(\"# of words\",\n",
    "              labelpad=20,\n",
    "              fontsize=16);\n",
    "\n",
    "fig.savefig(fname='../images/median_word_count.png',\n",
    "            dpi=600,\n",
    "            bbox_inches='tight')"
   ]
  },
  {
   "cell_type": "code",
   "execution_count": 29,
   "metadata": {
    "ExecuteTime": {
     "end_time": "2022-06-01T15:51:26.371492Z",
     "start_time": "2022-06-01T15:51:23.180249Z"
    }
   },
   "outputs": [
    {
     "data": {
      "image/png": "[encoded data removed]",
      "text/plain": [
       "<Figure size 1008x1080 with 2 Axes>"
      ]
     },
     "metadata": {},
     "output_type": "display_data"
    }
   ],
   "source": [
    "fig, (ax1, ax2) = plt.subplots(nrows=2,\n",
    "                               figsize=(14, 15),\n",
    "                               sharex=True,\n",
    "                               sharey='all')\n",
    "\n",
    "\n",
    "plt.subplots_adjust(hspace=0.3)\n",
    "\n",
    "ax1.tick_params(axis='y', which='major', pad=10, rotation=-10, labelsize=18)\n",
    "ax1.tick_params(axis='x', which='major', pad=7, reset=True, labelsize=15)\n",
    "\n",
    "ax2.tick_params(axis='y', which='major', pad=10, rotation=-10, labelsize=18)\n",
    "ax2.tick_params(axis='x', which='major', pad=7, labelsize=15)\n",
    "\n",
    "ax1.barh(y=[\"'Promotional' articles\", \"'Good' articles\"],\n",
    "         width=(mean_words_promo, mean_words_good),\n",
    "         color=['coral', 'teal'])\n",
    "\n",
    "ax1.set_title(\"Mean word count\",\n",
    "              pad=18,\n",
    "              fontsize=30,\n",
    "              fontweight='bold')\n",
    "# ax1.set_xlabel(\"# of words\",\n",
    "#                labelpad=20,\n",
    "#                fontsize=16)\n",
    "\n",
    "\n",
    "ax2.barh(y=[\"'Promotional' articles\", \"'Good' articles\"],\n",
    "         width=(med_words_promo, med_words_good),\n",
    "         color=['coral', 'teal'])\n",
    "\n",
    "ax2.set_title(\"Median word count\",\n",
    "              pad=18,\n",
    "              fontsize=30,\n",
    "              fontweight='bold')\n",
    "ax2.set_xlabel(\"# of words\",\n",
    "               labelpad=20,\n",
    "               fontsize=16);\n",
    "\n",
    "fig.savefig(fname='../images/wc_mean_v_median.png',\n",
    "            dpi=600,\n",
    "            bbox_inches='tight')"
   ]
  },
  {
   "cell_type": "markdown",
   "metadata": {},
   "source": [
    "Outliers in both datasets (i.e. articles with a larger number of words in them than other documents in the corpus) result in the mean word count outpacing the median word count. For presentation and general understanding purposes, the 'median word count' chart wil be used going forward."
   ]
  },
  {
   "cell_type": "markdown",
   "metadata": {},
   "source": [
    "### Checking for Nulls / Data Types"
   ]
  },
  {
   "cell_type": "code",
   "execution_count": 30,
   "metadata": {
    "ExecuteTime": {
     "end_time": "2022-06-01T15:51:26.465143Z",
     "start_time": "2022-06-01T15:51:26.435503Z"
    }
   },
   "outputs": [
    {
     "name": "stdout",
     "output_type": "stream",
     "text": [
      "<class 'pandas.core.frame.DataFrame'>\n",
      "RangeIndex: 30279 entries, 0 to 30278\n",
      "Data columns (total 2 columns):\n",
      " #   Column  Non-Null Count  Dtype \n",
      "---  ------  --------------  ----- \n",
      " 0   text    30279 non-null  object\n",
      " 1   url     30279 non-null  object\n",
      "dtypes: object(2)\n",
      "memory usage: 473.2+ KB\n"
     ]
    }
   ],
   "source": [
    "df_good.info()"
   ]
  },
  {
   "cell_type": "code",
   "execution_count": 31,
   "metadata": {
    "ExecuteTime": {
     "end_time": "2022-06-01T15:51:26.560318Z",
     "start_time": "2022-06-01T15:51:26.531964Z"
    }
   },
   "outputs": [
    {
     "name": "stdout",
     "output_type": "stream",
     "text": [
      "<class 'pandas.core.frame.DataFrame'>\n",
      "RangeIndex: 23837 entries, 0 to 23836\n",
      "Data columns (total 7 columns):\n",
      " #   Column  Non-Null Count  Dtype \n",
      "---  ------  --------------  ----- \n",
      " 0   text    23837 non-null  object\n",
      " 1   advert  23837 non-null  int64 \n",
      " 2   coi     23837 non-null  int64 \n",
      " 3   fanpov  23837 non-null  int64 \n",
      " 4   pr      23837 non-null  int64 \n",
      " 5   resume  23837 non-null  int64 \n",
      " 6   url     23837 non-null  object\n",
      "dtypes: int64(5), object(2)\n",
      "memory usage: 1.3+ MB\n"
     ]
    }
   ],
   "source": [
    "df_promo.info()"
   ]
  },
  {
   "cell_type": "markdown",
   "metadata": {},
   "source": [
    "No nulls in either dataframe. Text is predictably coded as an object/string, and `df_promo` comes with some labels built in: one-hot encoded columns that indicate *subclass* of promotional article."
   ]
  },
  {
   "cell_type": "markdown",
   "metadata": {},
   "source": [
    "### Value Counts for Subclasses"
   ]
  },
  {
   "cell_type": "markdown",
   "metadata": {},
   "source": [
    "Knowing there are five different subtypes of promotional article indicated within the dataset raises a further question: *how are those subtypes distributed?*"
   ]
  },
  {
   "cell_type": "code",
   "execution_count": 83,
   "metadata": {
    "ExecuteTime": {
     "end_time": "2022-06-01T16:56:19.031927Z",
     "start_time": "2022-06-01T16:56:19.017966Z"
    },
    "scrolled": true
   },
   "outputs": [
    {
     "data": {
      "text/plain": [
       "Index(['advert', 'coi', 'fanpov', 'pr', 'resume'], dtype='object')"
      ]
     },
     "execution_count": 83,
     "metadata": {},
     "output_type": "execute_result"
    }
   ],
   "source": [
    "df_promo.select_dtypes(include='number').columns"
   ]
  },
  {
   "cell_type": "code",
   "execution_count": 84,
   "metadata": {
    "ExecuteTime": {
     "end_time": "2022-06-01T16:56:19.141798Z",
     "start_time": "2022-06-01T16:56:19.127806Z"
    },
    "scrolled": true
   },
   "outputs": [
    {
     "data": {
      "text/plain": [
       "['advert', 'coi', 'fanpov', 'pr', 'resume']"
      ]
     },
     "execution_count": 84,
     "metadata": {},
     "output_type": "execute_result"
    }
   ],
   "source": [
    "# class_cols = df_promo.select_dtypes(include='number').columns\n",
    "class_cols = df_promo.select_dtypes(include='number').columns.tolist()\n",
    "\n",
    "class_cols"
   ]
  },
  {
   "cell_type": "code",
   "execution_count": 85,
   "metadata": {
    "ExecuteTime": {
     "end_time": "2022-06-01T16:56:19.234597Z",
     "start_time": "2022-06-01T16:56:19.225622Z"
    }
   },
   "outputs": [],
   "source": [
    "test_labels = class_cols"
   ]
  },
  {
   "cell_type": "code",
   "execution_count": 86,
   "metadata": {
    "ExecuteTime": {
     "end_time": "2022-06-01T16:56:19.469583Z",
     "start_time": "2022-06-01T16:56:19.312022Z"
    },
    "scrolled": false
   },
   "outputs": [
    {
     "data": {
      "image/png": "[encoded data removed]",
      "text/plain": [
       "<Figure size 432x288 with 1 Axes>"
      ]
     },
     "metadata": {},
     "output_type": "display_data"
    }
   ],
   "source": [
    "plot_subclass_dist(df_promo, test_labels)"
   ]
  },
  {
   "cell_type": "code",
   "execution_count": 87,
   "metadata": {
    "ExecuteTime": {
     "end_time": "2022-06-01T16:56:19.579830Z",
     "start_time": "2022-06-01T16:56:19.550552Z"
    },
    "scrolled": false
   },
   "outputs": [
    {
     "name": "stdout",
     "output_type": "stream",
     "text": [
      "advert\n",
      "1         0.793346\n",
      "0         0.206654\n",
      "dtype: float64\n",
      "\n",
      "coi\n",
      "0      0.91014\n",
      "1      0.08986\n",
      "dtype: float64\n",
      "\n",
      "fanpov\n",
      "0         0.93724\n",
      "1         0.06276\n",
      "dtype: float64\n",
      "\n",
      "pr\n",
      "0     0.936401\n",
      "1     0.063599\n",
      "dtype: float64\n",
      "\n",
      "resume\n",
      "0         0.90779\n",
      "1         0.09221\n",
      "dtype: float64\n",
      "\n"
     ]
    }
   ],
   "source": [
    "for col in class_cols:\n",
    "    print(f\"{df_promo[[col]].value_counts(normalize=True)}\\n\")"
   ]
  },
  {
   "cell_type": "code",
   "execution_count": 88,
   "metadata": {
    "ExecuteTime": {
     "end_time": "2022-06-01T16:56:19.675100Z",
     "start_time": "2022-06-01T16:56:19.659903Z"
    }
   },
   "outputs": [
    {
     "data": {
      "text/plain": [
       "[0.7933464781641986,\n",
       " 0.08986030121240089,\n",
       " 0.06275957544993079,\n",
       " 0.06359860720728279,\n",
       " 0.09220959013298653]"
      ]
     },
     "execution_count": 88,
     "metadata": {},
     "output_type": "execute_result"
    }
   ],
   "source": [
    "advert_posi = df_promo.advert.value_counts(sort=False,normalize=True).values[1]\n",
    "coi_posi = df_promo.coi.value_counts(normalize=True).values[1]\n",
    "fanpov_posi = df_promo.fanpov.value_counts(normalize=True).values[1]\n",
    "pr_posi = df_promo.pr.value_counts(normalize=True).values[1]\n",
    "resume_posi = df_promo.resume.value_counts(normalize=True).values[1]\n",
    "\n",
    "posi_counts = [advert_posi, coi_posi, fanpov_posi, pr_posi, resume_posi]\n",
    "\n",
    "posi_counts"
   ]
  },
  {
   "cell_type": "code",
   "execution_count": 89,
   "metadata": {
    "ExecuteTime": {
     "end_time": "2022-06-01T16:56:23.581264Z",
     "start_time": "2022-06-01T16:56:19.740715Z"
    }
   },
   "outputs": [
    {
     "data": {
      "image/png": "[encoded data removed]",
      "text/plain": [
       "<Figure size 1440x720 with 1 Axes>"
      ]
     },
     "metadata": {},
     "output_type": "display_data"
    }
   ],
   "source": [
    "fig, ax = plt.subplots(figsize=(20, 10))\n",
    "\n",
    "y_ticks = np.linspace(0, 0.8, 9)\n",
    "y_tick_labels = []\n",
    "\n",
    "for x in np.linspace(0, 80, 9).tolist():\n",
    "    x = str(x).replace('.0', '')\n",
    "    y_tick_labels.append(x)\n",
    "\n",
    "plt.xticks(fontsize=17)\n",
    "plt.yticks(fontsize=16)\n",
    "ax.tick_params(axis='x', which='major', pad=10)   \n",
    "    \n",
    "ax.bar(x=[\"Advertisement-like\",\n",
    "          \"Conflict of interest\",\n",
    "          \"Fan's point of view\",\n",
    "          \"News/press release-like\",\n",
    "          \"Résumé-like\"],\n",
    "       height=posi_counts,\n",
    "       color=['coral', 'teal', 'teal', 'teal', 'teal'])\n",
    "\n",
    "ax.set_yticks(y_ticks)\n",
    "ax.set_yticklabels(y_tick_labels,\n",
    "                   fontsize=15)\n",
    "ax.set_ylabel(\"% of articles with tag\",\n",
    "              fontsize = 20,\n",
    "              fontweight='semibold',\n",
    "              labelpad = 17)\n",
    "ax.set_title(\"Distribution of promotional article subclasses\",\n",
    "             fontsize=35,\n",
    "             fontweight='bold',\n",
    "             pad=16);\n",
    "\n",
    "fig.savefig(fname='../images/promo_dist.png',\n",
    "            dpi=600,\n",
    "            bbox_inches='tight')"
   ]
  },
  {
   "cell_type": "markdown",
   "metadata": {},
   "source": [
    "## Combining Datasets"
   ]
  },
  {
   "cell_type": "markdown",
   "metadata": {},
   "source": [
    "First, we drop all columns but `text`, which will be our primary feature."
   ]
  },
  {
   "cell_type": "code",
   "execution_count": 39,
   "metadata": {
    "ExecuteTime": {
     "end_time": "2022-06-01T15:51:36.533794Z",
     "start_time": "2022-06-01T15:51:36.519352Z"
    }
   },
   "outputs": [],
   "source": [
    "df_good = df_good[['text']]\n",
    "df_promo = df_promo[['text']]"
   ]
  },
  {
   "cell_type": "markdown",
   "metadata": {},
   "source": [
    "Before concatening the simplified dataframes, I create a new column `label` in each dataframe and give it the same value in every row. In `df_good`, each row is given the label `0` to indicate `False`, i.e. the article does ***not*** have a promotional tone. Conversely, each row in `df_promo` is given the label `1` to represent `True`, that the article ***does*** contain content that is promotional in tone."
   ]
  },
  {
   "cell_type": "code",
   "execution_count": 40,
   "metadata": {
    "ExecuteTime": {
     "end_time": "2022-06-01T15:51:36.863141Z",
     "start_time": "2022-06-01T15:51:36.845074Z"
    },
    "scrolled": true
   },
   "outputs": [
    {
     "data": {
      "text/html": [
       "<div>\n",
       "<style scoped>\n",
       "    .dataframe tbody tr th:only-of-type {\n",
       "        vertical-align: middle;\n",
       "    }\n",
       "\n",
       "    .dataframe tbody tr th {\n",
       "        vertical-align: top;\n",
       "    }\n",
       "\n",
       "    .dataframe thead th {\n",
       "        text-align: right;\n",
       "    }\n",
       "</style>\n",
       "<table border=\"1\" class=\"dataframe\">\n",
       "  <thead>\n",
       "    <tr style=\"text-align: right;\">\n",
       "      <th></th>\n",
       "      <th>text</th>\n",
       "      <th>label</th>\n",
       "    </tr>\n",
       "  </thead>\n",
       "  <tbody>\n",
       "    <tr>\n",
       "      <th>0</th>\n",
       "      <td>Nycticebus linglom is a fossil strepsirrhine p...</td>\n",
       "      <td>0</td>\n",
       "    </tr>\n",
       "    <tr>\n",
       "      <th>1</th>\n",
       "      <td>Oryzomys pliocaenicus is a fossil rodent from ...</td>\n",
       "      <td>0</td>\n",
       "    </tr>\n",
       "    <tr>\n",
       "      <th>2</th>\n",
       "      <td>.hack dt hk is a series of single player actio...</td>\n",
       "      <td>0</td>\n",
       "    </tr>\n",
       "  </tbody>\n",
       "</table>\n",
       "</div>"
      ],
      "text/plain": [
       "                                                text  label\n",
       "0  Nycticebus linglom is a fossil strepsirrhine p...      0\n",
       "1  Oryzomys pliocaenicus is a fossil rodent from ...      0\n",
       "2  .hack dt hk is a series of single player actio...      0"
      ]
     },
     "execution_count": 40,
     "metadata": {},
     "output_type": "execute_result"
    }
   ],
   "source": [
    "df_good['label'] = 0\n",
    "df_good.head(3)"
   ]
  },
  {
   "cell_type": "code",
   "execution_count": 41,
   "metadata": {
    "ExecuteTime": {
     "end_time": "2022-06-01T15:51:37.236925Z",
     "start_time": "2022-06-01T15:51:37.217906Z"
    },
    "scrolled": false
   },
   "outputs": [
    {
     "data": {
      "text/html": [
       "<div>\n",
       "<style scoped>\n",
       "    .dataframe tbody tr th:only-of-type {\n",
       "        vertical-align: middle;\n",
       "    }\n",
       "\n",
       "    .dataframe tbody tr th {\n",
       "        vertical-align: top;\n",
       "    }\n",
       "\n",
       "    .dataframe thead th {\n",
       "        text-align: right;\n",
       "    }\n",
       "</style>\n",
       "<table border=\"1\" class=\"dataframe\">\n",
       "  <thead>\n",
       "    <tr style=\"text-align: right;\">\n",
       "      <th></th>\n",
       "      <th>text</th>\n",
       "      <th>label</th>\n",
       "    </tr>\n",
       "  </thead>\n",
       "  <tbody>\n",
       "    <tr>\n",
       "      <th>0</th>\n",
       "      <td>1 Litre no Namida 1, lit. 1 Litre of Tears als...</td>\n",
       "      <td>1</td>\n",
       "    </tr>\n",
       "    <tr>\n",
       "      <th>1</th>\n",
       "      <td>1DayLater was free, web based software that wa...</td>\n",
       "      <td>1</td>\n",
       "    </tr>\n",
       "    <tr>\n",
       "      <th>2</th>\n",
       "      <td>1E is a privately owned IT software and servic...</td>\n",
       "      <td>1</td>\n",
       "    </tr>\n",
       "  </tbody>\n",
       "</table>\n",
       "</div>"
      ],
      "text/plain": [
       "                                                text  label\n",
       "0  1 Litre no Namida 1, lit. 1 Litre of Tears als...      1\n",
       "1  1DayLater was free, web based software that wa...      1\n",
       "2  1E is a privately owned IT software and servic...      1"
      ]
     },
     "execution_count": 41,
     "metadata": {},
     "output_type": "execute_result"
    }
   ],
   "source": [
    "df_promo['label'] = 1\n",
    "df_promo.head(3)"
   ]
  },
  {
   "cell_type": "markdown",
   "metadata": {},
   "source": [
    "Next, we concatenate the dataframes using the pandas method `.append`, or `.concat` in later versions - setting `ignore_index` to `True` means that the unique index values from `df_promo` are not carried over when this dataframe is appended to `df_good`; the indexing, rather, continues where `df_good`'s index leaves off."
   ]
  },
  {
   "cell_type": "code",
   "execution_count": 42,
   "metadata": {
    "ExecuteTime": {
     "end_time": "2022-06-01T15:51:37.752540Z",
     "start_time": "2022-06-01T15:51:37.723584Z"
    }
   },
   "outputs": [
    {
     "data": {
      "text/html": [
       "<div>\n",
       "<style scoped>\n",
       "    .dataframe tbody tr th:only-of-type {\n",
       "        vertical-align: middle;\n",
       "    }\n",
       "\n",
       "    .dataframe tbody tr th {\n",
       "        vertical-align: top;\n",
       "    }\n",
       "\n",
       "    .dataframe thead th {\n",
       "        text-align: right;\n",
       "    }\n",
       "</style>\n",
       "<table border=\"1\" class=\"dataframe\">\n",
       "  <thead>\n",
       "    <tr style=\"text-align: right;\">\n",
       "      <th></th>\n",
       "      <th>text</th>\n",
       "      <th>label</th>\n",
       "    </tr>\n",
       "  </thead>\n",
       "  <tbody>\n",
       "    <tr>\n",
       "      <th>0</th>\n",
       "      <td>Nycticebus linglom is a fossil strepsirrhine p...</td>\n",
       "      <td>0</td>\n",
       "    </tr>\n",
       "    <tr>\n",
       "      <th>1</th>\n",
       "      <td>Oryzomys pliocaenicus is a fossil rodent from ...</td>\n",
       "      <td>0</td>\n",
       "    </tr>\n",
       "    <tr>\n",
       "      <th>2</th>\n",
       "      <td>.hack dt hk is a series of single player actio...</td>\n",
       "      <td>0</td>\n",
       "    </tr>\n",
       "    <tr>\n",
       "      <th>3</th>\n",
       "      <td>The You Drive Me Crazy Tour was the second con...</td>\n",
       "      <td>0</td>\n",
       "    </tr>\n",
       "    <tr>\n",
       "      <th>4</th>\n",
       "      <td>0 8 4 is the second episode of the first seaso...</td>\n",
       "      <td>0</td>\n",
       "    </tr>\n",
       "    <tr>\n",
       "      <th>...</th>\n",
       "      <td>...</td>\n",
       "      <td>...</td>\n",
       "    </tr>\n",
       "    <tr>\n",
       "      <th>54111</th>\n",
       "      <td>ZURICH.MINDS is a non profit foundation set up...</td>\n",
       "      <td>1</td>\n",
       "    </tr>\n",
       "    <tr>\n",
       "      <th>54112</th>\n",
       "      <td>zvelo, Inc. or simply zvelo is a privately hel...</td>\n",
       "      <td>1</td>\n",
       "    </tr>\n",
       "    <tr>\n",
       "      <th>54113</th>\n",
       "      <td>Zygote Media Group is a 3D human anatomy conte...</td>\n",
       "      <td>1</td>\n",
       "    </tr>\n",
       "    <tr>\n",
       "      <th>54114</th>\n",
       "      <td>Zylom is a distributor of casual games for PC ...</td>\n",
       "      <td>1</td>\n",
       "    </tr>\n",
       "    <tr>\n",
       "      <th>54115</th>\n",
       "      <td>Zynx Health Incorporated is an American corpor...</td>\n",
       "      <td>1</td>\n",
       "    </tr>\n",
       "  </tbody>\n",
       "</table>\n",
       "<p>54116 rows × 2 columns</p>\n",
       "</div>"
      ],
      "text/plain": [
       "                                                    text  label\n",
       "0      Nycticebus linglom is a fossil strepsirrhine p...      0\n",
       "1      Oryzomys pliocaenicus is a fossil rodent from ...      0\n",
       "2      .hack dt hk is a series of single player actio...      0\n",
       "3      The You Drive Me Crazy Tour was the second con...      0\n",
       "4      0 8 4 is the second episode of the first seaso...      0\n",
       "...                                                  ...    ...\n",
       "54111  ZURICH.MINDS is a non profit foundation set up...      1\n",
       "54112  zvelo, Inc. or simply zvelo is a privately hel...      1\n",
       "54113  Zygote Media Group is a 3D human anatomy conte...      1\n",
       "54114  Zylom is a distributor of casual games for PC ...      1\n",
       "54115  Zynx Health Incorporated is an American corpor...      1\n",
       "\n",
       "[54116 rows x 2 columns]"
      ]
     },
     "execution_count": 42,
     "metadata": {},
     "output_type": "execute_result"
    }
   ],
   "source": [
    "df = df_good.append(other=df_promo,\n",
    "                    ignore_index=True)\n",
    "\n",
    "df"
   ]
  },
  {
   "cell_type": "markdown",
   "metadata": {},
   "source": [
    "The following code cell shuffles the index of the dataframe so that `good` and `promotional` articles are mixed in together. This is included purely for the purpose of reproducibility, which is why the next few cells (prior to section `Reading in .csv file with lemmas`) are commented out."
   ]
  },
  {
   "cell_type": "code",
   "execution_count": 43,
   "metadata": {
    "ExecuteTime": {
     "end_time": "2022-06-01T15:51:38.159746Z",
     "start_time": "2022-06-01T15:51:38.128795Z"
    },
    "scrolled": false
   },
   "outputs": [
    {
     "data": {
      "text/html": [
       "<div>\n",
       "<style scoped>\n",
       "    .dataframe tbody tr th:only-of-type {\n",
       "        vertical-align: middle;\n",
       "    }\n",
       "\n",
       "    .dataframe tbody tr th {\n",
       "        vertical-align: top;\n",
       "    }\n",
       "\n",
       "    .dataframe thead th {\n",
       "        text-align: right;\n",
       "    }\n",
       "</style>\n",
       "<table border=\"1\" class=\"dataframe\">\n",
       "  <thead>\n",
       "    <tr style=\"text-align: right;\">\n",
       "      <th></th>\n",
       "      <th>text</th>\n",
       "      <th>label</th>\n",
       "    </tr>\n",
       "  </thead>\n",
       "  <tbody>\n",
       "    <tr>\n",
       "      <th>0</th>\n",
       "      <td>Program of All inclusive Care for the Elderly ...</td>\n",
       "      <td>1</td>\n",
       "    </tr>\n",
       "    <tr>\n",
       "      <th>1</th>\n",
       "      <td>Brotzeit Chinese is a chain of casual dining r...</td>\n",
       "      <td>1</td>\n",
       "    </tr>\n",
       "    <tr>\n",
       "      <th>2</th>\n",
       "      <td>Jan von Konow 19751981 Adam Ludvig Carl Lewenh...</td>\n",
       "      <td>0</td>\n",
       "    </tr>\n",
       "    <tr>\n",
       "      <th>3</th>\n",
       "      <td>Andreas Gianniotis Greek , born 18 December 19...</td>\n",
       "      <td>1</td>\n",
       "    </tr>\n",
       "    <tr>\n",
       "      <th>4</th>\n",
       "      <td>Coordinates 414700N 873644W 41.783457N 87.6121...</td>\n",
       "      <td>0</td>\n",
       "    </tr>\n",
       "    <tr>\n",
       "      <th>...</th>\n",
       "      <td>...</td>\n",
       "      <td>...</td>\n",
       "    </tr>\n",
       "    <tr>\n",
       "      <th>54111</th>\n",
       "      <td>Coordinates 1950N 6130W 19.833N 61.500W 19.833...</td>\n",
       "      <td>0</td>\n",
       "    </tr>\n",
       "    <tr>\n",
       "      <th>54112</th>\n",
       "      <td>Olivia Irene Hilden nee Gonzales born January ...</td>\n",
       "      <td>1</td>\n",
       "    </tr>\n",
       "    <tr>\n",
       "      <th>54113</th>\n",
       "      <td>The 2008 attacks on Uttar Pradeshi and Bihari ...</td>\n",
       "      <td>0</td>\n",
       "    </tr>\n",
       "    <tr>\n",
       "      <th>54114</th>\n",
       "      <td>New Jersey State Highway Routes Route 57 is a ...</td>\n",
       "      <td>0</td>\n",
       "    </tr>\n",
       "    <tr>\n",
       "      <th>54115</th>\n",
       "      <td>The sand whiting Sillago ciliata , also known ...</td>\n",
       "      <td>0</td>\n",
       "    </tr>\n",
       "  </tbody>\n",
       "</table>\n",
       "<p>54116 rows × 2 columns</p>\n",
       "</div>"
      ],
      "text/plain": [
       "                                                    text  label\n",
       "0      Program of All inclusive Care for the Elderly ...      1\n",
       "1      Brotzeit Chinese is a chain of casual dining r...      1\n",
       "2      Jan von Konow 19751981 Adam Ludvig Carl Lewenh...      0\n",
       "3      Andreas Gianniotis Greek , born 18 December 19...      1\n",
       "4      Coordinates 414700N 873644W 41.783457N 87.6121...      0\n",
       "...                                                  ...    ...\n",
       "54111  Coordinates 1950N 6130W 19.833N 61.500W 19.833...      0\n",
       "54112  Olivia Irene Hilden nee Gonzales born January ...      1\n",
       "54113  The 2008 attacks on Uttar Pradeshi and Bihari ...      0\n",
       "54114  New Jersey State Highway Routes Route 57 is a ...      0\n",
       "54115  The sand whiting Sillago ciliata , also known ...      0\n",
       "\n",
       "[54116 rows x 2 columns]"
      ]
     },
     "execution_count": 43,
     "metadata": {},
     "output_type": "execute_result"
    }
   ],
   "source": [
    "df = df.sample(frac=1).reset_index(drop=True)\n",
    "\n",
    "df"
   ]
  },
  {
   "cell_type": "markdown",
   "metadata": {},
   "source": [
    "## Lemmatizing Raw Data, Exporting New Dataframe"
   ]
  },
  {
   "cell_type": "markdown",
   "metadata": {},
   "source": [
    "The following cell is one of the most computationally expensive tasks in this whole project - it applies the custom function `parse_doc` (see the [.py file](../src/parse_it.py) for further information) to the content of the `text` column for each row in the dataframe, i.e. each document in the corpus. The result is a string of **lemmas**, the approximate morphological roots of each word in the document, stored in a new column called `text_lem`. This helps standardize the text for vectorization and, eventually, modeling.\n",
    "\n",
    "Again, the following two cells are only necessary to run if you're interested in completing reproducing the project, step by step. For convenience, the output is saved as `lemmed_combined.csv`, which will probably save you at least an hour of computing time if loaded in."
   ]
  },
  {
   "cell_type": "code",
   "execution_count": 44,
   "metadata": {
    "ExecuteTime": {
     "end_time": "2022-06-01T15:51:39.364635Z",
     "start_time": "2022-06-01T15:51:39.345719Z"
    },
    "scrolled": true
   },
   "outputs": [],
   "source": [
    "# df['text_lem'] = df['text'].apply(parse_doc) "
   ]
  },
  {
   "cell_type": "code",
   "execution_count": 45,
   "metadata": {
    "ExecuteTime": {
     "end_time": "2022-06-01T15:51:39.539752Z",
     "start_time": "2022-06-01T15:51:39.531804Z"
    }
   },
   "outputs": [],
   "source": [
    "# df.to_csv('lemmed_combined.csv')"
   ]
  },
  {
   "cell_type": "markdown",
   "metadata": {},
   "source": [
    "## Reading in Newly Created `.csv`"
   ]
  },
  {
   "cell_type": "code",
   "execution_count": 46,
   "metadata": {
    "ExecuteTime": {
     "end_time": "2022-06-01T15:51:51.996998Z",
     "start_time": "2022-06-01T15:51:40.092425Z"
    }
   },
   "outputs": [],
   "source": [
    "lemmed_df = pd.read_csv('../../data/lemmed_combined.csv', index_col=0)"
   ]
  },
  {
   "cell_type": "code",
   "execution_count": 47,
   "metadata": {
    "ExecuteTime": {
     "end_time": "2022-06-01T15:51:52.105706Z",
     "start_time": "2022-06-01T15:51:52.077782Z"
    },
    "scrolled": true
   },
   "outputs": [
    {
     "data": {
      "text/html": [
       "<div>\n",
       "<style scoped>\n",
       "    .dataframe tbody tr th:only-of-type {\n",
       "        vertical-align: middle;\n",
       "    }\n",
       "\n",
       "    .dataframe tbody tr th {\n",
       "        vertical-align: top;\n",
       "    }\n",
       "\n",
       "    .dataframe thead th {\n",
       "        text-align: right;\n",
       "    }\n",
       "</style>\n",
       "<table border=\"1\" class=\"dataframe\">\n",
       "  <thead>\n",
       "    <tr style=\"text-align: right;\">\n",
       "      <th></th>\n",
       "      <th>text</th>\n",
       "      <th>label</th>\n",
       "      <th>text_lem</th>\n",
       "    </tr>\n",
       "  </thead>\n",
       "  <tbody>\n",
       "    <tr>\n",
       "      <th>0</th>\n",
       "      <td>Ryan Steven Lochte lkti LOK tee born August 3,...</td>\n",
       "      <td>0</td>\n",
       "      <td>ryan steven lochte lkti lok tee bear august am...</td>\n",
       "    </tr>\n",
       "    <tr>\n",
       "      <th>1</th>\n",
       "      <td>CAM ships were World War II era British mercha...</td>\n",
       "      <td>0</td>\n",
       "      <td>cam ship world war ii era british merchant shi...</td>\n",
       "    </tr>\n",
       "    <tr>\n",
       "      <th>2</th>\n",
       "      <td>The politics of Vietnam are defined by a singl...</td>\n",
       "      <td>0</td>\n",
       "      <td>politics vietnam define single party socialist...</td>\n",
       "    </tr>\n",
       "    <tr>\n",
       "      <th>3</th>\n",
       "      <td>Pennsylvania Route 363 PA 363 is a state highw...</td>\n",
       "      <td>0</td>\n",
       "      <td>pennsylvania route pa state highway locate mon...</td>\n",
       "    </tr>\n",
       "    <tr>\n",
       "      <th>4</th>\n",
       "      <td>Clubland TV is a British free to air Dance mus...</td>\n",
       "      <td>1</td>\n",
       "      <td>clubland tv british free air dance music chann...</td>\n",
       "    </tr>\n",
       "    <tr>\n",
       "      <th>5</th>\n",
       "      <td>William J. Binder is an American facial plasti...</td>\n",
       "      <td>1</td>\n",
       "      <td>william j binder american facial plastic recon...</td>\n",
       "    </tr>\n",
       "    <tr>\n",
       "      <th>6</th>\n",
       "      <td>StarTex Power was a Texas based retail electri...</td>\n",
       "      <td>1</td>\n",
       "      <td>startex power texas base retail electricity pr...</td>\n",
       "    </tr>\n",
       "    <tr>\n",
       "      <th>7</th>\n",
       "      <td>Miodrag Tomic Serbian Cyrillic 17 May O.S. 5 M...</td>\n",
       "      <td>0</td>\n",
       "      <td>miodrag tomic serbian cyrillic may may februar...</td>\n",
       "    </tr>\n",
       "    <tr>\n",
       "      <th>8</th>\n",
       "      <td>Pietro Annigoni completed a number of portrait...</td>\n",
       "      <td>0</td>\n",
       "      <td>pietro annigoni complete number portrait queen...</td>\n",
       "    </tr>\n",
       "    <tr>\n",
       "      <th>9</th>\n",
       "      <td>Fuso , Fusang was a central battery ironclad b...</td>\n",
       "      <td>0</td>\n",
       "      <td>fuso fusang central battery ironclad build imp...</td>\n",
       "    </tr>\n",
       "  </tbody>\n",
       "</table>\n",
       "</div>"
      ],
      "text/plain": [
       "                                                text  label  \\\n",
       "0  Ryan Steven Lochte lkti LOK tee born August 3,...      0   \n",
       "1  CAM ships were World War II era British mercha...      0   \n",
       "2  The politics of Vietnam are defined by a singl...      0   \n",
       "3  Pennsylvania Route 363 PA 363 is a state highw...      0   \n",
       "4  Clubland TV is a British free to air Dance mus...      1   \n",
       "5  William J. Binder is an American facial plasti...      1   \n",
       "6  StarTex Power was a Texas based retail electri...      1   \n",
       "7  Miodrag Tomic Serbian Cyrillic 17 May O.S. 5 M...      0   \n",
       "8  Pietro Annigoni completed a number of portrait...      0   \n",
       "9  Fuso , Fusang was a central battery ironclad b...      0   \n",
       "\n",
       "                                            text_lem  \n",
       "0  ryan steven lochte lkti lok tee bear august am...  \n",
       "1  cam ship world war ii era british merchant shi...  \n",
       "2  politics vietnam define single party socialist...  \n",
       "3  pennsylvania route pa state highway locate mon...  \n",
       "4  clubland tv british free air dance music chann...  \n",
       "5  william j binder american facial plastic recon...  \n",
       "6  startex power texas base retail electricity pr...  \n",
       "7  miodrag tomic serbian cyrillic may may februar...  \n",
       "8  pietro annigoni complete number portrait queen...  \n",
       "9  fuso fusang central battery ironclad build imp...  "
      ]
     },
     "execution_count": 47,
     "metadata": {},
     "output_type": "execute_result"
    }
   ],
   "source": [
    "lemmed_df.head(10)"
   ]
  },
  {
   "cell_type": "code",
   "execution_count": 48,
   "metadata": {
    "ExecuteTime": {
     "end_time": "2022-06-01T15:52:27.618068Z",
     "start_time": "2022-06-01T15:51:52.184495Z"
    },
    "scrolled": true
   },
   "outputs": [
    {
     "name": "stdout",
     "output_type": "stream",
     "text": [
      "Mean document length, label 0: 2629 words, 15649 characters.\n",
      "Mean document length, label 1: 768 words, 4771 characters.\n"
     ]
    },
    {
     "data": {
      "text/plain": [
       "(2628.5815581756333, 768.2722658052608)"
      ]
     },
     "execution_count": 48,
     "metadata": {},
     "output_type": "execute_result"
    }
   ],
   "source": [
    "compare_mean_counts(lemmed_df, 'text', 'label', 0, 1)"
   ]
  },
  {
   "cell_type": "markdown",
   "metadata": {},
   "source": [
    "### Additional Stopwords"
   ]
  },
  {
   "cell_type": "markdown",
   "metadata": {},
   "source": [
    "These were generated as a part of the exploratory process and are ultimately not included in the final model."
   ]
  },
  {
   "cell_type": "code",
   "execution_count": 49,
   "metadata": {
    "ExecuteTime": {
     "end_time": "2022-06-01T15:52:27.955221Z",
     "start_time": "2022-06-01T15:52:27.928293Z"
    }
   },
   "outputs": [],
   "source": [
    "additional_sw = ['january',\n",
    "                 'february',\n",
    "                 'april', # 'march' and 'may' are English verbs and\n",
    "                          #  are thus excluded\n",
    "                 'june',\n",
    "                 'july',\n",
    "                 'august',\n",
    "                 'september',\n",
    "                 'october',\n",
    "                 'november',\n",
    "                 'december']"
   ]
  },
  {
   "cell_type": "markdown",
   "metadata": {},
   "source": [
    "## Modeling Scratchwork (for Further EDA)"
   ]
  },
  {
   "cell_type": "code",
   "execution_count": 50,
   "metadata": {
    "ExecuteTime": {
     "end_time": "2022-06-01T15:52:28.177421Z",
     "start_time": "2022-06-01T15:52:28.062150Z"
    }
   },
   "outputs": [],
   "source": [
    "X = lemmed_df['text_lem']\n",
    "y = lemmed_df['label']"
   ]
  },
  {
   "cell_type": "code",
   "execution_count": 51,
   "metadata": {
    "ExecuteTime": {
     "end_time": "2022-06-01T15:52:28.316051Z",
     "start_time": "2022-06-01T15:52:28.291117Z"
    }
   },
   "outputs": [
    {
     "data": {
      "text/plain": [
       "0        ryan steven lochte lkti lok tee bear august am...\n",
       "1        cam ship world war ii era british merchant shi...\n",
       "2        politics vietnam define single party socialist...\n",
       "3        pennsylvania route pa state highway locate mon...\n",
       "4        clubland tv british free air dance music chann...\n",
       "                               ...                        \n",
       "54111    guatemala send delegation compete summer paral...\n",
       "54112    charles augustus ollivierre july march vincent...\n",
       "54113    dhanushka jayakody bear july colombo sri lanka...\n",
       "54114    elmer harrison flick january january american ...\n",
       "54115    safdarjung tomb sandstone marble mausoleum del...\n",
       "Name: text_lem, Length: 54116, dtype: object"
      ]
     },
     "execution_count": 51,
     "metadata": {},
     "output_type": "execute_result"
    }
   ],
   "source": [
    "X"
   ]
  },
  {
   "cell_type": "code",
   "execution_count": 52,
   "metadata": {
    "ExecuteTime": {
     "end_time": "2022-06-01T15:52:28.471636Z",
     "start_time": "2022-06-01T15:52:28.459668Z"
    },
    "scrolled": true
   },
   "outputs": [
    {
     "data": {
      "text/plain": [
       "0        0\n",
       "1        0\n",
       "2        0\n",
       "3        0\n",
       "4        1\n",
       "        ..\n",
       "54111    0\n",
       "54112    0\n",
       "54113    1\n",
       "54114    0\n",
       "54115    0\n",
       "Name: label, Length: 54116, dtype: int64"
      ]
     },
     "execution_count": 52,
     "metadata": {},
     "output_type": "execute_result"
    }
   ],
   "source": [
    "y"
   ]
  },
  {
   "cell_type": "code",
   "execution_count": 53,
   "metadata": {
    "ExecuteTime": {
     "end_time": "2022-06-01T15:52:29.099762Z",
     "start_time": "2022-06-01T15:52:28.569374Z"
    }
   },
   "outputs": [],
   "source": [
    "# Initial train test split, to isolate test/holdout data\n",
    "\n",
    "X_train, X_test, y_train, y_test = train_test_split(X, y,\n",
    "                                                    random_state=42,\n",
    "                                                    stratify=y)"
   ]
  },
  {
   "cell_type": "code",
   "execution_count": 54,
   "metadata": {
    "ExecuteTime": {
     "end_time": "2022-06-01T15:52:29.226519Z",
     "start_time": "2022-06-01T15:52:29.180577Z"
    }
   },
   "outputs": [],
   "source": [
    "# Creating smaller training and validation datasets\n",
    "\n",
    "X_tr_val, X_val, y_tr_val, y_val = train_test_split(X_train, y_train,\n",
    "                                                    random_state=42,\n",
    "                                                    stratify=y_train)"
   ]
  },
  {
   "cell_type": "code",
   "execution_count": 55,
   "metadata": {
    "ExecuteTime": {
     "end_time": "2022-06-01T15:52:29.335992Z",
     "start_time": "2022-06-01T15:52:29.308304Z"
    },
    "scrolled": true
   },
   "outputs": [
    {
     "data": {
      "text/plain": [
       "0    0.559527\n",
       "1    0.440473\n",
       "Name: label, dtype: float64"
      ]
     },
     "execution_count": 55,
     "metadata": {},
     "output_type": "execute_result"
    }
   ],
   "source": [
    "y_tr_val.value_counts(normalize=True)"
   ]
  },
  {
   "cell_type": "code",
   "execution_count": 56,
   "metadata": {
    "ExecuteTime": {
     "end_time": "2022-06-01T15:52:29.430739Z",
     "start_time": "2022-06-01T15:52:29.417800Z"
    },
    "scrolled": false
   },
   "outputs": [
    {
     "data": {
      "text/plain": [
       "0    0.559527\n",
       "1    0.440473\n",
       "Name: label, dtype: float64"
      ]
     },
     "execution_count": 56,
     "metadata": {},
     "output_type": "execute_result"
    }
   ],
   "source": [
    "y_tr_val.value_counts(normalize=True)"
   ]
  },
  {
   "cell_type": "code",
   "execution_count": 55,
   "metadata": {
    "ExecuteTime": {
     "end_time": "2022-05-31T04:09:19.169581Z",
     "start_time": "2022-05-31T04:08:49.788851Z"
    }
   },
   "outputs": [
    {
     "data": {
      "text/plain": [
       "<30440x100000 sparse matrix of type '<class 'numpy.float64'>'\n",
       "\twith 13273494 stored elements in Compressed Sparse Row format>"
      ]
     },
     "execution_count": 55,
     "metadata": {},
     "output_type": "execute_result"
    }
   ],
   "source": [
    "tvec = TfidfVectorizer(max_features=100000)\n",
    "\n",
    "X_tr_vec = tvec.fit_transform(X_tr_val)\n",
    "\n",
    "X_tr_vec"
   ]
  },
  {
   "cell_type": "code",
   "execution_count": 56,
   "metadata": {
    "ExecuteTime": {
     "end_time": "2022-05-31T04:10:46.557933Z",
     "start_time": "2022-05-31T04:09:19.363364Z"
    },
    "scrolled": true
   },
   "outputs": [
    {
     "data": {
      "text/html": [
       "<div>\n",
       "<style scoped>\n",
       "    .dataframe tbody tr th:only-of-type {\n",
       "        vertical-align: middle;\n",
       "    }\n",
       "\n",
       "    .dataframe tbody tr th {\n",
       "        vertical-align: top;\n",
       "    }\n",
       "\n",
       "    .dataframe thead th {\n",
       "        text-align: right;\n",
       "    }\n",
       "</style>\n",
       "<table border=\"1\" class=\"dataframe\">\n",
       "  <thead>\n",
       "    <tr style=\"text-align: right;\">\n",
       "      <th></th>\n",
       "      <th>aa</th>\n",
       "      <th>aaa</th>\n",
       "      <th>aaaa</th>\n",
       "      <th>aaaaa</th>\n",
       "      <th>aaagh</th>\n",
       "      <th>aaap</th>\n",
       "      <th>aab</th>\n",
       "      <th>aac</th>\n",
       "      <th>aacc</th>\n",
       "      <th>aacca</th>\n",
       "      <th>...</th>\n",
       "      <th>zylom</th>\n",
       "      <th>zynga</th>\n",
       "      <th>zynx</th>\n",
       "      <th>zyos</th>\n",
       "      <th>zyrus</th>\n",
       "      <th>zytek</th>\n",
       "      <th>zytglogge</th>\n",
       "      <th>zyuk</th>\n",
       "      <th>zz</th>\n",
       "      <th>zzap</th>\n",
       "    </tr>\n",
       "  </thead>\n",
       "  <tbody>\n",
       "    <tr>\n",
       "      <th>0</th>\n",
       "      <td>0.0</td>\n",
       "      <td>0.0</td>\n",
       "      <td>0.0</td>\n",
       "      <td>0.0</td>\n",
       "      <td>0.0</td>\n",
       "      <td>0.0</td>\n",
       "      <td>0.0</td>\n",
       "      <td>0.0</td>\n",
       "      <td>0.0</td>\n",
       "      <td>0.0</td>\n",
       "      <td>...</td>\n",
       "      <td>0.0</td>\n",
       "      <td>0.0</td>\n",
       "      <td>0.0</td>\n",
       "      <td>0.0</td>\n",
       "      <td>0.0</td>\n",
       "      <td>0.0</td>\n",
       "      <td>0.0</td>\n",
       "      <td>0.0</td>\n",
       "      <td>0.0</td>\n",
       "      <td>0.0</td>\n",
       "    </tr>\n",
       "    <tr>\n",
       "      <th>1</th>\n",
       "      <td>0.0</td>\n",
       "      <td>0.0</td>\n",
       "      <td>0.0</td>\n",
       "      <td>0.0</td>\n",
       "      <td>0.0</td>\n",
       "      <td>0.0</td>\n",
       "      <td>0.0</td>\n",
       "      <td>0.0</td>\n",
       "      <td>0.0</td>\n",
       "      <td>0.0</td>\n",
       "      <td>...</td>\n",
       "      <td>0.0</td>\n",
       "      <td>0.0</td>\n",
       "      <td>0.0</td>\n",
       "      <td>0.0</td>\n",
       "      <td>0.0</td>\n",
       "      <td>0.0</td>\n",
       "      <td>0.0</td>\n",
       "      <td>0.0</td>\n",
       "      <td>0.0</td>\n",
       "      <td>0.0</td>\n",
       "    </tr>\n",
       "    <tr>\n",
       "      <th>2</th>\n",
       "      <td>0.0</td>\n",
       "      <td>0.0</td>\n",
       "      <td>0.0</td>\n",
       "      <td>0.0</td>\n",
       "      <td>0.0</td>\n",
       "      <td>0.0</td>\n",
       "      <td>0.0</td>\n",
       "      <td>0.0</td>\n",
       "      <td>0.0</td>\n",
       "      <td>0.0</td>\n",
       "      <td>...</td>\n",
       "      <td>0.0</td>\n",
       "      <td>0.0</td>\n",
       "      <td>0.0</td>\n",
       "      <td>0.0</td>\n",
       "      <td>0.0</td>\n",
       "      <td>0.0</td>\n",
       "      <td>0.0</td>\n",
       "      <td>0.0</td>\n",
       "      <td>0.0</td>\n",
       "      <td>0.0</td>\n",
       "    </tr>\n",
       "    <tr>\n",
       "      <th>3</th>\n",
       "      <td>0.0</td>\n",
       "      <td>0.0</td>\n",
       "      <td>0.0</td>\n",
       "      <td>0.0</td>\n",
       "      <td>0.0</td>\n",
       "      <td>0.0</td>\n",
       "      <td>0.0</td>\n",
       "      <td>0.0</td>\n",
       "      <td>0.0</td>\n",
       "      <td>0.0</td>\n",
       "      <td>...</td>\n",
       "      <td>0.0</td>\n",
       "      <td>0.0</td>\n",
       "      <td>0.0</td>\n",
       "      <td>0.0</td>\n",
       "      <td>0.0</td>\n",
       "      <td>0.0</td>\n",
       "      <td>0.0</td>\n",
       "      <td>0.0</td>\n",
       "      <td>0.0</td>\n",
       "      <td>0.0</td>\n",
       "    </tr>\n",
       "    <tr>\n",
       "      <th>4</th>\n",
       "      <td>0.0</td>\n",
       "      <td>0.0</td>\n",
       "      <td>0.0</td>\n",
       "      <td>0.0</td>\n",
       "      <td>0.0</td>\n",
       "      <td>0.0</td>\n",
       "      <td>0.0</td>\n",
       "      <td>0.0</td>\n",
       "      <td>0.0</td>\n",
       "      <td>0.0</td>\n",
       "      <td>...</td>\n",
       "      <td>0.0</td>\n",
       "      <td>0.0</td>\n",
       "      <td>0.0</td>\n",
       "      <td>0.0</td>\n",
       "      <td>0.0</td>\n",
       "      <td>0.0</td>\n",
       "      <td>0.0</td>\n",
       "      <td>0.0</td>\n",
       "      <td>0.0</td>\n",
       "      <td>0.0</td>\n",
       "    </tr>\n",
       "    <tr>\n",
       "      <th>...</th>\n",
       "      <td>...</td>\n",
       "      <td>...</td>\n",
       "      <td>...</td>\n",
       "      <td>...</td>\n",
       "      <td>...</td>\n",
       "      <td>...</td>\n",
       "      <td>...</td>\n",
       "      <td>...</td>\n",
       "      <td>...</td>\n",
       "      <td>...</td>\n",
       "      <td>...</td>\n",
       "      <td>...</td>\n",
       "      <td>...</td>\n",
       "      <td>...</td>\n",
       "      <td>...</td>\n",
       "      <td>...</td>\n",
       "      <td>...</td>\n",
       "      <td>...</td>\n",
       "      <td>...</td>\n",
       "      <td>...</td>\n",
       "      <td>...</td>\n",
       "    </tr>\n",
       "    <tr>\n",
       "      <th>30435</th>\n",
       "      <td>0.0</td>\n",
       "      <td>0.0</td>\n",
       "      <td>0.0</td>\n",
       "      <td>0.0</td>\n",
       "      <td>0.0</td>\n",
       "      <td>0.0</td>\n",
       "      <td>0.0</td>\n",
       "      <td>0.0</td>\n",
       "      <td>0.0</td>\n",
       "      <td>0.0</td>\n",
       "      <td>...</td>\n",
       "      <td>0.0</td>\n",
       "      <td>0.0</td>\n",
       "      <td>0.0</td>\n",
       "      <td>0.0</td>\n",
       "      <td>0.0</td>\n",
       "      <td>0.0</td>\n",
       "      <td>0.0</td>\n",
       "      <td>0.0</td>\n",
       "      <td>0.0</td>\n",
       "      <td>0.0</td>\n",
       "    </tr>\n",
       "    <tr>\n",
       "      <th>30436</th>\n",
       "      <td>0.0</td>\n",
       "      <td>0.0</td>\n",
       "      <td>0.0</td>\n",
       "      <td>0.0</td>\n",
       "      <td>0.0</td>\n",
       "      <td>0.0</td>\n",
       "      <td>0.0</td>\n",
       "      <td>0.0</td>\n",
       "      <td>0.0</td>\n",
       "      <td>0.0</td>\n",
       "      <td>...</td>\n",
       "      <td>0.0</td>\n",
       "      <td>0.0</td>\n",
       "      <td>0.0</td>\n",
       "      <td>0.0</td>\n",
       "      <td>0.0</td>\n",
       "      <td>0.0</td>\n",
       "      <td>0.0</td>\n",
       "      <td>0.0</td>\n",
       "      <td>0.0</td>\n",
       "      <td>0.0</td>\n",
       "    </tr>\n",
       "    <tr>\n",
       "      <th>30437</th>\n",
       "      <td>0.0</td>\n",
       "      <td>0.0</td>\n",
       "      <td>0.0</td>\n",
       "      <td>0.0</td>\n",
       "      <td>0.0</td>\n",
       "      <td>0.0</td>\n",
       "      <td>0.0</td>\n",
       "      <td>0.0</td>\n",
       "      <td>0.0</td>\n",
       "      <td>0.0</td>\n",
       "      <td>...</td>\n",
       "      <td>0.0</td>\n",
       "      <td>0.0</td>\n",
       "      <td>0.0</td>\n",
       "      <td>0.0</td>\n",
       "      <td>0.0</td>\n",
       "      <td>0.0</td>\n",
       "      <td>0.0</td>\n",
       "      <td>0.0</td>\n",
       "      <td>0.0</td>\n",
       "      <td>0.0</td>\n",
       "    </tr>\n",
       "    <tr>\n",
       "      <th>30438</th>\n",
       "      <td>0.0</td>\n",
       "      <td>0.0</td>\n",
       "      <td>0.0</td>\n",
       "      <td>0.0</td>\n",
       "      <td>0.0</td>\n",
       "      <td>0.0</td>\n",
       "      <td>0.0</td>\n",
       "      <td>0.0</td>\n",
       "      <td>0.0</td>\n",
       "      <td>0.0</td>\n",
       "      <td>...</td>\n",
       "      <td>0.0</td>\n",
       "      <td>0.0</td>\n",
       "      <td>0.0</td>\n",
       "      <td>0.0</td>\n",
       "      <td>0.0</td>\n",
       "      <td>0.0</td>\n",
       "      <td>0.0</td>\n",
       "      <td>0.0</td>\n",
       "      <td>0.0</td>\n",
       "      <td>0.0</td>\n",
       "    </tr>\n",
       "    <tr>\n",
       "      <th>30439</th>\n",
       "      <td>0.0</td>\n",
       "      <td>0.0</td>\n",
       "      <td>0.0</td>\n",
       "      <td>0.0</td>\n",
       "      <td>0.0</td>\n",
       "      <td>0.0</td>\n",
       "      <td>0.0</td>\n",
       "      <td>0.0</td>\n",
       "      <td>0.0</td>\n",
       "      <td>0.0</td>\n",
       "      <td>...</td>\n",
       "      <td>0.0</td>\n",
       "      <td>0.0</td>\n",
       "      <td>0.0</td>\n",
       "      <td>0.0</td>\n",
       "      <td>0.0</td>\n",
       "      <td>0.0</td>\n",
       "      <td>0.0</td>\n",
       "      <td>0.0</td>\n",
       "      <td>0.0</td>\n",
       "      <td>0.0</td>\n",
       "    </tr>\n",
       "  </tbody>\n",
       "</table>\n",
       "<p>30440 rows × 100000 columns</p>\n",
       "</div>"
      ],
      "text/plain": [
       "        aa  aaa  aaaa  aaaaa  aaagh  aaap  aab  aac  aacc  aacca  ...  zylom  \\\n",
       "0      0.0  0.0   0.0    0.0    0.0   0.0  0.0  0.0   0.0    0.0  ...    0.0   \n",
       "1      0.0  0.0   0.0    0.0    0.0   0.0  0.0  0.0   0.0    0.0  ...    0.0   \n",
       "2      0.0  0.0   0.0    0.0    0.0   0.0  0.0  0.0   0.0    0.0  ...    0.0   \n",
       "3      0.0  0.0   0.0    0.0    0.0   0.0  0.0  0.0   0.0    0.0  ...    0.0   \n",
       "4      0.0  0.0   0.0    0.0    0.0   0.0  0.0  0.0   0.0    0.0  ...    0.0   \n",
       "...    ...  ...   ...    ...    ...   ...  ...  ...   ...    ...  ...    ...   \n",
       "30435  0.0  0.0   0.0    0.0    0.0   0.0  0.0  0.0   0.0    0.0  ...    0.0   \n",
       "30436  0.0  0.0   0.0    0.0    0.0   0.0  0.0  0.0   0.0    0.0  ...    0.0   \n",
       "30437  0.0  0.0   0.0    0.0    0.0   0.0  0.0  0.0   0.0    0.0  ...    0.0   \n",
       "30438  0.0  0.0   0.0    0.0    0.0   0.0  0.0  0.0   0.0    0.0  ...    0.0   \n",
       "30439  0.0  0.0   0.0    0.0    0.0   0.0  0.0  0.0   0.0    0.0  ...    0.0   \n",
       "\n",
       "       zynga  zynx  zyos  zyrus  zytek  zytglogge  zyuk   zz  zzap  \n",
       "0        0.0   0.0   0.0    0.0    0.0        0.0   0.0  0.0   0.0  \n",
       "1        0.0   0.0   0.0    0.0    0.0        0.0   0.0  0.0   0.0  \n",
       "2        0.0   0.0   0.0    0.0    0.0        0.0   0.0  0.0   0.0  \n",
       "3        0.0   0.0   0.0    0.0    0.0        0.0   0.0  0.0   0.0  \n",
       "4        0.0   0.0   0.0    0.0    0.0        0.0   0.0  0.0   0.0  \n",
       "...      ...   ...   ...    ...    ...        ...   ...  ...   ...  \n",
       "30435    0.0   0.0   0.0    0.0    0.0        0.0   0.0  0.0   0.0  \n",
       "30436    0.0   0.0   0.0    0.0    0.0        0.0   0.0  0.0   0.0  \n",
       "30437    0.0   0.0   0.0    0.0    0.0        0.0   0.0  0.0   0.0  \n",
       "30438    0.0   0.0   0.0    0.0    0.0        0.0   0.0  0.0   0.0  \n",
       "30439    0.0   0.0   0.0    0.0    0.0        0.0   0.0  0.0   0.0  \n",
       "\n",
       "[30440 rows x 100000 columns]"
      ]
     },
     "execution_count": 56,
     "metadata": {},
     "output_type": "execute_result"
    }
   ],
   "source": [
    "pd.DataFrame(X_tr_vec.toarray(),\n",
    "             columns = tvec.get_feature_names_out())"
   ]
  },
  {
   "cell_type": "code",
   "execution_count": 55,
   "metadata": {
    "ExecuteTime": {
     "end_time": "2022-05-31T04:27:34.836045Z",
     "start_time": "2022-05-31T04:24:05.532373Z"
    }
   },
   "outputs": [
    {
     "data": {
      "text/plain": [
       "Pipeline(steps=[('tfidf', TfidfVectorizer(max_features=100000)),\n",
       "                ('xgb',\n",
       "                 XGBClassifier(base_score=0.5, booster='gbtree',\n",
       "                               colsample_bylevel=1, colsample_bynode=1,\n",
       "                               colsample_bytree=1, gamma=0, gpu_id=-1,\n",
       "                               importance_type='gain',\n",
       "                               interaction_constraints='',\n",
       "                               learning_rate=0.300000012, max_delta_step=0,\n",
       "                               max_depth=6, min_child_weight=1, missing=nan,\n",
       "                               monotone_constraints='()', n_estimators=100,\n",
       "                               n_jobs=0, num_parallel_tree=1, random_state=0,\n",
       "                               reg_alpha=0, reg_lambda=1, scale_pos_weight=1,\n",
       "                               subsample=1, tree_method='exact',\n",
       "                               validate_parameters=1, verbosity=None))])"
      ]
     },
     "execution_count": 55,
     "metadata": {},
     "output_type": "execute_result"
    }
   ],
   "source": [
    "xgb_tfidf_pipe = Pipeline(steps=[\n",
    "    ('tfidf', TfidfVectorizer(max_features=100000)),\n",
    "    ('xgb', XGBClassifier())\n",
    "])\n",
    "\n",
    "xgb_tfidf_pipe.fit(X_tr_val, y_tr_val)"
   ]
  },
  {
   "cell_type": "code",
   "execution_count": 56,
   "metadata": {
    "ExecuteTime": {
     "end_time": "2022-05-31T04:27:45.901279Z",
     "start_time": "2022-05-31T04:27:35.091193Z"
    }
   },
   "outputs": [
    {
     "data": {
      "text/plain": [
       "0.9506258007292796"
      ]
     },
     "execution_count": 56,
     "metadata": {},
     "output_type": "execute_result"
    }
   ],
   "source": [
    "xgb_tfidf_pipe.score(X_val, y_val)"
   ]
  },
  {
   "cell_type": "code",
   "execution_count": 57,
   "metadata": {
    "ExecuteTime": {
     "end_time": "2022-05-31T04:33:09.472054Z",
     "start_time": "2022-05-31T04:27:46.125835Z"
    },
    "scrolled": false
   },
   "outputs": [
    {
     "name": "stderr",
     "output_type": "stream",
     "text": [
      "[Parallel(n_jobs=1)]: Using backend SequentialBackend with 1 concurrent workers.\n"
     ]
    },
    {
     "name": "stdout",
     "output_type": "stream",
     "text": [
      "CV Results\n",
      "================================\n",
      "Accuracy\n",
      "--------------------------------\n",
      "Training accuracy: 1.000\n",
      "Test accuracy:     0.942\n",
      "F-1 Score\n",
      "--------------------------------\n",
      "Training F1 score: 1.000\n",
      "Test F1 score:     0.941\n"
     ]
    },
    {
     "name": "stderr",
     "output_type": "stream",
     "text": [
      "[Parallel(n_jobs=1)]: Done   5 out of   5 | elapsed:  5.4min finished\n"
     ]
    }
   ],
   "source": [
    "test_model = ModelForScoring(xgb_tfidf_pipe, 'xgb_tfidf', X_val, y_val, cv_now='multi')"
   ]
  },
  {
   "cell_type": "code",
   "execution_count": 58,
   "metadata": {
    "ExecuteTime": {
     "end_time": "2022-05-31T04:33:21.739905Z",
     "start_time": "2022-05-31T04:33:09.761692Z"
    }
   },
   "outputs": [
    {
     "name": "stdout",
     "output_type": "stream",
     "text": [
      "              precision    recall  f1-score   support\n",
      "\n",
      "           0       0.95      0.96      0.96      5677\n",
      "           1       0.95      0.94      0.94      4470\n",
      "\n",
      "    accuracy                           0.95     10147\n",
      "   macro avg       0.95      0.95      0.95     10147\n",
      "weighted avg       0.95      0.95      0.95     10147\n",
      "\n"
     ]
    }
   ],
   "source": [
    "print(classification_report(y_val, xgb_tfidf_pipe.predict(X_val)))"
   ]
  },
  {
   "cell_type": "code",
   "execution_count": 59,
   "metadata": {
    "ExecuteTime": {
     "end_time": "2022-05-31T04:33:33.998565Z",
     "start_time": "2022-05-31T04:33:21.950732Z"
    }
   },
   "outputs": [
    {
     "data": {
      "image/png": "[encoded data removed]",
      "text/plain": [
       "<Figure size 648x648 with 2 Axes>"
      ]
     },
     "metadata": {},
     "output_type": "display_data"
    }
   ],
   "source": [
    "fig, ax = plt.subplots(figsize=(9, 9))\n",
    "\n",
    "disp = ConfusionMatrixDisplay.from_estimator(\n",
    "    xgb_tfidf_pipe,\n",
    "    X_val,\n",
    "    y_val,\n",
    "    cmap='OrRd',\n",
    "    normalize='true',\n",
    "    ax=ax\n",
    ").ax_.set_title('Normalized Confusion Matrix')"
   ]
  },
  {
   "cell_type": "code",
   "execution_count": 62,
   "metadata": {
    "ExecuteTime": {
     "end_time": "2022-05-31T04:37:30.557950Z",
     "start_time": "2022-05-31T04:37:20.819633Z"
    }
   },
   "outputs": [
    {
     "data": {
      "text/plain": [
       "<sklearn.metrics._plot.roc_curve.RocCurveDisplay at 0x259d9df0df0>"
      ]
     },
     "execution_count": 62,
     "metadata": {},
     "output_type": "execute_result"
    },
    {
     "data": {
      "image/png": "[encoded data removed]",
      "text/plain": [
       "<Figure size 432x288 with 1 Axes>"
      ]
     },
     "metadata": {},
     "output_type": "display_data"
    }
   ],
   "source": [
    "RocCurveDisplay.from_estimator(xgb_tfidf_pipe,\n",
    "                               X_val,\n",
    "                               y_val)"
   ]
  },
  {
   "cell_type": "code",
   "execution_count": 92,
   "metadata": {
    "ExecuteTime": {
     "end_time": "2022-05-30T20:59:56.515731Z",
     "start_time": "2022-05-30T20:26:36.536870Z"
    }
   },
   "outputs": [
    {
     "name": "stderr",
     "output_type": "stream",
     "text": [
      "[Parallel(n_jobs=1)]: Using backend SequentialBackend with 1 concurrent workers.\n"
     ]
    },
    {
     "name": "stdout",
     "output_type": "stream",
     "text": [
      "CV Results\n",
      "================================\n",
      "Accuracy\n",
      "--------------------------------\n",
      "Training accuracy: 0.953\n",
      "Test accuracy:     0.937\n",
      "F-1 Score\n",
      "--------------------------------\n",
      "Training F1 score: 0.953\n",
      "Test F1 score:     0.936\n"
     ]
    },
    {
     "name": "stderr",
     "output_type": "stream",
     "text": [
      "[Parallel(n_jobs=1)]: Done   5 out of   5 | elapsed: 22.8min finished\n"
     ]
    }
   ],
   "source": [
    "gbc_tfidf_pipe = Pipeline(steps=[\n",
    "    ('tfidf', TfidfVectorizer(max_features=100000)),\n",
    "    ('gbc', GradientBoostingClassifier())\n",
    "])\n",
    "\n",
    "gbc_tfidf_pipe.fit(X_tr_val, y_tr_val)\n",
    "\n",
    "gbc_tfidf_model = ModelForScoring(gbc_tfidf_pipe, 'gbc_tfidf', X_val, y_val)"
   ]
  },
  {
   "cell_type": "code",
   "execution_count": 96,
   "metadata": {
    "ExecuteTime": {
     "end_time": "2022-05-30T21:15:58.424572Z",
     "start_time": "2022-05-30T21:12:31.336654Z"
    }
   },
   "outputs": [
    {
     "name": "stderr",
     "output_type": "stream",
     "text": [
      "[Parallel(n_jobs=1)]: Using backend SequentialBackend with 1 concurrent workers.\n"
     ]
    },
    {
     "name": "stdout",
     "output_type": "stream",
     "text": [
      "CV Results\n",
      "================================\n",
      "Accuracy\n",
      "--------------------------------\n",
      "Training accuracy: 0.898\n",
      "Test accuracy:     0.887\n",
      "F-1 Score\n",
      "--------------------------------\n",
      "Training F1 score: 0.896\n",
      "Test F1 score:     0.885\n"
     ]
    },
    {
     "name": "stderr",
     "output_type": "stream",
     "text": [
      "[Parallel(n_jobs=1)]: Done   5 out of   5 | elapsed:  2.8min finished\n"
     ]
    }
   ],
   "source": [
    "mnb_tfidf_pipe = Pipeline(steps=[\n",
    "    ('tfidf', TfidfVectorizer(max_features=10000)),\n",
    "    ('mnb', MultinomialNB())\n",
    "])\n",
    "\n",
    "mnb_tfidf_pipe.fit(X_tr_val, y_tr_val)\n",
    "\n",
    "mnb_tfidf_model = ModelForScoring(mnb_tfidf_pipe, 'mnb_tfidf', X_val, y_val)"
   ]
  },
  {
   "cell_type": "markdown",
   "metadata": {},
   "source": [
    "## Plotting Model Scores"
   ]
  },
  {
   "cell_type": "code",
   "execution_count": 24,
   "metadata": {
    "ExecuteTime": {
     "end_time": "2022-06-01T20:52:13.676828Z",
     "start_time": "2022-06-01T20:52:13.660521Z"
    }
   },
   "outputs": [],
   "source": [
    "with open('../models/acc_scores.pkl', 'rb') as f:\n",
    "    acc_scores = pickle.load(f)"
   ]
  },
  {
   "cell_type": "code",
   "execution_count": 25,
   "metadata": {
    "ExecuteTime": {
     "end_time": "2022-06-01T20:52:13.846495Z",
     "start_time": "2022-06-01T20:52:13.828508Z"
    }
   },
   "outputs": [],
   "source": [
    "with open('../models/f1_scores.pkl', 'rb') as f:\n",
    "    f1_scores = pickle.load(f)"
   ]
  },
  {
   "cell_type": "code",
   "execution_count": 26,
   "metadata": {
    "ExecuteTime": {
     "end_time": "2022-06-01T20:52:14.004364Z",
     "start_time": "2022-06-01T20:52:13.990717Z"
    }
   },
   "outputs": [],
   "source": [
    "cvec_acc_scores = []\n",
    "tfidf_acc_scores = []\n",
    "\n",
    "cvec_f1_scores = []\n",
    "tfidf_f1_scores = []\n",
    "\n",
    "acc_list = list(acc_scores.values())\n",
    "f1_list = list(f1_scores.values())"
   ]
  },
  {
   "cell_type": "code",
   "execution_count": 27,
   "metadata": {
    "ExecuteTime": {
     "end_time": "2022-06-01T20:52:14.193502Z",
     "start_time": "2022-06-01T20:52:14.184520Z"
    }
   },
   "outputs": [],
   "source": [
    "for index in range(0, len(acc_list), 2):\n",
    "    cvec_acc_scores.append(acc_list[index])\n",
    "    \n",
    "for index in range(1, len(acc_list), 2):\n",
    "    tfidf_acc_scores.append(acc_list[index])\n",
    "    \n",
    "for index in range(0, len(f1_list), 2):\n",
    "    cvec_f1_scores.append(f1_list[index])\n",
    "    \n",
    "for index in range(1, len(f1_list), 2):\n",
    "    tfidf_f1_scores.append(f1_list[index])"
   ]
  },
  {
   "cell_type": "code",
   "execution_count": 28,
   "metadata": {
    "ExecuteTime": {
     "end_time": "2022-06-01T20:52:14.381637Z",
     "start_time": "2022-06-01T20:52:14.367679Z"
    }
   },
   "outputs": [
    {
     "name": "stdout",
     "output_type": "stream",
     "text": [
      "[0.559475681436899, 0.8526654155144493, 0.8849904464088452, 0.9167238587282434, 0.9300277988865879, 0.9399817425653152]\n",
      "[0.559475681436899, 0.8475409032088898, 0.7680087499726868, 0.9260862809459877, 0.9294371028947259, 0.9399817425653152]\n",
      "[0.3587588337846893, 0.8503901995883133, 0.8815240791990997, 0.9146474229221176, 0.9287915369932321, 0.9388099916941115]\n",
      "[0.3587588337846893, 0.8452663394024537, 0.7374698110271367, 0.9244487834430511, 0.928154578464653, 0.9388099916941115]\n"
     ]
    }
   ],
   "source": [
    "print(cvec_acc_scores)\n",
    "print(tfidf_acc_scores)\n",
    "print(cvec_f1_scores)\n",
    "print(tfidf_f1_scores)"
   ]
  },
  {
   "cell_type": "code",
   "execution_count": 29,
   "metadata": {
    "ExecuteTime": {
     "end_time": "2022-06-01T20:52:14.677346Z",
     "start_time": "2022-06-01T20:52:14.659254Z"
    }
   },
   "outputs": [],
   "source": [
    "labels = ['Count Vectorizer',\n",
    "          'TF-IDF Vectorizer']\n",
    "alg_labels = ['Baseline\\n(Dummy)',\n",
    "              'Decision Tree\\nClassifier',\n",
    "              'Multinomial\\nNaive Bayes',\n",
    "              'Random Forest\\nClassifier',\n",
    "              'Gradient Boosting\\nClassifier',\n",
    "              'XGBoost\\nClassifier']"
   ]
  },
  {
   "cell_type": "code",
   "execution_count": 31,
   "metadata": {
    "ExecuteTime": {
     "end_time": "2022-06-01T22:01:21.479128Z",
     "start_time": "2022-06-01T22:01:17.564971Z"
    },
    "scrolled": false
   },
   "outputs": [
    {
     "data": {
      "image/png": "[encoded data removed]",
      "text/plain": [
       "<Figure size 1296x720 with 1 Axes>"
      ]
     },
     "metadata": {},
     "output_type": "display_data"
    }
   ],
   "source": [
    "fig, ax = plt.subplots(figsize=(18,10))\n",
    "\n",
    "x = np.arange(len(alg_labels))  # label locations\n",
    "width = 0.30                    # width of bars\n",
    "\n",
    "ax.bar(x - width/2,\n",
    "       height=cvec_acc_scores,\n",
    "       width=width,\n",
    "       color='coral')\n",
    "ax.bar(x + width/2,\n",
    "       height=tfidf_acc_scores,\n",
    "       width=width,\n",
    "       color='teal')\n",
    "\n",
    "ax.set_xticks(np.arange(len(alg_labels)))\n",
    "ax.set_xticklabels(alg_labels,\n",
    "                   fontsize=16) \n",
    "\n",
    "ax.set_yticks(np.linspace(0.2, 0.8, 4))\n",
    "ax.set_yticklabels(['0.2', '0.4', '0.6', '0.8'],\n",
    "                   fontsize=15)\n",
    "\n",
    "ax.set_title('Accuracy scores by algorithm',\n",
    "             fontsize=30,\n",
    "             fontweight='bold',\n",
    "             pad=16)\n",
    "\n",
    "ax.legend(labels,\n",
    "          fontsize=15);\n",
    "\n",
    "fig.savefig(fname='../images/acc_scores_bar.png',\n",
    "            dpi=600,\n",
    "            bbox_inches='tight')"
   ]
  },
  {
   "cell_type": "code",
   "execution_count": 32,
   "metadata": {
    "ExecuteTime": {
     "end_time": "2022-06-01T22:01:27.530947Z",
     "start_time": "2022-06-01T22:01:24.202217Z"
    }
   },
   "outputs": [
    {
     "data": {
      "image/png": "[encoded data removed]",
      "text/plain": [
       "<Figure size 1296x720 with 1 Axes>"
      ]
     },
     "metadata": {},
     "output_type": "display_data"
    }
   ],
   "source": [
    "fig, ax = plt.subplots(figsize=(18,10))\n",
    "\n",
    "x = np.arange(len(alg_labels))  # label locations\n",
    "width = 0.30                    # width of bars\n",
    "\n",
    "ax.bar(x - width/2,\n",
    "       height=cvec_f1_scores,\n",
    "       width=width,\n",
    "       color='coral')\n",
    "ax.bar(x + width/2,\n",
    "       height=tfidf_f1_scores,\n",
    "       width=width,\n",
    "       color='teal')\n",
    "\n",
    "ax.set_xticks(np.arange(len(alg_labels)))\n",
    "ax.set_xticklabels(alg_labels,\n",
    "                   fontsize=16) \n",
    "\n",
    "ax.set_yticks(np.linspace(0.2, 0.8, 4))\n",
    "ax.set_yticklabels(['0.2', '0.4', '0.6', '0.8'],\n",
    "                   fontsize=15)\n",
    "\n",
    "ax.set_title('$F_1$ scores by algorithm',\n",
    "             fontsize=30,\n",
    "             fontweight='bold',\n",
    "             pad=16)\n",
    "\n",
    "ax.legend(labels,\n",
    "          fontsize=15);\n",
    "\n",
    "fig.savefig(fname='../images/f1_scores_bar.png',\n",
    "            dpi=600,\n",
    "            bbox_inches='tight')"
   ]
  },
  {
   "cell_type": "code",
   "execution_count": 75,
   "metadata": {
    "ExecuteTime": {
     "end_time": "2022-05-31T04:44:27.183290Z",
     "start_time": "2022-05-31T04:44:26.880249Z"
    },
    "scrolled": true
   },
   "outputs": [
    {
     "data": {
      "image/png": "[encoded data removed]",
      "text/plain": [
       "<Figure size 2160x720 with 2 Axes>"
      ]
     },
     "metadata": {},
     "output_type": "display_data"
    }
   ],
   "source": [
    "fig, (ax1, ax2) = plt.subplots(ncols=2,\n",
    "                               figsize=(30, 10))\n",
    "\n",
    "labels = ['Count', 'TF-IDF']\n",
    "\n",
    "x = np.arange(len(alg_labels))  # label locations\n",
    "width = 0.35                    # width of bars\n",
    "\n",
    "ax1.bar(x - width/2,\n",
    "        height=cvec_acc_scores,\n",
    "        width=width,\n",
    "        color='mediumseagreen')\n",
    "ax1.bar(x + width/2,\n",
    "        height=tfidf_acc_scores,\n",
    "        width=width,\n",
    "        color='sandybrown')\n",
    "\n",
    "ax1.legend(labels)\n",
    "\n",
    "\n",
    "ax2.bar(x - width/2,\n",
    "        height=cvec_f1_scores,\n",
    "        width=width,\n",
    "        color='mediumseagreen')\n",
    "ax2.bar(x + width/2,\n",
    "        height=tfidf_f1_scores,\n",
    "        width=width,\n",
    "        color='sandybrown')\n",
    "\n",
    "ax2.legend(labels)"
   ]
  },
  {
   "cell_type": "markdown",
   "metadata": {},
   "source": [
    "## Recreating Wikipedia Graphs"
   ]
  },
  {
   "cell_type": "markdown",
   "metadata": {},
   "source": [
    "### Loading/Munging"
   ]
  },
  {
   "cell_type": "code",
   "execution_count": 70,
   "metadata": {
    "ExecuteTime": {
     "end_time": "2022-06-01T16:55:18.859712Z",
     "start_time": "2022-06-01T16:55:18.810068Z"
    }
   },
   "outputs": [
    {
     "name": "stdout",
     "output_type": "stream",
     "text": [
      "<class 'pandas.core.frame.DataFrame'>\n",
      "RangeIndex: 199 entries, 0 to 198\n",
      "Data columns (total 4 columns):\n",
      " #   Column           Non-Null Count  Dtype  \n",
      "---  ------           --------------  -----  \n",
      " 0   Date             199 non-null    object \n",
      " 1   Articles(1000s)  199 non-null    int64  \n",
      " 2   Goodarticles     199 non-null    object \n",
      " 3   % ofarticles     199 non-null    float64\n",
      "dtypes: float64(1), int64(1), object(2)\n",
      "memory usage: 6.3+ KB\n"
     ]
    }
   ],
   "source": [
    "wiki_df = pd.read_csv('../../data/wiki-good-article-stats.csv',\n",
    "                      usecols=['Date',\n",
    "                               'Articles(1000s)',\n",
    "                               'Goodarticles',\n",
    "                               '% ofarticles'])\n",
    "\n",
    "wiki_df.info()"
   ]
  },
  {
   "cell_type": "code",
   "execution_count": 71,
   "metadata": {
    "ExecuteTime": {
     "end_time": "2022-06-01T16:55:19.017297Z",
     "start_time": "2022-06-01T16:55:18.970391Z"
    }
   },
   "outputs": [],
   "source": [
    "# Preparing column `Goodarticles` for conversion to num type\n",
    "\n",
    "wiki_df['Goodarticles'] = wiki_df['Goodarticles'].str.replace(',', '')\n",
    "\n",
    "# Converting relevant columns to numeric datatypes\n",
    "\n",
    "wiki_df['Goodarticles'] = pd.to_numeric(wiki_df['Goodarticles'])\n",
    "wiki_df['Articles(1000s)']  = pd.to_numeric(wiki_df['Articles(1000s)'])\n",
    "\n",
    "# Converting date column to datetime object\n",
    "\n",
    "wiki_df.Date = pd.to_datetime(wiki_df.Date)"
   ]
  },
  {
   "cell_type": "code",
   "execution_count": 72,
   "metadata": {
    "ExecuteTime": {
     "end_time": "2022-06-01T16:55:19.127129Z",
     "start_time": "2022-06-01T16:55:19.108180Z"
    },
    "scrolled": true
   },
   "outputs": [
    {
     "data": {
      "text/html": [
       "<div>\n",
       "<style scoped>\n",
       "    .dataframe tbody tr th:only-of-type {\n",
       "        vertical-align: middle;\n",
       "    }\n",
       "\n",
       "    .dataframe tbody tr th {\n",
       "        vertical-align: top;\n",
       "    }\n",
       "\n",
       "    .dataframe thead th {\n",
       "        text-align: right;\n",
       "    }\n",
       "</style>\n",
       "<table border=\"1\" class=\"dataframe\">\n",
       "  <thead>\n",
       "    <tr style=\"text-align: right;\">\n",
       "      <th></th>\n",
       "      <th>Date</th>\n",
       "      <th>Articles</th>\n",
       "      <th>Goodarticles</th>\n",
       "      <th>Percentage</th>\n",
       "    </tr>\n",
       "  </thead>\n",
       "  <tbody>\n",
       "    <tr>\n",
       "      <th>0</th>\n",
       "      <td>2022-05-01</td>\n",
       "      <td>6492000</td>\n",
       "      <td>36278</td>\n",
       "      <td>0.559</td>\n",
       "    </tr>\n",
       "    <tr>\n",
       "      <th>1</th>\n",
       "      <td>2022-04-01</td>\n",
       "      <td>6477000</td>\n",
       "      <td>36176</td>\n",
       "      <td>0.559</td>\n",
       "    </tr>\n",
       "    <tr>\n",
       "      <th>2</th>\n",
       "      <td>2022-03-01</td>\n",
       "      <td>6460000</td>\n",
       "      <td>36036</td>\n",
       "      <td>0.558</td>\n",
       "    </tr>\n",
       "  </tbody>\n",
       "</table>\n",
       "</div>"
      ],
      "text/plain": [
       "        Date  Articles  Goodarticles  Percentage\n",
       "0 2022-05-01   6492000         36278       0.559\n",
       "1 2022-04-01   6477000         36176       0.559\n",
       "2 2022-03-01   6460000         36036       0.558"
      ]
     },
     "execution_count": 72,
     "metadata": {},
     "output_type": "execute_result"
    }
   ],
   "source": [
    "# Scaling values in column (in units of 1k) to actual values\n",
    "\n",
    "wiki_df['Articles(1000s)'] = wiki_df['Articles(1000s)'].apply(lambda x: x * 1000)\n",
    "\n",
    "# Renaming column to reflect above change; also renaming % for consistency\n",
    "\n",
    "wiki_df.rename(columns={'Articles(1000s)' : 'Articles',\n",
    "                        '% ofarticles' : 'Percentage'}, inplace=True)\n",
    "\n",
    "# Sanity check...\n",
    "\n",
    "wiki_df.head(3)"
   ]
  },
  {
   "cell_type": "code",
   "execution_count": 73,
   "metadata": {
    "ExecuteTime": {
     "end_time": "2022-06-01T16:55:19.268320Z",
     "start_time": "2022-06-01T16:55:19.247376Z"
    }
   },
   "outputs": [],
   "source": [
    "wiki_df.sort_values('Date', inplace=True)"
   ]
  },
  {
   "cell_type": "code",
   "execution_count": 74,
   "metadata": {
    "ExecuteTime": {
     "end_time": "2022-06-01T16:55:21.041281Z",
     "start_time": "2022-06-01T16:55:19.383108Z"
    }
   },
   "outputs": [
    {
     "data": {
      "image/png": "[encoded data removed]",
      "text/plain": [
       "<Figure size 1008x504 with 1 Axes>"
      ]
     },
     "metadata": {},
     "output_type": "display_data"
    }
   ],
   "source": [
    "fig, ax = plt.subplots(figsize=(14,7))\n",
    "\n",
    "ax.plot(wiki_df['Date'],\n",
    "        wiki_df['Percentage'],\n",
    "        '.',\n",
    "        color='orange')\n",
    "\n",
    "ax.set_title('% of \"good articles\" in all English articles',\n",
    "             fontsize=20,\n",
    "             pad=12)\n",
    "\n",
    "ax.set_xlabel('Year',\n",
    "              fontsize=18,\n",
    "              labelpad=12)\n",
    "\n",
    "ax.set_ylabel('% of all articles',\n",
    "              fontsize=16,\n",
    "              labelpad=12);\n",
    "\n",
    "fig.savefig(fname='../images/pct_good_articles.png',\n",
    "            dpi=600,\n",
    "            bbox_inches='tight')"
   ]
  },
  {
   "cell_type": "markdown",
   "metadata": {},
   "source": [
    "## Scrap Code"
   ]
  },
  {
   "cell_type": "code",
   "execution_count": 54,
   "metadata": {
    "ExecuteTime": {
     "end_time": "2022-05-30T19:33:24.835846Z",
     "start_time": "2022-05-30T19:33:24.824738Z"
    }
   },
   "outputs": [],
   "source": [
    "# Word frequencies\n",
    "# freq_out(df, 'text', 50)"
   ]
  }
 ],
 "metadata": {
  "kernelspec": {
   "display_name": "Python (learn-env)",
   "language": "python",
   "name": "learn-env"
  },
  "language_info": {
   "codemirror_mode": {
    "name": "ipython",
    "version": 3
   },
   "file_extension": ".py",
   "mimetype": "text/x-python",
   "name": "python",
   "nbconvert_exporter": "python",
   "pygments_lexer": "ipython3",
   "version": "3.8.5"
  },
  "toc": {
   "base_numbering": 1,
   "nav_menu": {},
   "number_sections": true,
   "sideBar": true,
   "skip_h1_title": false,
   "title_cell": "Table of Contents",
   "title_sidebar": "Contents",
   "toc_cell": false,
   "toc_position": {
    "height": "calc(100% - 180px)",
    "left": "10px",
    "top": "150px",
    "width": "384px"
   },
   "toc_section_display": true,
   "toc_window_display": true
  },
  "varInspector": {
   "cols": {
    "lenName": 16,
    "lenType": 16,
    "lenVar": 40
   },
   "kernels_config": {
    "python": {
     "delete_cmd_postfix": "",
     "delete_cmd_prefix": "del ",
     "library": "var_list.py",
     "varRefreshCmd": "print(var_dic_list())"
    },
    "r": {
     "delete_cmd_postfix": ") ",
     "delete_cmd_prefix": "rm(",
     "library": "var_list.r",
     "varRefreshCmd": "cat(var_dic_list()) "
    }
   },
   "types_to_exclude": [
    "module",
    "function",
    "builtin_function_or_method",
    "instance",
    "_Feature"
   ],
   "window_display": false
  }
 },
 "nbformat": 4,
 "nbformat_minor": 4
}
