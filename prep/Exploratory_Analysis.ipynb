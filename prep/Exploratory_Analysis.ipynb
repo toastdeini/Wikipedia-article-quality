{
 "cells": [
  {
   "cell_type": "markdown",
   "metadata": {},
   "source": [
    "# Exploratory Data Analysis"
   ]
  },
  {
   "cell_type": "markdown",
   "metadata": {},
   "source": [
    "## Imports, Read-in"
   ]
  },
  {
   "cell_type": "code",
   "execution_count": 43,
   "metadata": {
    "ExecuteTime": {
     "end_time": "2022-05-26T19:05:09.778977Z",
     "start_time": "2022-05-26T19:05:09.760233Z"
    }
   },
   "outputs": [
    {
     "data": {
      "text/plain": [
       "['Solarize_Light2',\n",
       " '_classic_test_patch',\n",
       " 'bmh',\n",
       " 'classic',\n",
       " 'dark_background',\n",
       " 'fast',\n",
       " 'fivethirtyeight',\n",
       " 'ggplot',\n",
       " 'grayscale',\n",
       " 'seaborn',\n",
       " 'seaborn-bright',\n",
       " 'seaborn-colorblind',\n",
       " 'seaborn-dark',\n",
       " 'seaborn-dark-palette',\n",
       " 'seaborn-darkgrid',\n",
       " 'seaborn-deep',\n",
       " 'seaborn-muted',\n",
       " 'seaborn-notebook',\n",
       " 'seaborn-paper',\n",
       " 'seaborn-pastel',\n",
       " 'seaborn-poster',\n",
       " 'seaborn-talk',\n",
       " 'seaborn-ticks',\n",
       " 'seaborn-white',\n",
       " 'seaborn-whitegrid',\n",
       " 'tableau-colorblind10']"
      ]
     },
     "execution_count": 43,
     "metadata": {},
     "output_type": "execute_result"
    }
   ],
   "source": [
    "plt.style.available"
   ]
  },
  {
   "cell_type": "code",
   "execution_count": 44,
   "metadata": {
    "ExecuteTime": {
     "end_time": "2022-05-26T19:05:19.994255Z",
     "start_time": "2022-05-26T19:05:19.949190Z"
    },
    "scrolled": false
   },
   "outputs": [],
   "source": [
    "# Data manip.\n",
    "import pandas as pd\n",
    "import numpy as np\n",
    "\n",
    "# Vizz\n",
    "import matplotlib.pyplot as plt\n",
    "%matplotlib inline\n",
    "plt.style.use('seaborn-dark')\n",
    "import seaborn as sns\n",
    "\n",
    "# scikit-learn + XGBoost\n",
    "from sklearn.dummy import DummyClassifier\n",
    "from sklearn.ensemble import RandomForestClassifier, GradientBoostingClassifier\n",
    "from sklearn.feature_extraction.text import CountVectorizer, TfidfVectorizer\n",
    "from sklearn.metrics import confusion_matrix, classification_report,\\\n",
    "                            RocCurveDisplay, roc_curve, roc_auc_score,\\\n",
    "                            ConfusionMatrixDisplay\n",
    "from sklearn.model_selection import train_test_split, cross_validate, GridSearchCV\n",
    "from sklearn.naive_bayes import MultinomialNB\n",
    "from sklearn.pipeline import Pipeline\n",
    "from sklearn.tree import DecisionTreeClassifier\n",
    "from xgboost import XGBClassifier, XGBRFClassifier\n",
    "\n",
    "# Used for saving models\n",
    "import pickle\n",
    "\n",
    "# NLTK\n",
    "import nltk\n",
    "from nltk.corpus import stopwords\n",
    "from nltk.probability import FreqDist\n",
    "from nltk.stem import WordNetLemmatizer\n",
    "# nltk.download('stopwords')\n",
    "sw = stopwords.words('english')\n",
    "\n",
    "# Keras\n",
    "# import keras\n",
    "#\n",
    "\n",
    "# etc.\n",
    "import os\n",
    "import sys\n",
    "module_path = os.path.abspath(os.pardir)\n",
    "if module_path not in sys.path:\n",
    "    sys.path.append(module_path)\n",
    "\n",
    "from src.parse_it import *\n",
    "from src.modeling import *\n",
    "from src.EDA import *"
   ]
  },
  {
   "cell_type": "code",
   "execution_count": 2,
   "metadata": {
    "ExecuteTime": {
     "end_time": "2022-05-26T18:54:04.760133Z",
     "start_time": "2022-05-26T18:53:56.878845Z"
    }
   },
   "outputs": [],
   "source": [
    "df_good = pd.read_csv('../../data/good.csv')\n",
    "df_promo = pd.read_csv('../../data/promotional.csv')"
   ]
  },
  {
   "cell_type": "markdown",
   "metadata": {},
   "source": [
    "Taking a look at a sample article from the `good` articles dataset."
   ]
  },
  {
   "cell_type": "code",
   "execution_count": 3,
   "metadata": {
    "ExecuteTime": {
     "end_time": "2022-05-26T18:54:04.818315Z",
     "start_time": "2022-05-26T18:54:04.794753Z"
    },
    "scrolled": true
   },
   "outputs": [
    {
     "data": {
      "text/plain": [
       "\"Jamal A Davis Here I Stand is a song by American recording artist Usher. It was sent to urban adult contemporary radio on August 18, 2008 by LaFace Records and RCA Records as the fifth single from Usher's fifth studio album of the same name. Penned by the singer with Polow da Don, Adam Blackstone, Gerrell Gaddis, and Dre Vidal, and produced by Dre Vidal, Here I Stand is a slow soul ballad and contains similarities to Stevie Wonder's music. The record was nominated for the Best Male R B Vocal Performance award at the 51st Grammy Awards. Here I Stand maintained a position on the United States Hot R B Hip Hop Songs for several weeks in 2008 and 2009, reaching the top twenty. It also appeared on the US Radio Songs and Bubbling Under Hot 100 Singles charts, peaking at numbers seventy two and six, respectively. Here I Stand was written by Usher, Polow da Don, Adam Blackstone and Gerrell Gaddis, as well as Dre Vidal, who also produced the track. The song was recorded by Vincent Dilorenzo, with assistance from Geoff Rice, at Sony Music Studios, New York City and Zac Recording, Atlanta. Dilorenzo also mixed the record, with assistance from Matt DeSando, at Studio 609, Philadelphia. According to Josh Eells of Blender, Here I Stand was written for Tameka Foster, whom Usher married in August 2007. Composed before their engagement, Here I Stand was played at Usher and Foster's wedding, on Foster's request. The tune is an assurance of sexual fidelity and commitment. In an interview with MTV News, Usher stated, If you listen to the words of 'Here I Stand' , it is very heartfelt, simplistic, yet very soulful. ... It's a man's words to his woman a vow to say that you are the one, and I'll be there for you. A slow jam soul ballad, Here I Stand has been compared to the work of Stevie Wonder by critics. It was included on Usher's fifth studio album of the same name, released on May 13, 2008 by LaFace Records. The song was released to urban adult contemporary radio by LaFace and RCA Records on August 18, 2008, serving as the fifth single from Here I Stand. Usher sang Here I Stand along with Trading Places and What's Your Name at the warmup concert for the 2008 National Football League Kickoff game on September 4. Usher performed Here I Stand at Sony's keynote address at the 2009 Consumer Electronics Show. The song was performed on his One Night Stand Ladies Only Tour, with a slower tempo. Leah Greenblatt of Entertainment Weekly called Here I Stand a throwback to Stevie Wonder, and was disappointed that it was placed near the end of the parent album. USA Today's Steve Jones noted the track as a highlight of the album. Joshua Alston from The A.V. Club wrote that the song lyrically and musically sounds more passionate and more adult than Usher ever has, and called it a syrupy ballad . However, Blender's Josh Eells called the chivalrous number sweet but taxing, like looking at photos from someone elses wedding, while Jim Farber of the Daily News wrote that the song's melody fails . The song ranked at number one on AOL Radio's list of top Usher songs. At the 51st Grammy Awards, Here I Stand was nominated for the Best Male R B Vocal Performance award, but lost to Ne Yo's Miss Independent from his 2008 album, Year of the Gentleman. Following its radio release, Here I Stand debuted on the Hot R B Hip Hop Songs at number seventy five on the issue dated September 20, 2008, and peaked at number eighteen on March 14, 2009. On July 18, 2009 it fell off the chart, having spent forty three weeks on the chart. Here I Stand entered the Bubbling Under Hot 100 Singles at number fourteen on the chart of December 17, 2008. It peaked at number six on January 3, 2009, before it slipped off the chart the following week, having lasted four weeks there. On February 7, 2009, the song appeared on the Hot 100 Airplay Radio Songs at number seventy three, but failed to reappear on the chart the next week. It re entered one place higher, at number seventy two, on March 14, 2009, but again did not gain any traction, with no place achieved on the following chart.\""
      ]
     },
     "execution_count": 3,
     "metadata": {},
     "output_type": "execute_result"
    }
   ],
   "source": [
    "df_good.iloc[12345].text"
   ]
  },
  {
   "cell_type": "markdown",
   "metadata": {},
   "source": [
    "Testing out a custom function, `parse_doc`, which takes care of several NLP preprocessing steps: lowercasing, punctuation and character stripping, lemmatizing, and removing stopwords. It returns a string of *non-unique lemmas*, but can also return a list by setting the argument `as_list = True`. If stemming is preferred to lemmatizing, this can also be done within the function: `stem = 'stem'`."
   ]
  },
  {
   "cell_type": "code",
   "execution_count": 4,
   "metadata": {
    "ExecuteTime": {
     "end_time": "2022-05-26T18:54:07.236992Z",
     "start_time": "2022-05-26T18:54:07.061861Z"
    },
    "scrolled": false
   },
   "outputs": [
    {
     "data": {
      "text/plain": [
       "'jamal davis stand song american record artist usher send urban adult contemporary radio august laface record rca record fifth single usher fifth studio album name pen singer polow da adam blackstone gerrell gaddi dre vidal produce dre vidal stand slow soul ballad contain similarity stevie wonder music record nominate best male r b vocal performance award st grammy award stand maintain position united state hot r b hip hop songs several week reach top twenty also appear u radio song bubble hot single chart peak number seventy two six respectively stand write usher polow da adam blackstone gerrell gaddis well dre vidal also produce track song record vincent dilorenzo assistance geoff rice sony music studios new york city zac record atlanta dilorenzo also mixed record assistance matt desando studio philadelphia accord josh eells blender stand write tameka foster usher marry august compose engagement stand play usher foster wed foster request tune assurance sexual fidelity commitment interview mtv news usher state listen word stand heartfelt simplistic yet soulful man word woman vow say one slow jam soul ballad stand compare work stevie wonder critic include usher fifth studio album name release may laface record song release urban adult contemporary radio laface rca record august serve fifth single stand usher sing stand along trading place name warmup concert national football league kickoff game september usher perform stand sony keynote address consumer electronics show song perform one night stand ladies tour slow tempo leah greenblatt entertainment weekly call stand throwback stevie wonder disappoint place near end parent album usa today steve jones note track highlight album joshua alston v club write song lyrically musically sound passionate adult usher ever call syrupy ballad however blender josh eells call chivalrous number sweet tax like look photo someone elses wed jim farber daily news write song melody fail song ranked number one aol radio list top usher song st grammy award stand nominate best male r b vocal performance award lose ne yo miss independent album year gentleman follow radio release stand debut hot r b hip hop song number seventy five issue date september peak number eighteen march july fell chart spent forty three week chart stand entered bubbling hot single number fourteen chart december peak number six january slip chart follow week last four week february song appear hot airplay radio song number seventy three fail reappear chart next week enter one place high number seventy two march gain traction place achieve follow chart'"
      ]
     },
     "execution_count": 4,
     "metadata": {},
     "output_type": "execute_result"
    }
   ],
   "source": [
    "parse_doc( df_good.iloc[12345].text )"
   ]
  },
  {
   "cell_type": "markdown",
   "metadata": {},
   "source": [
    "And, just to get the lay of the land, a look at one of the `promotional` articles."
   ]
  },
  {
   "cell_type": "code",
   "execution_count": 5,
   "metadata": {
    "ExecuteTime": {
     "end_time": "2022-05-26T18:54:08.360033Z",
     "start_time": "2022-05-26T18:54:08.353293Z"
    },
    "scrolled": true
   },
   "outputs": [
    {
     "data": {
      "text/plain": [
       "'Love Justice International LJI , formerly Tiny Hands International, is a nonprofit organization dedicated to combating social injustice. Love Justice was established in 2005 and is based in Lincoln, Nebraska. Through a child sponsorship program, Love Justice International currently operates 18 family like childrens homes for over 200 orphaned and abandoned children in South Asia. In 2015 Love Justice established a K 12 school located in South Asia. The school provides education for over 150 children in this region. Love Justice developed a strategy called transit monitoring and interception. The strategy is to attack trafficking while it is in the process of occurring and before exploitation and enslavement. The staff monitors at border crossings, bus stations, train stations, and airports, and they look for signs of human trafficking. Love Justice currently operates in 11 countries throughout Asia and Africa, and they have intercepted over 15,000 people who were at risk of human trafficking. Love Justice International acquires detailed data from each trafficking victim . This information is then uploaded into a database that is used to help better understand and fight trafficking networks around the world. Through intelligence led investigations, Love Justice collaborates with local police and uses this detailed and actionable data to arrest, prosecute, and convict traffickers. Their efforts have resulted in over 60 convictions of traffickers around the world, in addition to numerous active cases seeking prosecution and conviction. Love Justice International, formerly Tiny Hands International, was established in 2005 by a group of graduates from Taylor University. Based in Lincoln, Nebraska, this nonprofit organization focuses on helping orphaned and abandoned street children in South Asia and combating human trafficking around the world. Initially, Love Justice focused their efforts on helping orphaned and abandoned children in South Asia by providing stable homes and education. In 2015, Love Justice opened a K 12 school for children in South Asia. In 2006, the organization piloted its first border monitoring station. Over time, this work has expanded to over 200 staff members stationed at multiple transit stations in 11 countries around the world. Tiny Hands is accredited by the Evangelical Council for Financial Accountability.'"
      ]
     },
     "execution_count": 5,
     "metadata": {},
     "output_type": "execute_result"
    }
   ],
   "source": [
    "df_promo.iloc[12345].text"
   ]
  },
  {
   "cell_type": "code",
   "execution_count": 6,
   "metadata": {
    "ExecuteTime": {
     "end_time": "2022-05-26T18:54:08.901756Z",
     "start_time": "2022-05-26T18:54:08.850591Z"
    }
   },
   "outputs": [
    {
     "data": {
      "text/plain": [
       "'love justice international lji formerly tiny hand international nonprofit organization dedicate combat social injustice love justice establish base lincoln nebraska child sponsorship program love justice international currently operate family like childrens home orphan abandoned child south asia love justice establish k school locate south asia school provide education child region love justice develop strategy call transit monitoring interception strategy attack traffic process occur exploitation enslavement staff monitor border crossing bus station train station airport look sign human traffic love justice currently operate country throughout asia africa intercept people risk human traffic love justice international acquires detail data traffic victim information upload database use help well understand fight traffic network around world intelligence lead investigation love justice collaborates local police us detail actionable data arrest prosecute convict trafficker effort result conviction trafficker around world addition numerous active case seek prosecution conviction love justice international formerly tiny hand international establish group graduate taylor university base lincoln nebraska nonprofit organization focus help orphan abandoned street child south asia combat human traffic around world initially love justice focus effort help orphan abandoned child south asia provide stable home education love justice open k school child south asia organization pilot first border monitoring station time work expand staff member station multiple transit station country around world tiny hand accredit evangelical council financial accountability'"
      ]
     },
     "execution_count": 6,
     "metadata": {},
     "output_type": "execute_result"
    }
   ],
   "source": [
    "parse_doc(df_promo.iloc[12345].text)"
   ]
  },
  {
   "cell_type": "markdown",
   "metadata": {},
   "source": [
    "## Sample Size, Scope, and Content"
   ]
  },
  {
   "cell_type": "markdown",
   "metadata": {},
   "source": [
    "How many rows are in each `.csv` file/dataset?"
   ]
  },
  {
   "cell_type": "code",
   "execution_count": 7,
   "metadata": {
    "ExecuteTime": {
     "end_time": "2022-05-26T18:54:11.871564Z",
     "start_time": "2022-05-26T18:54:11.858600Z"
    },
    "scrolled": true
   },
   "outputs": [
    {
     "name": "stdout",
     "output_type": "stream",
     "text": [
      "(30279, 2)\n",
      "(23837, 7)\n"
     ]
    }
   ],
   "source": [
    "print(df_good.shape)\n",
    "print(df_promo.shape)"
   ]
  },
  {
   "cell_type": "markdown",
   "metadata": {},
   "source": [
    "What about in **total**?"
   ]
  },
  {
   "cell_type": "code",
   "execution_count": 8,
   "metadata": {
    "ExecuteTime": {
     "end_time": "2022-05-26T18:54:13.081260Z",
     "start_time": "2022-05-26T18:54:13.063124Z"
    },
    "scrolled": true
   },
   "outputs": [
    {
     "data": {
      "text/plain": [
       "54116"
      ]
     },
     "execution_count": 8,
     "metadata": {},
     "output_type": "execute_result"
    }
   ],
   "source": [
    "df_good.shape[0] + df_promo.shape[0]"
   ]
  },
  {
   "cell_type": "markdown",
   "metadata": {},
   "source": [
    "In terms of **rows/records**,\n",
    "- The dataframe containing **\"good\"** articles has 30,279 entries.\n",
    "- The dataframe containing **\"promotional\"** articles has 23,837 entries.\n",
    "\n",
    "Combined, we have **54,116** articles for examination. There's a *bit* of a class imbalance, but not a substantial one.\n",
    "\n",
    "Next, let's discuss features/columns."
   ]
  },
  {
   "cell_type": "code",
   "execution_count": 9,
   "metadata": {
    "ExecuteTime": {
     "end_time": "2022-05-26T18:54:17.442165Z",
     "start_time": "2022-05-26T18:54:17.429876Z"
    }
   },
   "outputs": [
    {
     "name": "stdout",
     "output_type": "stream",
     "text": [
      "Index(['text', 'url'], dtype='object')\n",
      "Index(['text', 'advert', 'coi', 'fanpov', 'pr', 'resume', 'url'], dtype='object')\n"
     ]
    }
   ],
   "source": [
    "print(df_good.columns)\n",
    "print(df_promo.columns)"
   ]
  },
  {
   "cell_type": "markdown",
   "metadata": {},
   "source": [
    "- The dataframe containing **\"good\"** articles has 2 columns - `text` and `url`.\n",
    "- The dataframe containing **\"promotional\"** articles has 7 columns - in addition to `text` and `url`, there are five subtypes of \"promotional tone.\" The values contained in these columns are one-hot encoded binary values:\n",
    "\n",
    "    - `advert`: The article reads like an advertisement.\n",
    "    - `coi`: The article appears to have been written by someone with a close connection to the subject.\n",
    "    - `fanpov`: The article appears to have been written from a fan's point of view, rather than a neutral point of view.\n",
    "    - `pr`: The article reads like a press release/news article.\n",
    "    - `resume`: The (biographical) article reads like a résumé, i.e. it is neither neutral nor encylopedic in nature.\n",
    "    \n",
    "    See the dataframe heads below for a tabular representation of the data."
   ]
  },
  {
   "cell_type": "code",
   "execution_count": 10,
   "metadata": {
    "ExecuteTime": {
     "end_time": "2022-05-26T18:54:22.572869Z",
     "start_time": "2022-05-26T18:54:22.556169Z"
    },
    "scrolled": false
   },
   "outputs": [
    {
     "data": {
      "text/html": [
       "<div>\n",
       "<style scoped>\n",
       "    .dataframe tbody tr th:only-of-type {\n",
       "        vertical-align: middle;\n",
       "    }\n",
       "\n",
       "    .dataframe tbody tr th {\n",
       "        vertical-align: top;\n",
       "    }\n",
       "\n",
       "    .dataframe thead th {\n",
       "        text-align: right;\n",
       "    }\n",
       "</style>\n",
       "<table border=\"1\" class=\"dataframe\">\n",
       "  <thead>\n",
       "    <tr style=\"text-align: right;\">\n",
       "      <th></th>\n",
       "      <th>text</th>\n",
       "      <th>url</th>\n",
       "    </tr>\n",
       "  </thead>\n",
       "  <tbody>\n",
       "    <tr>\n",
       "      <th>0</th>\n",
       "      <td>Nycticebus linglom is a fossil strepsirrhine p...</td>\n",
       "      <td>https://en.wikipedia.org/wiki/%3F%20Nycticebus...</td>\n",
       "    </tr>\n",
       "    <tr>\n",
       "      <th>1</th>\n",
       "      <td>Oryzomys pliocaenicus is a fossil rodent from ...</td>\n",
       "      <td>https://en.wikipedia.org/wiki/%3F%20Oryzomys%2...</td>\n",
       "    </tr>\n",
       "    <tr>\n",
       "      <th>2</th>\n",
       "      <td>.hack dt hk is a series of single player actio...</td>\n",
       "      <td>https://en.wikipedia.org/wiki/.hack%20%28video...</td>\n",
       "    </tr>\n",
       "  </tbody>\n",
       "</table>\n",
       "</div>"
      ],
      "text/plain": [
       "                                                text  \\\n",
       "0  Nycticebus linglom is a fossil strepsirrhine p...   \n",
       "1  Oryzomys pliocaenicus is a fossil rodent from ...   \n",
       "2  .hack dt hk is a series of single player actio...   \n",
       "\n",
       "                                                 url  \n",
       "0  https://en.wikipedia.org/wiki/%3F%20Nycticebus...  \n",
       "1  https://en.wikipedia.org/wiki/%3F%20Oryzomys%2...  \n",
       "2  https://en.wikipedia.org/wiki/.hack%20%28video...  "
      ]
     },
     "execution_count": 10,
     "metadata": {},
     "output_type": "execute_result"
    }
   ],
   "source": [
    "df_good.head(3)"
   ]
  },
  {
   "cell_type": "code",
   "execution_count": 11,
   "metadata": {
    "ExecuteTime": {
     "end_time": "2022-05-26T18:54:24.239939Z",
     "start_time": "2022-05-26T18:54:24.218670Z"
    },
    "scrolled": false
   },
   "outputs": [
    {
     "data": {
      "text/html": [
       "<div>\n",
       "<style scoped>\n",
       "    .dataframe tbody tr th:only-of-type {\n",
       "        vertical-align: middle;\n",
       "    }\n",
       "\n",
       "    .dataframe tbody tr th {\n",
       "        vertical-align: top;\n",
       "    }\n",
       "\n",
       "    .dataframe thead th {\n",
       "        text-align: right;\n",
       "    }\n",
       "</style>\n",
       "<table border=\"1\" class=\"dataframe\">\n",
       "  <thead>\n",
       "    <tr style=\"text-align: right;\">\n",
       "      <th></th>\n",
       "      <th>text</th>\n",
       "      <th>advert</th>\n",
       "      <th>coi</th>\n",
       "      <th>fanpov</th>\n",
       "      <th>pr</th>\n",
       "      <th>resume</th>\n",
       "      <th>url</th>\n",
       "    </tr>\n",
       "  </thead>\n",
       "  <tbody>\n",
       "    <tr>\n",
       "      <th>0</th>\n",
       "      <td>1 Litre no Namida 1, lit. 1 Litre of Tears als...</td>\n",
       "      <td>0</td>\n",
       "      <td>0</td>\n",
       "      <td>1</td>\n",
       "      <td>0</td>\n",
       "      <td>0</td>\n",
       "      <td>https://en.wikipedia.org/wiki/1%20Litre%20no%2...</td>\n",
       "    </tr>\n",
       "    <tr>\n",
       "      <th>1</th>\n",
       "      <td>1DayLater was free, web based software that wa...</td>\n",
       "      <td>1</td>\n",
       "      <td>1</td>\n",
       "      <td>0</td>\n",
       "      <td>0</td>\n",
       "      <td>0</td>\n",
       "      <td>https://en.wikipedia.org/wiki/1DayLater</td>\n",
       "    </tr>\n",
       "    <tr>\n",
       "      <th>2</th>\n",
       "      <td>1E is a privately owned IT software and servic...</td>\n",
       "      <td>1</td>\n",
       "      <td>0</td>\n",
       "      <td>0</td>\n",
       "      <td>0</td>\n",
       "      <td>0</td>\n",
       "      <td>https://en.wikipedia.org/wiki/1E</td>\n",
       "    </tr>\n",
       "  </tbody>\n",
       "</table>\n",
       "</div>"
      ],
      "text/plain": [
       "                                                text  advert  coi  fanpov  pr  \\\n",
       "0  1 Litre no Namida 1, lit. 1 Litre of Tears als...       0    0       1   0   \n",
       "1  1DayLater was free, web based software that wa...       1    1       0   0   \n",
       "2  1E is a privately owned IT software and servic...       1    0       0   0   \n",
       "\n",
       "   resume                                                url  \n",
       "0       0  https://en.wikipedia.org/wiki/1%20Litre%20no%2...  \n",
       "1       0            https://en.wikipedia.org/wiki/1DayLater  \n",
       "2       0                   https://en.wikipedia.org/wiki/1E  "
      ]
     },
     "execution_count": 11,
     "metadata": {},
     "output_type": "execute_result"
    }
   ],
   "source": [
    "df_promo.head(3)"
   ]
  },
  {
   "cell_type": "markdown",
   "metadata": {},
   "source": [
    "### Side Investigation: Average Length of Articles?"
   ]
  },
  {
   "cell_type": "markdown",
   "metadata": {},
   "source": [
    "While reading in the data, I noticed that the `promotional` article I selected at semi-random was considerably shorter than the semi-random `good` article - I had to wonder if this observation held true at all in the rest of the dataset and decided to investigate average article length for each class.\n",
    "\n",
    "`len()` can give us a count of characters - to get a word count, `split()` must first be used to create a *list of words*, on which we can call `len()`."
   ]
  },
  {
   "cell_type": "code",
   "execution_count": 12,
   "metadata": {
    "ExecuteTime": {
     "end_time": "2022-05-26T18:54:28.026008Z",
     "start_time": "2022-05-26T18:54:28.008227Z"
    },
    "scrolled": true
   },
   "outputs": [
    {
     "name": "stdout",
     "output_type": "stream",
     "text": [
      "Character count in first 'good' article: 2877\n",
      "Word count in first 'good' article: 590\n"
     ]
    }
   ],
   "source": [
    "print(f\"Character count in first 'good' article: {len(df_good.iloc[0].text.replace(' ', ''))}\")\n",
    "print(f\"Word count in first 'good' article: {len(df_good.iloc[0].text.split())}\")"
   ]
  },
  {
   "cell_type": "markdown",
   "metadata": {},
   "source": [
    "We can use string methods on the dataframes by calling `.str` - this makes calculations a lot easier.\n",
    "\n",
    "The following cells return an indexed series of each document in `df_good` and `df_promo`, along with the number of characters in each document."
   ]
  },
  {
   "cell_type": "code",
   "execution_count": 13,
   "metadata": {
    "ExecuteTime": {
     "end_time": "2022-05-26T18:54:38.424669Z",
     "start_time": "2022-05-26T18:54:38.373081Z"
    },
    "scrolled": false
   },
   "outputs": [
    {
     "data": {
      "text/plain": [
       "0     3466\n",
       "1     3230\n",
       "2    22691\n",
       "3     5620\n",
       "4     9303\n",
       "Name: text, dtype: int64"
      ]
     },
     "execution_count": 13,
     "metadata": {},
     "output_type": "execute_result"
    }
   ],
   "source": [
    "df_good.text.str.len().head()"
   ]
  },
  {
   "cell_type": "code",
   "execution_count": 45,
   "metadata": {
    "ExecuteTime": {
     "end_time": "2022-05-26T19:05:26.444252Z",
     "start_time": "2022-05-26T19:05:24.255629Z"
    },
    "scrolled": true
   },
   "outputs": [
    {
     "data": {
      "image/png": "[encoded data removed]",
      "text/plain": [
       "<Figure size 432x288 with 1 Axes>"
      ]
     },
     "metadata": {},
     "output_type": "display_data"
    }
   ],
   "source": [
    "plt.hist(df_good.text.str.len());"
   ]
  },
  {
   "cell_type": "code",
   "execution_count": 15,
   "metadata": {
    "ExecuteTime": {
     "end_time": "2022-05-26T18:54:40.356168Z",
     "start_time": "2022-05-26T18:54:40.310830Z"
    },
    "scrolled": true
   },
   "outputs": [
    {
     "data": {
      "text/plain": [
       "0     3439\n",
       "1     1546\n",
       "2     5550\n",
       "3    11461\n",
       "4     1300\n",
       "Name: text, dtype: int64"
      ]
     },
     "execution_count": 15,
     "metadata": {},
     "output_type": "execute_result"
    }
   ],
   "source": [
    "df_promo.text.str.len().head()"
   ]
  },
  {
   "cell_type": "code",
   "execution_count": 46,
   "metadata": {
    "ExecuteTime": {
     "end_time": "2022-05-26T19:05:29.708761Z",
     "start_time": "2022-05-26T19:05:28.849128Z"
    },
    "scrolled": true
   },
   "outputs": [
    {
     "data": {
      "image/png": "[encoded data removed]",
      "text/plain": [
       "<Figure size 432x288 with 1 Axes>"
      ]
     },
     "metadata": {},
     "output_type": "display_data"
    }
   ],
   "source": [
    "plt.hist(df_promo.text.str.len());"
   ]
  },
  {
   "cell_type": "markdown",
   "metadata": {},
   "source": [
    "Obtaining the mean of each document's character count will allow us to determine the average number of characters per document in both `df_good` and `df_promo`."
   ]
  },
  {
   "cell_type": "code",
   "execution_count": 61,
   "metadata": {
    "ExecuteTime": {
     "end_time": "2022-05-26T20:28:12.486183Z",
     "start_time": "2022-05-26T20:28:11.793420Z"
    }
   },
   "outputs": [],
   "source": [
    "mean_char_good = df_good.text.str.len().mean()\n",
    "mean_char_promo = df_promo.text.str.len().mean()"
   ]
  },
  {
   "cell_type": "markdown",
   "metadata": {},
   "source": [
    "As before, we must use `.split()` to get a word count from each document:"
   ]
  },
  {
   "cell_type": "code",
   "execution_count": 18,
   "metadata": {
    "ExecuteTime": {
     "end_time": "2022-05-26T18:55:05.248397Z",
     "start_time": "2022-05-26T18:54:45.901840Z"
    }
   },
   "outputs": [],
   "source": [
    "split_words_good = df_good.text.str.split()\n",
    "split_words_promo = df_promo.text.str.split()"
   ]
  },
  {
   "cell_type": "markdown",
   "metadata": {},
   "source": [
    "We can then get the average word counts from each dataframe's `text` column with a simple `for` loop:"
   ]
  },
  {
   "cell_type": "code",
   "execution_count": 57,
   "metadata": {
    "ExecuteTime": {
     "end_time": "2022-05-26T20:26:08.538934Z",
     "start_time": "2022-05-26T20:26:08.341462Z"
    },
    "scrolled": true
   },
   "outputs": [
    {
     "name": "stdout",
     "output_type": "stream",
     "text": [
      "Mean number of words in a 'good' article: 2629\n",
      "Mean number of words in a 'promotional' article: 768\n"
     ]
    }
   ],
   "source": [
    "total_words_good = 0\n",
    "total_words_promo = 0\n",
    "\n",
    "for article in split_words_good:\n",
    "    total_words_good += len(article)\n",
    "    \n",
    "for article in split_words_promo:\n",
    "    total_words_promo += len(article)\n",
    "    \n",
    "mean_words_good = total_words_good / len(split_words_good)\n",
    "mean_words_promo = total_words_promo / len(split_words_promo)\n",
    "\n",
    "print(f\"Mean number of words in a 'good' article: {mean_words_good:.0f}\")\n",
    "print(f\"Mean number of words in a 'promotional' article: {mean_words_promo:.0f}\")"
   ]
  },
  {
   "cell_type": "code",
   "execution_count": 59,
   "metadata": {
    "ExecuteTime": {
     "end_time": "2022-05-26T20:27:42.338922Z",
     "start_time": "2022-05-26T20:27:42.245134Z"
    }
   },
   "outputs": [
    {
     "name": "stdout",
     "output_type": "stream",
     "text": [
      "Median number of words in a 'good' article: 1936\n",
      "Median number of words in a 'promotional' article: 498\n"
     ]
    }
   ],
   "source": [
    "word_counts_good = []\n",
    "word_counts_promo = []\n",
    "\n",
    "for article in split_words_good:\n",
    "    word_counts_good.append(len(article))\n",
    "    \n",
    "for article in split_words_promo:\n",
    "    word_counts_promo.append(len(article))\n",
    "\n",
    "med_words_good = np.median(word_counts_good)\n",
    "med_words_promo = np.median(word_counts_promo)\n",
    "\n",
    "print(f\"Median number of words in a 'good' article: {med_words_good:.0f}\")\n",
    "print(f\"Median number of words in a 'promotional' article: {med_words_promo:.0f}\")"
   ]
  },
  {
   "cell_type": "code",
   "execution_count": 47,
   "metadata": {
    "ExecuteTime": {
     "end_time": "2022-05-26T19:05:33.791113Z",
     "start_time": "2022-05-26T19:05:33.440589Z"
    },
    "scrolled": false
   },
   "outputs": [
    {
     "data": {
      "image/png": "[encoded data removed]",
      "text/plain": [
       "<Figure size 432x288 with 1 Axes>"
      ]
     },
     "metadata": {},
     "output_type": "display_data"
    }
   ],
   "source": [
    "plt.hist(word_counts_good);"
   ]
  },
  {
   "cell_type": "code",
   "execution_count": 53,
   "metadata": {
    "ExecuteTime": {
     "end_time": "2022-05-26T20:17:10.395803Z",
     "start_time": "2022-05-26T20:17:09.972852Z"
    }
   },
   "outputs": [
    {
     "data": {
      "image/png": "[encoded data removed]",
      "text/plain": [
       "<Figure size 432x288 with 1 Axes>"
      ]
     },
     "metadata": {},
     "output_type": "display_data"
    }
   ],
   "source": [
    "plt.hist(word_counts_promo);"
   ]
  },
  {
   "cell_type": "markdown",
   "metadata": {},
   "source": [
    "...and *then*, we can use those average counts to compare across dataframes:"
   ]
  },
  {
   "cell_type": "code",
   "execution_count": 62,
   "metadata": {
    "ExecuteTime": {
     "end_time": "2022-05-26T20:28:14.175063Z",
     "start_time": "2022-05-26T20:28:14.164468Z"
    },
    "scrolled": true
   },
   "outputs": [
    {
     "name": "stdout",
     "output_type": "stream",
     "text": [
      "Average 'good' article length: 15649 characters, 2629 words\n",
      "Average 'promotional' article length: 4771 characters, 768 words\n",
      "\n",
      "Rough calc of characters per word, 'good' articles: 5.95\n",
      "Rough calc of characters per word, 'promotional' articles: 6.21\n",
      "\n",
      "On average, 'good' articles are 3.4 times longer than 'promotional' articles\n"
     ]
    }
   ],
   "source": [
    "print(f\"Average 'good' article length: {mean_char_good:.0f} characters, {mean_words_good:.0f} words\")\n",
    "print(f\"Average 'promotional' article length: {mean_char_promo:.0f} characters, {mean_words_promo:.0f} words\\n\")\n",
    "print(f\"Rough calc of characters per word, 'good' articles: {(mean_char_good / mean_words_good):.2f}\")\n",
    "print(f\"Rough calc of characters per word, 'promotional' articles: {(mean_char_promo / mean_words_promo):.2f}\\n\")\n",
    "print(f\"On average, 'good' articles are {(mean_words_good / mean_words_promo):.1f} times longer than 'promotional' articles\")"
   ]
  },
  {
   "cell_type": "markdown",
   "metadata": {},
   "source": [
    "(Note that all of this, including the horizontal bar plot below, can be done expeditiously with various helper functions within `src/EDA.py`!)"
   ]
  },
  {
   "cell_type": "code",
   "execution_count": 69,
   "metadata": {
    "ExecuteTime": {
     "end_time": "2022-05-26T20:31:14.255197Z",
     "start_time": "2022-05-26T20:31:14.003547Z"
    },
    "scrolled": false
   },
   "outputs": [
    {
     "data": {
      "image/png": "[encoded data removed]",
      "text/plain": [
       "<Figure size 864x432 with 1 Axes>"
      ]
     },
     "metadata": {},
     "output_type": "display_data"
    }
   ],
   "source": [
    "# Visualization of mean lengths\n",
    "fig, ax = plt.subplots(figsize=(12, 6))\n",
    "\n",
    "plt.xticks(fontsize=15)\n",
    "plt.yticks(fontsize=14, fontweight='bold')\n",
    "ax.tick_params(axis='y', which='major', pad=10, rotation=-10)\n",
    "ax.tick_params(axis='x', which='major', pad=7)\n",
    "\n",
    "\n",
    "ax.barh(y=[\"'Promotional' articles\", \"'Good' articles\"],\n",
    "        width=(mean_words_promo, mean_words_good),\n",
    "        color=['tab:red', 'tab:green'])\n",
    "\n",
    "ax.set_title(\"Mean word count\",\n",
    "             pad=15,\n",
    "             fontsize=28,\n",
    "             fontweight='bold')\n",
    "ax.set_xlabel(\"# of words\",\n",
    "              labelpad=20,\n",
    "              fontsize=16);\n",
    "\n",
    "# fig.savefig(fname='../images/avg_word_count.png',\n",
    "#             dpi=600,\n",
    "#             bbox_inches='tight')"
   ]
  },
  {
   "cell_type": "code",
   "execution_count": 74,
   "metadata": {
    "ExecuteTime": {
     "end_time": "2022-05-26T20:34:22.190168Z",
     "start_time": "2022-05-26T20:34:20.094153Z"
    }
   },
   "outputs": [
    {
     "data": {
      "image/png": "[encoded data removed]",
      "text/plain": [
       "<Figure size 864x432 with 1 Axes>"
      ]
     },
     "metadata": {},
     "output_type": "display_data"
    }
   ],
   "source": [
    "# Visualization of median lengths\n",
    "fig, ax = plt.subplots(figsize=(12, 6))\n",
    "\n",
    "plt.xticks(ticks=np.linspace(0, 2000, 5), fontsize=15)\n",
    "plt.yticks(fontsize=14, fontweight='bold')\n",
    "ax.tick_params(axis='y', which='major', pad=10, rotation=-10)\n",
    "ax.tick_params(axis='x', which='major', pad=7)\n",
    "\n",
    "\n",
    "ax.barh(y=[\"'Promotional' articles\", \"'Good' articles\"],\n",
    "        width=(med_words_promo, med_words_good),\n",
    "        color=['tab:red', 'tab:green'])\n",
    "\n",
    "ax.set_title(\"Median word count\",\n",
    "             pad=15,\n",
    "             fontsize=28,\n",
    "             fontweight='bold')\n",
    "ax.set_xlabel(\"# of words\",\n",
    "              labelpad=20,\n",
    "              fontsize=16);\n",
    "\n",
    "# fig.savefig(fname='../images/median_word_count.png',\n",
    "#             dpi=600,\n",
    "#             bbox_inches='tight')"
   ]
  },
  {
   "cell_type": "markdown",
   "metadata": {},
   "source": [
    "### Checking for Nulls / Data Types"
   ]
  },
  {
   "cell_type": "code",
   "execution_count": 22,
   "metadata": {
    "ExecuteTime": {
     "end_time": "2022-05-23T15:19:33.589247Z",
     "start_time": "2022-05-23T15:19:33.551071Z"
    }
   },
   "outputs": [
    {
     "name": "stdout",
     "output_type": "stream",
     "text": [
      "<class 'pandas.core.frame.DataFrame'>\n",
      "RangeIndex: 30279 entries, 0 to 30278\n",
      "Data columns (total 2 columns):\n",
      " #   Column  Non-Null Count  Dtype \n",
      "---  ------  --------------  ----- \n",
      " 0   text    30279 non-null  object\n",
      " 1   url     30279 non-null  object\n",
      "dtypes: object(2)\n",
      "memory usage: 473.2+ KB\n"
     ]
    }
   ],
   "source": [
    "df_good.info()"
   ]
  },
  {
   "cell_type": "code",
   "execution_count": 23,
   "metadata": {
    "ExecuteTime": {
     "end_time": "2022-05-23T15:19:33.730196Z",
     "start_time": "2022-05-23T15:19:33.714206Z"
    }
   },
   "outputs": [
    {
     "name": "stdout",
     "output_type": "stream",
     "text": [
      "<class 'pandas.core.frame.DataFrame'>\n",
      "RangeIndex: 23837 entries, 0 to 23836\n",
      "Data columns (total 7 columns):\n",
      " #   Column  Non-Null Count  Dtype \n",
      "---  ------  --------------  ----- \n",
      " 0   text    23837 non-null  object\n",
      " 1   advert  23837 non-null  int64 \n",
      " 2   coi     23837 non-null  int64 \n",
      " 3   fanpov  23837 non-null  int64 \n",
      " 4   pr      23837 non-null  int64 \n",
      " 5   resume  23837 non-null  int64 \n",
      " 6   url     23837 non-null  object\n",
      "dtypes: int64(5), object(2)\n",
      "memory usage: 1.3+ MB\n"
     ]
    }
   ],
   "source": [
    "df_promo.info()"
   ]
  },
  {
   "cell_type": "markdown",
   "metadata": {},
   "source": [
    "No nulls in either dataframe. Text is predictably coded as an object/string, and `df_promo` comes with some labels built in: one-hot encoded columns that indicate *subclass* of promotional article."
   ]
  },
  {
   "cell_type": "markdown",
   "metadata": {},
   "source": [
    "### Value Counts for Subclasses"
   ]
  },
  {
   "cell_type": "markdown",
   "metadata": {},
   "source": [
    "Knowing there are five different subtypes of promotional article indicated within the dataset raises a further question: *how are those subtypes distributed?*"
   ]
  },
  {
   "cell_type": "code",
   "execution_count": 49,
   "metadata": {
    "ExecuteTime": {
     "end_time": "2022-05-26T19:06:07.300467Z",
     "start_time": "2022-05-26T19:06:07.263561Z"
    },
    "scrolled": true
   },
   "outputs": [
    {
     "data": {
      "text/plain": [
       "Index(['advert', 'coi', 'fanpov', 'pr', 'resume'], dtype='object')"
      ]
     },
     "execution_count": 49,
     "metadata": {},
     "output_type": "execute_result"
    }
   ],
   "source": [
    "df_promo.select_dtypes(include='number').columns"
   ]
  },
  {
   "cell_type": "code",
   "execution_count": 50,
   "metadata": {
    "ExecuteTime": {
     "end_time": "2022-05-26T19:06:07.678918Z",
     "start_time": "2022-05-26T19:06:07.661031Z"
    },
    "scrolled": true
   },
   "outputs": [
    {
     "data": {
      "text/plain": [
       "['advert', 'coi', 'fanpov', 'pr', 'resume']"
      ]
     },
     "execution_count": 50,
     "metadata": {},
     "output_type": "execute_result"
    }
   ],
   "source": [
    "# class_cols = df_promo.select_dtypes(include='number').columns\n",
    "class_cols = df_promo.select_dtypes(include='number').columns.tolist()\n",
    "\n",
    "class_cols"
   ]
  },
  {
   "cell_type": "code",
   "execution_count": 51,
   "metadata": {
    "ExecuteTime": {
     "end_time": "2022-05-26T19:06:08.112517Z",
     "start_time": "2022-05-26T19:06:08.108106Z"
    }
   },
   "outputs": [],
   "source": [
    "test_labels = class_cols"
   ]
  },
  {
   "cell_type": "code",
   "execution_count": 52,
   "metadata": {
    "ExecuteTime": {
     "end_time": "2022-05-26T19:06:08.775101Z",
     "start_time": "2022-05-26T19:06:08.531796Z"
    },
    "scrolled": false
   },
   "outputs": [
    {
     "data": {
      "image/png": "[encoded data removed]",
      "text/plain": [
       "<Figure size 432x288 with 1 Axes>"
      ]
     },
     "metadata": {},
     "output_type": "display_data"
    }
   ],
   "source": [
    "plot_subclass_dist(df_promo, test_labels)"
   ]
  },
  {
   "cell_type": "code",
   "execution_count": 10,
   "metadata": {
    "ExecuteTime": {
     "end_time": "2022-05-25T20:57:15.432162Z",
     "start_time": "2022-05-25T20:57:15.396260Z"
    },
    "scrolled": false
   },
   "outputs": [
    {
     "name": "stdout",
     "output_type": "stream",
     "text": [
      "advert\n",
      "1         0.793346\n",
      "0         0.206654\n",
      "dtype: float64\n",
      "\n",
      "coi\n",
      "0      0.91014\n",
      "1      0.08986\n",
      "dtype: float64\n",
      "\n",
      "fanpov\n",
      "0         0.93724\n",
      "1         0.06276\n",
      "dtype: float64\n",
      "\n",
      "pr\n",
      "0     0.936401\n",
      "1     0.063599\n",
      "dtype: float64\n",
      "\n",
      "resume\n",
      "0         0.90779\n",
      "1         0.09221\n",
      "dtype: float64\n",
      "\n"
     ]
    }
   ],
   "source": [
    "for col in class_cols:\n",
    "    print(f\"{df_promo[[col]].value_counts(normalize=True)}\\n\")"
   ]
  },
  {
   "cell_type": "code",
   "execution_count": 17,
   "metadata": {
    "ExecuteTime": {
     "end_time": "2022-05-25T20:59:17.385057Z",
     "start_time": "2022-05-25T20:59:17.364095Z"
    }
   },
   "outputs": [
    {
     "data": {
      "text/plain": [
       "[0.7933464781641986,\n",
       " 0.08986030121240089,\n",
       " 0.06275957544993079,\n",
       " 0.06359860720728279,\n",
       " 0.09220959013298653]"
      ]
     },
     "execution_count": 17,
     "metadata": {},
     "output_type": "execute_result"
    }
   ],
   "source": [
    "advert_posi = df_promo.advert.value_counts(sort=False,normalize=True).values[1]\n",
    "coi_posi = df_promo.coi.value_counts(normalize=True).values[1]\n",
    "fanpov_posi = df_promo.fanpov.value_counts(normalize=True).values[1]\n",
    "pr_posi = df_promo.pr.value_counts(normalize=True).values[1]\n",
    "resume_posi = df_promo.resume.value_counts(normalize=True).values[1]\n",
    "\n",
    "posi_counts = [advert_posi, coi_posi, fanpov_posi, pr_posi, resume_posi]\n",
    "\n",
    "posi_counts"
   ]
  },
  {
   "cell_type": "code",
   "execution_count": 39,
   "metadata": {
    "ExecuteTime": {
     "end_time": "2022-05-23T15:23:01.351427Z",
     "start_time": "2022-05-23T15:22:59.032531Z"
    }
   },
   "outputs": [
    {
     "data": {
      "image/png": "[encoded data removed]",
      "text/plain": [
       "<Figure size 1440x720 with 1 Axes>"
      ]
     },
     "metadata": {},
     "output_type": "display_data"
    }
   ],
   "source": [
    "fig, ax = plt.subplots(figsize=(20, 10))\n",
    "\n",
    "y_ticks = np.linspace(0, 0.8, 9)\n",
    "y_tick_labels = []\n",
    "\n",
    "for x in np.linspace(0, 80, 9).tolist():\n",
    "    x = str(x).replace('.0', '')\n",
    "    y_tick_labels.append(x)\n",
    "\n",
    "plt.xticks(fontsize=17)\n",
    "plt.yticks(fontsize=16)\n",
    "ax.tick_params(axis='x', which='major', pad=10)   \n",
    "    \n",
    "ax.bar(x=[\"Advertisement-like\",\n",
    "          \"Conflict of interest\",\n",
    "          \"Fan's point of view\",\n",
    "          \"News/press release-like\",\n",
    "          \"Résumé-like\"],\n",
    "       height=posi_counts,\n",
    "       color=['mediumseagreen', 'palevioletred', 'palevioletred', 'palevioletred', 'palevioletred'])\n",
    "\n",
    "ax.set_yticks(y_ticks)\n",
    "ax.set_yticklabels(y_tick_labels,\n",
    "                   fontsize=15)\n",
    "ax.set_ylabel(\"% of articles with tag\",\n",
    "              fontsize = 20,\n",
    "              fontweight='semibold',\n",
    "              labelpad = 17)\n",
    "ax.set_title(\"Distribution of promotional article subclasses\",\n",
    "             fontsize=35,\n",
    "             fontweight='bold',\n",
    "             pad=16)\n",
    "\n",
    "# fig.savefig(fname='../images/promo_dist.png',\n",
    "#             dpi=600,\n",
    "#             bbox_inches='tight');"
   ]
  },
  {
   "cell_type": "markdown",
   "metadata": {},
   "source": [
    "## Combining Datasets"
   ]
  },
  {
   "cell_type": "markdown",
   "metadata": {},
   "source": [
    "First, we drop all columns but `text`, which will be our primary feature."
   ]
  },
  {
   "cell_type": "code",
   "execution_count": 55,
   "metadata": {
    "ExecuteTime": {
     "end_time": "2022-05-20T18:53:52.241748Z",
     "start_time": "2022-05-20T18:53:52.233772Z"
    }
   },
   "outputs": [],
   "source": [
    "df_good = df_good[['text']]\n",
    "df_promo = df_promo[['text']]"
   ]
  },
  {
   "cell_type": "markdown",
   "metadata": {},
   "source": [
    "Before concatening the simplified dataframes, I create a new column `label` in each dataframe and give it the same value in every row. In `df_good`, each row is given the label `0` to indicate `False`, i.e. the article does ***not*** have a promotional tone. Conversely, each row in `df_promo` is given the label `1` to represent `True`, that the article ***does*** contain content that is promotional in tone."
   ]
  },
  {
   "cell_type": "code",
   "execution_count": 56,
   "metadata": {
    "ExecuteTime": {
     "end_time": "2022-05-20T18:53:55.947108Z",
     "start_time": "2022-05-20T18:53:55.917365Z"
    },
    "scrolled": true
   },
   "outputs": [
    {
     "data": {
      "text/html": [
       "<div>\n",
       "<style scoped>\n",
       "    .dataframe tbody tr th:only-of-type {\n",
       "        vertical-align: middle;\n",
       "    }\n",
       "\n",
       "    .dataframe tbody tr th {\n",
       "        vertical-align: top;\n",
       "    }\n",
       "\n",
       "    .dataframe thead th {\n",
       "        text-align: right;\n",
       "    }\n",
       "</style>\n",
       "<table border=\"1\" class=\"dataframe\">\n",
       "  <thead>\n",
       "    <tr style=\"text-align: right;\">\n",
       "      <th></th>\n",
       "      <th>text</th>\n",
       "      <th>label</th>\n",
       "    </tr>\n",
       "  </thead>\n",
       "  <tbody>\n",
       "    <tr>\n",
       "      <th>0</th>\n",
       "      <td>Nycticebus linglom is a fossil strepsirrhine p...</td>\n",
       "      <td>0</td>\n",
       "    </tr>\n",
       "    <tr>\n",
       "      <th>1</th>\n",
       "      <td>Oryzomys pliocaenicus is a fossil rodent from ...</td>\n",
       "      <td>0</td>\n",
       "    </tr>\n",
       "    <tr>\n",
       "      <th>2</th>\n",
       "      <td>.hack dt hk is a series of single player actio...</td>\n",
       "      <td>0</td>\n",
       "    </tr>\n",
       "  </tbody>\n",
       "</table>\n",
       "</div>"
      ],
      "text/plain": [
       "                                                text  label\n",
       "0  Nycticebus linglom is a fossil strepsirrhine p...      0\n",
       "1  Oryzomys pliocaenicus is a fossil rodent from ...      0\n",
       "2  .hack dt hk is a series of single player actio...      0"
      ]
     },
     "execution_count": 56,
     "metadata": {},
     "output_type": "execute_result"
    }
   ],
   "source": [
    "df_good['label'] = 0\n",
    "df_good.head(3)"
   ]
  },
  {
   "cell_type": "code",
   "execution_count": 57,
   "metadata": {
    "ExecuteTime": {
     "end_time": "2022-05-20T18:53:56.534943Z",
     "start_time": "2022-05-20T18:53:56.520803Z"
    },
    "scrolled": false
   },
   "outputs": [
    {
     "data": {
      "text/html": [
       "<div>\n",
       "<style scoped>\n",
       "    .dataframe tbody tr th:only-of-type {\n",
       "        vertical-align: middle;\n",
       "    }\n",
       "\n",
       "    .dataframe tbody tr th {\n",
       "        vertical-align: top;\n",
       "    }\n",
       "\n",
       "    .dataframe thead th {\n",
       "        text-align: right;\n",
       "    }\n",
       "</style>\n",
       "<table border=\"1\" class=\"dataframe\">\n",
       "  <thead>\n",
       "    <tr style=\"text-align: right;\">\n",
       "      <th></th>\n",
       "      <th>text</th>\n",
       "      <th>label</th>\n",
       "    </tr>\n",
       "  </thead>\n",
       "  <tbody>\n",
       "    <tr>\n",
       "      <th>0</th>\n",
       "      <td>1 Litre no Namida 1, lit. 1 Litre of Tears als...</td>\n",
       "      <td>1</td>\n",
       "    </tr>\n",
       "    <tr>\n",
       "      <th>1</th>\n",
       "      <td>1DayLater was free, web based software that wa...</td>\n",
       "      <td>1</td>\n",
       "    </tr>\n",
       "    <tr>\n",
       "      <th>2</th>\n",
       "      <td>1E is a privately owned IT software and servic...</td>\n",
       "      <td>1</td>\n",
       "    </tr>\n",
       "  </tbody>\n",
       "</table>\n",
       "</div>"
      ],
      "text/plain": [
       "                                                text  label\n",
       "0  1 Litre no Namida 1, lit. 1 Litre of Tears als...      1\n",
       "1  1DayLater was free, web based software that wa...      1\n",
       "2  1E is a privately owned IT software and servic...      1"
      ]
     },
     "execution_count": 57,
     "metadata": {},
     "output_type": "execute_result"
    }
   ],
   "source": [
    "df_promo['label'] = 1\n",
    "df_promo.head(3)"
   ]
  },
  {
   "cell_type": "markdown",
   "metadata": {},
   "source": [
    "Next, we concatenate the dataframes using the pandas method `.append` - setting `ignore_index` to `True` means that the unique index values from `df_promo` are not carried over when this dataframe is appended to `df_good`; the indexing, rather, continues where `df_good`'s index leaves off."
   ]
  },
  {
   "cell_type": "code",
   "execution_count": 58,
   "metadata": {
    "ExecuteTime": {
     "end_time": "2022-05-20T18:53:57.969622Z",
     "start_time": "2022-05-20T18:53:57.942417Z"
    }
   },
   "outputs": [
    {
     "data": {
      "text/html": [
       "<div>\n",
       "<style scoped>\n",
       "    .dataframe tbody tr th:only-of-type {\n",
       "        vertical-align: middle;\n",
       "    }\n",
       "\n",
       "    .dataframe tbody tr th {\n",
       "        vertical-align: top;\n",
       "    }\n",
       "\n",
       "    .dataframe thead th {\n",
       "        text-align: right;\n",
       "    }\n",
       "</style>\n",
       "<table border=\"1\" class=\"dataframe\">\n",
       "  <thead>\n",
       "    <tr style=\"text-align: right;\">\n",
       "      <th></th>\n",
       "      <th>text</th>\n",
       "      <th>label</th>\n",
       "    </tr>\n",
       "  </thead>\n",
       "  <tbody>\n",
       "    <tr>\n",
       "      <th>0</th>\n",
       "      <td>Nycticebus linglom is a fossil strepsirrhine p...</td>\n",
       "      <td>0</td>\n",
       "    </tr>\n",
       "    <tr>\n",
       "      <th>1</th>\n",
       "      <td>Oryzomys pliocaenicus is a fossil rodent from ...</td>\n",
       "      <td>0</td>\n",
       "    </tr>\n",
       "    <tr>\n",
       "      <th>2</th>\n",
       "      <td>.hack dt hk is a series of single player actio...</td>\n",
       "      <td>0</td>\n",
       "    </tr>\n",
       "    <tr>\n",
       "      <th>3</th>\n",
       "      <td>The You Drive Me Crazy Tour was the second con...</td>\n",
       "      <td>0</td>\n",
       "    </tr>\n",
       "    <tr>\n",
       "      <th>4</th>\n",
       "      <td>0 8 4 is the second episode of the first seaso...</td>\n",
       "      <td>0</td>\n",
       "    </tr>\n",
       "    <tr>\n",
       "      <th>...</th>\n",
       "      <td>...</td>\n",
       "      <td>...</td>\n",
       "    </tr>\n",
       "    <tr>\n",
       "      <th>54111</th>\n",
       "      <td>ZURICH.MINDS is a non profit foundation set up...</td>\n",
       "      <td>1</td>\n",
       "    </tr>\n",
       "    <tr>\n",
       "      <th>54112</th>\n",
       "      <td>zvelo, Inc. or simply zvelo is a privately hel...</td>\n",
       "      <td>1</td>\n",
       "    </tr>\n",
       "    <tr>\n",
       "      <th>54113</th>\n",
       "      <td>Zygote Media Group is a 3D human anatomy conte...</td>\n",
       "      <td>1</td>\n",
       "    </tr>\n",
       "    <tr>\n",
       "      <th>54114</th>\n",
       "      <td>Zylom is a distributor of casual games for PC ...</td>\n",
       "      <td>1</td>\n",
       "    </tr>\n",
       "    <tr>\n",
       "      <th>54115</th>\n",
       "      <td>Zynx Health Incorporated is an American corpor...</td>\n",
       "      <td>1</td>\n",
       "    </tr>\n",
       "  </tbody>\n",
       "</table>\n",
       "<p>54116 rows × 2 columns</p>\n",
       "</div>"
      ],
      "text/plain": [
       "                                                    text  label\n",
       "0      Nycticebus linglom is a fossil strepsirrhine p...      0\n",
       "1      Oryzomys pliocaenicus is a fossil rodent from ...      0\n",
       "2      .hack dt hk is a series of single player actio...      0\n",
       "3      The You Drive Me Crazy Tour was the second con...      0\n",
       "4      0 8 4 is the second episode of the first seaso...      0\n",
       "...                                                  ...    ...\n",
       "54111  ZURICH.MINDS is a non profit foundation set up...      1\n",
       "54112  zvelo, Inc. or simply zvelo is a privately hel...      1\n",
       "54113  Zygote Media Group is a 3D human anatomy conte...      1\n",
       "54114  Zylom is a distributor of casual games for PC ...      1\n",
       "54115  Zynx Health Incorporated is an American corpor...      1\n",
       "\n",
       "[54116 rows x 2 columns]"
      ]
     },
     "execution_count": 58,
     "metadata": {},
     "output_type": "execute_result"
    }
   ],
   "source": [
    "df = df_good.append(other=df_promo,\n",
    "                    ignore_index=True)\n",
    "\n",
    "df"
   ]
  },
  {
   "cell_type": "markdown",
   "metadata": {},
   "source": [
    "The following code cell shuffles the index of the dataframe so that `good` and `promotional` articles are mixed in together. This is included purely for the purpose of reproducibility, which is why the next few cells (prior to section `Reading in .csv file with lemmas`) are commented out."
   ]
  },
  {
   "cell_type": "code",
   "execution_count": 65,
   "metadata": {
    "ExecuteTime": {
     "end_time": "2022-05-20T18:54:22.225422Z",
     "start_time": "2022-05-20T18:54:22.189302Z"
    },
    "scrolled": true
   },
   "outputs": [
    {
     "data": {
      "text/html": [
       "<div>\n",
       "<style scoped>\n",
       "    .dataframe tbody tr th:only-of-type {\n",
       "        vertical-align: middle;\n",
       "    }\n",
       "\n",
       "    .dataframe tbody tr th {\n",
       "        vertical-align: top;\n",
       "    }\n",
       "\n",
       "    .dataframe thead th {\n",
       "        text-align: right;\n",
       "    }\n",
       "</style>\n",
       "<table border=\"1\" class=\"dataframe\">\n",
       "  <thead>\n",
       "    <tr style=\"text-align: right;\">\n",
       "      <th></th>\n",
       "      <th>text</th>\n",
       "      <th>label</th>\n",
       "    </tr>\n",
       "  </thead>\n",
       "  <tbody>\n",
       "    <tr>\n",
       "      <th>0</th>\n",
       "      <td>Mutares AG styled Mutares is a German based ho...</td>\n",
       "      <td>1</td>\n",
       "    </tr>\n",
       "    <tr>\n",
       "      <th>1</th>\n",
       "      <td>Federico Martinez Roda is a professor of histo...</td>\n",
       "      <td>1</td>\n",
       "    </tr>\n",
       "    <tr>\n",
       "      <th>2</th>\n",
       "      <td>Jorg M. Colberg born 15 February 1968 writes a...</td>\n",
       "      <td>1</td>\n",
       "    </tr>\n",
       "    <tr>\n",
       "      <th>3</th>\n",
       "      <td>Signal 30 is the fifth episode of the fifth se...</td>\n",
       "      <td>0</td>\n",
       "    </tr>\n",
       "    <tr>\n",
       "      <th>4</th>\n",
       "      <td>M 247 is a northsouth state trunkline highway ...</td>\n",
       "      <td>0</td>\n",
       "    </tr>\n",
       "    <tr>\n",
       "      <th>...</th>\n",
       "      <td>...</td>\n",
       "      <td>...</td>\n",
       "    </tr>\n",
       "    <tr>\n",
       "      <th>54111</th>\n",
       "      <td>Swaziland competed at the 2012 Summer Olympics...</td>\n",
       "      <td>0</td>\n",
       "    </tr>\n",
       "    <tr>\n",
       "      <th>54112</th>\n",
       "      <td>Established on April 1, 2007, the Interactive ...</td>\n",
       "      <td>1</td>\n",
       "    </tr>\n",
       "    <tr>\n",
       "      <th>54113</th>\n",
       "      <td>Student directed teaching is a teaching techno...</td>\n",
       "      <td>1</td>\n",
       "    </tr>\n",
       "    <tr>\n",
       "      <th>54114</th>\n",
       "      <td>Nobody's Business is a song recorded by Barbad...</td>\n",
       "      <td>0</td>\n",
       "    </tr>\n",
       "    <tr>\n",
       "      <th>54115</th>\n",
       "      <td>King's Highway 36, commonly referred to as Hig...</td>\n",
       "      <td>0</td>\n",
       "    </tr>\n",
       "  </tbody>\n",
       "</table>\n",
       "<p>54116 rows × 2 columns</p>\n",
       "</div>"
      ],
      "text/plain": [
       "                                                    text  label\n",
       "0      Mutares AG styled Mutares is a German based ho...      1\n",
       "1      Federico Martinez Roda is a professor of histo...      1\n",
       "2      Jorg M. Colberg born 15 February 1968 writes a...      1\n",
       "3      Signal 30 is the fifth episode of the fifth se...      0\n",
       "4      M 247 is a northsouth state trunkline highway ...      0\n",
       "...                                                  ...    ...\n",
       "54111  Swaziland competed at the 2012 Summer Olympics...      0\n",
       "54112  Established on April 1, 2007, the Interactive ...      1\n",
       "54113  Student directed teaching is a teaching techno...      1\n",
       "54114  Nobody's Business is a song recorded by Barbad...      0\n",
       "54115  King's Highway 36, commonly referred to as Hig...      0\n",
       "\n",
       "[54116 rows x 2 columns]"
      ]
     },
     "execution_count": 65,
     "metadata": {},
     "output_type": "execute_result"
    }
   ],
   "source": [
    "df = df.sample(frac=1).reset_index(drop=True)\n",
    "\n",
    "df"
   ]
  },
  {
   "cell_type": "code",
   "execution_count": 1,
   "metadata": {
    "ExecuteTime": {
     "end_time": "2022-05-25T01:08:04.220641Z",
     "start_time": "2022-05-25T01:08:04.206332Z"
    },
    "scrolled": false
   },
   "outputs": [],
   "source": [
    "# Word frequencies\n",
    "# freq_out(df, 'text', 10)"
   ]
  },
  {
   "cell_type": "markdown",
   "metadata": {},
   "source": [
    "## Lemmatizing Raw Data, Exporting New Dataframe"
   ]
  },
  {
   "cell_type": "markdown",
   "metadata": {},
   "source": [
    "The following cell is one of the most computationally expensive tasks in this whole project - it applies the custom function `parse_doc` (see the [.py file](../src/parse_it.py) for further information) to the content of the `text` column for each row in the dataframe, i.e. each document in the corpus. The result is a string of **lemmas**, the approximate morphological roots of each word in the document, stored in a new column called `text_lem`. This helps standardize the text for vectorization and, eventually, modeling.\n",
    "\n",
    "Again, the following two cells are only necessary to run if you're interested in completing reproducing the project, step by step. For convenience, the output is saved as `lemmed_combined.csv`, which will probably save you at least an hour of computing time if loaded in."
   ]
  },
  {
   "cell_type": "code",
   "execution_count": null,
   "metadata": {
    "ExecuteTime": {
     "end_time": "2022-05-19T20:06:40.210233Z",
     "start_time": "2022-05-19T20:06:40.203021Z"
    },
    "scrolled": true
   },
   "outputs": [],
   "source": [
    "# df['text_lem'] = df['text'].apply(parse_doc) "
   ]
  },
  {
   "cell_type": "code",
   "execution_count": null,
   "metadata": {
    "ExecuteTime": {
     "end_time": "2022-05-19T20:06:40.428333Z",
     "start_time": "2022-05-19T20:06:40.422329Z"
    }
   },
   "outputs": [],
   "source": [
    "# df.to_csv('lemmed_combined.csv')"
   ]
  },
  {
   "cell_type": "markdown",
   "metadata": {},
   "source": [
    "## Reading in Newly Created `.csv`"
   ]
  },
  {
   "cell_type": "code",
   "execution_count": 38,
   "metadata": {
    "ExecuteTime": {
     "end_time": "2022-05-25T21:13:08.655222Z",
     "start_time": "2022-05-25T21:12:59.642309Z"
    }
   },
   "outputs": [],
   "source": [
    "lemmed_df = pd.read_csv('../../data/lemmed_combined.csv', index_col=0)"
   ]
  },
  {
   "cell_type": "code",
   "execution_count": 53,
   "metadata": {
    "ExecuteTime": {
     "end_time": "2022-05-24T20:27:59.292919Z",
     "start_time": "2022-05-24T20:27:59.269909Z"
    },
    "scrolled": true
   },
   "outputs": [
    {
     "data": {
      "text/html": [
       "<div>\n",
       "<style scoped>\n",
       "    .dataframe tbody tr th:only-of-type {\n",
       "        vertical-align: middle;\n",
       "    }\n",
       "\n",
       "    .dataframe tbody tr th {\n",
       "        vertical-align: top;\n",
       "    }\n",
       "\n",
       "    .dataframe thead th {\n",
       "        text-align: right;\n",
       "    }\n",
       "</style>\n",
       "<table border=\"1\" class=\"dataframe\">\n",
       "  <thead>\n",
       "    <tr style=\"text-align: right;\">\n",
       "      <th></th>\n",
       "      <th>text</th>\n",
       "      <th>label</th>\n",
       "      <th>text_lem</th>\n",
       "    </tr>\n",
       "  </thead>\n",
       "  <tbody>\n",
       "    <tr>\n",
       "      <th>0</th>\n",
       "      <td>Ryan Steven Lochte lkti LOK tee born August 3,...</td>\n",
       "      <td>0</td>\n",
       "      <td>ryan steven lochte lkti lok tee bear august am...</td>\n",
       "    </tr>\n",
       "    <tr>\n",
       "      <th>1</th>\n",
       "      <td>CAM ships were World War II era British mercha...</td>\n",
       "      <td>0</td>\n",
       "      <td>cam ship world war ii era british merchant shi...</td>\n",
       "    </tr>\n",
       "    <tr>\n",
       "      <th>2</th>\n",
       "      <td>The politics of Vietnam are defined by a singl...</td>\n",
       "      <td>0</td>\n",
       "      <td>politics vietnam define single party socialist...</td>\n",
       "    </tr>\n",
       "    <tr>\n",
       "      <th>3</th>\n",
       "      <td>Pennsylvania Route 363 PA 363 is a state highw...</td>\n",
       "      <td>0</td>\n",
       "      <td>pennsylvania route pa state highway locate mon...</td>\n",
       "    </tr>\n",
       "    <tr>\n",
       "      <th>4</th>\n",
       "      <td>Clubland TV is a British free to air Dance mus...</td>\n",
       "      <td>1</td>\n",
       "      <td>clubland tv british free air dance music chann...</td>\n",
       "    </tr>\n",
       "    <tr>\n",
       "      <th>5</th>\n",
       "      <td>William J. Binder is an American facial plasti...</td>\n",
       "      <td>1</td>\n",
       "      <td>william j binder american facial plastic recon...</td>\n",
       "    </tr>\n",
       "    <tr>\n",
       "      <th>6</th>\n",
       "      <td>StarTex Power was a Texas based retail electri...</td>\n",
       "      <td>1</td>\n",
       "      <td>startex power texas base retail electricity pr...</td>\n",
       "    </tr>\n",
       "    <tr>\n",
       "      <th>7</th>\n",
       "      <td>Miodrag Tomic Serbian Cyrillic 17 May O.S. 5 M...</td>\n",
       "      <td>0</td>\n",
       "      <td>miodrag tomic serbian cyrillic may may februar...</td>\n",
       "    </tr>\n",
       "    <tr>\n",
       "      <th>8</th>\n",
       "      <td>Pietro Annigoni completed a number of portrait...</td>\n",
       "      <td>0</td>\n",
       "      <td>pietro annigoni complete number portrait queen...</td>\n",
       "    </tr>\n",
       "    <tr>\n",
       "      <th>9</th>\n",
       "      <td>Fuso , Fusang was a central battery ironclad b...</td>\n",
       "      <td>0</td>\n",
       "      <td>fuso fusang central battery ironclad build imp...</td>\n",
       "    </tr>\n",
       "  </tbody>\n",
       "</table>\n",
       "</div>"
      ],
      "text/plain": [
       "                                                text  label  \\\n",
       "0  Ryan Steven Lochte lkti LOK tee born August 3,...      0   \n",
       "1  CAM ships were World War II era British mercha...      0   \n",
       "2  The politics of Vietnam are defined by a singl...      0   \n",
       "3  Pennsylvania Route 363 PA 363 is a state highw...      0   \n",
       "4  Clubland TV is a British free to air Dance mus...      1   \n",
       "5  William J. Binder is an American facial plasti...      1   \n",
       "6  StarTex Power was a Texas based retail electri...      1   \n",
       "7  Miodrag Tomic Serbian Cyrillic 17 May O.S. 5 M...      0   \n",
       "8  Pietro Annigoni completed a number of portrait...      0   \n",
       "9  Fuso , Fusang was a central battery ironclad b...      0   \n",
       "\n",
       "                                            text_lem  \n",
       "0  ryan steven lochte lkti lok tee bear august am...  \n",
       "1  cam ship world war ii era british merchant shi...  \n",
       "2  politics vietnam define single party socialist...  \n",
       "3  pennsylvania route pa state highway locate mon...  \n",
       "4  clubland tv british free air dance music chann...  \n",
       "5  william j binder american facial plastic recon...  \n",
       "6  startex power texas base retail electricity pr...  \n",
       "7  miodrag tomic serbian cyrillic may may februar...  \n",
       "8  pietro annigoni complete number portrait queen...  \n",
       "9  fuso fusang central battery ironclad build imp...  "
      ]
     },
     "execution_count": 53,
     "metadata": {},
     "output_type": "execute_result"
    }
   ],
   "source": [
    "lemmed_df.head(10)"
   ]
  },
  {
   "cell_type": "code",
   "execution_count": 40,
   "metadata": {
    "ExecuteTime": {
     "end_time": "2022-05-25T21:13:48.832989Z",
     "start_time": "2022-05-25T21:13:36.824603Z"
    },
    "scrolled": true
   },
   "outputs": [
    {
     "name": "stdout",
     "output_type": "stream",
     "text": [
      "Average document length, label 0: 2629 words, 15649 characters.\n",
      "Average document length, label 1: 768 words, 4771 characters.\n"
     ]
    },
    {
     "data": {
      "text/plain": [
       "(2628.5815581756333, 768.2722658052608)"
      ]
     },
     "execution_count": 40,
     "metadata": {},
     "output_type": "execute_result"
    }
   ],
   "source": [
    "compare_avg_counts(lemmed_df, 'text', 'label', 0, 1)"
   ]
  },
  {
   "cell_type": "markdown",
   "metadata": {},
   "source": [
    "## Additional Stopwords"
   ]
  },
  {
   "cell_type": "code",
   "execution_count": 2,
   "metadata": {
    "ExecuteTime": {
     "end_time": "2022-05-25T01:24:17.345163Z",
     "start_time": "2022-05-25T01:24:17.341173Z"
    }
   },
   "outputs": [],
   "source": [
    "additional_sw = ['january',\n",
    "                 'february',\n",
    "                 'april', # 'march' and 'may' are English verbs and\n",
    "                          #  are thus excluded\n",
    "                 'june',\n",
    "                 'july',\n",
    "                 'august',\n",
    "                 'september',\n",
    "                 'october',\n",
    "                 'november',\n",
    "                 'december']"
   ]
  },
  {
   "cell_type": "markdown",
   "metadata": {},
   "source": [
    "## Preparation for Modeling"
   ]
  },
  {
   "cell_type": "code",
   "execution_count": 5,
   "metadata": {
    "ExecuteTime": {
     "end_time": "2022-05-24T14:43:31.885120Z",
     "start_time": "2022-05-24T14:43:31.874703Z"
    }
   },
   "outputs": [],
   "source": [
    "X = lemmed_df['text_lem']\n",
    "y = lemmed_df['label']"
   ]
  },
  {
   "cell_type": "code",
   "execution_count": 6,
   "metadata": {
    "ExecuteTime": {
     "end_time": "2022-05-24T14:43:32.226154Z",
     "start_time": "2022-05-24T14:43:32.210042Z"
    }
   },
   "outputs": [
    {
     "data": {
      "text/plain": [
       "0        ryan steven lochte lkti lok tee bear august am...\n",
       "1        cam ship world war ii era british merchant shi...\n",
       "2        politics vietnam define single party socialist...\n",
       "3        pennsylvania route pa state highway locate mon...\n",
       "4        clubland tv british free air dance music chann...\n",
       "                               ...                        \n",
       "54111    guatemala send delegation compete summer paral...\n",
       "54112    charles augustus ollivierre july march vincent...\n",
       "54113    dhanushka jayakody bear july colombo sri lanka...\n",
       "54114    elmer harrison flick january january american ...\n",
       "54115    safdarjung tomb sandstone marble mausoleum del...\n",
       "Name: text_lem, Length: 54116, dtype: object"
      ]
     },
     "execution_count": 6,
     "metadata": {},
     "output_type": "execute_result"
    }
   ],
   "source": [
    "X"
   ]
  },
  {
   "cell_type": "code",
   "execution_count": 7,
   "metadata": {
    "ExecuteTime": {
     "end_time": "2022-05-24T14:43:32.588752Z",
     "start_time": "2022-05-24T14:43:32.568807Z"
    },
    "scrolled": true
   },
   "outputs": [
    {
     "data": {
      "text/plain": [
       "0        0\n",
       "1        0\n",
       "2        0\n",
       "3        0\n",
       "4        1\n",
       "        ..\n",
       "54111    0\n",
       "54112    0\n",
       "54113    1\n",
       "54114    0\n",
       "54115    0\n",
       "Name: label, Length: 54116, dtype: int64"
      ]
     },
     "execution_count": 7,
     "metadata": {},
     "output_type": "execute_result"
    }
   ],
   "source": [
    "y"
   ]
  },
  {
   "cell_type": "code",
   "execution_count": 8,
   "metadata": {
    "ExecuteTime": {
     "end_time": "2022-05-24T14:43:34.451905Z",
     "start_time": "2022-05-24T14:43:34.409105Z"
    }
   },
   "outputs": [],
   "source": [
    "X_train, X_test, y_train, y_test = train_test_split(X, y,\n",
    "                                                    test_size=0.33,\n",
    "                                                    random_state=42,\n",
    "                                                    stratify=y)"
   ]
  },
  {
   "cell_type": "code",
   "execution_count": 9,
   "metadata": {
    "ExecuteTime": {
     "end_time": "2022-05-24T14:43:35.007670Z",
     "start_time": "2022-05-24T14:43:34.984735Z"
    },
    "scrolled": true
   },
   "outputs": [
    {
     "data": {
      "text/plain": [
       "0    0.559533\n",
       "1    0.440467\n",
       "Name: label, dtype: float64"
      ]
     },
     "execution_count": 9,
     "metadata": {},
     "output_type": "execute_result"
    }
   ],
   "source": [
    "y_train.value_counts(normalize=True)"
   ]
  },
  {
   "cell_type": "code",
   "execution_count": 10,
   "metadata": {
    "ExecuteTime": {
     "end_time": "2022-05-24T14:43:35.653753Z",
     "start_time": "2022-05-24T14:43:35.641494Z"
    },
    "scrolled": false
   },
   "outputs": [
    {
     "data": {
      "text/plain": [
       "0    0.559494\n",
       "1    0.440506\n",
       "Name: label, dtype: float64"
      ]
     },
     "execution_count": 10,
     "metadata": {},
     "output_type": "execute_result"
    }
   ],
   "source": [
    "y_test.value_counts(normalize=True)"
   ]
  },
  {
   "cell_type": "markdown",
   "metadata": {},
   "source": [
    "## Adjusting TF-IDF Hyperparameters"
   ]
  },
  {
   "cell_type": "code",
   "execution_count": 58,
   "metadata": {
    "ExecuteTime": {
     "end_time": "2022-05-23T18:04:21.339837Z",
     "start_time": "2022-05-23T18:03:53.877783Z"
    }
   },
   "outputs": [
    {
     "data": {
      "text/plain": [
       "<36257x1869 sparse matrix of type '<class 'numpy.float64'>'\n",
       "\twith 9177650 stored elements in Compressed Sparse Row format>"
      ]
     },
     "execution_count": 58,
     "metadata": {},
     "output_type": "execute_result"
    }
   ],
   "source": [
    "tvec = TfidfVectorizer(min_df=0.05, max_df=0.95)\n",
    "\n",
    "X_tr_vec = tvec.fit_transform(X_train)\n",
    "\n",
    "X_tr_vec"
   ]
  },
  {
   "cell_type": "code",
   "execution_count": 60,
   "metadata": {
    "ExecuteTime": {
     "end_time": "2022-05-23T18:06:27.049567Z",
     "start_time": "2022-05-23T18:06:26.790267Z"
    },
    "scrolled": true
   },
   "outputs": [
    {
     "data": {
      "text/html": [
       "<div>\n",
       "<style scoped>\n",
       "    .dataframe tbody tr th:only-of-type {\n",
       "        vertical-align: middle;\n",
       "    }\n",
       "\n",
       "    .dataframe tbody tr th {\n",
       "        vertical-align: top;\n",
       "    }\n",
       "\n",
       "    .dataframe thead th {\n",
       "        text-align: right;\n",
       "    }\n",
       "</style>\n",
       "<table border=\"1\" class=\"dataframe\">\n",
       "  <thead>\n",
       "    <tr style=\"text-align: right;\">\n",
       "      <th></th>\n",
       "      <th>abandon</th>\n",
       "      <th>ability</th>\n",
       "      <th>able</th>\n",
       "      <th>academic</th>\n",
       "      <th>academy</th>\n",
       "      <th>accept</th>\n",
       "      <th>access</th>\n",
       "      <th>accident</th>\n",
       "      <th>accompany</th>\n",
       "      <th>accord</th>\n",
       "      <th>...</th>\n",
       "      <th>writer</th>\n",
       "      <th>yard</th>\n",
       "      <th>year</th>\n",
       "      <th>yellow</th>\n",
       "      <th>yet</th>\n",
       "      <th>york</th>\n",
       "      <th>young</th>\n",
       "      <th>youth</th>\n",
       "      <th>zealand</th>\n",
       "      <th>zone</th>\n",
       "    </tr>\n",
       "  </thead>\n",
       "  <tbody>\n",
       "    <tr>\n",
       "      <th>0</th>\n",
       "      <td>0.0</td>\n",
       "      <td>0.000000</td>\n",
       "      <td>0.000000</td>\n",
       "      <td>0.0</td>\n",
       "      <td>0.000000</td>\n",
       "      <td>0.015366</td>\n",
       "      <td>0.000000</td>\n",
       "      <td>0.0</td>\n",
       "      <td>0.0</td>\n",
       "      <td>0.044904</td>\n",
       "      <td>...</td>\n",
       "      <td>0.014417</td>\n",
       "      <td>0.0</td>\n",
       "      <td>0.041309</td>\n",
       "      <td>0.0</td>\n",
       "      <td>0.0</td>\n",
       "      <td>0.000000</td>\n",
       "      <td>0.0</td>\n",
       "      <td>0.000000</td>\n",
       "      <td>0.0</td>\n",
       "      <td>0.0</td>\n",
       "    </tr>\n",
       "    <tr>\n",
       "      <th>1</th>\n",
       "      <td>0.0</td>\n",
       "      <td>0.000000</td>\n",
       "      <td>0.045972</td>\n",
       "      <td>0.0</td>\n",
       "      <td>0.000000</td>\n",
       "      <td>0.000000</td>\n",
       "      <td>0.000000</td>\n",
       "      <td>0.0</td>\n",
       "      <td>0.0</td>\n",
       "      <td>0.000000</td>\n",
       "      <td>...</td>\n",
       "      <td>0.000000</td>\n",
       "      <td>0.0</td>\n",
       "      <td>0.012359</td>\n",
       "      <td>0.0</td>\n",
       "      <td>0.0</td>\n",
       "      <td>0.022214</td>\n",
       "      <td>0.0</td>\n",
       "      <td>0.000000</td>\n",
       "      <td>0.0</td>\n",
       "      <td>0.0</td>\n",
       "    </tr>\n",
       "    <tr>\n",
       "      <th>2</th>\n",
       "      <td>0.0</td>\n",
       "      <td>0.017404</td>\n",
       "      <td>0.014616</td>\n",
       "      <td>0.0</td>\n",
       "      <td>0.000000</td>\n",
       "      <td>0.000000</td>\n",
       "      <td>0.034290</td>\n",
       "      <td>0.0</td>\n",
       "      <td>0.0</td>\n",
       "      <td>0.000000</td>\n",
       "      <td>...</td>\n",
       "      <td>0.000000</td>\n",
       "      <td>0.0</td>\n",
       "      <td>0.031436</td>\n",
       "      <td>0.0</td>\n",
       "      <td>0.0</td>\n",
       "      <td>0.000000</td>\n",
       "      <td>0.0</td>\n",
       "      <td>0.000000</td>\n",
       "      <td>0.0</td>\n",
       "      <td>0.0</td>\n",
       "    </tr>\n",
       "    <tr>\n",
       "      <th>3</th>\n",
       "      <td>0.0</td>\n",
       "      <td>0.000000</td>\n",
       "      <td>0.000000</td>\n",
       "      <td>0.0</td>\n",
       "      <td>0.048731</td>\n",
       "      <td>0.000000</td>\n",
       "      <td>0.000000</td>\n",
       "      <td>0.0</td>\n",
       "      <td>0.0</td>\n",
       "      <td>0.000000</td>\n",
       "      <td>...</td>\n",
       "      <td>0.000000</td>\n",
       "      <td>0.0</td>\n",
       "      <td>0.039214</td>\n",
       "      <td>0.0</td>\n",
       "      <td>0.0</td>\n",
       "      <td>0.000000</td>\n",
       "      <td>0.0</td>\n",
       "      <td>0.000000</td>\n",
       "      <td>0.0</td>\n",
       "      <td>0.0</td>\n",
       "    </tr>\n",
       "    <tr>\n",
       "      <th>4</th>\n",
       "      <td>0.0</td>\n",
       "      <td>0.000000</td>\n",
       "      <td>0.000000</td>\n",
       "      <td>0.0</td>\n",
       "      <td>0.000000</td>\n",
       "      <td>0.000000</td>\n",
       "      <td>0.070911</td>\n",
       "      <td>0.0</td>\n",
       "      <td>0.0</td>\n",
       "      <td>0.000000</td>\n",
       "      <td>...</td>\n",
       "      <td>0.000000</td>\n",
       "      <td>0.0</td>\n",
       "      <td>0.000000</td>\n",
       "      <td>0.0</td>\n",
       "      <td>0.0</td>\n",
       "      <td>0.000000</td>\n",
       "      <td>0.0</td>\n",
       "      <td>0.000000</td>\n",
       "      <td>0.0</td>\n",
       "      <td>0.0</td>\n",
       "    </tr>\n",
       "    <tr>\n",
       "      <th>...</th>\n",
       "      <td>...</td>\n",
       "      <td>...</td>\n",
       "      <td>...</td>\n",
       "      <td>...</td>\n",
       "      <td>...</td>\n",
       "      <td>...</td>\n",
       "      <td>...</td>\n",
       "      <td>...</td>\n",
       "      <td>...</td>\n",
       "      <td>...</td>\n",
       "      <td>...</td>\n",
       "      <td>...</td>\n",
       "      <td>...</td>\n",
       "      <td>...</td>\n",
       "      <td>...</td>\n",
       "      <td>...</td>\n",
       "      <td>...</td>\n",
       "      <td>...</td>\n",
       "      <td>...</td>\n",
       "      <td>...</td>\n",
       "      <td>...</td>\n",
       "    </tr>\n",
       "    <tr>\n",
       "      <th>36252</th>\n",
       "      <td>0.0</td>\n",
       "      <td>0.000000</td>\n",
       "      <td>0.000000</td>\n",
       "      <td>0.0</td>\n",
       "      <td>0.000000</td>\n",
       "      <td>0.026939</td>\n",
       "      <td>0.000000</td>\n",
       "      <td>0.0</td>\n",
       "      <td>0.0</td>\n",
       "      <td>0.000000</td>\n",
       "      <td>...</td>\n",
       "      <td>0.000000</td>\n",
       "      <td>0.0</td>\n",
       "      <td>0.000000</td>\n",
       "      <td>0.0</td>\n",
       "      <td>0.0</td>\n",
       "      <td>0.043387</td>\n",
       "      <td>0.0</td>\n",
       "      <td>0.000000</td>\n",
       "      <td>0.0</td>\n",
       "      <td>0.0</td>\n",
       "    </tr>\n",
       "    <tr>\n",
       "      <th>36253</th>\n",
       "      <td>0.0</td>\n",
       "      <td>0.000000</td>\n",
       "      <td>0.000000</td>\n",
       "      <td>0.0</td>\n",
       "      <td>0.000000</td>\n",
       "      <td>0.000000</td>\n",
       "      <td>0.000000</td>\n",
       "      <td>0.0</td>\n",
       "      <td>0.0</td>\n",
       "      <td>0.000000</td>\n",
       "      <td>...</td>\n",
       "      <td>0.000000</td>\n",
       "      <td>0.0</td>\n",
       "      <td>0.089801</td>\n",
       "      <td>0.0</td>\n",
       "      <td>0.0</td>\n",
       "      <td>0.000000</td>\n",
       "      <td>0.0</td>\n",
       "      <td>0.000000</td>\n",
       "      <td>0.0</td>\n",
       "      <td>0.0</td>\n",
       "    </tr>\n",
       "    <tr>\n",
       "      <th>36254</th>\n",
       "      <td>0.0</td>\n",
       "      <td>0.000000</td>\n",
       "      <td>0.000000</td>\n",
       "      <td>0.0</td>\n",
       "      <td>0.000000</td>\n",
       "      <td>0.000000</td>\n",
       "      <td>0.000000</td>\n",
       "      <td>0.0</td>\n",
       "      <td>0.0</td>\n",
       "      <td>0.000000</td>\n",
       "      <td>...</td>\n",
       "      <td>0.000000</td>\n",
       "      <td>0.0</td>\n",
       "      <td>0.000000</td>\n",
       "      <td>0.0</td>\n",
       "      <td>0.0</td>\n",
       "      <td>0.000000</td>\n",
       "      <td>0.0</td>\n",
       "      <td>0.000000</td>\n",
       "      <td>0.0</td>\n",
       "      <td>0.0</td>\n",
       "    </tr>\n",
       "    <tr>\n",
       "      <th>36255</th>\n",
       "      <td>0.0</td>\n",
       "      <td>0.000000</td>\n",
       "      <td>0.000000</td>\n",
       "      <td>0.0</td>\n",
       "      <td>0.000000</td>\n",
       "      <td>0.000000</td>\n",
       "      <td>0.000000</td>\n",
       "      <td>0.0</td>\n",
       "      <td>0.0</td>\n",
       "      <td>0.052316</td>\n",
       "      <td>...</td>\n",
       "      <td>0.000000</td>\n",
       "      <td>0.0</td>\n",
       "      <td>0.064170</td>\n",
       "      <td>0.0</td>\n",
       "      <td>0.0</td>\n",
       "      <td>0.000000</td>\n",
       "      <td>0.0</td>\n",
       "      <td>0.082977</td>\n",
       "      <td>0.0</td>\n",
       "      <td>0.0</td>\n",
       "    </tr>\n",
       "    <tr>\n",
       "      <th>36256</th>\n",
       "      <td>0.0</td>\n",
       "      <td>0.000000</td>\n",
       "      <td>0.000000</td>\n",
       "      <td>0.0</td>\n",
       "      <td>0.000000</td>\n",
       "      <td>0.000000</td>\n",
       "      <td>0.000000</td>\n",
       "      <td>0.0</td>\n",
       "      <td>0.0</td>\n",
       "      <td>0.000000</td>\n",
       "      <td>...</td>\n",
       "      <td>0.000000</td>\n",
       "      <td>0.0</td>\n",
       "      <td>0.000000</td>\n",
       "      <td>0.0</td>\n",
       "      <td>0.0</td>\n",
       "      <td>0.000000</td>\n",
       "      <td>0.0</td>\n",
       "      <td>0.000000</td>\n",
       "      <td>0.0</td>\n",
       "      <td>0.0</td>\n",
       "    </tr>\n",
       "  </tbody>\n",
       "</table>\n",
       "<p>36257 rows × 1869 columns</p>\n",
       "</div>"
      ],
      "text/plain": [
       "       abandon   ability      able  academic   academy    accept    access  \\\n",
       "0          0.0  0.000000  0.000000       0.0  0.000000  0.015366  0.000000   \n",
       "1          0.0  0.000000  0.045972       0.0  0.000000  0.000000  0.000000   \n",
       "2          0.0  0.017404  0.014616       0.0  0.000000  0.000000  0.034290   \n",
       "3          0.0  0.000000  0.000000       0.0  0.048731  0.000000  0.000000   \n",
       "4          0.0  0.000000  0.000000       0.0  0.000000  0.000000  0.070911   \n",
       "...        ...       ...       ...       ...       ...       ...       ...   \n",
       "36252      0.0  0.000000  0.000000       0.0  0.000000  0.026939  0.000000   \n",
       "36253      0.0  0.000000  0.000000       0.0  0.000000  0.000000  0.000000   \n",
       "36254      0.0  0.000000  0.000000       0.0  0.000000  0.000000  0.000000   \n",
       "36255      0.0  0.000000  0.000000       0.0  0.000000  0.000000  0.000000   \n",
       "36256      0.0  0.000000  0.000000       0.0  0.000000  0.000000  0.000000   \n",
       "\n",
       "       accident  accompany    accord  ...    writer  yard      year  yellow  \\\n",
       "0           0.0        0.0  0.044904  ...  0.014417   0.0  0.041309     0.0   \n",
       "1           0.0        0.0  0.000000  ...  0.000000   0.0  0.012359     0.0   \n",
       "2           0.0        0.0  0.000000  ...  0.000000   0.0  0.031436     0.0   \n",
       "3           0.0        0.0  0.000000  ...  0.000000   0.0  0.039214     0.0   \n",
       "4           0.0        0.0  0.000000  ...  0.000000   0.0  0.000000     0.0   \n",
       "...         ...        ...       ...  ...       ...   ...       ...     ...   \n",
       "36252       0.0        0.0  0.000000  ...  0.000000   0.0  0.000000     0.0   \n",
       "36253       0.0        0.0  0.000000  ...  0.000000   0.0  0.089801     0.0   \n",
       "36254       0.0        0.0  0.000000  ...  0.000000   0.0  0.000000     0.0   \n",
       "36255       0.0        0.0  0.052316  ...  0.000000   0.0  0.064170     0.0   \n",
       "36256       0.0        0.0  0.000000  ...  0.000000   0.0  0.000000     0.0   \n",
       "\n",
       "       yet      york  young     youth  zealand  zone  \n",
       "0      0.0  0.000000    0.0  0.000000      0.0   0.0  \n",
       "1      0.0  0.022214    0.0  0.000000      0.0   0.0  \n",
       "2      0.0  0.000000    0.0  0.000000      0.0   0.0  \n",
       "3      0.0  0.000000    0.0  0.000000      0.0   0.0  \n",
       "4      0.0  0.000000    0.0  0.000000      0.0   0.0  \n",
       "...    ...       ...    ...       ...      ...   ...  \n",
       "36252  0.0  0.043387    0.0  0.000000      0.0   0.0  \n",
       "36253  0.0  0.000000    0.0  0.000000      0.0   0.0  \n",
       "36254  0.0  0.000000    0.0  0.000000      0.0   0.0  \n",
       "36255  0.0  0.000000    0.0  0.082977      0.0   0.0  \n",
       "36256  0.0  0.000000    0.0  0.000000      0.0   0.0  \n",
       "\n",
       "[36257 rows x 1869 columns]"
      ]
     },
     "execution_count": 60,
     "metadata": {},
     "output_type": "execute_result"
    }
   ],
   "source": [
    "pd.DataFrame(X_tr_vec.toarray(),\n",
    "             columns = tvec.get_feature_names_out())"
   ]
  },
  {
   "cell_type": "code",
   "execution_count": 61,
   "metadata": {
    "ExecuteTime": {
     "end_time": "2022-05-23T18:06:55.088323Z",
     "start_time": "2022-05-23T18:06:55.052344Z"
    }
   },
   "outputs": [
    {
     "data": {
      "text/plain": [
       "{'also': 65,\n",
       " 'know': 917,\n",
       " 'code': 289,\n",
       " 'conduct': 336,\n",
       " 'religious': 1388,\n",
       " 'practice': 1257,\n",
       " 'fast': 631,\n",
       " 'death': 417,\n",
       " 'gradually': 745,\n",
       " 'reduce': 1368,\n",
       " 'food': 677,\n",
       " 'view': 1791,\n",
       " 'human': 808,\n",
       " 'body': 180,\n",
       " 'another': 82,\n",
       " 'mean': 1021,\n",
       " 'destroy': 454,\n",
       " 'influence': 840,\n",
       " 'withdraw': 1844,\n",
       " 'physical': 1221,\n",
       " 'activity': 20,\n",
       " 'consider': 343,\n",
       " 'scholar': 1468,\n",
       " 'act': 17,\n",
       " 'weapon': 1815,\n",
       " 'preparation': 1261,\n",
       " 'extend': 610,\n",
       " 'year': 1861,\n",
       " 'available': 136,\n",
       " 'historic': 789,\n",
       " 'evidence': 589,\n",
       " 'suggest': 1646,\n",
       " 'observe': 1134,\n",
       " 'men': 1032,\n",
       " 'woman': 1848,\n",
       " 'include': 829,\n",
       " 'queen': 1326,\n",
       " 'history': 791,\n",
       " 'however': 806,\n",
       " 'modern': 1061,\n",
       " 'era': 573,\n",
       " 'relatively': 1386,\n",
       " 'event': 583,\n",
       " 'debate': 418,\n",
       " 'right': 1432,\n",
       " 'life': 958,\n",
       " 'freedom': 701,\n",
       " 'high': 782,\n",
       " 'court': 380,\n",
       " 'later': 932,\n",
       " 'india': 834,\n",
       " 'stay': 1608,\n",
       " 'decision': 423,\n",
       " 'five': 665,\n",
       " 'great': 749,\n",
       " 'non': 1116,\n",
       " 'lie': 957,\n",
       " 'seven': 1511,\n",
       " 'three': 1701,\n",
       " 'four': 693,\n",
       " 'limit': 962,\n",
       " 'movement': 1074,\n",
       " 'one': 1150,\n",
       " 'area': 98,\n",
       " 'use': 1772,\n",
       " 'thing': 1691,\n",
       " 'period': 1211,\n",
       " 'space': 1575,\n",
       " 'treat': 1735,\n",
       " 'twelve': 1747,\n",
       " 'teacher': 1669,\n",
       " 'divide': 482,\n",
       " 'two': 1751,\n",
       " 'component': 325,\n",
       " 'internal': 865,\n",
       " 'describe': 448,\n",
       " 'face': 616,\n",
       " 'accord': 9,\n",
       " 'text': 1683,\n",
       " 'lead': 939,\n",
       " 'injury': 847,\n",
       " 'person': 1214,\n",
       " 'root': 1446,\n",
       " 'cause': 236,\n",
       " 'condition': 335,\n",
       " 'without': 1846,\n",
       " 'always': 69,\n",
       " 'public': 1314,\n",
       " 'never': 1105,\n",
       " 'assist': 116,\n",
       " 'tool': 1712,\n",
       " 'away': 141,\n",
       " 'choice': 267,\n",
       " 'water': 1811,\n",
       " 'individual': 837,\n",
       " 'stop': 1616,\n",
       " 'full': 710,\n",
       " 'knowledge': 918,\n",
       " 'case': 232,\n",
       " 'ask': 112,\n",
       " 'successful': 1643,\n",
       " 'must': 1086,\n",
       " 'plan': 1228,\n",
       " 'peace': 1202,\n",
       " 'accept': 5,\n",
       " 'focus': 675,\n",
       " 'mind': 1048,\n",
       " 'matter': 1018,\n",
       " 'form': 683,\n",
       " 'recognize': 1362,\n",
       " 'situation': 1544,\n",
       " 'well': 1824,\n",
       " 'break': 191,\n",
       " 'example': 591,\n",
       " 'community': 315,\n",
       " 'would': 1856,\n",
       " 'believe': 163,\n",
       " 'vary': 1781,\n",
       " 'day': 413,\n",
       " 'sixth': 1546,\n",
       " 'part': 1187,\n",
       " 'follow': 676,\n",
       " 'line': 964,\n",
       " 'height': 777,\n",
       " 'leave': 945,\n",
       " 'top': 1713,\n",
       " 'give': 733,\n",
       " 'solid': 1558,\n",
       " 'take': 1663,\n",
       " 'hot': 802,\n",
       " 'try': 1744,\n",
       " 'every': 586,\n",
       " 'possible': 1251,\n",
       " 'way': 1813,\n",
       " 'keep': 909,\n",
       " 'mention': 1033,\n",
       " 'desire': 452,\n",
       " 'continue': 354,\n",
       " 'live': 969,\n",
       " 'die': 461,\n",
       " 'quickly': 1329,\n",
       " 'next': 1111,\n",
       " 'enjoy': 556,\n",
       " 'long': 976,\n",
       " 'future': 716,\n",
       " 'ancient': 75,\n",
       " 'date': 410,\n",
       " 'rd': 1345,\n",
       " 'nd': 1096,\n",
       " 'century': 242,\n",
       " 'want': 1806,\n",
       " 'place': 1227,\n",
       " 'make': 996,\n",
       " 'move': 1073,\n",
       " 'ground': 752,\n",
       " 'sit': 1542,\n",
       " 'stand': 1600,\n",
       " 'walk': 1804,\n",
       " 'like': 960,\n",
       " 'tree': 1737,\n",
       " 'consist': 345,\n",
       " 'limited': 963,\n",
       " 'th': 1684,\n",
       " 'st': 1597,\n",
       " 'early': 506,\n",
       " 'note': 1125,\n",
       " 'detail': 455,\n",
       " 'provide': 1312,\n",
       " 'method': 1037,\n",
       " 'choose': 268,\n",
       " 'writer': 1859,\n",
       " 'short': 1522,\n",
       " 'passage': 1196,\n",
       " 'despite': 453,\n",
       " 'near': 1097,\n",
       " 'end': 546,\n",
       " 'think': 1692,\n",
       " 'prince': 1276,\n",
       " 'turn': 1745,\n",
       " 'south': 1571,\n",
       " 'especially': 575,\n",
       " 'memorial': 1030,\n",
       " 'stone': 1615,\n",
       " 'term': 1679,\n",
       " 'derive': 447,\n",
       " 'name': 1087,\n",
       " 'perform': 1208,\n",
       " 'mostly': 1068,\n",
       " 'rock': 1440,\n",
       " 'style': 1636,\n",
       " 'add': 26,\n",
       " 'alongside': 63,\n",
       " 'frequently': 704,\n",
       " 'sometimes': 1563,\n",
       " 'door': 490,\n",
       " 'frame': 696,\n",
       " 'find': 658,\n",
       " 'range': 1335,\n",
       " 'belong': 164,\n",
       " 'large': 928,\n",
       " 'number': 1130,\n",
       " 'tradition': 1724,\n",
       " 'several': 1513,\n",
       " 'record': 1364,\n",
       " 'hill': 786,\n",
       " 'account': 10,\n",
       " 'old': 1149,\n",
       " 'script': 1476,\n",
       " 'historian': 788,\n",
       " 'fleet': 668,\n",
       " 'unique': 1760,\n",
       " 'king': 914,\n",
       " 'western': 1826,\n",
       " 'raise': 1334,\n",
       " 'son': 1564,\n",
       " 'front': 707,\n",
       " 'iii': 816,\n",
       " 'originally': 1169,\n",
       " 'importance': 822,\n",
       " 'respect': 1412,\n",
       " 'general': 721,\n",
       " 'goal': 737,\n",
       " 'among': 72,\n",
       " 'many': 1004,\n",
       " 'help': 778,\n",
       " 'weak': 1814,\n",
       " 'eye': 615,\n",
       " 'least': 944,\n",
       " 'instance': 853,\n",
       " 'respectively': 1413,\n",
       " 'director': 470,\n",
       " 'institute': 855,\n",
       " 'average': 138,\n",
       " 'notice': 1127,\n",
       " 'economic': 513,\n",
       " 'class': 278,\n",
       " 'forward': 689,\n",
       " 'often': 1147,\n",
       " 'clear': 281,\n",
       " 'base': 150,\n",
       " 'contribute': 358,\n",
       " 'negative': 1102,\n",
       " 'begin': 161,\n",
       " 'much': 1078,\n",
       " 'approach': 94,\n",
       " 'comparison': 318,\n",
       " 'since': 1536,\n",
       " 'time': 1706,\n",
       " 'compare': 317,\n",
       " 'contemporary': 351,\n",
       " 'professor': 1293,\n",
       " 'cite': 273,\n",
       " 'difference': 462,\n",
       " 'behind': 162,\n",
       " 'distinguish': 478,\n",
       " 'write': 1858,\n",
       " 'indian': 835,\n",
       " 'question': 1327,\n",
       " 'call': 212,\n",
       " 'similar': 1532,\n",
       " 'attempt': 125,\n",
       " 'article': 109,\n",
       " 'within': 1845,\n",
       " 'territory': 1680,\n",
       " 'state': 1604,\n",
       " 'rule': 1452,\n",
       " 'natural': 1092,\n",
       " 'therefore': 1690,\n",
       " 'concept': 330,\n",
       " 'union': 1759,\n",
       " 'file': 651,\n",
       " 'related': 1382,\n",
       " 'argue': 99,\n",
       " 'thus': 1704,\n",
       " 'section': 1485,\n",
       " 'commit': 310,\n",
       " 'aid': 50,\n",
       " 'relative': 1385,\n",
       " 'crime': 389,\n",
       " 'response': 1415,\n",
       " 'book': 182,\n",
       " 'former': 687,\n",
       " 'justice': 908,\n",
       " 'widely': 1832,\n",
       " 'permit': 1213,\n",
       " 'establish': 576,\n",
       " 'cover': 381,\n",
       " 'august': 131,\n",
       " 'member': 1029,\n",
       " 'hold': 793,\n",
       " 'protest': 1310,\n",
       " 'march': 1006,\n",
       " 'advocate': 38,\n",
       " 'exercise': 596,\n",
       " 'achieve': 12,\n",
       " 'rather': 1342,\n",
       " 'point': 1235,\n",
       " 'say': 1463,\n",
       " 'may': 1020,\n",
       " 'man': 998,\n",
       " 'span': 1577,\n",
       " 'admit': 32,\n",
       " 'grant': 748,\n",
       " 'april': 97,\n",
       " 'discuss': 472,\n",
       " 'nature': 1093,\n",
       " 'conclude': 333,\n",
       " 'david': 412,\n",
       " 'university': 1764,\n",
       " 'world': 1853,\n",
       " 'slow': 1550,\n",
       " 'river': 1437,\n",
       " 'enter': 559,\n",
       " 'fire': 661,\n",
       " 'path': 1198,\n",
       " 'hero': 780,\n",
       " 'journey': 901,\n",
       " 'whether': 1827,\n",
       " 'album': 55,\n",
       " 'american': 71,\n",
       " 'artist': 110,\n",
       " 'love': 985,\n",
       " 'show': 1525,\n",
       " 'release': 1387,\n",
       " 'contain': 349,\n",
       " 'song': 1565,\n",
       " 'twenty': 1748,\n",
       " 'third': 1693,\n",
       " 'studio': 1634,\n",
       " 'issue': 882,\n",
       " 'via': 1787,\n",
       " 'music': 1083,\n",
       " 'club': 284,\n",
       " 'internet': 867,\n",
       " 'service': 1507,\n",
       " 'due': 502,\n",
       " 'able': 2,\n",
       " 'chart': 261,\n",
       " 'alternative': 67,\n",
       " 'version': 1785,\n",
       " 'track': 1722,\n",
       " 'plus': 1234,\n",
       " 'previously': 1271,\n",
       " 'entitle': 563,\n",
       " 'beautiful': 159,\n",
       " 'go': 736,\n",
       " 'previous': 1270,\n",
       " 'unlike': 1766,\n",
       " 'effort': 525,\n",
       " 'instead': 854,\n",
       " 'co': 286,\n",
       " 'found': 690,\n",
       " 'session': 1508,\n",
       " 'parent': 1184,\n",
       " 'park': 1186,\n",
       " 'electric': 531,\n",
       " 'lady': 923,\n",
       " 'california': 211,\n",
       " 'henry': 779,\n",
       " 'sound': 1568,\n",
       " 'new': 1107,\n",
       " 'york': 1864,\n",
       " 'city': 275,\n",
       " 'edition': 517,\n",
       " 'cd': 237,\n",
       " 'print': 1279,\n",
       " 'purchase': 1318,\n",
       " 'platform': 1230,\n",
       " 'special': 1580,\n",
       " 'box': 187,\n",
       " 'set': 1509,\n",
       " 'original': 1168,\n",
       " 'concert': 332,\n",
       " 'dvd': 504,\n",
       " 'almost': 60,\n",
       " 'entire': 561,\n",
       " 'open': 1153,\n",
       " 'opening': 1154,\n",
       " 'ever': 585,\n",
       " 'sell': 1496,\n",
       " 'along': 62,\n",
       " 'additional': 28,\n",
       " 'minute': 1053,\n",
       " 'production': 1291,\n",
       " 'fourth': 694,\n",
       " 'girl': 732,\n",
       " 'occur': 1139,\n",
       " 'far': 628,\n",
       " 'sun': 1649,\n",
       " 'star': 1602,\n",
       " 'appear': 89,\n",
       " 'single': 1539,\n",
       " 'war': 1807,\n",
       " 'eighth': 527,\n",
       " 'immediately': 819,\n",
       " 'trust': 1743,\n",
       " 'singer': 1538,\n",
       " 'play': 1231,\n",
       " 'guitar': 759,\n",
       " 'game': 718,\n",
       " 'final': 654,\n",
       " 'close': 282,\n",
       " 'latter': 934,\n",
       " 'hide': 781,\n",
       " 'credit': 387,\n",
       " 'adapt': 25,\n",
       " 'characteristic': 258,\n",
       " 'plant': 1229,\n",
       " 'past': 1197,\n",
       " 'major': 994,\n",
       " 'decline': 425,\n",
       " 'specie': 1581,\n",
       " 'commonly': 313,\n",
       " 'grow': 754,\n",
       " 'loss': 982,\n",
       " 'threaten': 1700,\n",
       " 'global': 735,\n",
       " 'security': 1488,\n",
       " 'population': 1244,\n",
       " 'depend': 443,\n",
       " 'variety': 1779,\n",
       " 'increasingly': 832,\n",
       " 'commercial': 308,\n",
       " 'bank': 148,\n",
       " 'international': 866,\n",
       " 'organization': 1165,\n",
       " 'work': 1851,\n",
       " 'preserve': 1265,\n",
       " 'aspect': 113,\n",
       " 'important': 823,\n",
       " 'serious': 1505,\n",
       " 'environmental': 567,\n",
       " 'concern': 331,\n",
       " 'current': 400,\n",
       " 'half': 762,\n",
       " 'could': 372,\n",
       " 'threat': 1699,\n",
       " 'family': 625,\n",
       " 'completely': 322,\n",
       " 'miss': 1054,\n",
       " 'represent': 1400,\n",
       " 'worldwide': 1854,\n",
       " 'need': 1101,\n",
       " 'collect': 294,\n",
       " 'improve': 824,\n",
       " 'regard': 1374,\n",
       " 'native': 1091,\n",
       " 'distribution': 480,\n",
       " 'critical': 391,\n",
       " 'east': 510,\n",
       " 'southern': 1573,\n",
       " 'europe': 580,\n",
       " 'southeast': 1572,\n",
       " 'asia': 111,\n",
       " 'america': 70,\n",
       " 'distribute': 479,\n",
       " 'across': 16,\n",
       " 'country': 376,\n",
       " 'become': 160,\n",
       " 'local': 972,\n",
       " 'different': 463,\n",
       " 'standard': 1601,\n",
       " 'small': 1552,\n",
       " 'increase': 831,\n",
       " 'share': 1517,\n",
       " 'total': 1715,\n",
       " 'energy': 548,\n",
       " 'weight': 1823,\n",
       " 'oil': 1148,\n",
       " 'nation': 1089,\n",
       " 'specific': 1582,\n",
       " 'result': 1421,\n",
       " 'various': 1780,\n",
       " 'poor': 1240,\n",
       " 'likely': 961,\n",
       " 'growth': 755,\n",
       " 'level': 954,\n",
       " 'temperature': 1676,\n",
       " 'similarly': 1533,\n",
       " 'addition': 27,\n",
       " 'determine': 456,\n",
       " 'overall': 1175,\n",
       " 'potential': 1254,\n",
       " 'attribute': 129,\n",
       " 'size': 1547,\n",
       " 'branch': 189,\n",
       " 'pattern': 1199,\n",
       " 'color': 297,\n",
       " 'less': 951,\n",
       " 'heat': 774,\n",
       " 'cold': 290,\n",
       " 'ability': 1,\n",
       " 'develop': 457,\n",
       " 'meet': 1027,\n",
       " 'might': 1043,\n",
       " 'back': 142,\n",
       " 'field': 647,\n",
       " 'type': 1752,\n",
       " 'plot': 1233,\n",
       " 'land': 925,\n",
       " 'advantage': 36,\n",
       " 'scientist': 1472,\n",
       " 'draw': 495,\n",
       " 'resource': 1411,\n",
       " 'ensure': 558,\n",
       " 'access': 6,\n",
       " 'highly': 784,\n",
       " 'select': 1493,\n",
       " 'remove': 1393,\n",
       " 'function': 713,\n",
       " 'effectively': 524,\n",
       " 'self': 1495,\n",
       " 'system': 1661,\n",
       " 'animal': 78,\n",
       " 'apart': 87,\n",
       " 'produce': 1288,\n",
       " 'fuel': 709,\n",
       " 'maintain': 993,\n",
       " 'flow': 673,\n",
       " 'control': 360,\n",
       " 'product': 1290,\n",
       " 'traditional': 1725,\n",
       " 'best': 166,\n",
       " 'multiple': 1080,\n",
       " 'shift': 1518,\n",
       " 'latin': 933,\n",
       " 'mixed': 1057,\n",
       " 'mountain': 1072,\n",
       " 'effect': 522,\n",
       " 'enemy': 547,\n",
       " 'arrange': 103,\n",
       " 'combination': 301,\n",
       " 'surround': 1656,\n",
       " 'environment': 566,\n",
       " 'around': 102,\n",
       " 'management': 1000,\n",
       " 'strategy': 1622,\n",
       " 'protect': 1308,\n",
       " 'application': 91,\n",
       " 'good': 741,\n",
       " 'compete': 319,\n",
       " 'apply': 92,\n",
       " 'study': 1635,\n",
       " 'complete': 321,\n",
       " 'save': 1461,\n",
       " 'require': 1405,\n",
       " 'foundation': 691,\n",
       " 'source': 1570,\n",
       " 'benefit': 165,\n",
       " 'rural': 1454,\n",
       " 'though': 1696,\n",
       " 'profit': 1295,\n",
       " 'value': 1777,\n",
       " 'market': 1008,\n",
       " 'process': 1287,\n",
       " 'decrease': 426,\n",
       " 'demand': 438,\n",
       " 'failure': 621,\n",
       " 'offer': 1142,\n",
       " 'return': 1425,\n",
       " 'allow': 58,\n",
       " 'survive': 1658,\n",
       " 'low': 986,\n",
       " 'mass': 1014,\n",
       " 'whole': 1829,\n",
       " 'affect': 40,\n",
       " 'billion': 171,\n",
       " 'spread': 1594,\n",
       " 'africa': 41,\n",
       " 'trial': 1738,\n",
       " 'action': 18,\n",
       " 'report': 1399,\n",
       " 'warn': 1808,\n",
       " 'african': 42,\n",
       " 'responsible': 1417,\n",
       " 'million': 1047,\n",
       " 'ton': 1711,\n",
       " 'main': 991,\n",
       " 'region': 1375,\n",
       " 'percent': 1206,\n",
       " 'emergency': 539,\n",
       " 'program': 1296,\n",
       " 'lake': 924,\n",
       " 'lack': 922,\n",
       " 'saw': 1462,\n",
       " 'marketing': 1009,\n",
       " 'particular': 1189,\n",
       " 'replace': 1397,\n",
       " 'risk': 1435,\n",
       " 'race': 1331,\n",
       " 'counter': 375,\n",
       " 'multi': 1079,\n",
       " 'mix': 1056,\n",
       " 'hope': 798,\n",
       " 'aim': 51,\n",
       " 'support': 1652,\n",
       " 'formerly': 688,\n",
       " 'initiative': 846,\n",
       " 'network': 1104,\n",
       " 'improvement': 825,\n",
       " 'unite': 1762,\n",
       " 'development': 459,\n",
       " 'lose': 981,\n",
       " 'measure': 1023,\n",
       " 'step': 1610,\n",
       " 'team': 1670,\n",
       " 'particularly': 1190,\n",
       " 'national': 1090,\n",
       " 'site': 1543,\n",
       " 'research': 1408,\n",
       " 'independent': 833,\n",
       " 'organisation': 1164,\n",
       " 'exist': 598,\n",
       " 'partnership': 1192,\n",
       " 'united': 1763,\n",
       " 'group': 753,\n",
       " 'center': 239,\n",
       " 'others': 1171,\n",
       " 'collection': 295,\n",
       " 'create': 383,\n",
       " 'department': 441,\n",
       " 'propose': 1307,\n",
       " 'australian': 133,\n",
       " 'fund': 714,\n",
       " 'significantly': 1530,\n",
       " 'modify': 1062,\n",
       " 'capable': 222,\n",
       " 'certain': 245,\n",
       " 'target': 1666,\n",
       " 'closely': 283,\n",
       " 'pop': 1241,\n",
       " 'san': 1460,\n",
       " 'francisco': 698,\n",
       " 'festival': 646,\n",
       " 'feature': 636,\n",
       " 'white': 1828,\n",
       " 'fox': 695,\n",
       " 'island': 881,\n",
       " 'middle': 1042,\n",
       " 'bay': 154,\n",
       " 'host': 801,\n",
       " 'per': 1205,\n",
       " 'location': 974,\n",
       " 'round': 1448,\n",
       " 'talent': 1664,\n",
       " 'venue': 1784,\n",
       " 'hall': 763,\n",
       " 'free': 700,\n",
       " 'musical': 1084,\n",
       " 'street': 1624,\n",
       " 'block': 175,\n",
       " 'party': 1193,\n",
       " 'additionally': 29,\n",
       " 'partner': 1191,\n",
       " 'institution': 856,\n",
       " 'throughout': 1702,\n",
       " 'magazine': 990,\n",
       " 'academy': 4,\n",
       " 'science': 1470,\n",
       " 'band': 147,\n",
       " 'although': 68,\n",
       " 'expand': 600,\n",
       " 'week': 1820,\n",
       " 'entertainment': 560,\n",
       " 'first': 663,\n",
       " 'annual': 81,\n",
       " 'corporation': 370,\n",
       " 'actual': 22,\n",
       " 'coast': 288,\n",
       " 'typically': 1754,\n",
       " 'electronic': 532,\n",
       " 'highlight': 783,\n",
       " 'art': 108,\n",
       " 'exhibit': 597,\n",
       " 'acquire': 14,\n",
       " 'website': 1819,\n",
       " 'user': 1774,\n",
       " 'scene': 1465,\n",
       " 'culture': 398,\n",
       " 'guide': 758,\n",
       " 'people': 1204,\n",
       " 'connect': 340,\n",
       " 'north': 1119,\n",
       " 'medium': 1026,\n",
       " 'originate': 1170,\n",
       " 'december': 421,\n",
       " 'announce': 80,\n",
       " 'wave': 1812,\n",
       " 'night': 1112,\n",
       " 'june': 906,\n",
       " 'defense': 433,\n",
       " 'travel': 1734,\n",
       " 'fully': 711,\n",
       " 'integrate': 858,\n",
       " 'enable': 543,\n",
       " 'order': 1163,\n",
       " 'prepare': 1262,\n",
       " 'receive': 1357,\n",
       " 'generate': 723,\n",
       " 'split': 1590,\n",
       " 'government': 742,\n",
       " 'charge': 259,\n",
       " 'card': 228,\n",
       " 'operate': 1155,\n",
       " 'approximately': 96,\n",
       " 'daily': 404,\n",
       " 'basis': 152,\n",
       " 'data': 409,\n",
       " 'office': 1143,\n",
       " 'technical': 1671,\n",
       " 'operation': 1156,\n",
       " 'assistance': 117,\n",
       " 'official': 1145,\n",
       " 'answer': 83,\n",
       " 'relate': 1381,\n",
       " 'topic': 1714,\n",
       " 'policy': 1237,\n",
       " 'web': 1818,\n",
       " 'solution': 1560,\n",
       " 'information': 842,\n",
       " 'extension': 611,\n",
       " 'submit': 1638,\n",
       " 'progress': 1298,\n",
       " 'encourage': 545,\n",
       " 'explore': 607,\n",
       " 'hundred': 809,\n",
       " 'discover': 471,\n",
       " 'train': 1727,\n",
       " 'opportunity': 1159,\n",
       " 'trip': 1739,\n",
       " 'register': 1377,\n",
       " 'reviewer': 1429,\n",
       " 'let': 952,\n",
       " 'military': 1046,\n",
       " 'agency': 45,\n",
       " 'learn': 943,\n",
       " 'format': 685,\n",
       " 'specifically': 1583,\n",
       " 'design': 449,\n",
       " 'enhance': 555,\n",
       " 'training': 1728,\n",
       " 'course': 379,\n",
       " 'reference': 1370,\n",
       " 'material': 1017,\n",
       " 'bear': 157,\n",
       " 'nominate': 1115,\n",
       " 'engineer': 551,\n",
       " 'master': 1015,\n",
       " 'digital': 466,\n",
       " 'label': 921,\n",
       " 'company': 316,\n",
       " 'producer': 1289,\n",
       " 'notable': 1123,\n",
       " 'joe': 893,\n",
       " 'bridge': 193,\n",
       " 'title': 1707,\n",
       " 'fight': 649,\n",
       " 'steve': 1612,\n",
       " 'kid': 911,\n",
       " 'iron': 880,\n",
       " 'young': 1865,\n",
       " 'series': 1504,\n",
       " 'television': 1674,\n",
       " 'blue': 177,\n",
       " 'bring': 196,\n",
       " 'deep': 429,\n",
       " 'second': 1481,\n",
       " 'category': 235,\n",
       " 'james': 887,\n",
       " 'town': 1721,\n",
       " 'interest': 862,\n",
       " 'pursue': 1320,\n",
       " 'career': 230,\n",
       " 'industry': 839,\n",
       " 'west': 1825,\n",
       " 'side': 1526,\n",
       " 'chief': 263,\n",
       " 'project': 1299,\n",
       " 'promote': 1302,\n",
       " 'staff': 1598,\n",
       " 'wide': 1831,\n",
       " 'la': 920,\n",
       " 'dispute': 475,\n",
       " 'start': 1603,\n",
       " 'room': 1445,\n",
       " 'chris': 269,\n",
       " 'pro': 1283,\n",
       " 'summer': 1648,\n",
       " 'conference': 337,\n",
       " 'october': 1141,\n",
       " 'husband': 811,\n",
       " 'launch': 935,\n",
       " 'instrument': 857,\n",
       " 'professional': 1292,\n",
       " 'equipment': 571,\n",
       " 'load': 971,\n",
       " 'active': 19,\n",
       " 'elect': 529,\n",
       " 'governor': 743,\n",
       " 'chapter': 256,\n",
       " 'episode': 568,\n",
       " 'season': 1479,\n",
       " 'medical': 1025,\n",
       " 'drama': 494,\n",
       " 'direct': 467,\n",
       " 'tom': 1710,\n",
       " 'broadcast': 200,\n",
       " 'dr': 492,\n",
       " 'father': 632,\n",
       " 'hospital': 800,\n",
       " 'seek': 1490,\n",
       " 'get': 729,\n",
       " 'job': 892,\n",
       " 'hunt': 810,\n",
       " 'washington': 1809,\n",
       " 'film': 653,\n",
       " 'primarily': 1273,\n",
       " 'los': 980,\n",
       " 'angeles': 77,\n",
       " 'role': 1441,\n",
       " 'guest': 757,\n",
       " 'appearance': 90,\n",
       " 'generally': 722,\n",
       " 'positive': 1249,\n",
       " 'review': 1428,\n",
       " 'performance': 1209,\n",
       " 'praise': 1258,\n",
       " 'upon': 1768,\n",
       " 'initial': 843,\n",
       " 'air': 52,\n",
       " 'rating': 1343,\n",
       " 'rank': 1336,\n",
       " 'chamber': 250,\n",
       " 'outside': 1173,\n",
       " 'house': 805,\n",
       " 'blood': 176,\n",
       " 'mark': 1007,\n",
       " 'reveal': 1426,\n",
       " 'assign': 115,\n",
       " 'richard': 1431,\n",
       " 'jr': 902,\n",
       " 'attend': 126,\n",
       " 'reject': 1380,\n",
       " 'cut': 403,\n",
       " 'board': 178,\n",
       " 'candidate': 220,\n",
       " 'subsequently': 1640,\n",
       " 'agree': 47,\n",
       " 'wife': 1834,\n",
       " 'dead': 415,\n",
       " 'success': 1642,\n",
       " 'tell': 1675,\n",
       " 'hire': 787,\n",
       " 'conclusion': 334,\n",
       " 'see': 1489,\n",
       " 'ultimately': 1756,\n",
       " 'forest': 682,\n",
       " 'edward': 521,\n",
       " 'lee': 946,\n",
       " 'serve': 1506,\n",
       " 'designer': 451,\n",
       " 'scheme': 1467,\n",
       " 'come': 303,\n",
       " 'crew': 388,\n",
       " 'unable': 1757,\n",
       " 'comment': 307,\n",
       " 'really': 1353,\n",
       " 'easy': 512,\n",
       " 'understand': 1758,\n",
       " 'movie': 1075,\n",
       " 'recover': 1365,\n",
       " 'even': 582,\n",
       " 'fact': 618,\n",
       " 'put': 1322,\n",
       " 'month': 1066,\n",
       " 'lot': 983,\n",
       " 'gift': 731,\n",
       " 'intend': 860,\n",
       " 'relationship': 1384,\n",
       " 'change': 254,\n",
       " 'request': 1404,\n",
       " 'story': 1619,\n",
       " 'bad': 144,\n",
       " 'huge': 807,\n",
       " 'hard': 768,\n",
       " 'enough': 557,\n",
       " 'something': 1562,\n",
       " 'happen': 766,\n",
       " 'shoot': 1520,\n",
       " 'speech': 1584,\n",
       " 'simple': 1534,\n",
       " 'do': 484,\n",
       " 'dance': 406,\n",
       " 'finally': 655,\n",
       " 'sister': 1541,\n",
       " 'reason': 1355,\n",
       " 'count': 374,\n",
       " 'idea': 812,\n",
       " 'age': 44,\n",
       " 'corner': 368,\n",
       " 'character': 257,\n",
       " 'friend': 705,\n",
       " 'wood': 1849,\n",
       " 'hour': 804,\n",
       " 'store': 1617,\n",
       " 'feel': 640,\n",
       " 'channel': 255,\n",
       " 'experience': 603,\n",
       " 'strength': 1625,\n",
       " 'doctor': 485,\n",
       " 'soon': 1566,\n",
       " 'ready': 1349,\n",
       " 'yet': 1863,\n",
       " 'viewer': 1792,\n",
       " 'win': 1837,\n",
       " 'eastern': 511,\n",
       " 'key': 910,\n",
       " 'private': 1281,\n",
       " 'critic': 390,\n",
       " 'felt': 644,\n",
       " 'happy': 767,\n",
       " 'cast': 233,\n",
       " 'dream': 496,\n",
       " 'big': 168,\n",
       " 'tv': 1746,\n",
       " 'adam': 24,\n",
       " 'moment': 1063,\n",
       " 'powerful': 1256,\n",
       " 'little': 968,\n",
       " 'michael': 1040,\n",
       " 'post': 1253,\n",
       " 'attack': 124,\n",
       " 'arrive': 107,\n",
       " 'society': 1555,\n",
       " 'november': 1129,\n",
       " 'decide': 422,\n",
       " 'boy': 188,\n",
       " 'dress': 497,\n",
       " 'force': 680,\n",
       " 'requirement': 1406,\n",
       " 'rest': 1418,\n",
       " 'martin': 1012,\n",
       " 'rich': 1430,\n",
       " 'rat': 1340,\n",
       " 'invite': 875,\n",
       " 'perfect': 1207,\n",
       " 'accuse': 11,\n",
       " 'letter': 953,\n",
       " 'brother': 202,\n",
       " 'read': 1348,\n",
       " 'table': 1662,\n",
       " 'reaction': 1347,\n",
       " 'light': 959,\n",
       " 'afterwards': 43,\n",
       " 'sir': 1540,\n",
       " 'fun': 712,\n",
       " 'centre': 241,\n",
       " 'run': 1453,\n",
       " 'together': 1709,\n",
       " 'still': 1613,\n",
       " 'meanwhile': 1022,\n",
       " 'child': 264,\n",
       " 'prize': 1282,\n",
       " 'picture': 1223,\n",
       " 'look': 978,\n",
       " 'whose': 1830,\n",
       " 'extremely': 614,\n",
       " 'match': 1016,\n",
       " 'tie': 1705,\n",
       " 'reach': 1346,\n",
       " 'competition': 320,\n",
       " 'worth': 1855,\n",
       " 'word': 1850,\n",
       " 'wear': 1816,\n",
       " 'actually': 23,\n",
       " 'college': 296,\n",
       " 'balance': 145,\n",
       " 'position': 1248,\n",
       " 'background': 143,\n",
       " 'straight': 1620,\n",
       " 'regular': 1378,\n",
       " 'voice': 1799,\n",
       " 'skill': 1548,\n",
       " 'normal': 1118,\n",
       " 'easily': 509,\n",
       " 'finish': 660,\n",
       " 'equivalent': 572,\n",
       " 'ninth': 1114,\n",
       " 'sport': 1592,\n",
       " 'theme': 1687,\n",
       " 'roll': 1442,\n",
       " 'challenge': 249,\n",
       " 'touch': 1716,\n",
       " 'impact': 820,\n",
       " 'news': 1109,\n",
       " 'content': 352,\n",
       " 'prominent': 1300,\n",
       " 'realize': 1352,\n",
       " 'heavily': 775,\n",
       " 'notably': 1124,\n",
       " ...}"
      ]
     },
     "execution_count": 61,
     "metadata": {},
     "output_type": "execute_result"
    }
   ],
   "source": [
    "tvec.vocabulary_"
   ]
  },
  {
   "cell_type": "code",
   "execution_count": 62,
   "metadata": {
    "ExecuteTime": {
     "end_time": "2022-05-23T18:08:44.925684Z",
     "start_time": "2022-05-23T18:08:44.905901Z"
    }
   },
   "outputs": [],
   "source": [
    "xgb_cvec_pipe = Pipeline(steps=[\n",
    "    ('cvec', CountVectorizer()),\n",
    "    ('xgb', XGBClassifier())\n",
    "])"
   ]
  },
  {
   "cell_type": "code",
   "execution_count": 64,
   "metadata": {
    "ExecuteTime": {
     "end_time": "2022-05-23T18:11:18.730118Z",
     "start_time": "2022-05-23T18:10:49.402097Z"
    },
    "scrolled": false
   },
   "outputs": [
    {
     "data": {
      "text/html": [
       "<div>\n",
       "<style scoped>\n",
       "    .dataframe tbody tr th:only-of-type {\n",
       "        vertical-align: middle;\n",
       "    }\n",
       "\n",
       "    .dataframe tbody tr th {\n",
       "        vertical-align: top;\n",
       "    }\n",
       "\n",
       "    .dataframe thead th {\n",
       "        text-align: right;\n",
       "    }\n",
       "</style>\n",
       "<table border=\"1\" class=\"dataframe\">\n",
       "  <thead>\n",
       "    <tr style=\"text-align: right;\">\n",
       "      <th></th>\n",
       "      <th>aa</th>\n",
       "      <th>aaa</th>\n",
       "      <th>aaron</th>\n",
       "      <th>ab</th>\n",
       "      <th>abandon</th>\n",
       "      <th>abbey</th>\n",
       "      <th>abbot</th>\n",
       "      <th>abbott</th>\n",
       "      <th>abbreviate</th>\n",
       "      <th>abby</th>\n",
       "      <th>...</th>\n",
       "      <th>zero</th>\n",
       "      <th>zhang</th>\n",
       "      <th>zimbabwe</th>\n",
       "      <th>zinc</th>\n",
       "      <th>zoe</th>\n",
       "      <th>zombie</th>\n",
       "      <th>zone</th>\n",
       "      <th>zoo</th>\n",
       "      <th>zurich</th>\n",
       "      <th>zx</th>\n",
       "    </tr>\n",
       "  </thead>\n",
       "  <tbody>\n",
       "    <tr>\n",
       "      <th>0</th>\n",
       "      <td>0</td>\n",
       "      <td>0</td>\n",
       "      <td>0</td>\n",
       "      <td>0</td>\n",
       "      <td>0</td>\n",
       "      <td>0</td>\n",
       "      <td>0</td>\n",
       "      <td>0</td>\n",
       "      <td>0</td>\n",
       "      <td>0</td>\n",
       "      <td>...</td>\n",
       "      <td>0</td>\n",
       "      <td>0</td>\n",
       "      <td>0</td>\n",
       "      <td>0</td>\n",
       "      <td>0</td>\n",
       "      <td>0</td>\n",
       "      <td>0</td>\n",
       "      <td>0</td>\n",
       "      <td>0</td>\n",
       "      <td>0</td>\n",
       "    </tr>\n",
       "    <tr>\n",
       "      <th>1</th>\n",
       "      <td>0</td>\n",
       "      <td>0</td>\n",
       "      <td>0</td>\n",
       "      <td>0</td>\n",
       "      <td>0</td>\n",
       "      <td>0</td>\n",
       "      <td>0</td>\n",
       "      <td>0</td>\n",
       "      <td>0</td>\n",
       "      <td>0</td>\n",
       "      <td>...</td>\n",
       "      <td>0</td>\n",
       "      <td>0</td>\n",
       "      <td>0</td>\n",
       "      <td>0</td>\n",
       "      <td>0</td>\n",
       "      <td>0</td>\n",
       "      <td>0</td>\n",
       "      <td>0</td>\n",
       "      <td>0</td>\n",
       "      <td>0</td>\n",
       "    </tr>\n",
       "    <tr>\n",
       "      <th>2</th>\n",
       "      <td>0</td>\n",
       "      <td>0</td>\n",
       "      <td>0</td>\n",
       "      <td>0</td>\n",
       "      <td>0</td>\n",
       "      <td>0</td>\n",
       "      <td>0</td>\n",
       "      <td>0</td>\n",
       "      <td>0</td>\n",
       "      <td>0</td>\n",
       "      <td>...</td>\n",
       "      <td>0</td>\n",
       "      <td>0</td>\n",
       "      <td>0</td>\n",
       "      <td>0</td>\n",
       "      <td>0</td>\n",
       "      <td>0</td>\n",
       "      <td>0</td>\n",
       "      <td>0</td>\n",
       "      <td>0</td>\n",
       "      <td>0</td>\n",
       "    </tr>\n",
       "    <tr>\n",
       "      <th>3</th>\n",
       "      <td>0</td>\n",
       "      <td>0</td>\n",
       "      <td>0</td>\n",
       "      <td>0</td>\n",
       "      <td>0</td>\n",
       "      <td>0</td>\n",
       "      <td>0</td>\n",
       "      <td>0</td>\n",
       "      <td>0</td>\n",
       "      <td>0</td>\n",
       "      <td>...</td>\n",
       "      <td>0</td>\n",
       "      <td>0</td>\n",
       "      <td>0</td>\n",
       "      <td>0</td>\n",
       "      <td>0</td>\n",
       "      <td>0</td>\n",
       "      <td>0</td>\n",
       "      <td>0</td>\n",
       "      <td>0</td>\n",
       "      <td>0</td>\n",
       "    </tr>\n",
       "    <tr>\n",
       "      <th>4</th>\n",
       "      <td>0</td>\n",
       "      <td>0</td>\n",
       "      <td>0</td>\n",
       "      <td>0</td>\n",
       "      <td>0</td>\n",
       "      <td>0</td>\n",
       "      <td>0</td>\n",
       "      <td>0</td>\n",
       "      <td>0</td>\n",
       "      <td>0</td>\n",
       "      <td>...</td>\n",
       "      <td>0</td>\n",
       "      <td>0</td>\n",
       "      <td>0</td>\n",
       "      <td>0</td>\n",
       "      <td>0</td>\n",
       "      <td>0</td>\n",
       "      <td>0</td>\n",
       "      <td>0</td>\n",
       "      <td>0</td>\n",
       "      <td>0</td>\n",
       "    </tr>\n",
       "    <tr>\n",
       "      <th>...</th>\n",
       "      <td>...</td>\n",
       "      <td>...</td>\n",
       "      <td>...</td>\n",
       "      <td>...</td>\n",
       "      <td>...</td>\n",
       "      <td>...</td>\n",
       "      <td>...</td>\n",
       "      <td>...</td>\n",
       "      <td>...</td>\n",
       "      <td>...</td>\n",
       "      <td>...</td>\n",
       "      <td>...</td>\n",
       "      <td>...</td>\n",
       "      <td>...</td>\n",
       "      <td>...</td>\n",
       "      <td>...</td>\n",
       "      <td>...</td>\n",
       "      <td>...</td>\n",
       "      <td>...</td>\n",
       "      <td>...</td>\n",
       "      <td>...</td>\n",
       "    </tr>\n",
       "    <tr>\n",
       "      <th>36252</th>\n",
       "      <td>0</td>\n",
       "      <td>0</td>\n",
       "      <td>0</td>\n",
       "      <td>0</td>\n",
       "      <td>0</td>\n",
       "      <td>0</td>\n",
       "      <td>0</td>\n",
       "      <td>0</td>\n",
       "      <td>0</td>\n",
       "      <td>0</td>\n",
       "      <td>...</td>\n",
       "      <td>0</td>\n",
       "      <td>0</td>\n",
       "      <td>0</td>\n",
       "      <td>0</td>\n",
       "      <td>0</td>\n",
       "      <td>0</td>\n",
       "      <td>0</td>\n",
       "      <td>0</td>\n",
       "      <td>0</td>\n",
       "      <td>0</td>\n",
       "    </tr>\n",
       "    <tr>\n",
       "      <th>36253</th>\n",
       "      <td>2</td>\n",
       "      <td>0</td>\n",
       "      <td>0</td>\n",
       "      <td>0</td>\n",
       "      <td>0</td>\n",
       "      <td>0</td>\n",
       "      <td>0</td>\n",
       "      <td>0</td>\n",
       "      <td>0</td>\n",
       "      <td>0</td>\n",
       "      <td>...</td>\n",
       "      <td>0</td>\n",
       "      <td>0</td>\n",
       "      <td>0</td>\n",
       "      <td>0</td>\n",
       "      <td>0</td>\n",
       "      <td>0</td>\n",
       "      <td>0</td>\n",
       "      <td>0</td>\n",
       "      <td>0</td>\n",
       "      <td>0</td>\n",
       "    </tr>\n",
       "    <tr>\n",
       "      <th>36254</th>\n",
       "      <td>0</td>\n",
       "      <td>0</td>\n",
       "      <td>0</td>\n",
       "      <td>0</td>\n",
       "      <td>0</td>\n",
       "      <td>0</td>\n",
       "      <td>0</td>\n",
       "      <td>0</td>\n",
       "      <td>0</td>\n",
       "      <td>0</td>\n",
       "      <td>...</td>\n",
       "      <td>0</td>\n",
       "      <td>0</td>\n",
       "      <td>0</td>\n",
       "      <td>0</td>\n",
       "      <td>0</td>\n",
       "      <td>0</td>\n",
       "      <td>0</td>\n",
       "      <td>0</td>\n",
       "      <td>0</td>\n",
       "      <td>0</td>\n",
       "    </tr>\n",
       "    <tr>\n",
       "      <th>36255</th>\n",
       "      <td>0</td>\n",
       "      <td>0</td>\n",
       "      <td>0</td>\n",
       "      <td>0</td>\n",
       "      <td>0</td>\n",
       "      <td>0</td>\n",
       "      <td>0</td>\n",
       "      <td>0</td>\n",
       "      <td>0</td>\n",
       "      <td>0</td>\n",
       "      <td>...</td>\n",
       "      <td>0</td>\n",
       "      <td>0</td>\n",
       "      <td>0</td>\n",
       "      <td>0</td>\n",
       "      <td>0</td>\n",
       "      <td>0</td>\n",
       "      <td>0</td>\n",
       "      <td>0</td>\n",
       "      <td>0</td>\n",
       "      <td>0</td>\n",
       "    </tr>\n",
       "    <tr>\n",
       "      <th>36256</th>\n",
       "      <td>0</td>\n",
       "      <td>0</td>\n",
       "      <td>0</td>\n",
       "      <td>0</td>\n",
       "      <td>0</td>\n",
       "      <td>0</td>\n",
       "      <td>0</td>\n",
       "      <td>0</td>\n",
       "      <td>0</td>\n",
       "      <td>0</td>\n",
       "      <td>...</td>\n",
       "      <td>0</td>\n",
       "      <td>0</td>\n",
       "      <td>0</td>\n",
       "      <td>0</td>\n",
       "      <td>0</td>\n",
       "      <td>0</td>\n",
       "      <td>0</td>\n",
       "      <td>0</td>\n",
       "      <td>0</td>\n",
       "      <td>0</td>\n",
       "    </tr>\n",
       "  </tbody>\n",
       "</table>\n",
       "<p>36257 rows × 10000 columns</p>\n",
       "</div>"
      ],
      "text/plain": [
       "       aa  aaa  aaron  ab  abandon  abbey  abbot  abbott  abbreviate  abby  \\\n",
       "0       0    0      0   0        0      0      0       0           0     0   \n",
       "1       0    0      0   0        0      0      0       0           0     0   \n",
       "2       0    0      0   0        0      0      0       0           0     0   \n",
       "3       0    0      0   0        0      0      0       0           0     0   \n",
       "4       0    0      0   0        0      0      0       0           0     0   \n",
       "...    ..  ...    ...  ..      ...    ...    ...     ...         ...   ...   \n",
       "36252   0    0      0   0        0      0      0       0           0     0   \n",
       "36253   2    0      0   0        0      0      0       0           0     0   \n",
       "36254   0    0      0   0        0      0      0       0           0     0   \n",
       "36255   0    0      0   0        0      0      0       0           0     0   \n",
       "36256   0    0      0   0        0      0      0       0           0     0   \n",
       "\n",
       "       ...  zero  zhang  zimbabwe  zinc  zoe  zombie  zone  zoo  zurich  zx  \n",
       "0      ...     0      0         0     0    0       0     0    0       0   0  \n",
       "1      ...     0      0         0     0    0       0     0    0       0   0  \n",
       "2      ...     0      0         0     0    0       0     0    0       0   0  \n",
       "3      ...     0      0         0     0    0       0     0    0       0   0  \n",
       "4      ...     0      0         0     0    0       0     0    0       0   0  \n",
       "...    ...   ...    ...       ...   ...  ...     ...   ...  ...     ...  ..  \n",
       "36252  ...     0      0         0     0    0       0     0    0       0   0  \n",
       "36253  ...     0      0         0     0    0       0     0    0       0   0  \n",
       "36254  ...     0      0         0     0    0       0     0    0       0   0  \n",
       "36255  ...     0      0         0     0    0       0     0    0       0   0  \n",
       "36256  ...     0      0         0     0    0       0     0    0       0   0  \n",
       "\n",
       "[36257 rows x 10000 columns]"
      ]
     },
     "execution_count": 64,
     "metadata": {},
     "output_type": "execute_result"
    }
   ],
   "source": [
    "cvec = CountVectorizer(max_features=10000)\n",
    "\n",
    "X_tr_cvec = cvec.fit_transform(X_train)\n",
    "\n",
    "pd.DataFrame(X_tr_cvec.toarray(),\n",
    "             columns = cvec.get_feature_names_out())"
   ]
  },
  {
   "cell_type": "code",
   "execution_count": 65,
   "metadata": {
    "ExecuteTime": {
     "end_time": "2022-05-23T18:11:48.527276Z",
     "start_time": "2022-05-23T18:11:48.476362Z"
    },
    "collapsed": true
   },
   "outputs": [
    {
     "data": {
      "text/plain": [
       "{'also': 302,\n",
       " 'know': 4982,\n",
       " 'vow': 9664,\n",
       " 'ethical': 3171,\n",
       " 'code': 1750,\n",
       " 'conduct': 1927,\n",
       " 'religious': 7460,\n",
       " 'practice': 6892,\n",
       " 'fast': 3373,\n",
       " 'death': 2361,\n",
       " 'gradually': 3927,\n",
       " 'reduce': 7372,\n",
       " 'intake': 4605,\n",
       " 'food': 3567,\n",
       " 'liquid': 5226,\n",
       " 'view': 9597,\n",
       " 'thin': 9035,\n",
       " 'human': 4325,\n",
       " 'passion': 6527,\n",
       " 'body': 1049,\n",
       " 'another': 422,\n",
       " 'mean': 5580,\n",
       " 'destroy': 2512,\n",
       " 'rebirth': 7316,\n",
       " 'influence': 4522,\n",
       " 'karma': 4902,\n",
       " 'withdraw': 9876,\n",
       " 'physical': 6691,\n",
       " 'mental': 5627,\n",
       " 'activity': 102,\n",
       " 'consider': 1981,\n",
       " 'suicide': 8731,\n",
       " 'jain': 4759,\n",
       " 'scholar': 7929,\n",
       " 'act': 93,\n",
       " 'deploy': 2471,\n",
       " 'poison': 6803,\n",
       " 'weapon': 9742,\n",
       " 'ritual': 7687,\n",
       " 'preparation': 6935,\n",
       " 'extend': 3305,\n",
       " 'year': 9961,\n",
       " 'available': 711,\n",
       " 'historic': 4225,\n",
       " 'evidence': 3211,\n",
       " 'suggest': 8728,\n",
       " 'observe': 6217,\n",
       " 'men': 5625,\n",
       " 'woman': 9888,\n",
       " 'include': 4459,\n",
       " 'queen': 7190,\n",
       " 'history': 4228,\n",
       " 'however': 4312,\n",
       " 'modern': 5789,\n",
       " 'era': 3132,\n",
       " 'relatively': 7445,\n",
       " 'uncommon': 9367,\n",
       " 'event': 3199,\n",
       " 'debate': 2362,\n",
       " 'right': 7672,\n",
       " 'life': 5183,\n",
       " 'freedom': 3654,\n",
       " 'religion': 7459,\n",
       " 'viewpoint': 9600,\n",
       " 'high': 4203,\n",
       " 'court': 2151,\n",
       " 'ban': 780,\n",
       " 'later': 5059,\n",
       " 'supreme': 8777,\n",
       " 'india': 4484,\n",
       " 'stay': 8564,\n",
       " 'decision': 2375,\n",
       " 'lift': 5188,\n",
       " 'five': 3500,\n",
       " 'great': 3961,\n",
       " 'prescribe': 6941,\n",
       " 'follower': 3563,\n",
       " 'non': 6134,\n",
       " 'violence': 9617,\n",
       " 'lie': 5181,\n",
       " 'steal': 8568,\n",
       " 'possession': 6860,\n",
       " 'seven': 8076,\n",
       " 'three': 9056,\n",
       " 'merit': 5645,\n",
       " 'four': 3624,\n",
       " 'disciplinary': 2630,\n",
       " 'limit': 5205,\n",
       " 'movement': 5886,\n",
       " 'one': 6281,\n",
       " 'area': 524,\n",
       " 'use': 9473,\n",
       " 'thing': 9036,\n",
       " 'sin': 8233,\n",
       " 'concentrate': 1907,\n",
       " 'period': 6615,\n",
       " 'space': 8409,\n",
       " 'offering': 6252,\n",
       " 'treat': 9229,\n",
       " 'twelve': 9318,\n",
       " 'teacher': 8918,\n",
       " 'sanskrit': 7874,\n",
       " 'properly': 7072,\n",
       " 'slender': 8293,\n",
       " 'drink': 2797,\n",
       " 'divide': 2701,\n",
       " 'two': 9326,\n",
       " 'component': 1886,\n",
       " 'internal': 4645,\n",
       " 'external': 3312,\n",
       " 'describe': 2493,\n",
       " 'face': 3326,\n",
       " 'accord': 66,\n",
       " 'text': 8996,\n",
       " 'lead': 5086,\n",
       " 'injury': 4549,\n",
       " 'person': 6633,\n",
       " 'root': 7751,\n",
       " 'cause': 1457,\n",
       " 'texts': 8999,\n",
       " 'condition': 1926,\n",
       " 'appropriate': 491,\n",
       " 'without': 9881,\n",
       " 'guidance': 4009,\n",
       " 'always': 319,\n",
       " 'voluntary': 9658,\n",
       " 'undertaken': 9385,\n",
       " 'public': 7132,\n",
       " 'declaration': 2378,\n",
       " 'never': 6053,\n",
       " 'assist': 607,\n",
       " 'chemical': 1562,\n",
       " 'tool': 9133,\n",
       " 'away': 728,\n",
       " 'choice': 1598,\n",
       " 'water': 9725,\n",
       " 'imminent': 4413,\n",
       " 'individual': 4497,\n",
       " 'stop': 8614,\n",
       " 'full': 3700,\n",
       " 'knowledge': 4983,\n",
       " 'colleague': 1775,\n",
       " 'spiritual': 8470,\n",
       " 'case': 1427,\n",
       " 'terminal': 8975,\n",
       " 'illness': 4393,\n",
       " 'undertake': 9384,\n",
       " 'ask': 587,\n",
       " 'permission': 6624,\n",
       " 'successful': 8709,\n",
       " 'must': 5929,\n",
       " 'pure': 7157,\n",
       " 'plan': 6743,\n",
       " 'peace': 6566,\n",
       " 'joy': 4852,\n",
       " 'accept': 47,\n",
       " 'focus': 3554,\n",
       " 'mind': 5733,\n",
       " 'matter': 5539,\n",
       " 'differs': 2577,\n",
       " 'form': 3595,\n",
       " 'recognize': 7340,\n",
       " 'situation': 8254,\n",
       " 'well': 9770,\n",
       " 'break': 1141,\n",
       " 'example': 3226,\n",
       " 'rap': 7262,\n",
       " 'community': 1849,\n",
       " 'would': 9919,\n",
       " 'circumstance': 1646,\n",
       " 'consume': 2015,\n",
       " 'believe': 907,\n",
       " 'allows': 287,\n",
       " 'duration': 2840,\n",
       " 'vary': 9521,\n",
       " 'day': 2343,\n",
       " 'sixth': 8258,\n",
       " 'part': 6505,\n",
       " 'procedure': 7010,\n",
       " 'follow': 3562,\n",
       " 'mw': 5938,\n",
       " 'parser': 6503,\n",
       " 'output': 6389,\n",
       " 'templatequote': 8955,\n",
       " 'overflow': 6401,\n",
       " 'hidden': 4199,\n",
       " 'margin': 5476,\n",
       " 'em': 2985,\n",
       " 'pad': 6443,\n",
       " 'px': 7168,\n",
       " 'line': 5214,\n",
       " 'height': 4160,\n",
       " 'align': 265,\n",
       " 'leave': 5101,\n",
       " 'padding': 6444,\n",
       " 'top': 9135,\n",
       " 'give': 3864,\n",
       " 'solid': 8352,\n",
       " 'take': 8876,\n",
       " 'milk': 5719,\n",
       " 'hot': 4301,\n",
       " 'determination': 2528,\n",
       " 'try': 9289,\n",
       " 'every': 3205,\n",
       " 'possible': 6862,\n",
       " 'way': 9735,\n",
       " 'keep': 4914,\n",
       " 'mention': 5629,\n",
       " 'desire': 2504,\n",
       " 'continue': 2038,\n",
       " 'live': 5247,\n",
       " 'die': 2565,\n",
       " 'quickly': 7196,\n",
       " 'next': 6069,\n",
       " 'affection': 175,\n",
       " 'friends': 3677,\n",
       " 'pleasure': 6779,\n",
       " 'enjoy': 3071,\n",
       " 'long': 5287,\n",
       " 'future': 3730,\n",
       " 'ancient': 380,\n",
       " 'date': 2334,\n",
       " 'rd': 7285,\n",
       " 'nd': 6002,\n",
       " 'century': 1493,\n",
       " 'bce': 858,\n",
       " 'want': 9698,\n",
       " 'isolated': 4729,\n",
       " 'place': 6738,\n",
       " 'bed': 880,\n",
       " 'make': 5407,\n",
       " 'move': 5885,\n",
       " 'sleep': 8291,\n",
       " 'bare': 803,\n",
       " 'ground': 3990,\n",
       " 'sit': 8249,\n",
       " 'stand': 8533,\n",
       " 'walk': 9684,\n",
       " 'dy': 2850,\n",
       " 'like': 5195,\n",
       " 'tree': 9233,\n",
       " 'variation': 9514,\n",
       " 'consist': 1986,\n",
       " 'restrict': 7583,\n",
       " 'limited': 5207,\n",
       " 'th': 9001,\n",
       " 'st': 8508,\n",
       " 'early': 2860,\n",
       " 'note': 6168,\n",
       " 'detail': 2519,\n",
       " 'provide': 7107,\n",
       " 'detailed': 2520,\n",
       " 'description': 2496,\n",
       " 'seventeen': 8077,\n",
       " 'method': 5660,\n",
       " 'choose': 1600,\n",
       " 'consistent': 1988,\n",
       " 'teaching': 8919,\n",
       " 'ce': 1466,\n",
       " 'poem': 6797,\n",
       " 'purana': 7155,\n",
       " 'writer': 9933,\n",
       " 'describes': 2495,\n",
       " 'short': 8164,\n",
       " 'passage': 6524,\n",
       " 'despite': 2508,\n",
       " 'coverage': 2159,\n",
       " 'near': 6005,\n",
       " 'medieval': 5599,\n",
       " 'end': 3045,\n",
       " 'think': 9037,\n",
       " 'epic': 3114,\n",
       " 'prince': 6981,\n",
       " 'turn': 9306,\n",
       " 'monk': 5820,\n",
       " 'nun': 6193,\n",
       " 'south': 8394,\n",
       " 'especially': 3150,\n",
       " 'karnataka': 4903,\n",
       " 'memorial': 5622,\n",
       " 'stone': 8612,\n",
       " 'footprint': 3573,\n",
       " 'erect': 3133,\n",
       " 'commemorate': 1824,\n",
       " 'term': 8974,\n",
       " 'derive': 2488,\n",
       " 'sad': 7826,\n",
       " 'attain': 649,\n",
       " 'waste': 9722,\n",
       " 'name': 5952,\n",
       " 'perform': 6608,\n",
       " 'mostly': 5864,\n",
       " 'inscription': 4566,\n",
       " 'rock': 7714,\n",
       " 'symbol': 8841,\n",
       " 'style': 8675,\n",
       " 'add': 114,\n",
       " 'alongside': 296,\n",
       " 'pillar': 6717,\n",
       " 'panel': 6471,\n",
       " 'frequently': 3666,\n",
       " 'pavilion': 6560,\n",
       " 'temple': 8956,\n",
       " 'sometimes': 8367,\n",
       " 'door': 2750,\n",
       " 'frame': 3635,\n",
       " 'ninety': 6106,\n",
       " 'find': 3469,\n",
       " 'range': 7256,\n",
       " 'circa': 1640,\n",
       " 'fifty': 3447,\n",
       " 'belong': 915,\n",
       " 'large': 5048,\n",
       " 'number': 6189,\n",
       " 'tradition': 9180,\n",
       " 'several': 8082,\n",
       " 'record': 7349,\n",
       " 'atop': 643,\n",
       " 'hill': 4212,\n",
       " 'account': 69,\n",
       " 'old': 6270,\n",
       " 'script': 7961,\n",
       " 'historian': 4224,\n",
       " 'fleet': 3519,\n",
       " 'rice': 7652,\n",
       " 'context': 2032,\n",
       " 'unique': 9407,\n",
       " 'depiction': 2468,\n",
       " 'king': 4961,\n",
       " 'western': 9783,\n",
       " 'dynasty': 2854,\n",
       " 'raise': 7237,\n",
       " 'son': 8370,\n",
       " 'front': 3684,\n",
       " 'grandson': 3943,\n",
       " 'krishna': 4995,\n",
       " 'iii': 4386,\n",
       " 'originally': 6353,\n",
       " 'importance': 4429,\n",
       " 'ideal': 4372,\n",
       " 'cease': 1467,\n",
       " 'revive': 7622,\n",
       " 'respect': 7567,\n",
       " 'practical': 6890,\n",
       " 'general': 3801,\n",
       " 'goal': 3889,\n",
       " 'among': 352,\n",
       " 'many': 5461,\n",
       " 'inability': 4445,\n",
       " 'help': 4172,\n",
       " 'weak': 9737,\n",
       " 'eye': 3322,\n",
       " 'sight': 8196,\n",
       " 'least': 5099,\n",
       " 'instance': 4587,\n",
       " 'literature': 5239,\n",
       " 'respectively': 7569,\n",
       " 'shah': 8100,\n",
       " 'director': 2604,\n",
       " 'institute': 4591,\n",
       " 'average': 717,\n",
       " 'notice': 6171,\n",
       " 'economic': 2886,\n",
       " 'class': 1672,\n",
       " 'forward': 3614,\n",
       " 'often': 6261,\n",
       " 'clear': 1686,\n",
       " 'distinction': 2677,\n",
       " 'theology': 9018,\n",
       " 'soul': 8388,\n",
       " 'belief': 906,\n",
       " 'base': 823,\n",
       " 'accumulate': 75,\n",
       " 'contribute': 2047,\n",
       " 'accumulation': 76,\n",
       " 'reduces': 7374,\n",
       " 'negative': 6018,\n",
       " 'attachment': 645,\n",
       " 'begin': 890,\n",
       " 'much': 5898,\n",
       " 'approach': 490,\n",
       " 'progressively': 7043,\n",
       " 'comparison': 1860,\n",
       " 'since': 8235,\n",
       " 'time': 9090,\n",
       " 'buddhist': 1229,\n",
       " 'tamil': 8885,\n",
       " 'compare': 1859,\n",
       " 'contemporary': 2025,\n",
       " 'professor': 7031,\n",
       " 'cite': 1650,\n",
       " 'difference': 2572,\n",
       " 'motivation': 5870,\n",
       " 'behind': 897,\n",
       " 'distinguish': 2679,\n",
       " 'write': 9932,\n",
       " 'indian': 4485,\n",
       " 'activist': 101,\n",
       " 'question': 7194,\n",
       " 'call': 1326,\n",
       " 'evil': 3213,\n",
       " 'similar': 8216,\n",
       " 'attempt': 650,\n",
       " 'custom': 2274,\n",
       " 'article': 568,\n",
       " 'constitution': 2006,\n",
       " 'guarantee': 4000,\n",
       " 'within': 9880,\n",
       " 'territory': 8984,\n",
       " 'state': 8551,\n",
       " 'punjab': 7150,\n",
       " 'rule': 7797,\n",
       " 'natural': 5986,\n",
       " 'extinction': 3314,\n",
       " 'therefore': 9028,\n",
       " 'inconsistent': 4465,\n",
       " 'concept': 1909,\n",
       " 'union': 9406,\n",
       " 'file': 3452,\n",
       " 'related': 7441,\n",
       " 'argue': 529,\n",
       " 'thus': 9072,\n",
       " 'section': 7992,\n",
       " 'commit': 1835,\n",
       " 'facilitate': 3329,\n",
       " 'aid': 217,\n",
       " 'serf': 8052,\n",
       " 'widow': 9823,\n",
       " 'elderly': 2942,\n",
       " 'relative': 7444,\n",
       " 'crime': 2197,\n",
       " 'response': 7573,\n",
       " 'prohibit': 7044,\n",
       " 'violation': 9616,\n",
       " 'fundamental': 3711,\n",
       " 'book': 1075,\n",
       " 'former': 3600,\n",
       " 'justice': 4883,\n",
       " 'widely': 9819,\n",
       " 'opine': 6304,\n",
       " 'scripture': 7962,\n",
       " 'permit': 6625,\n",
       " 'essential': 3154,\n",
       " 'establish': 3158,\n",
       " 'practise': 6893,\n",
       " 'cover': 2158,\n",
       " 'august': 676,\n",
       " 'member': 5616,\n",
       " 'hold': 4243,\n",
       " 'nationwide': 5983,\n",
       " 'protest': 7099,\n",
       " 'march': 5470,\n",
       " 'advocate': 167,\n",
       " 'criticise': 2208,\n",
       " 'judgement': 4860,\n",
       " 'exercise': 3253,\n",
       " 'achieve': 83,\n",
       " 'rather': 7272,\n",
       " 'dignity': 2585,\n",
       " 'point': 6802,\n",
       " 'explicitly': 3287,\n",
       " 'recognise': 7338,\n",
       " 'say': 7907,\n",
       " 'may': 5553,\n",
       " 'man': 5425,\n",
       " 'confuse': 1949,\n",
       " 'span': 8412,\n",
       " 'admit': 139,\n",
       " 'petition': 6652,\n",
       " 'grant': 3945,\n",
       " 'april': 498,\n",
       " 'parliament': 6500,\n",
       " 'passing': 6526,\n",
       " 'healthcare': 4139,\n",
       " 'buddhism': 1228,\n",
       " 'discuss': 2644,\n",
       " 'broadly': 1196,\n",
       " 'hindu': 4218,\n",
       " 'nature': 5989,\n",
       " 'conclude': 1917,\n",
       " 'depart': 2461,\n",
       " 'lifespan': 5185,\n",
       " 'david': 2337,\n",
       " 'brick': 1169,\n",
       " 'yale': 9954,\n",
       " 'university': 9415,\n",
       " 'world': 9909,\n",
       " 'discus': 2643,\n",
       " 'slow': 8308,\n",
       " 'consumption': 2017,\n",
       " 'river': 7690,\n",
       " 'drown': 2807,\n",
       " 'enter': 3086,\n",
       " 'fire': 3480,\n",
       " 'path': 6539,\n",
       " 'hero': 4192,\n",
       " 'journey': 4851,\n",
       " 'disagree': 2614,\n",
       " 'whether': 9802,\n",
       " 'rave': 7278,\n",
       " 'fantastic': 3362,\n",
       " 'remix': 7479,\n",
       " 'album': 247,\n",
       " 'american': 339,\n",
       " 'artist': 573,\n",
       " 'love': 5315,\n",
       " 'show': 8174,\n",
       " 'release': 7448,\n",
       " 'contain': 2019,\n",
       " 'remixes': 7481,\n",
       " 'song': 8371,\n",
       " 'twenty': 9320,\n",
       " 'third': 9039,\n",
       " 'studio': 8668,\n",
       " 'un': 9354,\n",
       " 'issue': 4734,\n",
       " 'via': 9574,\n",
       " 'mail': 5394,\n",
       " 'exclusively': 3246,\n",
       " 'music': 5924,\n",
       " 'club': 1725,\n",
       " 'internet': 4649,\n",
       " 'subscription': 8690,\n",
       " 'service': 8065,\n",
       " 'due': 2824,\n",
       " 'able': 18,\n",
       " 'chart': 1547,\n",
       " 'alternative': 308,\n",
       " 'version': 9560,\n",
       " 'track': 9171,\n",
       " 'plus': 6786,\n",
       " 'previously': 6971,\n",
       " 'unreleased': 9428,\n",
       " 'entitle': 3099,\n",
       " 'beautiful': 872,\n",
       " 'strange': 8628,\n",
       " 'besides': 945,\n",
       " 'extended': 3306,\n",
       " 'wherever': 9801,\n",
       " 'go': 3888,\n",
       " 'whatever': 9791,\n",
       " 'previous': 6970,\n",
       " 'unlike': 9418,\n",
       " 'effort': 2923,\n",
       " 'commercially': 1832,\n",
       " 'instead': 4590,\n",
       " 'co': 1733,\n",
       " 'found': 3619,\n",
       " 'anywhere': 451,\n",
       " 'session': 8066,\n",
       " 'parent': 6492,\n",
       " 'hometown': 4263,\n",
       " 'minnesota': 5749,\n",
       " 'park': 6496,\n",
       " 'electric': 2949,\n",
       " 'lady': 5015,\n",
       " 'california': 1323,\n",
       " 'henry': 4179,\n",
       " 'sound': 8389,\n",
       " 'new': 6056,\n",
       " 'york': 9972,\n",
       " 'city': 1653,\n",
       " 'edition': 2903,\n",
       " 'cd': 1465,\n",
       " 'print': 6988,\n",
       " 'unavailable': 9358,\n",
       " 'purchase': 7156,\n",
       " 'platform': 6759,\n",
       " 'apple': 477,\n",
       " 'posthumously': 6868,\n",
       " 'special': 8428,\n",
       " 'box': 1114,\n",
       " 'set': 8067,\n",
       " 'ultimate': 9348,\n",
       " 'original': 6352,\n",
       " 'concert': 1914,\n",
       " 'dvd': 2845,\n",
       " 'netherlands': 6044,\n",
       " 'almost': 293,\n",
       " 'entire': 3096,\n",
       " 'open': 6292,\n",
       " 'opening': 6294,\n",
       " 'romance': 7735,\n",
       " 'ever': 3202,\n",
       " 'sell': 8015,\n",
       " 'verse': 9559,\n",
       " 'eve': 3196,\n",
       " 'along': 295,\n",
       " 'additional': 119,\n",
       " 'minute': 5754,\n",
       " 'production': 7024,\n",
       " 'fourth': 3627,\n",
       " 'girl': 3860,\n",
       " 'wit': 9873,\n",
       " 'occur': 6235,\n",
       " 'far': 3364,\n",
       " 'pleased': 6778,\n",
       " 'duet': 2826,\n",
       " 'gwen': 4033,\n",
       " 'stefani': 8577,\n",
       " 'aforementioned': 185,\n",
       " 'sun': 8744,\n",
       " 'moon': 5837,\n",
       " 'star': 8543,\n",
       " 'appear': 472,\n",
       " 'promotional': 7060,\n",
       " 'single': 8242,\n",
       " 'war': 9700,\n",
       " 'eighth': 2932,\n",
       " 'immediately': 4409,\n",
       " 'lengthy': 5133,\n",
       " 'baby': 739,\n",
       " 'trust': 9286,\n",
       " 'anymore': 447,\n",
       " 'folk': 3560,\n",
       " 'singer': 8239,\n",
       " 'play': 6762,\n",
       " 'acoustic': 87,\n",
       " 'guitar': 4017,\n",
       " 'eleventh': 2965,\n",
       " 'silly': 8212,\n",
       " 'game': 3751,\n",
       " 'final': 3460,\n",
       " 'close': 1712,\n",
       " 'latter': 5064,\n",
       " 'hide': 4200,\n",
       " 'credit': 2186,\n",
       " 'adapt': 111,\n",
       " 'liner': 5218,\n",
       " 'crop': 2217,\n",
       " 'diversity': 2699,\n",
       " 'genetic': 3809,\n",
       " 'characteristic': 1534,\n",
       " 'plant': 6750,\n",
       " 'agriculture': 208,\n",
       " 'past': 6531,\n",
       " 'major': 5405,\n",
       " 'decline': 2380,\n",
       " 'specie': 8435,\n",
       " 'commonly': 1842,\n",
       " 'grow': 3994,\n",
       " 'loss': 5302,\n",
       " 'threaten': 9055,\n",
       " 'global': 3876,\n",
       " 'security': 7996,\n",
       " 'population': 6836,\n",
       " 'depend': 2464,\n",
       " 'diminish': 2588,\n",
       " 'variety': 9517,\n",
       " 'increasingly': 4472,\n",
       " 'grown': 3995,\n",
       " 'irish': 4708,\n",
       " 'potato': 6873,\n",
       " 'famine': 3357,\n",
       " 'disease': 2646,\n",
       " 'resistance': 7560,\n",
       " 'harvest': 4108,\n",
       " 'michel': 5680,\n",
       " 'banana': 781,\n",
       " 'commercial': 1831,\n",
       " 'seed': 7999,\n",
       " 'bank': 787,\n",
       " 'international': 4647,\n",
       " 'organization': 6343,\n",
       " 'work': 9901,\n",
       " 'preserve': 6949,\n",
       " 'aspect': 590,\n",
       " 'important': 4430,\n",
       " 'serious': 8058,\n",
       " 'environmental': 3107,\n",
       " 'concern': 1912,\n",
       " 'current': 2265,\n",
       " 'trend': 9237,\n",
       " 'persist': 6631,\n",
       " 'half': 4048,\n",
       " 'could': 2134,\n",
       " 'wild': 9833,\n",
       " 'cousin': 2154,\n",
       " 'possess': 6859,\n",
       " 'valuable': 9502,\n",
       " 'trait': 9193,\n",
       " 'breed': 1153,\n",
       " 'pest': 6644,\n",
       " 'wheat': 9792,\n",
       " 'threat': 9054,\n",
       " 'bean': 862,\n",
       " 'botanical': 1095,\n",
       " 'family': 3356,\n",
       " 'tomato': 9123,\n",
       " 'pepper': 6597,\n",
       " 'completely': 1877,\n",
       " 'miss': 5758,\n",
       " 'represent': 7525,\n",
       " 'few': 3433,\n",
       " 'sample': 7857,\n",
       " 'worldwide': 9910,\n",
       " 'urgent': 9464,\n",
       " 'need': 6016,\n",
       " 'collect': 1776,\n",
       " 'improve': 4441,\n",
       " 'representation': 7526,\n",
       " 'regard': 7401,\n",
       " 'geographic': 3825,\n",
       " 'ecological': 2884,\n",
       " 'native': 5984,\n",
       " 'distribution': 2686,\n",
       " 'critical': 2206,\n",
       " 'priority': 6993,\n",
       " 'mediterranean': 5602,\n",
       " 'east': 2868,\n",
       " 'southern': 8399,\n",
       " 'europe': 3183,\n",
       " 'southeast': 8397,\n",
       " 'asia': 584,\n",
       " 'america': 338,\n",
       " 'distribute': 2685,\n",
       " 'across': 92,\n",
       " 'country': 2144,\n",
       " 'diet': 2569,\n",
       " 'become': 878,\n",
       " 'diverse': 2696,\n",
       " 'commodity': 1839,\n",
       " 'staple': 8542,\n",
       " 'correspond': 2116,\n",
       " 'local': 5265,\n",
       " 'globally': 3877,\n",
       " 'different': 2573,\n",
       " 'standard': 8535,\n",
       " 'percentage': 6601,\n",
       " 'small': 8313,\n",
       " 'increase': 4470,\n",
       " 'substantially': 8698,\n",
       " 'share': 8113,\n",
       " 'total': 9147,\n",
       " 'energy': 3057,\n",
       " 'protein': 7098,\n",
       " 'fat': 3375,\n",
       " 'weight': 9764,\n",
       " 'sugar': 8727,\n",
       " 'palm': 6465,\n",
       " 'oil': 6264,\n",
       " 'whereas': 9798,\n",
       " 'nation': 5977,\n",
       " 'proportion': 7077,\n",
       " 'locally': 5269,\n",
       " 'dominance': 2732,\n",
       " 'sharply': 8119,\n",
       " 'sweet': 8828,\n",
       " 'coconut': 1748,\n",
       " 'specific': 8437,\n",
       " 'result': 7586,\n",
       " 'various': 9518,\n",
       " 'nutrient': 6198,\n",
       " 'poor': 6827,\n",
       " 'soil': 8346,\n",
       " 'likely': 5197,\n",
       " 'stunt': 8673,\n",
       " 'growth': 3997,\n",
       " 'fertile': 3426,\n",
       " 'availability': 710,\n",
       " 'ph': 6656,\n",
       " 'level': 5156,\n",
       " 'temperature': 8953,\n",
       " 'similarly': 8218,\n",
       " 'addition': 118,\n",
       " 'gene': 3800,\n",
       " 'confer': 1932,\n",
       " 'maturity': 5543,\n",
       " 'collectively': 1779,\n",
       " 'determine': 2529,\n",
       " 'overall': 6399,\n",
       " 'potential': 6874,\n",
       " 'genetically': 3810,\n",
       " 'attribute': 663,\n",
       " 'size': 8260,\n",
       " 'branch': 1131,\n",
       " 'pattern': 6550,\n",
       " 'flower': 3541,\n",
       " 'color': 1793,\n",
       " 'flavor': 3515,\n",
       " 'less': 5149,\n",
       " 'obvious': 6225,\n",
       " 'heat': 4146,\n",
       " 'cold': 1764,\n",
       " 'drought': 2805,\n",
       " 'ability': 17,\n",
       " 'resist': 7559,\n",
       " 'breeder': 1154,\n",
       " 'develop': 2534,\n",
       " 'meet': 5605,\n",
       " 'might': 5704,\n",
       " 'yield': 9968,\n",
       " 'resistant': 7561,\n",
       " 'shelf': 8130,\n",
       " 'back': 742,\n",
       " 'agricultural': 207,\n",
       " 'rotation': 7763,\n",
       " 'field': 3441,\n",
       " 'type': 9328,\n",
       " 'plot': 6783,\n",
       " 'land': 5031,\n",
       " 'advantage': 153,\n",
       " 'importantly': 4431,\n",
       " 'farmer': 3368,\n",
       " 'scientist': 7938,\n",
       " 'continually': 2036,\n",
       " 'draw': 2786,\n",
       " 'resource': 7566,\n",
       " 'ensure': 3084,\n",
       " 'productive': 7025,\n",
       " 'access': 52,\n",
       " 'genome': 3816,\n",
       " 'highly': 4208,\n",
       " 'select': 8010,\n",
       " 'steadily': 8566,\n",
       " 'desirable': 2503,\n",
       " 'remove': 7485,\n",
       " 'extent': 3310,\n",
       " 'mixture': 5772,\n",
       " 'companion': 1854,\n",
       " 'ecosystem': 2891,\n",
       " 'function': 3707,\n",
       " 'effectively': 2918,\n",
       " 'self': 8014,\n",
       " 'regulate': 7422,\n",
       " 'system': 8864,\n",
       " 'sufficient': 8723,\n",
       " 'animal': 400,\n",
       " 'apart': 456,\n",
       " 'produce': 7020,\n",
       " 'fuel': 3697,\n",
       " 'fibre': 3438,\n",
       " 'recycle': 7364,\n",
       " 'maintain': 5401,\n",
       " 'fertility': 3427,\n",
       " 'flow': 3540,\n",
       " 'control': 2050,\n",
       " 'product': 7023,\n",
       " 'seriously': 8059,\n",
       " 'traditional': 9181,\n",
       " 'best': 947,\n",
       " 'multiple': 5909,\n",
       " 'shift': 8141,\n",
       " 'cultivation': 2253,\n",
       " 'latin': 5061,\n",
       " 'mixed': 5771,\n",
       " 'andes': 383,\n",
       " 'mountain': 5878,\n",
       " 'effect': 2916,\n",
       " 'insect': 4567,\n",
       " 'tend': 8962,\n",
       " 'abundant': 37,\n",
       " 'stable': 8512,\n",
       " 'enemy': 3055,\n",
       " 'continuously': 2042,\n",
       " 'breeding': 1155,\n",
       " 'beneficial': 925,\n",
       " 'arrange': 555,\n",
       " 'suitable': 8733,\n",
       " 'combination': 1808,\n",
       " 'surround': 8796,\n",
       " 'environment': 3106,\n",
       " 'abundance': 36,\n",
       " 'around': 554,\n",
       " 'management': 5428,\n",
       " 'vegetation': 9532,\n",
       " 'strategy': 8632,\n",
       " 'mosaic': 5858,\n",
       " 'scatter': 7919,\n",
       " 'orchard': 6324,\n",
       " 'tolerate': 9119,\n",
       " 'weed': 9756,\n",
       " 'protect': 7093,\n",
       " 'application': 481,\n",
       " 'harmful': 4095,\n",
       " 'pesticide': 6645,\n",
       " 'good': 3905,\n",
       " 'compete': 1867,\n",
       " 'apply': 484,\n",
       " 'study': 8669,\n",
       " 'complete': 1876,\n",
       " 'denmark': 2451,\n",
       " 'robust': 7712,\n",
       " 'save': 7901,\n",
       " 'irrigation': 4712,\n",
       " 'stabilize': 8511,\n",
       " 'efficient': 2921,\n",
       " 'require': 7539,\n",
       " 'foundation': 3620,\n",
       " 'source': 8393,\n",
       " 'benefit': 926,\n",
       " 'rural': 7807,\n",
       " 'though': 9050,\n",
       " 'profit': 7033,\n",
       " 'value': 9503,\n",
       " 'market': 5492,\n",
       " 'process': 7014,\n",
       " 'decrease': 2385,\n",
       " 'reduced': 7373,\n",
       " 'demand': 2435,\n",
       " 'failure': 3340,\n",
       " 'offer': 6251,\n",
       " 'return': 7602,\n",
       " 'allow': 286,\n",
       " 'survive': 8801,\n",
       " 'disturbance': 2690,\n",
       " 'compromise': 1897,\n",
       " 'uniform': 9404,\n",
       " 'low': 5318,\n",
       " 'mass': 5521,\n",
       " 'fruit': 3690,\n",
       " 'clone': 1711,\n",
       " 'whole': 9811,\n",
       " 'erosion': 3142,\n",
       " 'vital': 9641,\n",
       " 'fungus': 3717,\n",
       " 'affect': 173,\n",
       " 'corn': 2099,\n",
       " 'billion': 978,\n",
       " 'dollar': 2726,\n",
       " 'danger': 2314,\n",
       " 'reddish': 7366,\n",
       " 'patch': 6536,\n",
       " 'colour': 1797,\n",
       " 'spore': 8485,\n",
       " 'stem': 8581,\n",
       " 'strain': 8625,\n",
       " 'spread': 8490,\n",
       " 'africa': 187,\n",
       " 'arabian': 505,\n",
       " 'peninsula': 6589,\n",
       " 'trial': 9242,\n",
       " 'kenya': 4928,\n",
       " 'susceptible': 8804,\n",
       " 'imply': 4427,\n",
       " 'nobel': 6117,\n",
       " 'laureate': 5070,\n",
       " 'norman': 6144,\n",
       " 'action': 94,\n",
       " 'report': 7520,\n",
       " 'warn': 9708,\n",
       " 'african': 188,\n",
       " 'virus': 9627,\n",
       " 'responsible': 7575,\n",
       " 'million': 5725,\n",
       " 'ton': 9127,\n",
       " 'prevalent': 6965,\n",
       " 'main': 5395,\n",
       " 'lakes': 5021,\n",
       " 'region': 7413,\n",
       " 'percent': 6600,\n",
       " 'congo': 1953,\n",
       " 'emergency': 3000,\n",
       " 'relief': 7456,\n",
       " 'rehabilitation': 7426,\n",
       " 'program': 7036,\n",
       " 'vulnerable': 9671,\n",
       " 'lake': 5019,\n",
       " 'occurrence': 6236,\n",
       " 'lack': 5011,\n",
       " 'saw': 7904,\n",
       " 'marketing': 5493,\n",
       " 'particular': 6512,\n",
       " 'panama': 6470,\n",
       " 'replace': 7513,\n",
       " 'risk': 7684,\n",
       " 'tropical': 9270,\n",
       " 'race': 7208,\n",
       " 'counter': 2141,\n",
       " 'multi': 5905,\n",
       " 'mix': 5770,\n",
       " 'hope': 4281,\n",
       " 'outbreak': 6377,\n",
       " 'implication': 4425,\n",
       " 'aim': 220,\n",
       " 'support': 8770,\n",
       " 'formerly': 3601,\n",
       " 'initiative': 4544,\n",
       " 'network': 6045,\n",
       " 'improvement': 4443,\n",
       " 'unite': 9409,\n",
       " 'summit': 8742,\n",
       " 'sustainable': 8813,\n",
       " 'development': 2537,\n",
       " 'lose': 5301,\n",
       " 'measure': 5586,\n",
       " 'step': 8582,\n",
       " 'enlist': 3076,\n",
       " 'team': 8920,\n",
       " 'particularly': 6513,\n",
       " 'national': 5978,\n",
       " 'site': 8251,\n",
       " 'sperm': 8457,\n",
       " 'research': 7544,\n",
       " 'independent': 4481,\n",
       " 'organisation': 6339,\n",
       " 'exist': 3260,\n",
       " 'conservation': 1977,\n",
       " 'partnership': 6518,\n",
       " 'united': 9410,\n",
       " ...}"
      ]
     },
     "execution_count": 65,
     "metadata": {},
     "output_type": "execute_result"
    }
   ],
   "source": [
    "cvec.vocabulary_"
   ]
  },
  {
   "cell_type": "markdown",
   "metadata": {},
   "source": [
    "## Testing Scoring Class"
   ]
  },
  {
   "cell_type": "code",
   "execution_count": 11,
   "metadata": {
    "ExecuteTime": {
     "end_time": "2022-05-24T14:46:02.087888Z",
     "start_time": "2022-05-24T14:44:20.645394Z"
    },
    "scrolled": false
   },
   "outputs": [
    {
     "data": {
      "text/plain": [
       "Pipeline(steps=[('cvec', CountVectorizer(max_features=50000)),\n",
       "                ('xgb',\n",
       "                 XGBClassifier(base_score=0.5, booster='gbtree',\n",
       "                               colsample_bylevel=1, colsample_bynode=1,\n",
       "                               colsample_bytree=1, gamma=0, gpu_id=-1,\n",
       "                               importance_type='gain',\n",
       "                               interaction_constraints='',\n",
       "                               learning_rate=0.300000012, max_delta_step=0,\n",
       "                               max_depth=6, min_child_weight=1, missing=nan,\n",
       "                               monotone_constraints='()', n_estimators=100,\n",
       "                               n_jobs=0, num_parallel_tree=1, random_state=0,\n",
       "                               reg_alpha=0, reg_lambda=1, scale_pos_weight=1,\n",
       "                               subsample=1, tree_method='exact',\n",
       "                               validate_parameters=1, verbosity=None))])"
      ]
     },
     "execution_count": 11,
     "metadata": {},
     "output_type": "execute_result"
    }
   ],
   "source": [
    "xgb_cvec_pipe = Pipeline(steps=[\n",
    "    ('cvec', CountVectorizer(max_features=50000)),\n",
    "    ('xgb', XGBClassifier())\n",
    "])\n",
    "\n",
    "xgb_cvec_pipe.fit(X_train, y_train)"
   ]
  },
  {
   "cell_type": "code",
   "execution_count": 21,
   "metadata": {
    "ExecuteTime": {
     "end_time": "2022-05-24T19:08:29.340772Z",
     "start_time": "2022-05-24T19:03:54.443615Z"
    }
   },
   "outputs": [
    {
     "data": {
      "text/plain": [
       "Pipeline(steps=[('tfidf', TfidfVectorizer()),\n",
       "                ('xgb',\n",
       "                 XGBClassifier(base_score=0.5, booster='gbtree',\n",
       "                               colsample_bylevel=1, colsample_bynode=1,\n",
       "                               colsample_bytree=1, gamma=0, gpu_id=-1,\n",
       "                               importance_type='gain',\n",
       "                               interaction_constraints='',\n",
       "                               learning_rate=0.300000012, max_delta_step=0,\n",
       "                               max_depth=6, min_child_weight=1, missing=nan,\n",
       "                               monotone_constraints='()', n_estimators=100,\n",
       "                               n_jobs=0, num_parallel_tree=1, random_state=0,\n",
       "                               reg_alpha=0, reg_lambda=1, scale_pos_weight=1,\n",
       "                               subsample=1, tree_method='exact',\n",
       "                               validate_parameters=1, verbosity=None))])"
      ]
     },
     "execution_count": 21,
     "metadata": {},
     "output_type": "execute_result"
    }
   ],
   "source": [
    "xgb_tfidf_pipe = Pipeline(steps=[\n",
    "    ('tfidf', TfidfVectorizer()),\n",
    "    ('xgb', XGBClassifier())\n",
    "])\n",
    "\n",
    "xgb_tfidf_pipe.fit(X_train, y_train)"
   ]
  },
  {
   "cell_type": "code",
   "execution_count": 12,
   "metadata": {
    "ExecuteTime": {
     "end_time": "2022-05-24T14:46:26.276947Z",
     "start_time": "2022-05-24T14:46:06.572105Z"
    }
   },
   "outputs": [
    {
     "data": {
      "text/plain": [
       "0.954980682009071"
      ]
     },
     "execution_count": 12,
     "metadata": {},
     "output_type": "execute_result"
    }
   ],
   "source": [
    "xgb_cvec_pipe.score(X_test, y_test)"
   ]
  },
  {
   "cell_type": "code",
   "execution_count": 22,
   "metadata": {
    "ExecuteTime": {
     "end_time": "2022-05-24T19:08:55.296272Z",
     "start_time": "2022-05-24T19:08:36.148879Z"
    }
   },
   "outputs": [
    {
     "data": {
      "text/plain": [
       "0.9543647460664091"
      ]
     },
     "execution_count": 22,
     "metadata": {},
     "output_type": "execute_result"
    }
   ],
   "source": [
    "xgb_tfidf_pipe.score(X_test, y_test)"
   ]
  },
  {
   "cell_type": "code",
   "execution_count": 13,
   "metadata": {
    "ExecuteTime": {
     "end_time": "2022-05-24T14:51:40.845600Z",
     "start_time": "2022-05-24T14:46:27.710763Z"
    },
    "scrolled": true
   },
   "outputs": [
    {
     "name": "stderr",
     "output_type": "stream",
     "text": [
      "[Parallel(n_jobs=1)]: Using backend SequentialBackend with 1 concurrent workers.\n",
      "[Parallel(n_jobs=1)]: Done   5 out of   5 | elapsed:  5.2min finished\n"
     ]
    }
   ],
   "source": [
    "test_model = ModelForScoring(xgb_cvec_pipe, 'xgb_cvec', X_test, y_test, cv_now='multi')"
   ]
  },
  {
   "cell_type": "code",
   "execution_count": 24,
   "metadata": {
    "ExecuteTime": {
     "end_time": "2022-05-24T19:12:00.146326Z",
     "start_time": "2022-05-24T19:11:41.796763Z"
    }
   },
   "outputs": [
    {
     "name": "stdout",
     "output_type": "stream",
     "text": [
      "              precision    recall  f1-score   support\n",
      "\n",
      "           0       0.95      0.97      0.96      9992\n",
      "           1       0.96      0.94      0.95      7867\n",
      "\n",
      "    accuracy                           0.95     17859\n",
      "   macro avg       0.95      0.95      0.95     17859\n",
      "weighted avg       0.95      0.95      0.95     17859\n",
      "\n"
     ]
    }
   ],
   "source": [
    "print(classification_report(y_test, xgb_tfidf_pipe.predict(X_test)))"
   ]
  },
  {
   "cell_type": "code",
   "execution_count": 27,
   "metadata": {
    "ExecuteTime": {
     "end_time": "2022-05-24T19:14:58.046508Z",
     "start_time": "2022-05-24T19:14:39.690863Z"
    }
   },
   "outputs": [
    {
     "data": {
      "image/png": "[encoded data removed]",
      "text/plain": [
       "<Figure size 864x864 with 2 Axes>"
      ]
     },
     "metadata": {
      "needs_background": "light"
     },
     "output_type": "display_data"
    }
   ],
   "source": [
    "fig, ax = plt.subplots(figsize=(12, 12))\n",
    "\n",
    "disp = ConfusionMatrixDisplay.from_estimator(\n",
    "    xgb_tfidf_pipe,\n",
    "    X_test,\n",
    "    y_test,\n",
    "    cmap='OrRd',\n",
    "    normalize='true',\n",
    "    ax=ax\n",
    ").ax_.set_title('Normalized Confusion Matrix')"
   ]
  },
  {
   "cell_type": "code",
   "execution_count": 19,
   "metadata": {
    "ExecuteTime": {
     "end_time": "2022-05-24T14:56:59.347693Z",
     "start_time": "2022-05-24T14:56:59.340712Z"
    },
    "scrolled": false
   },
   "outputs": [
    {
     "name": "stdout",
     "output_type": "stream",
     "text": [
      "CV Results\n",
      "================================\n",
      "Accuracy\n",
      "--------------------------------\n",
      "Training accuracy: 1.000\n",
      "Test accuracy:     0.951\n",
      "F-1 Score\n",
      "--------------------------------\n",
      "Training F1 score: 1.000\n",
      "Test F1 score:     0.950\n"
     ]
    }
   ],
   "source": [
    "pretty_cv(test_model.cv_results)"
   ]
  },
  {
   "cell_type": "code",
   "execution_count": 20,
   "metadata": {
    "ExecuteTime": {
     "end_time": "2022-05-24T19:03:15.799134Z",
     "start_time": "2022-05-24T19:02:58.717131Z"
    }
   },
   "outputs": [
    {
     "data": {
      "text/plain": [
       "<sklearn.metrics._plot.roc_curve.RocCurveDisplay at 0x21f4b928430>"
      ]
     },
     "execution_count": 20,
     "metadata": {},
     "output_type": "execute_result"
    },
    {
     "data": {
      "image/png": "[encoded data removed]",
      "text/plain": [
       "<Figure size 432x288 with 1 Axes>"
      ]
     },
     "metadata": {
      "needs_background": "light"
     },
     "output_type": "display_data"
    }
   ],
   "source": [
    "RocCurveDisplay.from_estimator(xgb_cvec_pipe,\n",
    "                               X_test,\n",
    "                               y_test)"
   ]
  },
  {
   "cell_type": "markdown",
   "metadata": {},
   "source": [
    "## Scrap Code"
   ]
  },
  {
   "cell_type": "code",
   "execution_count": null,
   "metadata": {},
   "outputs": [],
   "source": []
  }
 ],
 "metadata": {
  "kernelspec": {
   "display_name": "Python (learn-env)",
   "language": "python",
   "name": "learn-env"
  },
  "language_info": {
   "codemirror_mode": {
    "name": "ipython",
    "version": 3
   },
   "file_extension": ".py",
   "mimetype": "text/x-python",
   "name": "python",
   "nbconvert_exporter": "python",
   "pygments_lexer": "ipython3",
   "version": "3.8.5"
  },
  "toc": {
   "base_numbering": 1,
   "nav_menu": {},
   "number_sections": true,
   "sideBar": true,
   "skip_h1_title": false,
   "title_cell": "Table of Contents",
   "title_sidebar": "Contents",
   "toc_cell": false,
   "toc_position": {
    "height": "calc(100% - 180px)",
    "left": "10px",
    "top": "150px",
    "width": "384px"
   },
   "toc_section_display": true,
   "toc_window_display": true
  },
  "varInspector": {
   "cols": {
    "lenName": 16,
    "lenType": 16,
    "lenVar": 40
   },
   "kernels_config": {
    "python": {
     "delete_cmd_postfix": "",
     "delete_cmd_prefix": "del ",
     "library": "var_list.py",
     "varRefreshCmd": "print(var_dic_list())"
    },
    "r": {
     "delete_cmd_postfix": ") ",
     "delete_cmd_prefix": "rm(",
     "library": "var_list.r",
     "varRefreshCmd": "cat(var_dic_list()) "
    }
   },
   "types_to_exclude": [
    "module",
    "function",
    "builtin_function_or_method",
    "instance",
    "_Feature"
   ],
   "window_display": false
  }
 },
 "nbformat": 4,
 "nbformat_minor": 4
}
