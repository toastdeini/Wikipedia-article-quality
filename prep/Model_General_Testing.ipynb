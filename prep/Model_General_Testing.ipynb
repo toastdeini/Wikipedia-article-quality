{
 "cells": [
  {
   "cell_type": "markdown",
   "metadata": {},
   "source": [
    "# Modeling"
   ]
  },
  {
   "cell_type": "code",
   "execution_count": 12,
   "metadata": {
    "ExecuteTime": {
     "end_time": "2022-06-02T00:16:43.097843Z",
     "start_time": "2022-06-02T00:16:43.061942Z"
    }
   },
   "outputs": [],
   "source": [
    "# Data manip.\n",
    "import pandas as pd\n",
    "import numpy as np\n",
    "\n",
    "# Visualization\n",
    "import matplotlib.pyplot as plt\n",
    "%matplotlib inline\n",
    "import seaborn as sns\n",
    "\n",
    "# scikit-learn\n",
    "from sklearn.dummy import DummyClassifier\n",
    "from sklearn.ensemble import RandomForestClassifier, GradientBoostingClassifier,\\\n",
    "                             StackingClassifier\n",
    "from sklearn.feature_extraction.text import CountVectorizer, TfidfVectorizer\n",
    "from sklearn.metrics import confusion_matrix, classification_report\n",
    "from sklearn.model_selection import train_test_split, cross_validate, GridSearchCV\n",
    "from sklearn.naive_bayes import MultinomialNB\n",
    "from sklearn.pipeline import Pipeline\n",
    "from sklearn.tree import DecisionTreeClassifier\n",
    "from xgboost import XGBClassifier\n",
    "\n",
    "# NLTK\n",
    "import nltk\n",
    "from nltk.corpus import stopwords\n",
    "from nltk.probability import FreqDist\n",
    "from nltk.stem import WordNetLemmatizer\n",
    "\n",
    "# Helpers\n",
    "import pickle\n",
    "import os\n",
    "import sys\n",
    "module_path = os.path.abspath(os.pardir)\n",
    "if module_path not in sys.path:\n",
    "    sys.path.append(module_path)\n",
    "\n",
    "from src.parse_it import *\n",
    "from src.modeling import *\n",
    "from src.EDA import *"
   ]
  },
  {
   "cell_type": "code",
   "execution_count": 2,
   "metadata": {
    "ExecuteTime": {
     "end_time": "2022-05-27T21:38:38.981496Z",
     "start_time": "2022-05-27T21:38:38.968532Z"
    }
   },
   "outputs": [],
   "source": [
    "# Empty dictionaries to store various models' scores\n",
    "\n",
    "cv_acc_scores = {}\n",
    "cv_f1_scores = {}"
   ]
  },
  {
   "cell_type": "code",
   "execution_count": 2,
   "metadata": {
    "ExecuteTime": {
     "end_time": "2022-06-02T00:16:30.177440Z",
     "start_time": "2022-06-02T00:16:19.203835Z"
    }
   },
   "outputs": [],
   "source": [
    "lemmed_df = pd.read_csv('../../data/lemmed_combined.csv', index_col=0)"
   ]
  },
  {
   "cell_type": "code",
   "execution_count": 3,
   "metadata": {
    "ExecuteTime": {
     "end_time": "2022-06-02T00:16:30.240272Z",
     "start_time": "2022-06-02T00:16:30.209355Z"
    },
    "scrolled": true
   },
   "outputs": [
    {
     "data": {
      "text/html": [
       "<div>\n",
       "<style scoped>\n",
       "    .dataframe tbody tr th:only-of-type {\n",
       "        vertical-align: middle;\n",
       "    }\n",
       "\n",
       "    .dataframe tbody tr th {\n",
       "        vertical-align: top;\n",
       "    }\n",
       "\n",
       "    .dataframe thead th {\n",
       "        text-align: right;\n",
       "    }\n",
       "</style>\n",
       "<table border=\"1\" class=\"dataframe\">\n",
       "  <thead>\n",
       "    <tr style=\"text-align: right;\">\n",
       "      <th></th>\n",
       "      <th>text</th>\n",
       "      <th>label</th>\n",
       "      <th>text_lem</th>\n",
       "    </tr>\n",
       "  </thead>\n",
       "  <tbody>\n",
       "    <tr>\n",
       "      <th>0</th>\n",
       "      <td>Ryan Steven Lochte lkti LOK tee born August 3,...</td>\n",
       "      <td>0</td>\n",
       "      <td>ryan steven lochte lkti lok tee bear august am...</td>\n",
       "    </tr>\n",
       "    <tr>\n",
       "      <th>1</th>\n",
       "      <td>CAM ships were World War II era British mercha...</td>\n",
       "      <td>0</td>\n",
       "      <td>cam ship world war ii era british merchant shi...</td>\n",
       "    </tr>\n",
       "    <tr>\n",
       "      <th>2</th>\n",
       "      <td>The politics of Vietnam are defined by a singl...</td>\n",
       "      <td>0</td>\n",
       "      <td>politics vietnam define single party socialist...</td>\n",
       "    </tr>\n",
       "  </tbody>\n",
       "</table>\n",
       "</div>"
      ],
      "text/plain": [
       "                                                text  label  \\\n",
       "0  Ryan Steven Lochte lkti LOK tee born August 3,...      0   \n",
       "1  CAM ships were World War II era British mercha...      0   \n",
       "2  The politics of Vietnam are defined by a singl...      0   \n",
       "\n",
       "                                            text_lem  \n",
       "0  ryan steven lochte lkti lok tee bear august am...  \n",
       "1  cam ship world war ii era british merchant shi...  \n",
       "2  politics vietnam define single party socialist...  "
      ]
     },
     "execution_count": 3,
     "metadata": {},
     "output_type": "execute_result"
    }
   ],
   "source": [
    "lemmed_df.head(3)"
   ]
  },
  {
   "cell_type": "code",
   "execution_count": 4,
   "metadata": {
    "ExecuteTime": {
     "end_time": "2022-06-02T00:16:30.288145Z",
     "start_time": "2022-06-02T00:16:30.274184Z"
    }
   },
   "outputs": [],
   "source": [
    "X = lemmed_df['text_lem']\n",
    "y = lemmed_df['label']"
   ]
  },
  {
   "cell_type": "code",
   "execution_count": 5,
   "metadata": {
    "ExecuteTime": {
     "end_time": "2022-06-02T00:16:30.367213Z",
     "start_time": "2022-06-02T00:16:30.354249Z"
    }
   },
   "outputs": [
    {
     "data": {
      "text/plain": [
       "0        ryan steven lochte lkti lok tee bear august am...\n",
       "1        cam ship world war ii era british merchant shi...\n",
       "2        politics vietnam define single party socialist...\n",
       "3        pennsylvania route pa state highway locate mon...\n",
       "4        clubland tv british free air dance music chann...\n",
       "                               ...                        \n",
       "54111    guatemala send delegation compete summer paral...\n",
       "54112    charles augustus ollivierre july march vincent...\n",
       "54113    dhanushka jayakody bear july colombo sri lanka...\n",
       "54114    elmer harrison flick january january american ...\n",
       "54115    safdarjung tomb sandstone marble mausoleum del...\n",
       "Name: text_lem, Length: 54116, dtype: object"
      ]
     },
     "execution_count": 5,
     "metadata": {},
     "output_type": "execute_result"
    }
   ],
   "source": [
    "X"
   ]
  },
  {
   "cell_type": "code",
   "execution_count": 6,
   "metadata": {
    "ExecuteTime": {
     "end_time": "2022-06-02T00:16:30.444280Z",
     "start_time": "2022-06-02T00:16:30.429284Z"
    },
    "scrolled": false
   },
   "outputs": [
    {
     "data": {
      "text/plain": [
       "0        0\n",
       "1        0\n",
       "2        0\n",
       "3        0\n",
       "4        1\n",
       "        ..\n",
       "54111    0\n",
       "54112    0\n",
       "54113    1\n",
       "54114    0\n",
       "54115    0\n",
       "Name: label, Length: 54116, dtype: int64"
      ]
     },
     "execution_count": 6,
     "metadata": {},
     "output_type": "execute_result"
    }
   ],
   "source": [
    "y"
   ]
  },
  {
   "cell_type": "code",
   "execution_count": 7,
   "metadata": {
    "ExecuteTime": {
     "end_time": "2022-06-02T00:16:30.508074Z",
     "start_time": "2022-06-02T00:16:30.494112Z"
    }
   },
   "outputs": [
    {
     "data": {
      "text/plain": [
       "(0        ryan steven lochte lkti lok tee bear august am...\n",
       " 1        cam ship world war ii era british merchant shi...\n",
       " 2        politics vietnam define single party socialist...\n",
       " 3        pennsylvania route pa state highway locate mon...\n",
       " 4        clubland tv british free air dance music chann...\n",
       "                                ...                        \n",
       " 54111    guatemala send delegation compete summer paral...\n",
       " 54112    charles augustus ollivierre july march vincent...\n",
       " 54113    dhanushka jayakody bear july colombo sri lanka...\n",
       " 54114    elmer harrison flick january january american ...\n",
       " 54115    safdarjung tomb sandstone marble mausoleum del...\n",
       " Name: text_lem, Length: 54116, dtype: object,\n",
       " 0        0\n",
       " 1        0\n",
       " 2        0\n",
       " 3        0\n",
       " 4        1\n",
       "         ..\n",
       " 54111    0\n",
       " 54112    0\n",
       " 54113    1\n",
       " 54114    0\n",
       " 54115    0\n",
       " Name: label, Length: 54116, dtype: int64)"
      ]
     },
     "execution_count": 7,
     "metadata": {},
     "output_type": "execute_result"
    }
   ],
   "source": [
    "(X, y)"
   ]
  },
  {
   "cell_type": "code",
   "execution_count": 8,
   "metadata": {
    "ExecuteTime": {
     "end_time": "2022-06-02T00:16:30.602115Z",
     "start_time": "2022-06-02T00:16:30.560071Z"
    }
   },
   "outputs": [],
   "source": [
    "X_train, X_test, y_train, y_test = train_test_split(X, y,\n",
    "                                                    random_state=42,\n",
    "                                                    stratify=y)"
   ]
  },
  {
   "cell_type": "code",
   "execution_count": 9,
   "metadata": {
    "ExecuteTime": {
     "end_time": "2022-06-02T00:16:30.709239Z",
     "start_time": "2022-06-02T00:16:30.669081Z"
    }
   },
   "outputs": [],
   "source": [
    "X_tr_val, X_val, y_tr_val, y_val = train_test_split(X_train, y_train,\n",
    "                                                    random_state=42,\n",
    "                                                    stratify=y_train)"
   ]
  },
  {
   "cell_type": "code",
   "execution_count": 10,
   "metadata": {
    "ExecuteTime": {
     "end_time": "2022-06-02T00:16:30.803380Z",
     "start_time": "2022-06-02T00:16:30.778108Z"
    },
    "scrolled": true
   },
   "outputs": [
    {
     "data": {
      "text/plain": [
       "0    0.559527\n",
       "1    0.440473\n",
       "Name: label, dtype: float64"
      ]
     },
     "execution_count": 10,
     "metadata": {},
     "output_type": "execute_result"
    }
   ],
   "source": [
    "y_tr_val.value_counts(normalize=True)"
   ]
  },
  {
   "cell_type": "code",
   "execution_count": 11,
   "metadata": {
    "ExecuteTime": {
     "end_time": "2022-06-02T00:16:30.880401Z",
     "start_time": "2022-06-02T00:16:30.866404Z"
    },
    "scrolled": true
   },
   "outputs": [
    {
     "data": {
      "text/plain": [
       "0    0.559476\n",
       "1    0.440524\n",
       "Name: label, dtype: float64"
      ]
     },
     "execution_count": 11,
     "metadata": {},
     "output_type": "execute_result"
    }
   ],
   "source": [
    "y_val.value_counts(normalize=True)"
   ]
  },
  {
   "cell_type": "markdown",
   "metadata": {},
   "source": [
    "## `DummyClassifier`"
   ]
  },
  {
   "cell_type": "markdown",
   "metadata": {},
   "source": [
    "### Vectorizer: `CountVectorizer`"
   ]
  },
  {
   "cell_type": "code",
   "execution_count": 13,
   "metadata": {
    "ExecuteTime": {
     "end_time": "2022-05-27T21:41:58.542524Z",
     "start_time": "2022-05-27T21:38:54.541369Z"
    },
    "scrolled": false
   },
   "outputs": [
    {
     "name": "stderr",
     "output_type": "stream",
     "text": [
      "[Parallel(n_jobs=1)]: Using backend SequentialBackend with 1 concurrent workers.\n"
     ]
    },
    {
     "name": "stdout",
     "output_type": "stream",
     "text": [
      "CV Results\n",
      "================================\n",
      "Accuracy\n",
      "--------------------------------\n",
      "Training accuracy: 0.559\n",
      "Test accuracy:     0.559\n",
      "F-1 Score\n",
      "--------------------------------\n",
      "Training F1 score: 0.359\n",
      "Test F1 score:     0.359\n"
     ]
    },
    {
     "name": "stderr",
     "output_type": "stream",
     "text": [
      "[Parallel(n_jobs=1)]: Done   5 out of   5 | elapsed:  2.4min finished\n"
     ]
    }
   ],
   "source": [
    "# Create model with pipeline - vectorizer & classifier\n",
    "dum_count_pipe = Pipeline(steps=[\n",
    "    ('cvec', CountVectorizer()),\n",
    "    ('dum', DummyClassifier(strategy='most_frequent'))\n",
    "])\n",
    "\n",
    "# Fit model on training data\n",
    "dum_count_pipe.fit(X_tr_val, y_tr_val)\n",
    "\n",
    "# Create class object with model and validation data\n",
    "dum_count_model = ModelForScoring(dum_count_pipe, 'dum_count', X_val, y_val)"
   ]
  },
  {
   "cell_type": "code",
   "execution_count": 14,
   "metadata": {
    "ExecuteTime": {
     "end_time": "2022-05-27T21:41:58.664263Z",
     "start_time": "2022-05-27T21:41:58.648188Z"
    },
    "scrolled": true
   },
   "outputs": [
    {
     "name": "stdout",
     "output_type": "stream",
     "text": [
      "{'dum_count': 0.559475681436899}\n",
      "{'dum_count': 0.3587588337846893}\n"
     ]
    }
   ],
   "source": [
    "# Save accuracy and F1 scores to dictionaries for comparison/plotting\n",
    "dum_count_model.update_scores(cv_acc_scores, cv_f1_scores)"
   ]
  },
  {
   "cell_type": "markdown",
   "metadata": {},
   "source": [
    "Results from cross-validation with `DummyClassifier`, count vectorized:\n",
    "- Validation accuracy = `0.56` - proportion of majority class, and **baseline performance**\n",
    "- Validation F1 = `0.36`\n",
    "- **Execution time:** 1m, 30s"
   ]
  },
  {
   "cell_type": "markdown",
   "metadata": {},
   "source": [
    "### Vectorizer: `TfidfVectorizer`"
   ]
  },
  {
   "cell_type": "code",
   "execution_count": 15,
   "metadata": {
    "ExecuteTime": {
     "end_time": "2022-05-27T21:44:52.741177Z",
     "start_time": "2022-05-27T21:41:58.819754Z"
    },
    "scrolled": true
   },
   "outputs": [
    {
     "name": "stderr",
     "output_type": "stream",
     "text": [
      "[Parallel(n_jobs=1)]: Using backend SequentialBackend with 1 concurrent workers.\n"
     ]
    },
    {
     "name": "stdout",
     "output_type": "stream",
     "text": [
      "CV Results\n",
      "================================\n",
      "Accuracy\n",
      "--------------------------------\n",
      "Training accuracy: 0.559\n",
      "Test accuracy:     0.559\n",
      "F-1 Score\n",
      "--------------------------------\n",
      "Training F1 score: 0.359\n",
      "Test F1 score:     0.359\n"
     ]
    },
    {
     "name": "stderr",
     "output_type": "stream",
     "text": [
      "[Parallel(n_jobs=1)]: Done   5 out of   5 | elapsed:  2.1min finished\n"
     ]
    }
   ],
   "source": [
    "# Create model with pipeline - vectorizer & classifier\n",
    "dum_tfidf_pipe = Pipeline(steps=[\n",
    "    ('tfvec', TfidfVectorizer()),\n",
    "    ('dum', DummyClassifier(strategy='most_frequent'))\n",
    "])\n",
    "\n",
    "# Fit model on training data\n",
    "dum_tfidf_pipe.fit(X_tr_val, y_tr_val)\n",
    "\n",
    "# Create class object with model and validation data\n",
    "dum_tfidf_model = ModelForScoring(dum_tfidf_pipe, 'dum_tfidf', X_val, y_val)"
   ]
  },
  {
   "cell_type": "code",
   "execution_count": 16,
   "metadata": {
    "ExecuteTime": {
     "end_time": "2022-05-27T21:44:52.888975Z",
     "start_time": "2022-05-27T21:44:52.880371Z"
    },
    "scrolled": true
   },
   "outputs": [
    {
     "name": "stdout",
     "output_type": "stream",
     "text": [
      "{'dum_count': 0.559475681436899, 'dum_tfidf': 0.559475681436899}\n",
      "{'dum_count': 0.3587588337846893, 'dum_tfidf': 0.3587588337846893}\n"
     ]
    }
   ],
   "source": [
    "# Save accuracy and F1 scores to dictionaries for comparison/plotting\n",
    "dum_tfidf_model.update_scores(cv_acc_scores, cv_f1_scores)"
   ]
  },
  {
   "cell_type": "markdown",
   "metadata": {},
   "source": [
    "Results from cross-validation with `DummyClassifier`, TF-IDF vectorized:\n",
    "- Validation accuracy = `0.56`\n",
    "- Validation F1 = `0.36`\n",
    "- **Execution time:** 2m, 38s"
   ]
  },
  {
   "cell_type": "markdown",
   "metadata": {},
   "source": [
    "## `DecisionTreeClassifier`"
   ]
  },
  {
   "cell_type": "markdown",
   "metadata": {},
   "source": [
    "### Vectorizer: `CountVectorizer`"
   ]
  },
  {
   "cell_type": "code",
   "execution_count": 17,
   "metadata": {
    "ExecuteTime": {
     "end_time": "2022-05-27T21:57:46.079359Z",
     "start_time": "2022-05-27T21:50:20.305589Z"
    },
    "scrolled": false
   },
   "outputs": [
    {
     "name": "stderr",
     "output_type": "stream",
     "text": [
      "[Parallel(n_jobs=1)]: Using backend SequentialBackend with 1 concurrent workers.\n"
     ]
    },
    {
     "name": "stdout",
     "output_type": "stream",
     "text": [
      "CV Results\n",
      "================================\n",
      "Accuracy\n",
      "--------------------------------\n",
      "Training accuracy: 1.000\n",
      "Test accuracy:     0.853\n",
      "F-1 Score\n",
      "--------------------------------\n",
      "Training F1 score: 1.000\n",
      "Test F1 score:     0.850\n"
     ]
    },
    {
     "name": "stderr",
     "output_type": "stream",
     "text": [
      "[Parallel(n_jobs=1)]: Done   5 out of   5 | elapsed:  3.8min finished\n"
     ]
    }
   ],
   "source": [
    "dtc_count_pipe = Pipeline(steps=[\n",
    "    ('count', CountVectorizer()),\n",
    "    ('dtc', DecisionTreeClassifier())\n",
    "])\n",
    "\n",
    "dtc_count_pipe.fit(X_tr_val, y_tr_val)\n",
    "\n",
    "dtc_count_model = ModelForScoring(dtc_count_pipe, 'dtc_count', X_val, y_val)"
   ]
  },
  {
   "cell_type": "code",
   "execution_count": 18,
   "metadata": {
    "ExecuteTime": {
     "end_time": "2022-05-27T21:57:46.346781Z",
     "start_time": "2022-05-27T21:57:46.336807Z"
    }
   },
   "outputs": [
    {
     "name": "stdout",
     "output_type": "stream",
     "text": [
      "{'dum_count': 0.559475681436899, 'dum_tfidf': 0.559475681436899, 'dtc_count': 0.8526654155144493}\n",
      "{'dum_count': 0.3587588337846893, 'dum_tfidf': 0.3587588337846893, 'dtc_count': 0.8503901995883133}\n"
     ]
    }
   ],
   "source": [
    "dtc_count_model.update_scores(cv_acc_scores, cv_f1_scores)"
   ]
  },
  {
   "cell_type": "markdown",
   "metadata": {},
   "source": [
    "Results from cross-validation with `DecisionTreeClassifer`, count vectorized:\n",
    "- Validation accuracy = `0.87`\n",
    "- Validation F1 = `0.87`\n",
    "- **Execution time:** 3m, 57s"
   ]
  },
  {
   "cell_type": "markdown",
   "metadata": {},
   "source": [
    "### Vectorizer: `TfidfVectorizer`"
   ]
  },
  {
   "cell_type": "code",
   "execution_count": 19,
   "metadata": {
    "ExecuteTime": {
     "end_time": "2022-05-27T22:07:47.464704Z",
     "start_time": "2022-05-27T21:58:38.511038Z"
    }
   },
   "outputs": [
    {
     "name": "stderr",
     "output_type": "stream",
     "text": [
      "[Parallel(n_jobs=1)]: Using backend SequentialBackend with 1 concurrent workers.\n"
     ]
    },
    {
     "name": "stdout",
     "output_type": "stream",
     "text": [
      "CV Results\n",
      "================================\n",
      "Accuracy\n",
      "--------------------------------\n",
      "Training accuracy: 1.000\n",
      "Test accuracy:     0.848\n",
      "F-1 Score\n",
      "--------------------------------\n",
      "Training F1 score: 1.000\n",
      "Test F1 score:     0.845\n"
     ]
    },
    {
     "name": "stderr",
     "output_type": "stream",
     "text": [
      "[Parallel(n_jobs=1)]: Done   5 out of   5 | elapsed:  4.5min finished\n"
     ]
    }
   ],
   "source": [
    "dtc_tfidf_pipe = Pipeline(steps=[\n",
    "    ('tfidf', TfidfVectorizer()),\n",
    "    ('dtc', DecisionTreeClassifier())\n",
    "])\n",
    "\n",
    "dtc_tfidf_pipe.fit(X_tr_val, y_tr_val)\n",
    "\n",
    "dtc_tfidf_model = ModelForScoring(dtc_tfidf_pipe, 'dtc_tfidf', X_val, y_val)"
   ]
  },
  {
   "cell_type": "code",
   "execution_count": 20,
   "metadata": {
    "ExecuteTime": {
     "end_time": "2022-05-27T22:07:47.621450Z",
     "start_time": "2022-05-27T22:07:47.605334Z"
    }
   },
   "outputs": [
    {
     "name": "stdout",
     "output_type": "stream",
     "text": [
      "{'dum_count': 0.559475681436899, 'dum_tfidf': 0.559475681436899, 'dtc_count': 0.8526654155144493, 'dtc_tfidf': 0.8475409032088898}\n",
      "{'dum_count': 0.3587588337846893, 'dum_tfidf': 0.3587588337846893, 'dtc_count': 0.8503901995883133, 'dtc_tfidf': 0.8452663394024537}\n"
     ]
    }
   ],
   "source": [
    "dtc_tfidf_model.update_scores(cv_acc_scores, cv_f1_scores)"
   ]
  },
  {
   "cell_type": "markdown",
   "metadata": {},
   "source": [
    "Results from cross-validation with `DecisionTreeClassifer`, TF-IDF vectorized:\n",
    "- Validation accuracy = `0.86`\n",
    "- Validation F1 = `0.86`\n",
    "- **Execution time:** 8m, 55s"
   ]
  },
  {
   "cell_type": "markdown",
   "metadata": {},
   "source": [
    "## `MultinomialNB`"
   ]
  },
  {
   "cell_type": "markdown",
   "metadata": {},
   "source": [
    "### Vectorizer: `CountVectorizer`"
   ]
  },
  {
   "cell_type": "code",
   "execution_count": 21,
   "metadata": {
    "ExecuteTime": {
     "end_time": "2022-05-27T22:11:05.746128Z",
     "start_time": "2022-05-27T22:08:36.996428Z"
    },
    "scrolled": false
   },
   "outputs": [
    {
     "name": "stderr",
     "output_type": "stream",
     "text": [
      "[Parallel(n_jobs=1)]: Using backend SequentialBackend with 1 concurrent workers.\n"
     ]
    },
    {
     "name": "stdout",
     "output_type": "stream",
     "text": [
      "CV Results\n",
      "================================\n",
      "Accuracy\n",
      "--------------------------------\n",
      "Training accuracy: 0.952\n",
      "Test accuracy:     0.885\n",
      "F-1 Score\n",
      "--------------------------------\n",
      "Training F1 score: 0.951\n",
      "Test F1 score:     0.882\n"
     ]
    },
    {
     "name": "stderr",
     "output_type": "stream",
     "text": [
      "[Parallel(n_jobs=1)]: Done   5 out of   5 | elapsed:  1.9min finished\n"
     ]
    }
   ],
   "source": [
    "mnb_count_pipe = Pipeline(steps=[\n",
    "    ('count', CountVectorizer()),\n",
    "    ('mnb', MultinomialNB())\n",
    "])\n",
    "\n",
    "mnb_count_pipe.fit(X_tr_val, y_tr_val)\n",
    "\n",
    "mnb_count_model = ModelForScoring(mnb_count_pipe, 'mnb_count', X_val, y_val)"
   ]
  },
  {
   "cell_type": "code",
   "execution_count": 22,
   "metadata": {
    "ExecuteTime": {
     "end_time": "2022-05-27T22:11:05.913657Z",
     "start_time": "2022-05-27T22:11:05.897244Z"
    }
   },
   "outputs": [
    {
     "name": "stdout",
     "output_type": "stream",
     "text": [
      "{'dum_count': 0.559475681436899, 'dum_tfidf': 0.559475681436899, 'dtc_count': 0.8526654155144493, 'dtc_tfidf': 0.8475409032088898, 'mnb_count': 0.8849904464088452}\n",
      "{'dum_count': 0.3587588337846893, 'dum_tfidf': 0.3587588337846893, 'dtc_count': 0.8503901995883133, 'dtc_tfidf': 0.8452663394024537, 'mnb_count': 0.8815240791990997}\n"
     ]
    }
   ],
   "source": [
    "mnb_count_model.update_scores(cv_acc_scores, cv_f1_scores)"
   ]
  },
  {
   "cell_type": "markdown",
   "metadata": {},
   "source": [
    "Results from cross-validation with `MultinomialNB`, count vectorized:\n",
    "- Validation accuracy = `0.90`\n",
    "- Validation F1 = `0.90`\n",
    "- **Execution time:** 2m, 25s"
   ]
  },
  {
   "cell_type": "markdown",
   "metadata": {},
   "source": [
    "### Vectorizer: `TfidfVectorizer`"
   ]
  },
  {
   "cell_type": "code",
   "execution_count": 23,
   "metadata": {
    "ExecuteTime": {
     "end_time": "2022-05-27T22:13:56.750753Z",
     "start_time": "2022-05-27T22:11:06.064823Z"
    }
   },
   "outputs": [
    {
     "name": "stderr",
     "output_type": "stream",
     "text": [
      "[Parallel(n_jobs=1)]: Using backend SequentialBackend with 1 concurrent workers.\n"
     ]
    },
    {
     "name": "stdout",
     "output_type": "stream",
     "text": [
      "CV Results\n",
      "================================\n",
      "Accuracy\n",
      "--------------------------------\n",
      "Training accuracy: 0.825\n",
      "Test accuracy:     0.768\n",
      "F-1 Score\n",
      "--------------------------------\n",
      "Training F1 score: 0.809\n",
      "Test F1 score:     0.737\n"
     ]
    },
    {
     "name": "stderr",
     "output_type": "stream",
     "text": [
      "[Parallel(n_jobs=1)]: Done   5 out of   5 | elapsed:  2.2min finished\n"
     ]
    }
   ],
   "source": [
    "mnb_tfidf_pipe = Pipeline(steps=[\n",
    "    ('tfidf', TfidfVectorizer()),\n",
    "    ('mnb', MultinomialNB())\n",
    "])\n",
    "\n",
    "mnb_tfidf_pipe.fit(X_tr_val, y_tr_val)\n",
    "\n",
    "mnb_tfidf_model = ModelForScoring(mnb_tfidf_pipe, 'mnb_tfidf', X_val, y_val)"
   ]
  },
  {
   "cell_type": "code",
   "execution_count": 24,
   "metadata": {
    "ExecuteTime": {
     "end_time": "2022-05-27T22:13:56.912627Z",
     "start_time": "2022-05-27T22:13:56.897951Z"
    },
    "scrolled": true
   },
   "outputs": [
    {
     "name": "stdout",
     "output_type": "stream",
     "text": [
      "{'dum_count': 0.559475681436899, 'dum_tfidf': 0.559475681436899, 'dtc_count': 0.8526654155144493, 'dtc_tfidf': 0.8475409032088898, 'mnb_count': 0.8849904464088452, 'mnb_tfidf': 0.7680087499726868}\n",
      "{'dum_count': 0.3587588337846893, 'dum_tfidf': 0.3587588337846893, 'dtc_count': 0.8503901995883133, 'dtc_tfidf': 0.8452663394024537, 'mnb_count': 0.8815240791990997, 'mnb_tfidf': 0.7374698110271367}\n"
     ]
    }
   ],
   "source": [
    "mnb_tfidf_model.update_scores(cv_acc_scores, cv_f1_scores)"
   ]
  },
  {
   "cell_type": "markdown",
   "metadata": {},
   "source": [
    "Results from cross-validation with `MultinomialNB`, TF-IDF vectorized:\n",
    "- Validation accuracy = `0.79`\n",
    "- Validation F1 = `0.77`\n",
    "- **Execution time:** 2m, 32s"
   ]
  },
  {
   "cell_type": "markdown",
   "metadata": {},
   "source": [
    "## `RandomForestClassifier`"
   ]
  },
  {
   "cell_type": "markdown",
   "metadata": {},
   "source": [
    "### Vectorizer: `CountVectorizer`"
   ]
  },
  {
   "cell_type": "code",
   "execution_count": 26,
   "metadata": {
    "ExecuteTime": {
     "end_time": "2022-05-27T22:22:54.288701Z",
     "start_time": "2022-05-27T22:15:36.021433Z"
    }
   },
   "outputs": [
    {
     "name": "stderr",
     "output_type": "stream",
     "text": [
      "[Parallel(n_jobs=1)]: Using backend SequentialBackend with 1 concurrent workers.\n"
     ]
    },
    {
     "name": "stdout",
     "output_type": "stream",
     "text": [
      "CV Results\n",
      "================================\n",
      "Accuracy\n",
      "--------------------------------\n",
      "Training accuracy: 1.000\n",
      "Test accuracy:     0.917\n",
      "F-1 Score\n",
      "--------------------------------\n",
      "Training F1 score: 1.000\n",
      "Test F1 score:     0.915\n"
     ]
    },
    {
     "name": "stderr",
     "output_type": "stream",
     "text": [
      "[Parallel(n_jobs=1)]: Done   5 out of   5 | elapsed:  3.7min finished\n"
     ]
    }
   ],
   "source": [
    "rfc_count_pipe = Pipeline(steps=[\n",
    "    ('count', CountVectorizer()),\n",
    "    ('rfc', RandomForestClassifier())\n",
    "])\n",
    "\n",
    "rfc_count_pipe.fit(X_tr_val, y_tr_val)\n",
    "\n",
    "rfc_count_model = ModelForScoring(rfc_count_pipe, 'rfc_count', X_val, y_val)"
   ]
  },
  {
   "cell_type": "code",
   "execution_count": 27,
   "metadata": {
    "ExecuteTime": {
     "end_time": "2022-05-27T22:22:54.489215Z",
     "start_time": "2022-05-27T22:22:54.475905Z"
    }
   },
   "outputs": [
    {
     "name": "stdout",
     "output_type": "stream",
     "text": [
      "{'dum_count': 0.559475681436899, 'dum_tfidf': 0.559475681436899, 'dtc_count': 0.8526654155144493, 'dtc_tfidf': 0.8475409032088898, 'mnb_count': 0.8849904464088452, 'mnb_tfidf': 0.7680087499726868, 'rfc_count': 0.9167238587282434}\n",
      "{'dum_count': 0.3587588337846893, 'dum_tfidf': 0.3587588337846893, 'dtc_count': 0.8503901995883133, 'dtc_tfidf': 0.8452663394024537, 'mnb_count': 0.8815240791990997, 'mnb_tfidf': 0.7374698110271367, 'rfc_count': 0.9146474229221176}\n"
     ]
    }
   ],
   "source": [
    "rfc_count_model.update_scores(cv_acc_scores, cv_f1_scores)"
   ]
  },
  {
   "cell_type": "markdown",
   "metadata": {},
   "source": [
    "Results from cross-validation with `RandomForestClassifer`, count vectorized:\n",
    "- Validation accuracy = `0.93`\n",
    "- Validation F1 = `0.92`\n",
    "- **Execution time:** 9m, 44s"
   ]
  },
  {
   "cell_type": "markdown",
   "metadata": {},
   "source": [
    "### Vectorizer: `TfidfVectorizer`"
   ]
  },
  {
   "cell_type": "code",
   "execution_count": 28,
   "metadata": {
    "ExecuteTime": {
     "end_time": "2022-05-27T22:32:18.497024Z",
     "start_time": "2022-05-27T22:22:54.656390Z"
    },
    "scrolled": false
   },
   "outputs": [
    {
     "name": "stderr",
     "output_type": "stream",
     "text": [
      "[Parallel(n_jobs=1)]: Using backend SequentialBackend with 1 concurrent workers.\n"
     ]
    },
    {
     "name": "stdout",
     "output_type": "stream",
     "text": [
      "CV Results\n",
      "================================\n",
      "Accuracy\n",
      "--------------------------------\n",
      "Training accuracy: 1.000\n",
      "Test accuracy:     0.926\n",
      "F-1 Score\n",
      "--------------------------------\n",
      "Training F1 score: 1.000\n",
      "Test F1 score:     0.924\n"
     ]
    },
    {
     "name": "stderr",
     "output_type": "stream",
     "text": [
      "[Parallel(n_jobs=1)]: Done   5 out of   5 | elapsed:  5.4min finished\n"
     ]
    }
   ],
   "source": [
    "rfc_tfidf_pipe = Pipeline(steps=[\n",
    "    ('tfidf', TfidfVectorizer()),\n",
    "    ('rfc', RandomForestClassifier())\n",
    "])\n",
    "\n",
    "rfc_tfidf_pipe.fit(X_tr_val, y_tr_val)\n",
    "\n",
    "rfc_tfidf_model = ModelForScoring(rfc_tfidf_pipe, 'rfc_tfidf', X_val, y_val)"
   ]
  },
  {
   "cell_type": "code",
   "execution_count": 29,
   "metadata": {
    "ExecuteTime": {
     "end_time": "2022-05-27T22:32:18.683219Z",
     "start_time": "2022-05-27T22:32:18.669608Z"
    }
   },
   "outputs": [
    {
     "name": "stdout",
     "output_type": "stream",
     "text": [
      "{'dum_count': 0.559475681436899, 'dum_tfidf': 0.559475681436899, 'dtc_count': 0.8526654155144493, 'dtc_tfidf': 0.8475409032088898, 'mnb_count': 0.8849904464088452, 'mnb_tfidf': 0.7680087499726868, 'rfc_count': 0.9167238587282434, 'rfc_tfidf': 0.9260862809459877}\n",
      "{'dum_count': 0.3587588337846893, 'dum_tfidf': 0.3587588337846893, 'dtc_count': 0.8503901995883133, 'dtc_tfidf': 0.8452663394024537, 'mnb_count': 0.8815240791990997, 'mnb_tfidf': 0.7374698110271367, 'rfc_count': 0.9146474229221176, 'rfc_tfidf': 0.9244487834430511}\n"
     ]
    }
   ],
   "source": [
    "rfc_tfidf_model.update_scores(cv_acc_scores, cv_f1_scores)"
   ]
  },
  {
   "cell_type": "markdown",
   "metadata": {},
   "source": [
    "Results from cross-validation with `RandomForestClassifer`, TF-IDF vectorized:\n",
    "- Validation accuracy = `0.93`\n",
    "- Validation F1 = `0.93`\n",
    "- **Execution time:** 6m, 37s"
   ]
  },
  {
   "cell_type": "markdown",
   "metadata": {},
   "source": [
    "## `GradientBoostingClassifier`"
   ]
  },
  {
   "cell_type": "markdown",
   "metadata": {},
   "source": [
    "### Vectorizer: `CountVectorizer`"
   ]
  },
  {
   "cell_type": "code",
   "execution_count": 30,
   "metadata": {
    "ExecuteTime": {
     "end_time": "2022-05-28T01:01:44.898919Z",
     "start_time": "2022-05-28T00:33:47.878265Z"
    }
   },
   "outputs": [
    {
     "name": "stderr",
     "output_type": "stream",
     "text": [
      "[Parallel(n_jobs=1)]: Using backend SequentialBackend with 1 concurrent workers.\n"
     ]
    },
    {
     "name": "stdout",
     "output_type": "stream",
     "text": [
      "CV Results\n",
      "================================\n",
      "Accuracy\n",
      "--------------------------------\n",
      "Training accuracy: 0.950\n",
      "Test accuracy:     0.930\n",
      "F-1 Score\n",
      "--------------------------------\n",
      "Training F1 score: 0.949\n",
      "Test F1 score:     0.929\n"
     ]
    },
    {
     "name": "stderr",
     "output_type": "stream",
     "text": [
      "[Parallel(n_jobs=1)]: Done   5 out of   5 | elapsed: 16.5min finished\n"
     ]
    }
   ],
   "source": [
    "gbc_count_pipe = Pipeline(steps=[\n",
    "    ('count', CountVectorizer()),\n",
    "    ('gbc', GradientBoostingClassifier())\n",
    "])\n",
    "\n",
    "gbc_count_pipe.fit(X_tr_val, y_tr_val)\n",
    "\n",
    "gbc_count_model = ModelForScoring(gbc_count_pipe, 'gbc_count', X_val, y_val)"
   ]
  },
  {
   "cell_type": "code",
   "execution_count": 31,
   "metadata": {
    "ExecuteTime": {
     "end_time": "2022-05-28T01:01:45.293321Z",
     "start_time": "2022-05-28T01:01:45.272388Z"
    }
   },
   "outputs": [
    {
     "name": "stdout",
     "output_type": "stream",
     "text": [
      "{'dum_count': 0.559475681436899, 'dum_tfidf': 0.559475681436899, 'dtc_count': 0.8526654155144493, 'dtc_tfidf': 0.8475409032088898, 'mnb_count': 0.8849904464088452, 'mnb_tfidf': 0.7680087499726868, 'rfc_count': 0.9167238587282434, 'rfc_tfidf': 0.9260862809459877, 'gbc_count': 0.9300277988865879}\n",
      "{'dum_count': 0.3587588337846893, 'dum_tfidf': 0.3587588337846893, 'dtc_count': 0.8503901995883133, 'dtc_tfidf': 0.8452663394024537, 'mnb_count': 0.8815240791990997, 'mnb_tfidf': 0.7374698110271367, 'rfc_count': 0.9146474229221176, 'rfc_tfidf': 0.9244487834430511, 'gbc_count': 0.9287915369932321}\n"
     ]
    }
   ],
   "source": [
    "gbc_count_model.update_scores(cv_acc_scores, cv_f1_scores)"
   ]
  },
  {
   "cell_type": "markdown",
   "metadata": {},
   "source": [
    "Results from cross-validation with `GradientBoostingClassifier`, count vectorized:\n",
    "- Validation accuracy = `0.93`\n",
    "- Validation F1 = `0.93`\n",
    "- **Execution time:** 12m, 25s"
   ]
  },
  {
   "cell_type": "markdown",
   "metadata": {},
   "source": [
    "### Vectorizer: `TfidfVectorizer`"
   ]
  },
  {
   "cell_type": "code",
   "execution_count": 32,
   "metadata": {
    "ExecuteTime": {
     "end_time": "2022-05-28T02:02:00.733647Z",
     "start_time": "2022-05-28T01:01:45.794646Z"
    }
   },
   "outputs": [
    {
     "name": "stderr",
     "output_type": "stream",
     "text": [
      "[Parallel(n_jobs=1)]: Using backend SequentialBackend with 1 concurrent workers.\n"
     ]
    },
    {
     "name": "stdout",
     "output_type": "stream",
     "text": [
      "CV Results\n",
      "================================\n",
      "Accuracy\n",
      "--------------------------------\n",
      "Training accuracy: 0.957\n",
      "Test accuracy:     0.929\n",
      "F-1 Score\n",
      "--------------------------------\n",
      "Training F1 score: 0.956\n",
      "Test F1 score:     0.928\n"
     ]
    },
    {
     "name": "stderr",
     "output_type": "stream",
     "text": [
      "[Parallel(n_jobs=1)]: Done   5 out of   5 | elapsed: 37.5min finished\n"
     ]
    }
   ],
   "source": [
    "gbc_tfidf_pipe = Pipeline(steps=[\n",
    "    ('tfidf', TfidfVectorizer()),\n",
    "    ('gbc', GradientBoostingClassifier())\n",
    "])\n",
    "\n",
    "gbc_tfidf_pipe.fit(X_tr_val, y_tr_val)\n",
    "\n",
    "gbc_tfidf_model = ModelForScoring(gbc_tfidf_pipe, 'gbc_tfidf', X_val, y_val)"
   ]
  },
  {
   "cell_type": "code",
   "execution_count": 33,
   "metadata": {
    "ExecuteTime": {
     "end_time": "2022-05-28T02:02:01.072152Z",
     "start_time": "2022-05-28T02:02:01.059905Z"
    }
   },
   "outputs": [
    {
     "name": "stdout",
     "output_type": "stream",
     "text": [
      "{'dum_count': 0.559475681436899, 'dum_tfidf': 0.559475681436899, 'dtc_count': 0.8526654155144493, 'dtc_tfidf': 0.8475409032088898, 'mnb_count': 0.8849904464088452, 'mnb_tfidf': 0.7680087499726868, 'rfc_count': 0.9167238587282434, 'rfc_tfidf': 0.9260862809459877, 'gbc_count': 0.9300277988865879, 'gbc_tfidf': 0.9294371028947259}\n",
      "{'dum_count': 0.3587588337846893, 'dum_tfidf': 0.3587588337846893, 'dtc_count': 0.8503901995883133, 'dtc_tfidf': 0.8452663394024537, 'mnb_count': 0.8815240791990997, 'mnb_tfidf': 0.7374698110271367, 'rfc_count': 0.9146474229221176, 'rfc_tfidf': 0.9244487834430511, 'gbc_count': 0.9287915369932321, 'gbc_tfidf': 0.928154578464653}\n"
     ]
    }
   ],
   "source": [
    "gbc_tfidf_model.update_scores(cv_acc_scores, cv_f1_scores)"
   ]
  },
  {
   "cell_type": "markdown",
   "metadata": {},
   "source": [
    "Results from cross-validation with `GradientBoostingClassifier`, TF-IDF vectorized:\n",
    "- Validation accuracy = `0.94`\n",
    "- Validation F1 = `0.94`\n",
    "- **Execution time:** 25m, 5s"
   ]
  },
  {
   "cell_type": "markdown",
   "metadata": {},
   "source": [
    "## `XGBClassifier`"
   ]
  },
  {
   "cell_type": "markdown",
   "metadata": {},
   "source": [
    "### Vectorizer: `CountVectorizer`"
   ]
  },
  {
   "cell_type": "code",
   "execution_count": 36,
   "metadata": {
    "ExecuteTime": {
     "end_time": "2022-05-28T02:14:50.188217Z",
     "start_time": "2022-05-28T02:04:36.877678Z"
    }
   },
   "outputs": [
    {
     "name": "stderr",
     "output_type": "stream",
     "text": [
      "[Parallel(n_jobs=1)]: Using backend SequentialBackend with 1 concurrent workers.\n"
     ]
    },
    {
     "name": "stdout",
     "output_type": "stream",
     "text": [
      "CV Results\n",
      "================================\n",
      "Accuracy\n",
      "--------------------------------\n",
      "Training accuracy: 1.000\n",
      "Test accuracy:     0.940\n",
      "F-1 Score\n",
      "--------------------------------\n",
      "Training F1 score: 1.000\n",
      "Test F1 score:     0.939\n"
     ]
    },
    {
     "name": "stderr",
     "output_type": "stream",
     "text": [
      "[Parallel(n_jobs=1)]: Done   5 out of   5 | elapsed:  7.2min finished\n"
     ]
    }
   ],
   "source": [
    "xgb_count_pipe = Pipeline(steps=[\n",
    "    ('count', CountVectorizer()),\n",
    "    ('xgb', XGBClassifier())\n",
    "])\n",
    "\n",
    "xgb_count_pipe.fit(X_tr_val, y_tr_val)\n",
    "\n",
    "xgb_count_model = ModelForScoring(xgb_count_pipe, 'xgb_count', X_val, y_val)"
   ]
  },
  {
   "cell_type": "code",
   "execution_count": 37,
   "metadata": {
    "ExecuteTime": {
     "end_time": "2022-05-28T02:14:50.816450Z",
     "start_time": "2022-05-28T02:14:50.801003Z"
    },
    "scrolled": true
   },
   "outputs": [
    {
     "name": "stdout",
     "output_type": "stream",
     "text": [
      "{'dum_count': 0.559475681436899, 'dum_tfidf': 0.559475681436899, 'dtc_count': 0.8526654155144493, 'dtc_tfidf': 0.8475409032088898, 'mnb_count': 0.8849904464088452, 'mnb_tfidf': 0.7680087499726868, 'rfc_count': 0.9167238587282434, 'rfc_tfidf': 0.9260862809459877, 'gbc_count': 0.9300277988865879, 'gbc_tfidf': 0.9294371028947259, 'xgb_count': 0.9399817425653152}\n",
      "{'dum_count': 0.3587588337846893, 'dum_tfidf': 0.3587588337846893, 'dtc_count': 0.8503901995883133, 'dtc_tfidf': 0.8452663394024537, 'mnb_count': 0.8815240791990997, 'mnb_tfidf': 0.7374698110271367, 'rfc_count': 0.9146474229221176, 'rfc_tfidf': 0.9244487834430511, 'gbc_count': 0.9287915369932321, 'gbc_tfidf': 0.928154578464653, 'xgb_count': 0.9388099916941115}\n"
     ]
    }
   ],
   "source": [
    "xgb_count_model.update_scores(cv_acc_scores, cv_f1_scores)"
   ]
  },
  {
   "cell_type": "markdown",
   "metadata": {},
   "source": [
    "Results from cross-validation with `XGBClassifier`, count vectorized:\n",
    "- Validation accuracy = `0.95`\n",
    "- Validation F1 = `0.95`\n",
    "- **Execution time:** 8m, 47s"
   ]
  },
  {
   "cell_type": "markdown",
   "metadata": {},
   "source": [
    "### Vectorizer: `TfidfVectorizer`"
   ]
  },
  {
   "cell_type": "code",
   "execution_count": 13,
   "metadata": {
    "ExecuteTime": {
     "end_time": "2022-06-02T00:29:04.743026Z",
     "start_time": "2022-06-02T00:19:31.524609Z"
    }
   },
   "outputs": [
    {
     "name": "stderr",
     "output_type": "stream",
     "text": [
      "[Parallel(n_jobs=1)]: Using backend SequentialBackend with 1 concurrent workers.\n"
     ]
    },
    {
     "name": "stdout",
     "output_type": "stream",
     "text": [
      "CV Results\n",
      "================================\n",
      "Accuracy\n",
      "--------------------------------\n",
      "Training accuracy: 1.000\n",
      "Test accuracy:     0.942\n",
      "F-1 Score\n",
      "--------------------------------\n",
      "Training F1 score: 1.000\n",
      "Test F1 score:     0.941\n"
     ]
    },
    {
     "name": "stderr",
     "output_type": "stream",
     "text": [
      "[Parallel(n_jobs=1)]: Done   5 out of   5 | elapsed:  6.0min finished\n"
     ]
    }
   ],
   "source": [
    "xgb_tfidf_pipe = Pipeline(steps=[\n",
    "    ('tfidf', TfidfVectorizer(max_features=100000)),\n",
    "    ('xgb', XGBClassifier())\n",
    "])\n",
    "\n",
    "xgb_tfidf_pipe.fit(X_tr_val, y_tr_val)\n",
    "\n",
    "xgb_tfidf_model = ModelForScoring(xgb_tfidf_pipe, 'xgb_tfidf', X_val, y_val)"
   ]
  },
  {
   "cell_type": "code",
   "execution_count": 39,
   "metadata": {
    "ExecuteTime": {
     "end_time": "2022-05-28T02:24:58.195766Z",
     "start_time": "2022-05-28T02:24:58.184897Z"
    }
   },
   "outputs": [
    {
     "name": "stdout",
     "output_type": "stream",
     "text": [
      "{'dum_count': 0.559475681436899, 'dum_tfidf': 0.559475681436899, 'dtc_count': 0.8526654155144493, 'dtc_tfidf': 0.8475409032088898, 'mnb_count': 0.8849904464088452, 'mnb_tfidf': 0.7680087499726868, 'rfc_count': 0.9167238587282434, 'rfc_tfidf': 0.9260862809459877, 'gbc_count': 0.9300277988865879, 'gbc_tfidf': 0.9294371028947259, 'xgb_count': 0.9399817425653152, 'xgb_tfidf': 0.9399817425653152}\n",
      "{'dum_count': 0.3587588337846893, 'dum_tfidf': 0.3587588337846893, 'dtc_count': 0.8503901995883133, 'dtc_tfidf': 0.8452663394024537, 'mnb_count': 0.8815240791990997, 'mnb_tfidf': 0.7374698110271367, 'rfc_count': 0.9146474229221176, 'rfc_tfidf': 0.9244487834430511, 'gbc_count': 0.9287915369932321, 'gbc_tfidf': 0.928154578464653, 'xgb_count': 0.9388099916941115, 'xgb_tfidf': 0.9388099916941115}\n"
     ]
    }
   ],
   "source": [
    "xgb_tfidf_model.update_scores(cv_acc_scores, cv_f1_scores)"
   ]
  },
  {
   "cell_type": "code",
   "execution_count": 44,
   "metadata": {
    "ExecuteTime": {
     "end_time": "2022-05-28T03:03:19.138741Z",
     "start_time": "2022-05-28T03:03:19.115381Z"
    },
    "scrolled": true
   },
   "outputs": [
    {
     "data": {
      "text/plain": [
       "{'dum_count': 0.559475681436899,\n",
       " 'dum_tfidf': 0.559475681436899,\n",
       " 'dtc_count': 0.8526654155144493,\n",
       " 'dtc_tfidf': 0.8475409032088898,\n",
       " 'mnb_count': 0.8849904464088452,\n",
       " 'mnb_tfidf': 0.7680087499726868,\n",
       " 'rfc_count': 0.9167238587282434,\n",
       " 'rfc_tfidf': 0.9260862809459877,\n",
       " 'gbc_count': 0.9300277988865879,\n",
       " 'gbc_tfidf': 0.9294371028947259,\n",
       " 'xgb_count': 0.9399817425653152,\n",
       " 'xgb_tfidf': 0.9399817425653152}"
      ]
     },
     "execution_count": 44,
     "metadata": {},
     "output_type": "execute_result"
    }
   ],
   "source": [
    "cv_acc_scores"
   ]
  },
  {
   "cell_type": "code",
   "execution_count": 45,
   "metadata": {
    "ExecuteTime": {
     "end_time": "2022-05-28T03:03:19.950980Z",
     "start_time": "2022-05-28T03:03:19.933234Z"
    },
    "scrolled": true
   },
   "outputs": [
    {
     "data": {
      "text/plain": [
       "{'dum_count': 0.3587588337846893,\n",
       " 'dum_tfidf': 0.3587588337846893,\n",
       " 'dtc_count': 0.8503901995883133,\n",
       " 'dtc_tfidf': 0.8452663394024537,\n",
       " 'mnb_count': 0.8815240791990997,\n",
       " 'mnb_tfidf': 0.7374698110271367,\n",
       " 'rfc_count': 0.9146474229221176,\n",
       " 'rfc_tfidf': 0.9244487834430511,\n",
       " 'gbc_count': 0.9287915369932321,\n",
       " 'gbc_tfidf': 0.928154578464653,\n",
       " 'xgb_count': 0.9388099916941115,\n",
       " 'xgb_tfidf': 0.9388099916941115}"
      ]
     },
     "execution_count": 45,
     "metadata": {},
     "output_type": "execute_result"
    }
   ],
   "source": [
    "cv_f1_scores"
   ]
  },
  {
   "cell_type": "code",
   "execution_count": 46,
   "metadata": {
    "ExecuteTime": {
     "end_time": "2022-05-28T03:03:22.456044Z",
     "start_time": "2022-05-28T03:03:22.399911Z"
    }
   },
   "outputs": [],
   "source": [
    "with open ('../models/acc_scores.pkl', 'wb') as f:\n",
    "    pickle.dump(cv_acc_scores, f)"
   ]
  },
  {
   "cell_type": "code",
   "execution_count": 47,
   "metadata": {
    "ExecuteTime": {
     "end_time": "2022-05-28T03:03:23.155963Z",
     "start_time": "2022-05-28T03:03:23.139632Z"
    }
   },
   "outputs": [],
   "source": [
    "with open ('../models/f1_scores.pkl', 'wb') as f:\n",
    "    pickle.dump(cv_f1_scores, f)"
   ]
  },
  {
   "cell_type": "markdown",
   "metadata": {},
   "source": [
    "## `StackingClassifier`"
   ]
  },
  {
   "cell_type": "code",
   "execution_count": 14,
   "metadata": {
    "ExecuteTime": {
     "end_time": "2022-06-02T00:29:29.757815Z",
     "start_time": "2022-06-02T00:29:29.743674Z"
    }
   },
   "outputs": [],
   "source": [
    "mnb_tfidf_pipe = Pipeline(steps=[\n",
    "    ('tfidf', TfidfVectorizer(max_features=100000)),\n",
    "    ('mnb', MultinomialNB())\n",
    "])\n",
    "\n",
    "xgb_tfidf_pipe = Pipeline(steps=[\n",
    "    ('tfidf', TfidfVectorizer(max_features=100000)),\n",
    "    ('xgb', XGBClassifier())\n",
    "])\n",
    "\n",
    "final_estimators = [\n",
    "    ('mnb_model', mnb_tfidf_pipe),\n",
    "    ('xgb_model', xgb_tfidf_pipe)\n",
    "]"
   ]
  },
  {
   "cell_type": "code",
   "execution_count": 15,
   "metadata": {
    "ExecuteTime": {
     "end_time": "2022-06-02T01:19:03.983768Z",
     "start_time": "2022-06-02T00:29:30.307159Z"
    }
   },
   "outputs": [
    {
     "name": "stderr",
     "output_type": "stream",
     "text": [
      "[Parallel(n_jobs=1)]: Using backend SequentialBackend with 1 concurrent workers.\n"
     ]
    },
    {
     "name": "stdout",
     "output_type": "stream",
     "text": [
      "CV Results\n",
      "================================\n",
      "Accuracy\n",
      "--------------------------------\n",
      "Training accuracy: 1.000\n",
      "Test accuracy:     0.944\n",
      "F-1 Score\n",
      "--------------------------------\n",
      "Training F1 score: 1.000\n",
      "Test F1 score:     0.943\n"
     ]
    },
    {
     "name": "stderr",
     "output_type": "stream",
     "text": [
      "[Parallel(n_jobs=1)]: Done   5 out of   5 | elapsed: 29.4min finished\n"
     ]
    }
   ],
   "source": [
    "sc_tfidf_pipe = StackingClassifier(final_estimators)\n",
    "\n",
    "sc_tfidf_pipe.fit(X_tr_val, y_tr_val)\n",
    "\n",
    "sc_tfidf_model = ModelForScoring(sc_tfidf_pipe, 'sc_tfidf', X_val, y_val)"
   ]
  }
 ],
 "metadata": {
  "kernelspec": {
   "display_name": "Python (learn-env)",
   "language": "python",
   "name": "learn-env"
  },
  "language_info": {
   "codemirror_mode": {
    "name": "ipython",
    "version": 3
   },
   "file_extension": ".py",
   "mimetype": "text/x-python",
   "name": "python",
   "nbconvert_exporter": "python",
   "pygments_lexer": "ipython3",
   "version": "3.8.5"
  },
  "toc": {
   "base_numbering": 1,
   "nav_menu": {},
   "number_sections": true,
   "sideBar": true,
   "skip_h1_title": false,
   "title_cell": "Table of Contents",
   "title_sidebar": "Contents",
   "toc_cell": false,
   "toc_position": {
    "height": "calc(100% - 180px)",
    "left": "10px",
    "top": "150px",
    "width": "384px"
   },
   "toc_section_display": true,
   "toc_window_display": true
  },
  "varInspector": {
   "cols": {
    "lenName": 16,
    "lenType": 16,
    "lenVar": 40
   },
   "kernels_config": {
    "python": {
     "delete_cmd_postfix": "",
     "delete_cmd_prefix": "del ",
     "library": "var_list.py",
     "varRefreshCmd": "print(var_dic_list())"
    },
    "r": {
     "delete_cmd_postfix": ") ",
     "delete_cmd_prefix": "rm(",
     "library": "var_list.r",
     "varRefreshCmd": "cat(var_dic_list()) "
    }
   },
   "types_to_exclude": [
    "module",
    "function",
    "builtin_function_or_method",
    "instance",
    "_Feature"
   ],
   "window_display": false
  }
 },
 "nbformat": 4,
 "nbformat_minor": 4
}
