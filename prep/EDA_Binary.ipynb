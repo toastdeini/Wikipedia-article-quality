{
 "cells": [
  {
   "cell_type": "markdown",
   "metadata": {},
   "source": [
    "# Exploratory Data Analysis"
   ]
  },
  {
   "cell_type": "markdown",
   "metadata": {},
   "source": [
    "# Imports, Read-in"
   ]
  },
  {
   "cell_type": "code",
   "execution_count": 46,
   "metadata": {
    "ExecuteTime": {
     "end_time": "2022-05-17T20:41:05.965789Z",
     "start_time": "2022-05-17T20:41:05.936647Z"
    }
   },
   "outputs": [],
   "source": [
    "# Data manip.\n",
    "import pandas as pd\n",
    "import numpy as np\n",
    "\n",
    "# Vizz\n",
    "import matplotlib.pyplot as plt\n",
    "%matplotlib inline\n",
    "import seaborn as sns\n",
    "\n",
    "# scikit-learn\n",
    "from sklearn.dummy import DummyClassifier\n",
    "from sklearn.ensemble import RandomForestClassifier, GradientBoostingClassifier\n",
    "from sklearn.feature_extraction.text import CountVectorizer, TfidfVectorizer\n",
    "from sklearn.metrics import confusion_matrix, classification_report\n",
    "from sklearn.model_selection import train_test_split, cross_validate, GridSearchCV\n",
    "from sklearn.naive_bayes import MultinomialNB\n",
    "from sklearn.pipeline import Pipeline\n",
    "\n",
    "# NLTK\n",
    "import nltk\n",
    "from nltk.corpus import stopwords\n",
    "from nltk.probability import FreqDist\n",
    "from nltk.stem import WordNetLemmatizer\n",
    "# nltk.download('stopwords')\n",
    "sw = stopwords.words('english')\n",
    "\n",
    "# etc.\n",
    "import sys\n",
    "sys.path.append( '../src' )\n",
    "from parse_it import *"
   ]
  },
  {
   "cell_type": "markdown",
   "metadata": {},
   "source": [
    "The data is stored in two separate `.csv` files."
   ]
  },
  {
   "cell_type": "code",
   "execution_count": 47,
   "metadata": {
    "ExecuteTime": {
     "end_time": "2022-05-17T20:41:11.166339Z",
     "start_time": "2022-05-17T20:41:06.238538Z"
    }
   },
   "outputs": [],
   "source": [
    "df_good = pd.read_csv('../../data/good.csv')\n",
    "df_promo = pd.read_csv('../../data/promotional.csv')"
   ]
  },
  {
   "cell_type": "markdown",
   "metadata": {},
   "source": [
    "Taking a look at a sample article from the `promotional` articles dataset."
   ]
  },
  {
   "cell_type": "code",
   "execution_count": 48,
   "metadata": {
    "ExecuteTime": {
     "end_time": "2022-05-17T20:41:11.291654Z",
     "start_time": "2022-05-17T20:41:11.274801Z"
    },
    "scrolled": false
   },
   "outputs": [
    {
     "data": {
      "text/plain": [
       "\"The 2007 Bernard Matthews H5N1 outbreak was an occurrence of avian influenza in England caused by the H5N1 subtype of Influenza virus A that began on 30 January 2007. The infection affected poultry at one of Bernard Matthews' farms in Holton in Suffolk. It was the third instance of H5N1 subtype detected in the United Kingdom and a range of precautions were instituted to prevent spread of the disease including a large cull of turkeys, the imposition of segregation zones, and a disinfection programme for the plant. The cause of the outbreak was not determined. However, it was considered significant that Bernard Matthews regularly transports turkeys and turkey products between the UK and its plant in Hungary, and that the H5N1 strains previously found in Hungary, and those found at Suffolk, were effectively genetically identical. H5N1 is a subtype of the Influenza A virus, the viruses responsible for influenza in humans and many other animal species. A bird adapted strain of H5N1, called \""
      ]
     },
     "execution_count": 48,
     "metadata": {},
     "output_type": "execute_result"
    }
   ],
   "source": [
    "df_good.iloc[999].text[:1000]"
   ]
  },
  {
   "cell_type": "markdown",
   "metadata": {},
   "source": [
    "Testing out a custom function, `parse_doc`, which takes care of several NLP preprocessing steps: lowercasing, punctuation and character stripping, lemmatizing, and removing stopwords. It returns a string of *non-unique lemmas*, but can also return a list by setting the argument `as_list = True`. If stemming is preferred to lemmatizing, this can also be done within the function: `stem = 'stem'`."
   ]
  },
  {
   "cell_type": "code",
   "execution_count": 49,
   "metadata": {
    "ExecuteTime": {
     "end_time": "2022-05-17T20:41:11.463180Z",
     "start_time": "2022-05-17T20:41:11.394133Z"
    }
   },
   "outputs": [
    {
     "data": {
      "text/plain": [
       "'bernard matthews h n outbreak occurrence avian influenza england cause h n subtype influenza virus begin january infection affect poultry one bernard matthews farm holton suffolk third instance h n subtype detect united kingdom range precaution institute prevent spread disease include large cull turkey imposition segregation zone disinfection programme plant cause outbreak determine however consider significant bernard matthew regularly transport turkey turkey product uk plant hungary h n strain previously find hungary find suffolk effectively genetically identical h n subtype influenza virus viruses responsible influenza human many animal specie bird adapt strain h n call hpai h n highly pathogenic avian influenza virus type subtype h n causative agent h n flu hpai h n consider avian disease although evidence limit human human transmission virus risk factor contract virus handle infected poultry transmission virus infect bird human inefficient poultry farming practice change due h n cost poultry farm increase cost consumer go due fear h n drive demand supply outbreak third instance h n detect united kingdom first outbreak occurred october among exotic bird import taiwan south america privately own quarantine facility essex england second instance involve dead whooper swan find virus cellardyke scotland april correspond incidence farm south eastern hungary confirm european commission january initial sign outbreak occur tuesday january turkey poults die kill sick least died follow day february death report defra farm seal test carry sample take dead bird veterinary laboratory agency weybridge surrey another bird die february february h n causation confirm km protection zone km surveillance zone restrict zone encompass km set another turkey slaughter cull complete even february also february criticism nearby farmer advise action take around worker plant give anti viral drug although vet site admit hospital suffer mild respiratory illness even february find bird flu plant thoroughly disinfect clean complete february permission give production resume emerge highly critical report defra series biosecurity failing holton plant draw company attention past include gull take turkey waste roost top turkey house away hole turkey house could allow bird rodent defra minister jeff rooker state house lord debate february outbreak exclusively bernard matthew holton problem government february admit outbreak may cause semi process turkey meat import directly hungary disease prevalent despite early week environment secretary david miliband assure house common hungarian connection bernard matthew import ton partly process turkey meat weekly basis saga food company sarvar hungary processing plant next farm though saga food lie mile km recent hungarian h n outbreak occur company director admit possible meat could come exclusion zone response revelation whitehall express concern biosecurity whether meat may distribute human consumption britain february hungarian authority start investigation try establish whether connection suffolk hungarian outbreak february investigation reveal turkey product still transport direction plant hungary eu regulation cite reason transport ban could impose hungary link dismiss european commission february even h n bird flu strain find hungary britain show genetically identical accord analysis virus veterinary laboratory agency weybridge surrey almost certainly link leak government cobra emergency committee indicate authority aware hungarian connection investigator find gallfoods delivery wrapper bernard matthew bin raise possibility outbreak due third party abattoir gallfoods hungary outside restrict zone abattoir might middle man contaminate poultry farming tool fee product within restricted zone bernard matthew own subsidiary hungary response incident allegation cover bernard matthew state february sorry make absolutely cover end upset allegation may withhold information completely untrue bernard matthew give permission resume shipment poultry uk hungary february even though defra indicate hungarian turkey product remain plausible cause outbreak february lengthening list country ban importation poultry product britain include south africa russia japan many others spokesman european commission condemn ban totally disproportionate british poultry council point export less level domestic sale supermarket sale bernard matthew brand turkey halve onset outbreak shopper seek alternative one big ongoing survey consumer confidence reveal february bernard matthews least respected trusted brand britain follow outbreak company confirm february worker would lay period twenty day due drop product sale transport general worker union call government provide compensation worker affect transport general worker union pay hardship monies union fund union member top state benefit lay worker entitle one payment bernard matthew row break march emerge government pay compensation company cull turkey laid worker receive nothing hen tom payout estimate event though actual compensation bill come crisis cost bernard matthew least lost sale cost'"
      ]
     },
     "execution_count": 49,
     "metadata": {},
     "output_type": "execute_result"
    }
   ],
   "source": [
    "parse_doc( df_good.iloc[999].text )"
   ]
  },
  {
   "cell_type": "markdown",
   "metadata": {},
   "source": [
    "# Sample Size, Scope, and Content"
   ]
  },
  {
   "cell_type": "code",
   "execution_count": 50,
   "metadata": {
    "ExecuteTime": {
     "end_time": "2022-05-17T20:41:20.272754Z",
     "start_time": "2022-05-17T20:41:20.256056Z"
    }
   },
   "outputs": [
    {
     "name": "stdout",
     "output_type": "stream",
     "text": [
      "(30279, 2)\n",
      "(23837, 7)\n"
     ]
    }
   ],
   "source": [
    "print(df_good.shape)\n",
    "print(df_promo.shape)"
   ]
  },
  {
   "cell_type": "code",
   "execution_count": 51,
   "metadata": {
    "ExecuteTime": {
     "end_time": "2022-05-17T20:41:20.397612Z",
     "start_time": "2022-05-17T20:41:20.382464Z"
    }
   },
   "outputs": [
    {
     "data": {
      "text/plain": [
       "54116"
      ]
     },
     "execution_count": 51,
     "metadata": {},
     "output_type": "execute_result"
    }
   ],
   "source": [
    "df_good.shape[0] + df_promo.shape[0]"
   ]
  },
  {
   "cell_type": "markdown",
   "metadata": {},
   "source": [
    "In terms of **rows/records**,\n",
    "- The dataframe containing **\"good\"** articles has 30,279 entries.\n",
    "- The dataframe containing **\"promotional\"** articles has 23,837 entries.\n",
    "\n",
    "Combined, we have **54,116** articles for examination.\n",
    "\n",
    "Next, let's discuss features/columns."
   ]
  },
  {
   "cell_type": "code",
   "execution_count": 52,
   "metadata": {
    "ExecuteTime": {
     "end_time": "2022-05-17T20:41:20.764691Z",
     "start_time": "2022-05-17T20:41:20.733369Z"
    }
   },
   "outputs": [
    {
     "name": "stdout",
     "output_type": "stream",
     "text": [
      "Index(['text', 'url'], dtype='object')\n",
      "Index(['text', 'advert', 'coi', 'fanpov', 'pr', 'resume', 'url'], dtype='object')\n"
     ]
    }
   ],
   "source": [
    "print(df_good.columns)\n",
    "print(df_promo.columns)"
   ]
  },
  {
   "cell_type": "markdown",
   "metadata": {},
   "source": [
    "- The dataframe containing **\"good\"** articles has 2 columns - `text` and `url`.\n",
    "- The dataframe containing **\"promotional\"** articles has 7 columns - in addition to `text` and `url`, there are five subtypes of \"promotional tone\":\n",
    "\n",
    "    - `advert`: The article reads like an advertisement.\n",
    "    - `coi`: The article appears to have been written by someone with a close connection to the subject.\n",
    "    - `fanpov`: The article appears to have been written from a fan's point of view, rather than a neutral point of view.\n",
    "    - `pr`: The article reads like a press release/news article.\n",
    "    - `resume`: The (biographical) article reads like a résumé, i.e. it is neither neutral nor encylopedic in nature.\n",
    "    \n",
    "    The values contained in these columns are one-hot encoded binary values. See the dataframe heads below for a tabular representation of the data."
   ]
  },
  {
   "cell_type": "code",
   "execution_count": 53,
   "metadata": {
    "ExecuteTime": {
     "end_time": "2022-05-17T20:41:22.519663Z",
     "start_time": "2022-05-17T20:41:22.501231Z"
    },
    "scrolled": false
   },
   "outputs": [
    {
     "data": {
      "text/html": [
       "<div>\n",
       "<style scoped>\n",
       "    .dataframe tbody tr th:only-of-type {\n",
       "        vertical-align: middle;\n",
       "    }\n",
       "\n",
       "    .dataframe tbody tr th {\n",
       "        vertical-align: top;\n",
       "    }\n",
       "\n",
       "    .dataframe thead th {\n",
       "        text-align: right;\n",
       "    }\n",
       "</style>\n",
       "<table border=\"1\" class=\"dataframe\">\n",
       "  <thead>\n",
       "    <tr style=\"text-align: right;\">\n",
       "      <th></th>\n",
       "      <th>text</th>\n",
       "      <th>url</th>\n",
       "    </tr>\n",
       "  </thead>\n",
       "  <tbody>\n",
       "    <tr>\n",
       "      <th>0</th>\n",
       "      <td>Nycticebus linglom is a fossil strepsirrhine p...</td>\n",
       "      <td>https://en.wikipedia.org/wiki/%3F%20Nycticebus...</td>\n",
       "    </tr>\n",
       "    <tr>\n",
       "      <th>1</th>\n",
       "      <td>Oryzomys pliocaenicus is a fossil rodent from ...</td>\n",
       "      <td>https://en.wikipedia.org/wiki/%3F%20Oryzomys%2...</td>\n",
       "    </tr>\n",
       "    <tr>\n",
       "      <th>2</th>\n",
       "      <td>.hack dt hk is a series of single player actio...</td>\n",
       "      <td>https://en.wikipedia.org/wiki/.hack%20%28video...</td>\n",
       "    </tr>\n",
       "  </tbody>\n",
       "</table>\n",
       "</div>"
      ],
      "text/plain": [
       "                                                text  \\\n",
       "0  Nycticebus linglom is a fossil strepsirrhine p...   \n",
       "1  Oryzomys pliocaenicus is a fossil rodent from ...   \n",
       "2  .hack dt hk is a series of single player actio...   \n",
       "\n",
       "                                                 url  \n",
       "0  https://en.wikipedia.org/wiki/%3F%20Nycticebus...  \n",
       "1  https://en.wikipedia.org/wiki/%3F%20Oryzomys%2...  \n",
       "2  https://en.wikipedia.org/wiki/.hack%20%28video...  "
      ]
     },
     "execution_count": 53,
     "metadata": {},
     "output_type": "execute_result"
    }
   ],
   "source": [
    "df_good.head(3)"
   ]
  },
  {
   "cell_type": "code",
   "execution_count": 54,
   "metadata": {
    "ExecuteTime": {
     "end_time": "2022-05-17T20:41:22.950826Z",
     "start_time": "2022-05-17T20:41:22.920100Z"
    },
    "scrolled": false
   },
   "outputs": [
    {
     "data": {
      "text/html": [
       "<div>\n",
       "<style scoped>\n",
       "    .dataframe tbody tr th:only-of-type {\n",
       "        vertical-align: middle;\n",
       "    }\n",
       "\n",
       "    .dataframe tbody tr th {\n",
       "        vertical-align: top;\n",
       "    }\n",
       "\n",
       "    .dataframe thead th {\n",
       "        text-align: right;\n",
       "    }\n",
       "</style>\n",
       "<table border=\"1\" class=\"dataframe\">\n",
       "  <thead>\n",
       "    <tr style=\"text-align: right;\">\n",
       "      <th></th>\n",
       "      <th>text</th>\n",
       "      <th>advert</th>\n",
       "      <th>coi</th>\n",
       "      <th>fanpov</th>\n",
       "      <th>pr</th>\n",
       "      <th>resume</th>\n",
       "      <th>url</th>\n",
       "    </tr>\n",
       "  </thead>\n",
       "  <tbody>\n",
       "    <tr>\n",
       "      <th>0</th>\n",
       "      <td>1 Litre no Namida 1, lit. 1 Litre of Tears als...</td>\n",
       "      <td>0</td>\n",
       "      <td>0</td>\n",
       "      <td>1</td>\n",
       "      <td>0</td>\n",
       "      <td>0</td>\n",
       "      <td>https://en.wikipedia.org/wiki/1%20Litre%20no%2...</td>\n",
       "    </tr>\n",
       "    <tr>\n",
       "      <th>1</th>\n",
       "      <td>1DayLater was free, web based software that wa...</td>\n",
       "      <td>1</td>\n",
       "      <td>1</td>\n",
       "      <td>0</td>\n",
       "      <td>0</td>\n",
       "      <td>0</td>\n",
       "      <td>https://en.wikipedia.org/wiki/1DayLater</td>\n",
       "    </tr>\n",
       "    <tr>\n",
       "      <th>2</th>\n",
       "      <td>1E is a privately owned IT software and servic...</td>\n",
       "      <td>1</td>\n",
       "      <td>0</td>\n",
       "      <td>0</td>\n",
       "      <td>0</td>\n",
       "      <td>0</td>\n",
       "      <td>https://en.wikipedia.org/wiki/1E</td>\n",
       "    </tr>\n",
       "  </tbody>\n",
       "</table>\n",
       "</div>"
      ],
      "text/plain": [
       "                                                text  advert  coi  fanpov  pr  \\\n",
       "0  1 Litre no Namida 1, lit. 1 Litre of Tears als...       0    0       1   0   \n",
       "1  1DayLater was free, web based software that wa...       1    1       0   0   \n",
       "2  1E is a privately owned IT software and servic...       1    0       0   0   \n",
       "\n",
       "   resume                                                url  \n",
       "0       0  https://en.wikipedia.org/wiki/1%20Litre%20no%2...  \n",
       "1       0            https://en.wikipedia.org/wiki/1DayLater  \n",
       "2       0                   https://en.wikipedia.org/wiki/1E  "
      ]
     },
     "execution_count": 54,
     "metadata": {},
     "output_type": "execute_result"
    }
   ],
   "source": [
    "df_promo.head(3)"
   ]
  },
  {
   "cell_type": "markdown",
   "metadata": {},
   "source": [
    "### Side Investigation: Average Length of Articles?"
   ]
  },
  {
   "cell_type": "code",
   "execution_count": null,
   "metadata": {},
   "outputs": [],
   "source": []
  },
  {
   "cell_type": "markdown",
   "metadata": {},
   "source": [
    "## Checking for Nulls / Data Types"
   ]
  },
  {
   "cell_type": "code",
   "execution_count": 55,
   "metadata": {
    "ExecuteTime": {
     "end_time": "2022-05-17T20:41:23.548282Z",
     "start_time": "2022-05-17T20:41:23.528278Z"
    }
   },
   "outputs": [
    {
     "name": "stdout",
     "output_type": "stream",
     "text": [
      "<class 'pandas.core.frame.DataFrame'>\n",
      "RangeIndex: 30279 entries, 0 to 30278\n",
      "Data columns (total 2 columns):\n",
      " #   Column  Non-Null Count  Dtype \n",
      "---  ------  --------------  ----- \n",
      " 0   text    30279 non-null  object\n",
      " 1   url     30279 non-null  object\n",
      "dtypes: object(2)\n",
      "memory usage: 473.2+ KB\n"
     ]
    }
   ],
   "source": [
    "df_good.info()"
   ]
  },
  {
   "cell_type": "code",
   "execution_count": 56,
   "metadata": {
    "ExecuteTime": {
     "end_time": "2022-05-17T20:41:24.159120Z",
     "start_time": "2022-05-17T20:41:24.130538Z"
    }
   },
   "outputs": [
    {
     "name": "stdout",
     "output_type": "stream",
     "text": [
      "<class 'pandas.core.frame.DataFrame'>\n",
      "RangeIndex: 23837 entries, 0 to 23836\n",
      "Data columns (total 7 columns):\n",
      " #   Column  Non-Null Count  Dtype \n",
      "---  ------  --------------  ----- \n",
      " 0   text    23837 non-null  object\n",
      " 1   advert  23837 non-null  int64 \n",
      " 2   coi     23837 non-null  int64 \n",
      " 3   fanpov  23837 non-null  int64 \n",
      " 4   pr      23837 non-null  int64 \n",
      " 5   resume  23837 non-null  int64 \n",
      " 6   url     23837 non-null  object\n",
      "dtypes: int64(5), object(2)\n",
      "memory usage: 1.3+ MB\n"
     ]
    }
   ],
   "source": [
    "df_promo.info()"
   ]
  },
  {
   "cell_type": "markdown",
   "metadata": {},
   "source": [
    "## Value Counts for Subclasses"
   ]
  },
  {
   "cell_type": "markdown",
   "metadata": {},
   "source": [
    "Knowing there are five different subtypes of promotional article indicated within the dataset raises a further question: *how are those subtypes distributed?*"
   ]
  },
  {
   "cell_type": "code",
   "execution_count": 57,
   "metadata": {
    "ExecuteTime": {
     "end_time": "2022-05-17T20:41:25.157809Z",
     "start_time": "2022-05-17T20:41:25.136193Z"
    }
   },
   "outputs": [
    {
     "data": {
      "text/plain": [
       "Index(['advert', 'coi', 'fanpov', 'pr', 'resume'], dtype='object')"
      ]
     },
     "execution_count": 57,
     "metadata": {},
     "output_type": "execute_result"
    }
   ],
   "source": [
    "df_promo.select_dtypes(include='number').columns"
   ]
  },
  {
   "cell_type": "code",
   "execution_count": 58,
   "metadata": {
    "ExecuteTime": {
     "end_time": "2022-05-17T20:41:25.317853Z",
     "start_time": "2022-05-17T20:41:25.302199Z"
    }
   },
   "outputs": [
    {
     "data": {
      "text/plain": [
       "['advert', 'coi', 'fanpov', 'pr', 'resume']"
      ]
     },
     "execution_count": 58,
     "metadata": {},
     "output_type": "execute_result"
    }
   ],
   "source": [
    "# class_cols = df_promo.select_dtypes(include='number').columns\n",
    "class_cols = df_promo.select_dtypes(include='number').columns.tolist()\n",
    "\n",
    "class_cols"
   ]
  },
  {
   "cell_type": "code",
   "execution_count": 59,
   "metadata": {
    "ExecuteTime": {
     "end_time": "2022-05-17T20:41:25.552988Z",
     "start_time": "2022-05-17T20:41:25.503014Z"
    },
    "scrolled": false
   },
   "outputs": [
    {
     "name": "stdout",
     "output_type": "stream",
     "text": [
      "advert\n",
      "1         0.793346\n",
      "0         0.206654\n",
      "dtype: float64\n",
      "\n",
      "coi\n",
      "0      0.91014\n",
      "1      0.08986\n",
      "dtype: float64\n",
      "\n",
      "fanpov\n",
      "0         0.93724\n",
      "1         0.06276\n",
      "dtype: float64\n",
      "\n",
      "pr\n",
      "0     0.936401\n",
      "1     0.063599\n",
      "dtype: float64\n",
      "\n",
      "resume\n",
      "0         0.90779\n",
      "1         0.09221\n",
      "dtype: float64\n",
      "\n"
     ]
    }
   ],
   "source": [
    "for col in class_cols:\n",
    "    print(f\"{df_promo[[col]].value_counts(normalize=True)}\\n\")"
   ]
  },
  {
   "cell_type": "code",
   "execution_count": 60,
   "metadata": {
    "ExecuteTime": {
     "end_time": "2022-05-17T20:41:25.718295Z",
     "start_time": "2022-05-17T20:41:25.702640Z"
    }
   },
   "outputs": [
    {
     "data": {
      "text/plain": [
       "Index(['text', 'advert', 'coi', 'fanpov', 'pr', 'resume', 'url'], dtype='object')"
      ]
     },
     "execution_count": 60,
     "metadata": {},
     "output_type": "execute_result"
    }
   ],
   "source": [
    "df_promo.columns"
   ]
  },
  {
   "cell_type": "code",
   "execution_count": 61,
   "metadata": {
    "ExecuteTime": {
     "end_time": "2022-05-17T20:41:26.519701Z",
     "start_time": "2022-05-17T20:41:26.123380Z"
    },
    "scrolled": true
   },
   "outputs": [
    {
     "data": {
      "image/png": "[encoded data removed]",
      "text/plain": [
       "<Figure size 2160x432 with 5 Axes>"
      ]
     },
     "metadata": {
      "needs_background": "light"
     },
     "output_type": "display_data"
    }
   ],
   "source": [
    "fig, ax = plt.subplots(nrows=1,\n",
    "                       ncols=5,\n",
    "                       figsize=(30,6))\n",
    "\n",
    "ax[0].bar(x=df_promo['advert'].value_counts(normalize=True).index,\n",
    "          height=df_promo['advert'].value_counts(normalize=True).values,\n",
    "          tick_label=['True', 'False'])\n",
    "ax[0].set_title(\"Advertisement-like\")\n",
    "\n",
    "ax[1].bar(x=df_promo['coi'].value_counts(normalize=True).index,\n",
    "          height=df_promo['coi'].value_counts(normalize=True).values,\n",
    "          tick_label=['False', 'True'])\n",
    "ax[1].set_title(\"Conflict of interest\")\n",
    "\n",
    "ax[2].bar(x=df_promo['fanpov'].value_counts(normalize=True).index,\n",
    "          height=df_promo['fanpov'].value_counts(normalize=True).values,\n",
    "          tick_label=['False', 'True'])\n",
    "ax[2].set_title(\"Written from fan's point of view\")\n",
    "\n",
    "ax[3].bar(x=df_promo['pr'].value_counts(normalize=True).index,\n",
    "          height=df_promo['pr'].value_counts(normalize=True).values,\n",
    "          tick_label=['False', 'True'])\n",
    "ax[3].set_title(\"Written like a news article/press release\")\n",
    "\n",
    "ax[4].bar(x=df_promo['resume'].value_counts(normalize=True).index,\n",
    "          height=df_promo['resume'].value_counts(normalize=True).values,\n",
    "          tick_label=['False', 'True'])\n",
    "ax[4].set_title(\"Reads like a résumé\");"
   ]
  },
  {
   "cell_type": "markdown",
   "metadata": {},
   "source": [
    "# Set-up for Simple Binary Classification"
   ]
  },
  {
   "cell_type": "markdown",
   "metadata": {},
   "source": [
    "First, we drop all columns but `text`, which will be our primary feature."
   ]
  },
  {
   "cell_type": "code",
   "execution_count": 62,
   "metadata": {
    "ExecuteTime": {
     "end_time": "2022-05-17T20:41:27.137072Z",
     "start_time": "2022-05-17T20:41:27.109932Z"
    }
   },
   "outputs": [],
   "source": [
    "df_good = df_good[['text']]\n",
    "df_promo = df_promo[['text']]"
   ]
  },
  {
   "cell_type": "markdown",
   "metadata": {},
   "source": [
    "Before concatening the simplified dataframes, I create a new column `label` in each dataframe and give it the same value in every row. In `df_good`, each row is given the label `0` to indicate `False`, i.e. the article does ***not*** have a promotional tone. Conversely, each row in `df_promo` is given the label `1` to represent `True`, that the article ***does*** contain content that is promotional in tone.\n",
    "\n",
    "Multi-class classification is explored in a [separate notebook](Multi-label.ipynb)."
   ]
  },
  {
   "cell_type": "code",
   "execution_count": 63,
   "metadata": {
    "ExecuteTime": {
     "end_time": "2022-05-17T20:41:27.635773Z",
     "start_time": "2022-05-17T20:41:27.604674Z"
    },
    "scrolled": true
   },
   "outputs": [
    {
     "data": {
      "text/html": [
       "<div>\n",
       "<style scoped>\n",
       "    .dataframe tbody tr th:only-of-type {\n",
       "        vertical-align: middle;\n",
       "    }\n",
       "\n",
       "    .dataframe tbody tr th {\n",
       "        vertical-align: top;\n",
       "    }\n",
       "\n",
       "    .dataframe thead th {\n",
       "        text-align: right;\n",
       "    }\n",
       "</style>\n",
       "<table border=\"1\" class=\"dataframe\">\n",
       "  <thead>\n",
       "    <tr style=\"text-align: right;\">\n",
       "      <th></th>\n",
       "      <th>text</th>\n",
       "      <th>label</th>\n",
       "    </tr>\n",
       "  </thead>\n",
       "  <tbody>\n",
       "    <tr>\n",
       "      <th>0</th>\n",
       "      <td>Nycticebus linglom is a fossil strepsirrhine p...</td>\n",
       "      <td>0</td>\n",
       "    </tr>\n",
       "    <tr>\n",
       "      <th>1</th>\n",
       "      <td>Oryzomys pliocaenicus is a fossil rodent from ...</td>\n",
       "      <td>0</td>\n",
       "    </tr>\n",
       "    <tr>\n",
       "      <th>2</th>\n",
       "      <td>.hack dt hk is a series of single player actio...</td>\n",
       "      <td>0</td>\n",
       "    </tr>\n",
       "  </tbody>\n",
       "</table>\n",
       "</div>"
      ],
      "text/plain": [
       "                                                text  label\n",
       "0  Nycticebus linglom is a fossil strepsirrhine p...      0\n",
       "1  Oryzomys pliocaenicus is a fossil rodent from ...      0\n",
       "2  .hack dt hk is a series of single player actio...      0"
      ]
     },
     "execution_count": 63,
     "metadata": {},
     "output_type": "execute_result"
    }
   ],
   "source": [
    "df_good['label'] = 0\n",
    "df_good.head(3)"
   ]
  },
  {
   "cell_type": "code",
   "execution_count": 64,
   "metadata": {
    "ExecuteTime": {
     "end_time": "2022-05-17T20:41:28.002980Z",
     "start_time": "2022-05-17T20:41:27.988489Z"
    },
    "scrolled": false
   },
   "outputs": [
    {
     "data": {
      "text/html": [
       "<div>\n",
       "<style scoped>\n",
       "    .dataframe tbody tr th:only-of-type {\n",
       "        vertical-align: middle;\n",
       "    }\n",
       "\n",
       "    .dataframe tbody tr th {\n",
       "        vertical-align: top;\n",
       "    }\n",
       "\n",
       "    .dataframe thead th {\n",
       "        text-align: right;\n",
       "    }\n",
       "</style>\n",
       "<table border=\"1\" class=\"dataframe\">\n",
       "  <thead>\n",
       "    <tr style=\"text-align: right;\">\n",
       "      <th></th>\n",
       "      <th>text</th>\n",
       "      <th>label</th>\n",
       "    </tr>\n",
       "  </thead>\n",
       "  <tbody>\n",
       "    <tr>\n",
       "      <th>0</th>\n",
       "      <td>1 Litre no Namida 1, lit. 1 Litre of Tears als...</td>\n",
       "      <td>1</td>\n",
       "    </tr>\n",
       "    <tr>\n",
       "      <th>1</th>\n",
       "      <td>1DayLater was free, web based software that wa...</td>\n",
       "      <td>1</td>\n",
       "    </tr>\n",
       "    <tr>\n",
       "      <th>2</th>\n",
       "      <td>1E is a privately owned IT software and servic...</td>\n",
       "      <td>1</td>\n",
       "    </tr>\n",
       "  </tbody>\n",
       "</table>\n",
       "</div>"
      ],
      "text/plain": [
       "                                                text  label\n",
       "0  1 Litre no Namida 1, lit. 1 Litre of Tears als...      1\n",
       "1  1DayLater was free, web based software that wa...      1\n",
       "2  1E is a privately owned IT software and servic...      1"
      ]
     },
     "execution_count": 64,
     "metadata": {},
     "output_type": "execute_result"
    }
   ],
   "source": [
    "df_promo['label'] = 1\n",
    "df_promo.head(3)"
   ]
  },
  {
   "cell_type": "markdown",
   "metadata": {},
   "source": [
    "Next, we concatenate the dataframes using the pandas method `.append` - setting `ignore_index` to `True` means that the unique index values from `df_promo` are not carried over when this dataframe is appended to `df_good`; the indexing, rather, continues where `df_good`'s index leaves off."
   ]
  },
  {
   "cell_type": "code",
   "execution_count": 65,
   "metadata": {
    "ExecuteTime": {
     "end_time": "2022-05-17T20:41:28.957444Z",
     "start_time": "2022-05-17T20:41:28.935194Z"
    }
   },
   "outputs": [
    {
     "data": {
      "text/html": [
       "<div>\n",
       "<style scoped>\n",
       "    .dataframe tbody tr th:only-of-type {\n",
       "        vertical-align: middle;\n",
       "    }\n",
       "\n",
       "    .dataframe tbody tr th {\n",
       "        vertical-align: top;\n",
       "    }\n",
       "\n",
       "    .dataframe thead th {\n",
       "        text-align: right;\n",
       "    }\n",
       "</style>\n",
       "<table border=\"1\" class=\"dataframe\">\n",
       "  <thead>\n",
       "    <tr style=\"text-align: right;\">\n",
       "      <th></th>\n",
       "      <th>text</th>\n",
       "      <th>label</th>\n",
       "    </tr>\n",
       "  </thead>\n",
       "  <tbody>\n",
       "    <tr>\n",
       "      <th>0</th>\n",
       "      <td>Nycticebus linglom is a fossil strepsirrhine p...</td>\n",
       "      <td>0</td>\n",
       "    </tr>\n",
       "    <tr>\n",
       "      <th>1</th>\n",
       "      <td>Oryzomys pliocaenicus is a fossil rodent from ...</td>\n",
       "      <td>0</td>\n",
       "    </tr>\n",
       "    <tr>\n",
       "      <th>2</th>\n",
       "      <td>.hack dt hk is a series of single player actio...</td>\n",
       "      <td>0</td>\n",
       "    </tr>\n",
       "    <tr>\n",
       "      <th>3</th>\n",
       "      <td>The You Drive Me Crazy Tour was the second con...</td>\n",
       "      <td>0</td>\n",
       "    </tr>\n",
       "    <tr>\n",
       "      <th>4</th>\n",
       "      <td>0 8 4 is the second episode of the first seaso...</td>\n",
       "      <td>0</td>\n",
       "    </tr>\n",
       "    <tr>\n",
       "      <th>...</th>\n",
       "      <td>...</td>\n",
       "      <td>...</td>\n",
       "    </tr>\n",
       "    <tr>\n",
       "      <th>54111</th>\n",
       "      <td>ZURICH.MINDS is a non profit foundation set up...</td>\n",
       "      <td>1</td>\n",
       "    </tr>\n",
       "    <tr>\n",
       "      <th>54112</th>\n",
       "      <td>zvelo, Inc. or simply zvelo is a privately hel...</td>\n",
       "      <td>1</td>\n",
       "    </tr>\n",
       "    <tr>\n",
       "      <th>54113</th>\n",
       "      <td>Zygote Media Group is a 3D human anatomy conte...</td>\n",
       "      <td>1</td>\n",
       "    </tr>\n",
       "    <tr>\n",
       "      <th>54114</th>\n",
       "      <td>Zylom is a distributor of casual games for PC ...</td>\n",
       "      <td>1</td>\n",
       "    </tr>\n",
       "    <tr>\n",
       "      <th>54115</th>\n",
       "      <td>Zynx Health Incorporated is an American corpor...</td>\n",
       "      <td>1</td>\n",
       "    </tr>\n",
       "  </tbody>\n",
       "</table>\n",
       "<p>54116 rows × 2 columns</p>\n",
       "</div>"
      ],
      "text/plain": [
       "                                                    text  label\n",
       "0      Nycticebus linglom is a fossil strepsirrhine p...      0\n",
       "1      Oryzomys pliocaenicus is a fossil rodent from ...      0\n",
       "2      .hack dt hk is a series of single player actio...      0\n",
       "3      The You Drive Me Crazy Tour was the second con...      0\n",
       "4      0 8 4 is the second episode of the first seaso...      0\n",
       "...                                                  ...    ...\n",
       "54111  ZURICH.MINDS is a non profit foundation set up...      1\n",
       "54112  zvelo, Inc. or simply zvelo is a privately hel...      1\n",
       "54113  Zygote Media Group is a 3D human anatomy conte...      1\n",
       "54114  Zylom is a distributor of casual games for PC ...      1\n",
       "54115  Zynx Health Incorporated is an American corpor...      1\n",
       "\n",
       "[54116 rows x 2 columns]"
      ]
     },
     "execution_count": 65,
     "metadata": {},
     "output_type": "execute_result"
    }
   ],
   "source": [
    "df = df_good.append(other=df_promo,\n",
    "                    ignore_index=True)\n",
    "\n",
    "df"
   ]
  },
  {
   "cell_type": "code",
   "execution_count": 66,
   "metadata": {
    "ExecuteTime": {
     "end_time": "2022-05-17T20:41:30.107043Z",
     "start_time": "2022-05-17T20:41:30.080545Z"
    }
   },
   "outputs": [
    {
     "data": {
      "text/html": [
       "<div>\n",
       "<style scoped>\n",
       "    .dataframe tbody tr th:only-of-type {\n",
       "        vertical-align: middle;\n",
       "    }\n",
       "\n",
       "    .dataframe tbody tr th {\n",
       "        vertical-align: top;\n",
       "    }\n",
       "\n",
       "    .dataframe thead th {\n",
       "        text-align: right;\n",
       "    }\n",
       "</style>\n",
       "<table border=\"1\" class=\"dataframe\">\n",
       "  <thead>\n",
       "    <tr style=\"text-align: right;\">\n",
       "      <th></th>\n",
       "      <th>text</th>\n",
       "      <th>label</th>\n",
       "    </tr>\n",
       "  </thead>\n",
       "  <tbody>\n",
       "    <tr>\n",
       "      <th>0</th>\n",
       "      <td>Laurent Gabriel Eketebi, later Eketebi Moyidib...</td>\n",
       "      <td>0</td>\n",
       "    </tr>\n",
       "    <tr>\n",
       "      <th>1</th>\n",
       "      <td>Lee Strafford is an English businessman, the f...</td>\n",
       "      <td>1</td>\n",
       "    </tr>\n",
       "    <tr>\n",
       "      <th>2</th>\n",
       "      <td>Eric Paul Lefkofsky born September 2, 1969 is ...</td>\n",
       "      <td>1</td>\n",
       "    </tr>\n",
       "    <tr>\n",
       "      <th>3</th>\n",
       "      <td>George Harold Harry Beadles 28 September 1897 ...</td>\n",
       "      <td>0</td>\n",
       "    </tr>\n",
       "    <tr>\n",
       "      <th>4</th>\n",
       "      <td>Serpent's Tail is a British independent publis...</td>\n",
       "      <td>1</td>\n",
       "    </tr>\n",
       "    <tr>\n",
       "      <th>...</th>\n",
       "      <td>...</td>\n",
       "      <td>...</td>\n",
       "    </tr>\n",
       "    <tr>\n",
       "      <th>54111</th>\n",
       "      <td>U.S. Route 97 Alternate US 97 Alt., also abbre...</td>\n",
       "      <td>0</td>\n",
       "    </tr>\n",
       "    <tr>\n",
       "      <th>54112</th>\n",
       "      <td>My Immortal is a song by American rock band Ev...</td>\n",
       "      <td>0</td>\n",
       "    </tr>\n",
       "    <tr>\n",
       "      <th>54113</th>\n",
       "      <td>Hanan G. Jacoby born December 28, 1962 is an A...</td>\n",
       "      <td>1</td>\n",
       "    </tr>\n",
       "    <tr>\n",
       "      <th>54114</th>\n",
       "      <td>Yeah is a song by American singer Usher. The s...</td>\n",
       "      <td>0</td>\n",
       "    </tr>\n",
       "    <tr>\n",
       "      <th>54115</th>\n",
       "      <td>Macon Library is a branch of the Brooklyn Publ...</td>\n",
       "      <td>0</td>\n",
       "    </tr>\n",
       "  </tbody>\n",
       "</table>\n",
       "<p>54116 rows × 2 columns</p>\n",
       "</div>"
      ],
      "text/plain": [
       "                                                    text  label\n",
       "0      Laurent Gabriel Eketebi, later Eketebi Moyidib...      0\n",
       "1      Lee Strafford is an English businessman, the f...      1\n",
       "2      Eric Paul Lefkofsky born September 2, 1969 is ...      1\n",
       "3      George Harold Harry Beadles 28 September 1897 ...      0\n",
       "4      Serpent's Tail is a British independent publis...      1\n",
       "...                                                  ...    ...\n",
       "54111  U.S. Route 97 Alternate US 97 Alt., also abbre...      0\n",
       "54112  My Immortal is a song by American rock band Ev...      0\n",
       "54113  Hanan G. Jacoby born December 28, 1962 is an A...      1\n",
       "54114  Yeah is a song by American singer Usher. The s...      0\n",
       "54115  Macon Library is a branch of the Brooklyn Publ...      0\n",
       "\n",
       "[54116 rows x 2 columns]"
      ]
     },
     "execution_count": 66,
     "metadata": {},
     "output_type": "execute_result"
    }
   ],
   "source": [
    "df = df.sample(frac = 1).reset_index(drop=True)\n",
    "\n",
    "df"
   ]
  },
  {
   "cell_type": "code",
   "execution_count": 23,
   "metadata": {
    "ExecuteTime": {
     "end_time": "2022-05-17T19:57:19.153925Z",
     "start_time": "2022-05-17T19:57:19.141994Z"
    },
    "scrolled": true
   },
   "outputs": [],
   "source": [
    "# freq_out(df, 'text', 10)"
   ]
  },
  {
   "cell_type": "code",
   "execution_count": 67,
   "metadata": {
    "ExecuteTime": {
     "end_time": "2022-05-17T20:42:13.553753Z",
     "start_time": "2022-05-17T20:42:07.270758Z"
    },
    "scrolled": true
   },
   "outputs": [
    {
     "data": {
      "text/plain": [
       "0     laurent gabriel eketebi later eketebi moyidiba...\n",
       "1     lee strafford english businessman former chair...\n",
       "2     eric paul lefkofsky bear september american bi...\n",
       "3     george harold harry beadle september august we...\n",
       "4     serpent tail british independent publishing fi...\n",
       "                            ...                        \n",
       "95    exercise medicine eim nonprofit initiative co ...\n",
       "96    hopeville pond state park public recreation ar...\n",
       "97    carrot soup refer french potage de crecy potag...\n",
       "98    australia send nine competitor winter paralymp...\n",
       "99    frederick wellington cyclone taylor mbe june j...\n",
       "Name: text, Length: 100, dtype: object"
      ]
     },
     "execution_count": 67,
     "metadata": {},
     "output_type": "execute_result"
    }
   ],
   "source": [
    "df['text'][:100].apply(parse_doc)"
   ]
  },
  {
   "cell_type": "code",
   "execution_count": null,
   "metadata": {
    "ExecuteTime": {
     "end_time": "2022-05-17T20:34:39.469568Z",
     "start_time": "2022-05-17T19:59:43.568Z"
    }
   },
   "outputs": [],
   "source": [
    "df"
   ]
  },
  {
   "cell_type": "markdown",
   "metadata": {},
   "source": [
    "# Modeling Setup/Brainstorming"
   ]
  },
  {
   "cell_type": "markdown",
   "metadata": {},
   "source": [
    "## `DummyClassifier`"
   ]
  },
  {
   "cell_type": "markdown",
   "metadata": {},
   "source": [
    "## `DecisionTreeClassifier`"
   ]
  },
  {
   "cell_type": "markdown",
   "metadata": {},
   "source": [
    "## `MultinomialNB`"
   ]
  },
  {
   "cell_type": "markdown",
   "metadata": {},
   "source": [
    "## `RandomForestClassifier`"
   ]
  },
  {
   "cell_type": "markdown",
   "metadata": {},
   "source": [
    "## `GradientBoostingClassifier`"
   ]
  },
  {
   "cell_type": "markdown",
   "metadata": {},
   "source": [
    "## `XGBRFClassifier`"
   ]
  }
 ],
 "metadata": {
  "kernelspec": {
   "display_name": "Python (learn-env)",
   "language": "python",
   "name": "learn-env"
  },
  "language_info": {
   "codemirror_mode": {
    "name": "ipython",
    "version": 3
   },
   "file_extension": ".py",
   "mimetype": "text/x-python",
   "name": "python",
   "nbconvert_exporter": "python",
   "pygments_lexer": "ipython3",
   "version": "3.8.5"
  },
  "toc": {
   "base_numbering": 1,
   "nav_menu": {},
   "number_sections": true,
   "sideBar": true,
   "skip_h1_title": false,
   "title_cell": "Table of Contents",
   "title_sidebar": "Contents",
   "toc_cell": false,
   "toc_position": {},
   "toc_section_display": true,
   "toc_window_display": true
  },
  "varInspector": {
   "cols": {
    "lenName": 16,
    "lenType": 16,
    "lenVar": 40
   },
   "kernels_config": {
    "python": {
     "delete_cmd_postfix": "",
     "delete_cmd_prefix": "del ",
     "library": "var_list.py",
     "varRefreshCmd": "print(var_dic_list())"
    },
    "r": {
     "delete_cmd_postfix": ") ",
     "delete_cmd_prefix": "rm(",
     "library": "var_list.r",
     "varRefreshCmd": "cat(var_dic_list()) "
    }
   },
   "types_to_exclude": [
    "module",
    "function",
    "builtin_function_or_method",
    "instance",
    "_Feature"
   ],
   "window_display": false
  }
 },
 "nbformat": 4,
 "nbformat_minor": 4
}
