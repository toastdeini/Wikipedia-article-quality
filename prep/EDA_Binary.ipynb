{
 "cells": [
  {
   "cell_type": "markdown",
   "metadata": {},
   "source": [
    "# Exploratory Data Analysis"
   ]
  },
  {
   "cell_type": "markdown",
   "metadata": {},
   "source": [
    "# Imports, Read-in"
   ]
  },
  {
   "cell_type": "code",
   "execution_count": 82,
   "metadata": {
    "ExecuteTime": {
     "end_time": "2022-05-20T16:45:00.008561Z",
     "start_time": "2022-05-20T16:44:59.975321Z"
    }
   },
   "outputs": [],
   "source": [
    "# Data manip.\n",
    "import pandas as pd\n",
    "import numpy as np\n",
    "\n",
    "# Vizz\n",
    "import matplotlib.pyplot as plt\n",
    "%matplotlib inline\n",
    "import seaborn as sns\n",
    "\n",
    "# scikit-learn\n",
    "from sklearn.dummy import DummyClassifier\n",
    "from sklearn.ensemble import RandomForestClassifier, GradientBoostingClassifier\n",
    "from sklearn.feature_extraction.text import CountVectorizer, TfidfVectorizer\n",
    "from sklearn.metrics import confusion_matrix, classification_report\n",
    "from sklearn.model_selection import train_test_split, cross_validate, GridSearchCV\n",
    "from sklearn.naive_bayes import MultinomialNB\n",
    "from sklearn.pipeline import Pipeline\n",
    "from sklearn.tree import DecisionTreeClassifier\n",
    "\n",
    "# NLTK\n",
    "import nltk\n",
    "from nltk.corpus import stopwords\n",
    "from nltk.probability import FreqDist\n",
    "from nltk.stem import WordNetLemmatizer\n",
    "# nltk.download('stopwords')\n",
    "sw = stopwords.words('english')\n",
    "\n",
    "# etc.\n",
    "import sys\n",
    "sys.path.append( '../src' )\n",
    "from xgboost import XGBClassifier, XGBRFClassifier\n",
    "from parse_it import get_wordnet_pos, parse_doc\n",
    "from pretty_results import *"
   ]
  },
  {
   "cell_type": "markdown",
   "metadata": {},
   "source": [
    "The data is stored in two separate `.csv` files."
   ]
  },
  {
   "cell_type": "code",
   "execution_count": 48,
   "metadata": {
    "ExecuteTime": {
     "end_time": "2022-05-20T15:41:48.691888Z",
     "start_time": "2022-05-20T15:41:43.089667Z"
    }
   },
   "outputs": [],
   "source": [
    "df_good = pd.read_csv('../../data/good.csv')\n",
    "df_promo = pd.read_csv('../../data/promotional.csv')"
   ]
  },
  {
   "cell_type": "markdown",
   "metadata": {},
   "source": [
    "Taking a look at a sample article from the `good` articles dataset."
   ]
  },
  {
   "cell_type": "code",
   "execution_count": 49,
   "metadata": {
    "ExecuteTime": {
     "end_time": "2022-05-20T15:41:48.754570Z",
     "start_time": "2022-05-20T15:41:48.741573Z"
    },
    "scrolled": true
   },
   "outputs": [
    {
     "data": {
      "text/plain": [
       "\"The 8th Military Police Brigade is a military police brigade of the United States Army based at Schofield Barracks, Hawaii. It is responsible for Army military police units within the United States Indo Pacific Command Area of Responsibility. Activated during the Vietnam War, the 8th Military Police Brigade was specifically organized to provide planning, direction, and supervision for the criminal investigation work required by the U.S. Army in Vietnam. It replaced a provisional Military Police Group Criminal Investigation that had been formed on 3 November 1966 in charge of all criminal investigative work in Vietnam, except for the metropolitan Saigon area. In July 1972, it became the basis for the U.S. Army Criminal Investigation Center, Vietnam Field Office. It served in the region for several years and earning ten campaign streamers before being deactivated during the American forces pullout from the region. The brigade was reactivated in Korea in the 1980s to provide command and control for all U.S. Pacific military police forces, and has since been moved to Hawaii, where much of U.S. Army Pacific is located. The Brigade is a subordinate unit of U.S. Army Pacific and the Eighth Theater Sustainment Command It falls under the direct command of the 8th Theater Sustainment Command. Currently, the 8th Military Police Brigade consists of two battalions the 303rd Explosive Ordnance Disposal Battalion and the 728th Military Police Battalion, which contains the 57th, 58th, 552nd, 558th Military Police companies and the 39th and 13th Military Police detachments, as well as one brigade attached company, the 71st Chemical Company. The 8th Military Police Group was originally constituted on 8 April 1967 in the regular army and activated on 26 July at Fort Riley, Kansas. After seeing only five months of duty, the group was again deactivated on 18 December of that year. On 24 August 1968 the group was again activated, this time in Vietnam. Its activation was part of a larger activation of several military police groups in the region to provide greater command and control for Military Police operating throughout the region. As such, the headquarters element took command of military police units already operating in the country. The Brigade provided policing duties, based in Long Binh along with the 89th Military Police Group. During that time it was a subordinate unit of the 18th Military Police Brigade. It received its distinctive unit insignia on 12 November 1969. The group operated in Vietnam until the pullout of U.S. forces from the nation, receiving ten campaign streamers for its role in the conflict. The 8th Military Police Brigade Provisional was constituted in South Korea in September 1984 in response to the need for cohesive command and control element in the event of war, for the numerous non divisional Military Police units on the peninsula. At the time it consisted of the 94th Military Police Battalion in Yongsan Seoul and the 728th Military Police Battalion in Taegu Camp Walker . However, the brigade would remain provisional and would not be officially activated for another ten years while it operated in this capacity. In 1995, the concept plan was approved for the activation of a military police brigade headquarters in Korea. The 8th MP Brigade was officially activated on 16 April 1996 to provide command and control for the 728th Military Police Battalion and the 94th Military Police Battalion in armistice and to serve as the theater military police brigade during hostilities. The same day, it received its shoulder sleeve insignia. In July 2006, the 8th MP Brigade Headquarters and the 728th MP Battalion were reassigned to U.S. Army Pacific and moved from Korea to Schofield Barracks, Hawaii. It was placed under the command of the newly created 8th Theater Sustainment Command. The command is responsible for preparing the 25th Infantry Division and other 8th Army units for worldwide deployment. Subordinate units of the brigade's 728th MP Battalion deployed to Iraq in October 2004 to provide military police duties while the Army formed a clear rotational schedule for MP units coming and going from the country during Operation Iraqi Freedom. In October 2007, the Brigade again deployed elements of the 728th MP Battalion to Iraq for 15 months in support of Operation Iraqi Freedom. The units suffered several casualties, including soldiers killed in ambushes and vehicle accidents. Brigade headquarters deployed in the fall of 2008 in support of Operation Iraqi Freedom. In July 2008, the 8th MP Brigade began its move into Iraq with a pre deployment site survey to support the upcoming deployment into the country. The brigade headquarters replaced the 18th Military Police Brigade, which ended its deployment in fall of 2008. The 8th MP brigade continued the training and expansion of the national Iraqi Police force in the Baghdad area. On 2 December, the brigade officially took control from the 18th MP brigade and began its deployment.\""
      ]
     },
     "execution_count": 49,
     "metadata": {},
     "output_type": "execute_result"
    }
   ],
   "source": [
    "df_good.iloc[138].text"
   ]
  },
  {
   "cell_type": "markdown",
   "metadata": {},
   "source": [
    "Testing out a custom function, `parse_doc`, which takes care of several NLP preprocessing steps: lowercasing, punctuation and character stripping, lemmatizing, and removing stopwords. It returns a string of *non-unique lemmas*, but can also return a list by setting the argument `as_list = True`. If stemming is preferred to lemmatizing, this can also be done within the function: `stem = 'stem'`."
   ]
  },
  {
   "cell_type": "code",
   "execution_count": 50,
   "metadata": {
    "ExecuteTime": {
     "end_time": "2022-05-20T15:41:48.863650Z",
     "start_time": "2022-05-20T15:41:48.791439Z"
    },
    "scrolled": true
   },
   "outputs": [
    {
     "data": {
      "text/plain": [
       "'th military police brigade military police brigade united state army base schofield barrack hawaii responsible army military police unit within united state indo pacific command area responsibility activate vietnam war th military police brigade specifically organize provide plan direction supervision criminal investigation work require u army vietnam replace provisional military police group criminal investigation form november charge criminal investigative work vietnam except metropolitan saigon area july become basis u army criminal investigation center vietnam field office serve region several year earn ten campaign streamer deactivate american force pullout region brigade reactivate korea provide command control u pacific military police force since move hawaii much u army pacific locate brigade subordinate unit u army pacific eighth theater sustainment command fall direct command th theater sustainment command currently th military police brigade consist two battalion rd explosive ordnance disposal battalion th military police battalion contain th th nd th military police company th th military police detachment well one brigade attach company st chemical company th military police group originally constitute april regular army activate july fort riley kansas see five month duty group deactivate december year august group activate time vietnam activation part large activation several military police group region provide great command control military police operate throughout region headquarters element take command military police unit already operate country brigade provide police duty base long binh along th military police group time subordinate unit th military police brigade receive distinctive unit insignia november group operate vietnam pullout u force nation receive ten campaign streamer role conflict th military police brigade provisional constitute south korea september response need cohesive command control element event war numerous non divisional military police unit peninsula time consist th military police battalion yongsan seoul th military police battalion taegu camp walker however brigade would remain provisional would officially activate another ten year operate capacity concept plan approve activation military police brigade headquarters korea th mp brigade officially activate april provide command control th military police battalion th military police battalion armistice serve theater military police brigade hostility day receive shoulder sleeve insignia july th mp brigade headquarters th mp battalion reassign u army pacific move korea schofield barrack hawaii place command newly create th theater sustainment command command responsible prepare th infantry division th army unit worldwide deployment subordinate unit brigade th mp battalion deploy iraq october provide military police duty army form clear rotational schedule mp unit come go country operation iraqi freedom october brigade deployed element th mp battalion iraq month support operation iraqi freedom unit suffer several casualty include soldier kill ambush vehicle accident brigade headquarters deploy fall support operation iraqi freedom july th mp brigade begin move iraq pre deployment site survey support upcoming deployment country brigade headquarters replace th military police brigade end deployment fall th mp brigade continued train expansion national iraqi police force baghdad area december brigade officially take control th mp brigade begin deployment'"
      ]
     },
     "execution_count": 50,
     "metadata": {},
     "output_type": "execute_result"
    }
   ],
   "source": [
    "parse_doc( df_good.iloc[138].text )"
   ]
  },
  {
   "cell_type": "markdown",
   "metadata": {},
   "source": [
    "And, just to get the lay of the land, a look at one of the `promotional` articles."
   ]
  },
  {
   "cell_type": "code",
   "execution_count": 51,
   "metadata": {
    "ExecuteTime": {
     "end_time": "2022-05-20T15:41:48.926558Z",
     "start_time": "2022-05-20T15:41:48.914416Z"
    },
    "scrolled": true
   },
   "outputs": [
    {
     "data": {
      "text/plain": [
       "'Susan Abrams born 1964 is an American business executive who is the Chief Executive Officer of the Illinois Holocaust Museum and Education Center. Abrams was born in New York City and attended the University of Pennsylvania, graduating in 1986 from the Wharton School summa cum laude. Abrams went on to get her Master of Management from Kellogg Graduate School of Management at Northwestern University. Abrams has served on the Chicago Childrens Museum Board of directors as well as the Board of Advisors for the Womens Business Association and Center for Nonprofit Management at Kellogg School of Management. After graduation, Abrams became a financial analyst at Goldman Sachs and, later, a management consultant at McKinsey Company. After McKinsey, Abrams took the position of Vice President of Business, Strategic Planning, Marketing and Communications at the Chicago Childrens Museum. In 1997, Abrams left the Chicago Childrens Museum. Three years later, she published The New Success Rules for Women 10 Surefire Strategies for Reaching Your Career Goals. After this, she founded a residential real estate company. In 2009, Abrams became the Director of Program Review at Northwestern University. After two years there, Abrams moved on to become COO of JCC Chicago. Since 2014, Abrams has been the CEO of the Illinois Holocaust Museum and Education Center.'"
      ]
     },
     "execution_count": 51,
     "metadata": {},
     "output_type": "execute_result"
    }
   ],
   "source": [
    "df_promo.iloc[138].text"
   ]
  },
  {
   "cell_type": "code",
   "execution_count": 52,
   "metadata": {
    "ExecuteTime": {
     "end_time": "2022-05-20T15:41:49.004210Z",
     "start_time": "2022-05-20T15:41:48.975256Z"
    }
   },
   "outputs": [
    {
     "data": {
      "text/plain": [
       "'susan abrams bear american business executive chief executive officer illinois holocaust museum education center abrams born new york city attend university pennsylvania graduate wharton school summa cum laude abrams go get master management kellogg graduate school management northwestern university abrams serve chicago childrens museum board director well board advisor womens business association center nonprofit management kellogg school management graduation abrams become financial analyst goldman sachs later management consultant mckinsey company mckinsey abrams take position vice president business strategic planning marketing communication chicago childrens museum abrams leave chicago childrens museum three year later publish new success rule woman surefire strategy reach career goal found residential real estate company abrams become director program review northwestern university two year abrams move become coo jcc chicago since abrams ceo illinois holocaust museum education center'"
      ]
     },
     "execution_count": 52,
     "metadata": {},
     "output_type": "execute_result"
    }
   ],
   "source": [
    "parse_doc(df_promo.iloc[138].text)"
   ]
  },
  {
   "cell_type": "markdown",
   "metadata": {},
   "source": [
    "# Sample Size, Scope, and Content"
   ]
  },
  {
   "cell_type": "code",
   "execution_count": 7,
   "metadata": {
    "ExecuteTime": {
     "end_time": "2022-05-20T15:25:32.225370Z",
     "start_time": "2022-05-20T15:25:32.216134Z"
    },
    "scrolled": true
   },
   "outputs": [
    {
     "name": "stdout",
     "output_type": "stream",
     "text": [
      "(30279, 2)\n",
      "(23837, 7)\n"
     ]
    }
   ],
   "source": [
    "print(df_good.shape)\n",
    "print(df_promo.shape)"
   ]
  },
  {
   "cell_type": "code",
   "execution_count": 8,
   "metadata": {
    "ExecuteTime": {
     "end_time": "2022-05-20T15:25:32.631977Z",
     "start_time": "2022-05-20T15:25:32.612033Z"
    }
   },
   "outputs": [
    {
     "data": {
      "text/plain": [
       "54116"
      ]
     },
     "execution_count": 8,
     "metadata": {},
     "output_type": "execute_result"
    }
   ],
   "source": [
    "df_good.shape[0] + df_promo.shape[0]"
   ]
  },
  {
   "cell_type": "markdown",
   "metadata": {},
   "source": [
    "In terms of **rows/records**,\n",
    "- The dataframe containing **\"good\"** articles has 30,279 entries.\n",
    "- The dataframe containing **\"promotional\"** articles has 23,837 entries.\n",
    "\n",
    "Combined, we have **54,116** articles for examination.\n",
    "\n",
    "Next, let's discuss features/columns."
   ]
  },
  {
   "cell_type": "code",
   "execution_count": 9,
   "metadata": {
    "ExecuteTime": {
     "end_time": "2022-05-20T15:25:33.517651Z",
     "start_time": "2022-05-20T15:25:33.507709Z"
    }
   },
   "outputs": [
    {
     "name": "stdout",
     "output_type": "stream",
     "text": [
      "Index(['text', 'url'], dtype='object')\n",
      "Index(['text', 'advert', 'coi', 'fanpov', 'pr', 'resume', 'url'], dtype='object')\n"
     ]
    }
   ],
   "source": [
    "print(df_good.columns)\n",
    "print(df_promo.columns)"
   ]
  },
  {
   "cell_type": "markdown",
   "metadata": {},
   "source": [
    "- The dataframe containing **\"good\"** articles has 2 columns - `text` and `url`.\n",
    "- The dataframe containing **\"promotional\"** articles has 7 columns - in addition to `text` and `url`, there are five subtypes of \"promotional tone\":\n",
    "\n",
    "    - `advert`: The article reads like an advertisement.\n",
    "    - `coi`: The article appears to have been written by someone with a close connection to the subject.\n",
    "    - `fanpov`: The article appears to have been written from a fan's point of view, rather than a neutral point of view.\n",
    "    - `pr`: The article reads like a press release/news article.\n",
    "    - `resume`: The (biographical) article reads like a résumé, i.e. it is neither neutral nor encylopedic in nature.\n",
    "    \n",
    "    The values contained in these columns are one-hot encoded binary values. See the dataframe heads below for a tabular representation of the data."
   ]
  },
  {
   "cell_type": "code",
   "execution_count": 10,
   "metadata": {
    "ExecuteTime": {
     "end_time": "2022-05-20T15:25:34.095199Z",
     "start_time": "2022-05-20T15:25:34.068164Z"
    },
    "scrolled": false
   },
   "outputs": [
    {
     "data": {
      "text/html": [
       "<div>\n",
       "<style scoped>\n",
       "    .dataframe tbody tr th:only-of-type {\n",
       "        vertical-align: middle;\n",
       "    }\n",
       "\n",
       "    .dataframe tbody tr th {\n",
       "        vertical-align: top;\n",
       "    }\n",
       "\n",
       "    .dataframe thead th {\n",
       "        text-align: right;\n",
       "    }\n",
       "</style>\n",
       "<table border=\"1\" class=\"dataframe\">\n",
       "  <thead>\n",
       "    <tr style=\"text-align: right;\">\n",
       "      <th></th>\n",
       "      <th>text</th>\n",
       "      <th>url</th>\n",
       "    </tr>\n",
       "  </thead>\n",
       "  <tbody>\n",
       "    <tr>\n",
       "      <th>0</th>\n",
       "      <td>Nycticebus linglom is a fossil strepsirrhine p...</td>\n",
       "      <td>https://en.wikipedia.org/wiki/%3F%20Nycticebus...</td>\n",
       "    </tr>\n",
       "    <tr>\n",
       "      <th>1</th>\n",
       "      <td>Oryzomys pliocaenicus is a fossil rodent from ...</td>\n",
       "      <td>https://en.wikipedia.org/wiki/%3F%20Oryzomys%2...</td>\n",
       "    </tr>\n",
       "    <tr>\n",
       "      <th>2</th>\n",
       "      <td>.hack dt hk is a series of single player actio...</td>\n",
       "      <td>https://en.wikipedia.org/wiki/.hack%20%28video...</td>\n",
       "    </tr>\n",
       "  </tbody>\n",
       "</table>\n",
       "</div>"
      ],
      "text/plain": [
       "                                                text  \\\n",
       "0  Nycticebus linglom is a fossil strepsirrhine p...   \n",
       "1  Oryzomys pliocaenicus is a fossil rodent from ...   \n",
       "2  .hack dt hk is a series of single player actio...   \n",
       "\n",
       "                                                 url  \n",
       "0  https://en.wikipedia.org/wiki/%3F%20Nycticebus...  \n",
       "1  https://en.wikipedia.org/wiki/%3F%20Oryzomys%2...  \n",
       "2  https://en.wikipedia.org/wiki/.hack%20%28video...  "
      ]
     },
     "execution_count": 10,
     "metadata": {},
     "output_type": "execute_result"
    }
   ],
   "source": [
    "df_good.head(3)"
   ]
  },
  {
   "cell_type": "code",
   "execution_count": 11,
   "metadata": {
    "ExecuteTime": {
     "end_time": "2022-05-20T15:25:34.469012Z",
     "start_time": "2022-05-20T15:25:34.439236Z"
    },
    "scrolled": false
   },
   "outputs": [
    {
     "data": {
      "text/html": [
       "<div>\n",
       "<style scoped>\n",
       "    .dataframe tbody tr th:only-of-type {\n",
       "        vertical-align: middle;\n",
       "    }\n",
       "\n",
       "    .dataframe tbody tr th {\n",
       "        vertical-align: top;\n",
       "    }\n",
       "\n",
       "    .dataframe thead th {\n",
       "        text-align: right;\n",
       "    }\n",
       "</style>\n",
       "<table border=\"1\" class=\"dataframe\">\n",
       "  <thead>\n",
       "    <tr style=\"text-align: right;\">\n",
       "      <th></th>\n",
       "      <th>text</th>\n",
       "      <th>advert</th>\n",
       "      <th>coi</th>\n",
       "      <th>fanpov</th>\n",
       "      <th>pr</th>\n",
       "      <th>resume</th>\n",
       "      <th>url</th>\n",
       "    </tr>\n",
       "  </thead>\n",
       "  <tbody>\n",
       "    <tr>\n",
       "      <th>0</th>\n",
       "      <td>1 Litre no Namida 1, lit. 1 Litre of Tears als...</td>\n",
       "      <td>0</td>\n",
       "      <td>0</td>\n",
       "      <td>1</td>\n",
       "      <td>0</td>\n",
       "      <td>0</td>\n",
       "      <td>https://en.wikipedia.org/wiki/1%20Litre%20no%2...</td>\n",
       "    </tr>\n",
       "    <tr>\n",
       "      <th>1</th>\n",
       "      <td>1DayLater was free, web based software that wa...</td>\n",
       "      <td>1</td>\n",
       "      <td>1</td>\n",
       "      <td>0</td>\n",
       "      <td>0</td>\n",
       "      <td>0</td>\n",
       "      <td>https://en.wikipedia.org/wiki/1DayLater</td>\n",
       "    </tr>\n",
       "    <tr>\n",
       "      <th>2</th>\n",
       "      <td>1E is a privately owned IT software and servic...</td>\n",
       "      <td>1</td>\n",
       "      <td>0</td>\n",
       "      <td>0</td>\n",
       "      <td>0</td>\n",
       "      <td>0</td>\n",
       "      <td>https://en.wikipedia.org/wiki/1E</td>\n",
       "    </tr>\n",
       "  </tbody>\n",
       "</table>\n",
       "</div>"
      ],
      "text/plain": [
       "                                                text  advert  coi  fanpov  pr  \\\n",
       "0  1 Litre no Namida 1, lit. 1 Litre of Tears als...       0    0       1   0   \n",
       "1  1DayLater was free, web based software that wa...       1    1       0   0   \n",
       "2  1E is a privately owned IT software and servic...       1    0       0   0   \n",
       "\n",
       "   resume                                                url  \n",
       "0       0  https://en.wikipedia.org/wiki/1%20Litre%20no%2...  \n",
       "1       0            https://en.wikipedia.org/wiki/1DayLater  \n",
       "2       0                   https://en.wikipedia.org/wiki/1E  "
      ]
     },
     "execution_count": 11,
     "metadata": {},
     "output_type": "execute_result"
    }
   ],
   "source": [
    "df_promo.head(3)"
   ]
  },
  {
   "cell_type": "markdown",
   "metadata": {},
   "source": [
    "### Side Investigation: Average Length of Articles?"
   ]
  },
  {
   "cell_type": "markdown",
   "metadata": {},
   "source": [
    "While reading in the data, I noticed that the `promotional` article I selected at semi-random was considerably shorter than the semi-random `good` article - I had to wonder if this observation held true at all in the rest of the dataset and decided to investigate average article length for each class.\n",
    "\n",
    "`len()` can give us a count of characters - `split()` must be used to get a word count."
   ]
  },
  {
   "cell_type": "code",
   "execution_count": 12,
   "metadata": {
    "ExecuteTime": {
     "end_time": "2022-05-20T15:25:35.641060Z",
     "start_time": "2022-05-20T15:25:35.627130Z"
    }
   },
   "outputs": [
    {
     "name": "stdout",
     "output_type": "stream",
     "text": [
      "Character count in first 'good' article: 3466\n",
      "Word count in first 'good' article: 590\n"
     ]
    }
   ],
   "source": [
    "print(f\"Character count in first 'good' article: {len(df_good.iloc[0].text)}\")\n",
    "print(f\"Word count in first 'good' article: {len(df_good.iloc[0].text.split())}\")"
   ]
  },
  {
   "cell_type": "markdown",
   "metadata": {},
   "source": [
    "We can use string methods on the dataframes by calling `.str` - this makes calculations a lot easier."
   ]
  },
  {
   "cell_type": "code",
   "execution_count": 13,
   "metadata": {
    "ExecuteTime": {
     "end_time": "2022-05-20T15:25:36.951443Z",
     "start_time": "2022-05-20T15:25:36.911523Z"
    },
    "scrolled": false
   },
   "outputs": [
    {
     "data": {
      "text/plain": [
       "0         3466\n",
       "1         3230\n",
       "2        22691\n",
       "3         5620\n",
       "4         9303\n",
       "         ...  \n",
       "30274    32625\n",
       "30275     6667\n",
       "30276     9625\n",
       "30277    15576\n",
       "30278    11186\n",
       "Name: text, Length: 30279, dtype: int64"
      ]
     },
     "execution_count": 13,
     "metadata": {},
     "output_type": "execute_result"
    }
   ],
   "source": [
    "df_good.text.str.len()"
   ]
  },
  {
   "cell_type": "code",
   "execution_count": 14,
   "metadata": {
    "ExecuteTime": {
     "end_time": "2022-05-20T15:25:37.546143Z",
     "start_time": "2022-05-20T15:25:37.515145Z"
    },
    "scrolled": true
   },
   "outputs": [
    {
     "data": {
      "text/plain": [
       "0         3439\n",
       "1         1546\n",
       "2         5550\n",
       "3        11461\n",
       "4         1300\n",
       "         ...  \n",
       "23832      895\n",
       "23833     2677\n",
       "23834     1306\n",
       "23835     4642\n",
       "23836     2946\n",
       "Name: text, Length: 23837, dtype: int64"
      ]
     },
     "execution_count": 14,
     "metadata": {},
     "output_type": "execute_result"
    }
   ],
   "source": [
    "df_promo.text.str.len()"
   ]
  },
  {
   "cell_type": "code",
   "execution_count": 15,
   "metadata": {
    "ExecuteTime": {
     "end_time": "2022-05-20T15:25:38.186071Z",
     "start_time": "2022-05-20T15:25:38.115706Z"
    }
   },
   "outputs": [],
   "source": [
    "avg_char_good = df_good.text.str.len().mean()\n",
    "avg_char_promo = df_promo.text.str.len().mean()"
   ]
  },
  {
   "cell_type": "code",
   "execution_count": 16,
   "metadata": {
    "ExecuteTime": {
     "end_time": "2022-05-20T15:25:49.643406Z",
     "start_time": "2022-05-20T15:25:38.900999Z"
    }
   },
   "outputs": [],
   "source": [
    "split_words_good = df_good.text.str.split()\n",
    "split_words_promo = df_promo.text.str.split()"
   ]
  },
  {
   "cell_type": "code",
   "execution_count": 17,
   "metadata": {
    "ExecuteTime": {
     "end_time": "2022-05-20T15:25:49.723309Z",
     "start_time": "2022-05-20T15:25:49.694271Z"
    }
   },
   "outputs": [
    {
     "name": "stdout",
     "output_type": "stream",
     "text": [
      "2628.5815581756333\n"
     ]
    }
   ],
   "source": [
    "word_count_good = 0\n",
    "\n",
    "for article in split_words_good:\n",
    "    word_count_good += len(article)\n",
    "    \n",
    "avg_words_good = word_count_good / len(split_words_good)\n",
    "\n",
    "print(avg_words_good)"
   ]
  },
  {
   "cell_type": "code",
   "execution_count": 18,
   "metadata": {
    "ExecuteTime": {
     "end_time": "2022-05-20T15:25:49.802529Z",
     "start_time": "2022-05-20T15:25:49.774173Z"
    },
    "scrolled": true
   },
   "outputs": [
    {
     "name": "stdout",
     "output_type": "stream",
     "text": [
      "768.2722658052608\n"
     ]
    }
   ],
   "source": [
    "word_count_promo = 0\n",
    "\n",
    "for article in split_words_promo:\n",
    "    word_count_promo += len(article)\n",
    "    \n",
    "avg_words_promo = word_count_promo / len(split_words_promo)\n",
    "\n",
    "print(avg_words_promo)"
   ]
  },
  {
   "cell_type": "code",
   "execution_count": 19,
   "metadata": {
    "ExecuteTime": {
     "end_time": "2022-05-20T15:25:49.864975Z",
     "start_time": "2022-05-20T15:25:49.850990Z"
    },
    "scrolled": true
   },
   "outputs": [
    {
     "name": "stdout",
     "output_type": "stream",
     "text": [
      "Average 'good' article length: 15649 characters, 2629 words\n",
      "Average 'promotional' article length: 4771 characters, 768 words\n",
      "\n",
      "Rough calc of characters per word, 'good' articles: 5.95\n",
      "Rough calc of characters per word, 'promotional' articles: 6.21\n",
      "\n",
      "On average, 'good' articles are 3.4 times longer than 'promotional' articles\n"
     ]
    }
   ],
   "source": [
    "print(f\"Average 'good' article length: {avg_char_good:.0f} characters, {avg_words_good:.0f} words\")\n",
    "print(f\"Average 'promotional' article length: {avg_char_promo:.0f} characters, {avg_words_promo:.0f} words\\n\")\n",
    "print(f\"Rough calc of characters per word, 'good' articles: {(avg_char_good / avg_words_good):.2f}\")\n",
    "print(f\"Rough calc of characters per word, 'promotional' articles: {(avg_char_promo / avg_words_promo):.2f}\\n\")\n",
    "print(f\"On average, 'good' articles are {(avg_words_good / avg_words_promo):.1f} times longer than 'promotional' articles\")"
   ]
  },
  {
   "cell_type": "code",
   "execution_count": 41,
   "metadata": {
    "ExecuteTime": {
     "end_time": "2022-05-20T15:36:51.166391Z",
     "start_time": "2022-05-20T15:36:51.151432Z"
    }
   },
   "outputs": [],
   "source": [
    "plt.style.use('seaborn-dark')"
   ]
  },
  {
   "cell_type": "code",
   "execution_count": 78,
   "metadata": {
    "ExecuteTime": {
     "end_time": "2022-05-20T15:57:23.190753Z",
     "start_time": "2022-05-20T15:57:22.179205Z"
    }
   },
   "outputs": [
    {
     "data": {
      "image/png": "[encoded data removed]",
      "text/plain": [
       "<Figure size 576x720 with 1 Axes>"
      ]
     },
     "metadata": {
      "needs_background": "light"
     },
     "output_type": "display_data"
    }
   ],
   "source": [
    "# Visualization of average lengths\n",
    "fig, ax = plt.subplots(figsize=(8, 10))\n",
    "\n",
    "plt.xticks(fontsize=15)\n",
    "plt.yticks(fontsize=14)\n",
    "ax.tick_params(axis='x', which='major', pad=8)\n",
    "\n",
    "ax.bar(x=[\"'Good' articles\", \"'Promotional' articles\"],\n",
    "       height=(avg_words_good, avg_words_promo),\n",
    "       color=['tab:orange'])\n",
    "\n",
    "ax.set_title(\"Average word count\",\n",
    "             pad=10,\n",
    "             fontsize=22)\n",
    "ax.set_ylabel(\"# of words\",\n",
    "              labelpad=20,\n",
    "              fontsize=16)\n",
    "\n",
    "fig.savefig(fname='../images/avg_word_count.png',\n",
    "            dpi=600,\n",
    "            bbox_inches='tight')"
   ]
  },
  {
   "cell_type": "markdown",
   "metadata": {},
   "source": [
    "## Checking for Nulls / Data Types"
   ]
  },
  {
   "cell_type": "code",
   "execution_count": 20,
   "metadata": {
    "ExecuteTime": {
     "end_time": "2022-05-19T20:28:03.525506Z",
     "start_time": "2022-05-19T20:28:03.469108Z"
    }
   },
   "outputs": [
    {
     "name": "stdout",
     "output_type": "stream",
     "text": [
      "<class 'pandas.core.frame.DataFrame'>\n",
      "RangeIndex: 30279 entries, 0 to 30278\n",
      "Data columns (total 2 columns):\n",
      " #   Column  Non-Null Count  Dtype \n",
      "---  ------  --------------  ----- \n",
      " 0   text    30279 non-null  object\n",
      " 1   url     30279 non-null  object\n",
      "dtypes: object(2)\n",
      "memory usage: 473.2+ KB\n"
     ]
    }
   ],
   "source": [
    "df_good.info()"
   ]
  },
  {
   "cell_type": "code",
   "execution_count": 21,
   "metadata": {
    "ExecuteTime": {
     "end_time": "2022-05-19T20:28:03.744397Z",
     "start_time": "2022-05-19T20:28:03.702159Z"
    }
   },
   "outputs": [
    {
     "name": "stdout",
     "output_type": "stream",
     "text": [
      "<class 'pandas.core.frame.DataFrame'>\n",
      "RangeIndex: 23837 entries, 0 to 23836\n",
      "Data columns (total 7 columns):\n",
      " #   Column  Non-Null Count  Dtype \n",
      "---  ------  --------------  ----- \n",
      " 0   text    23837 non-null  object\n",
      " 1   advert  23837 non-null  int64 \n",
      " 2   coi     23837 non-null  int64 \n",
      " 3   fanpov  23837 non-null  int64 \n",
      " 4   pr      23837 non-null  int64 \n",
      " 5   resume  23837 non-null  int64 \n",
      " 6   url     23837 non-null  object\n",
      "dtypes: int64(5), object(2)\n",
      "memory usage: 1.3+ MB\n"
     ]
    }
   ],
   "source": [
    "df_promo.info()"
   ]
  },
  {
   "cell_type": "markdown",
   "metadata": {},
   "source": [
    "## Value Counts for Subclasses"
   ]
  },
  {
   "cell_type": "markdown",
   "metadata": {},
   "source": [
    "Knowing there are five different subtypes of promotional article indicated within the dataset raises a further question: *how are those subtypes distributed?*"
   ]
  },
  {
   "cell_type": "code",
   "execution_count": 22,
   "metadata": {
    "ExecuteTime": {
     "end_time": "2022-05-19T20:28:06.607772Z",
     "start_time": "2022-05-19T20:28:06.583682Z"
    }
   },
   "outputs": [
    {
     "data": {
      "text/plain": [
       "Index(['advert', 'coi', 'fanpov', 'pr', 'resume'], dtype='object')"
      ]
     },
     "execution_count": 22,
     "metadata": {},
     "output_type": "execute_result"
    }
   ],
   "source": [
    "df_promo.select_dtypes(include='number').columns"
   ]
  },
  {
   "cell_type": "code",
   "execution_count": 23,
   "metadata": {
    "ExecuteTime": {
     "end_time": "2022-05-19T20:28:06.840913Z",
     "start_time": "2022-05-19T20:28:06.814828Z"
    }
   },
   "outputs": [
    {
     "data": {
      "text/plain": [
       "['advert', 'coi', 'fanpov', 'pr', 'resume']"
      ]
     },
     "execution_count": 23,
     "metadata": {},
     "output_type": "execute_result"
    }
   ],
   "source": [
    "# class_cols = df_promo.select_dtypes(include='number').columns\n",
    "class_cols = df_promo.select_dtypes(include='number').columns.tolist()\n",
    "\n",
    "class_cols"
   ]
  },
  {
   "cell_type": "code",
   "execution_count": 24,
   "metadata": {
    "ExecuteTime": {
     "end_time": "2022-05-19T20:28:07.136354Z",
     "start_time": "2022-05-19T20:28:07.063100Z"
    },
    "scrolled": false
   },
   "outputs": [
    {
     "name": "stdout",
     "output_type": "stream",
     "text": [
      "advert\n",
      "1         0.793346\n",
      "0         0.206654\n",
      "dtype: float64\n",
      "\n",
      "coi\n",
      "0      0.91014\n",
      "1      0.08986\n",
      "dtype: float64\n",
      "\n",
      "fanpov\n",
      "0         0.93724\n",
      "1         0.06276\n",
      "dtype: float64\n",
      "\n",
      "pr\n",
      "0     0.936401\n",
      "1     0.063599\n",
      "dtype: float64\n",
      "\n",
      "resume\n",
      "0         0.90779\n",
      "1         0.09221\n",
      "dtype: float64\n",
      "\n"
     ]
    }
   ],
   "source": [
    "for col in class_cols:\n",
    "    print(f\"{df_promo[[col]].value_counts(normalize=True)}\\n\")"
   ]
  },
  {
   "cell_type": "code",
   "execution_count": 25,
   "metadata": {
    "ExecuteTime": {
     "end_time": "2022-05-19T20:28:07.367983Z",
     "start_time": "2022-05-19T20:28:07.327619Z"
    }
   },
   "outputs": [
    {
     "data": {
      "text/plain": [
       "[0.7933464781641986,\n",
       " 0.08986030121240089,\n",
       " 0.06275957544993079,\n",
       " 0.06359860720728279,\n",
       " 0.09220959013298653]"
      ]
     },
     "execution_count": 25,
     "metadata": {},
     "output_type": "execute_result"
    }
   ],
   "source": [
    "advert_posi = df_promo.advert.value_counts(normalize=True).values[0]\n",
    "coi_posi = df_promo.coi.value_counts(normalize=True).values[1]\n",
    "fanpov_posi = df_promo.fanpov.value_counts(normalize=True).values[1]\n",
    "pr_posi = df_promo.pr.value_counts(normalize=True).values[1]\n",
    "resume_posi = df_promo.resume.value_counts(normalize=True).values[1]\n",
    "\n",
    "posi_counts = [advert_posi, coi_posi, fanpov_posi, pr_posi, resume_posi]\n",
    "\n",
    "posi_counts"
   ]
  },
  {
   "cell_type": "code",
   "execution_count": 26,
   "metadata": {
    "ExecuteTime": {
     "end_time": "2022-05-19T20:28:08.796870Z",
     "start_time": "2022-05-19T20:28:08.786459Z"
    }
   },
   "outputs": [
    {
     "data": {
      "text/plain": [
       "Index(['text', 'advert', 'coi', 'fanpov', 'pr', 'resume', 'url'], dtype='object')"
      ]
     },
     "execution_count": 26,
     "metadata": {},
     "output_type": "execute_result"
    }
   ],
   "source": [
    "df_promo.columns"
   ]
  },
  {
   "cell_type": "code",
   "execution_count": 27,
   "metadata": {
    "ExecuteTime": {
     "end_time": "2022-05-19T20:28:11.716357Z",
     "start_time": "2022-05-19T20:28:11.708208Z"
    },
    "scrolled": true
   },
   "outputs": [],
   "source": [
    "# fig, ax = plt.subplots(nrows=1,\n",
    "#                        ncols=5,\n",
    "#                        figsize=(30,6),\n",
    "#                        sharey='all')\n",
    "\n",
    "# ax[0].bar(x=df_promo['advert'].value_counts(normalize=True).index,\n",
    "#           height=df_promo['advert'].value_counts(normalize=True).values,\n",
    "#           tick_label=['True', 'False'])\n",
    "# ax[0].set_title(\"Advertisement-like\")\n",
    "\n",
    "# ax[1].bar(x=df_promo['coi'].value_counts(normalize=True).index,\n",
    "#           height=df_promo['coi'].value_counts(normalize=True).values,\n",
    "#           tick_label=['False', 'True'])\n",
    "# ax[1].set_title(\"Conflict of interest\")\n",
    "\n",
    "# ax[2].bar(x=df_promo['fanpov'].value_counts(normalize=True).index,\n",
    "#           height=df_promo['fanpov'].value_counts(normalize=True).values,\n",
    "#           tick_label=['False', 'True'])\n",
    "# ax[2].set_title(\"Written from fan's point of view\")\n",
    "\n",
    "# ax[3].bar(x=df_promo['pr'].value_counts(normalize=True).index,\n",
    "#           height=df_promo['pr'].value_counts(normalize=True).values,\n",
    "#           tick_label=['False', 'True'])\n",
    "# ax[3].set_title(\"Written like a news article/press release\")\n",
    "\n",
    "# ax[4].bar(x=df_promo['resume'].value_counts(normalize=True).index,\n",
    "#           height=df_promo['resume'].value_counts(normalize=True).values,\n",
    "#           tick_label=['False', 'True'])\n",
    "# ax[4].set_title(\"Reads like a résumé\");"
   ]
  },
  {
   "cell_type": "code",
   "execution_count": 29,
   "metadata": {
    "ExecuteTime": {
     "end_time": "2022-05-19T20:28:18.201763Z",
     "start_time": "2022-05-19T20:28:17.762650Z"
    }
   },
   "outputs": [
    {
     "data": {
      "image/png": "[encoded data removed]",
      "text/plain": [
       "<Figure size 1440x720 with 1 Axes>"
      ]
     },
     "metadata": {
      "needs_background": "light"
     },
     "output_type": "display_data"
    }
   ],
   "source": [
    "fig, ax = plt.subplots(figsize=(20, 10))\n",
    "\n",
    "y_ticks = np.linspace(0, 0.8, 9)\n",
    "y_tick_labels = []\n",
    "\n",
    "for x in np.linspace(0, 80, 9).tolist():\n",
    "    x = str(x).replace('.0', '')\n",
    "    y_tick_labels.append(x)\n",
    "\n",
    "ax.bar(x=[\"Advertisement-like\",\n",
    "          \"Conflict of interest\",\n",
    "          \"Fan's point of view\",\n",
    "          \"News article/press release\",\n",
    "          \"Résumé-like\"],\n",
    "       height=posi_counts,\n",
    "       color=['tab:orange', 'tab:blue', 'tab:blue', 'tab:blue', 'tab:blue'])\n",
    "\n",
    "ax.set_yticks(y_ticks)\n",
    "ax.set_yticklabels(y_tick_labels,\n",
    "                   fontsize=14)\n",
    "ax.set_title(\"Distribution of promotional article subtypes\",\n",
    "             fontsize=25,\n",
    "             pad=16);"
   ]
  },
  {
   "cell_type": "markdown",
   "metadata": {},
   "source": [
    "# Set-up for Simple Binary Classification"
   ]
  },
  {
   "cell_type": "markdown",
   "metadata": {},
   "source": [
    "First, we drop all columns but `text`, which will be our primary feature."
   ]
  },
  {
   "cell_type": "code",
   "execution_count": 30,
   "metadata": {
    "ExecuteTime": {
     "end_time": "2022-05-19T20:28:27.530804Z",
     "start_time": "2022-05-19T20:28:27.508585Z"
    }
   },
   "outputs": [],
   "source": [
    "df_good = df_good[['text']]\n",
    "df_promo = df_promo[['text']]"
   ]
  },
  {
   "cell_type": "markdown",
   "metadata": {},
   "source": [
    "Before concatening the simplified dataframes, I create a new column `label` in each dataframe and give it the same value in every row. In `df_good`, each row is given the label `0` to indicate `False`, i.e. the article does ***not*** have a promotional tone. Conversely, each row in `df_promo` is given the label `1` to represent `True`, that the article ***does*** contain content that is promotional in tone.\n",
    "\n",
    "Multi-class classification is explored in a [separate notebook](Multi-label.ipynb)."
   ]
  },
  {
   "cell_type": "code",
   "execution_count": 31,
   "metadata": {
    "ExecuteTime": {
     "end_time": "2022-05-19T20:28:28.466511Z",
     "start_time": "2022-05-19T20:28:28.429293Z"
    },
    "scrolled": true
   },
   "outputs": [
    {
     "data": {
      "text/html": [
       "<div>\n",
       "<style scoped>\n",
       "    .dataframe tbody tr th:only-of-type {\n",
       "        vertical-align: middle;\n",
       "    }\n",
       "\n",
       "    .dataframe tbody tr th {\n",
       "        vertical-align: top;\n",
       "    }\n",
       "\n",
       "    .dataframe thead th {\n",
       "        text-align: right;\n",
       "    }\n",
       "</style>\n",
       "<table border=\"1\" class=\"dataframe\">\n",
       "  <thead>\n",
       "    <tr style=\"text-align: right;\">\n",
       "      <th></th>\n",
       "      <th>text</th>\n",
       "      <th>label</th>\n",
       "    </tr>\n",
       "  </thead>\n",
       "  <tbody>\n",
       "    <tr>\n",
       "      <th>0</th>\n",
       "      <td>Nycticebus linglom is a fossil strepsirrhine p...</td>\n",
       "      <td>0</td>\n",
       "    </tr>\n",
       "    <tr>\n",
       "      <th>1</th>\n",
       "      <td>Oryzomys pliocaenicus is a fossil rodent from ...</td>\n",
       "      <td>0</td>\n",
       "    </tr>\n",
       "    <tr>\n",
       "      <th>2</th>\n",
       "      <td>.hack dt hk is a series of single player actio...</td>\n",
       "      <td>0</td>\n",
       "    </tr>\n",
       "  </tbody>\n",
       "</table>\n",
       "</div>"
      ],
      "text/plain": [
       "                                                text  label\n",
       "0  Nycticebus linglom is a fossil strepsirrhine p...      0\n",
       "1  Oryzomys pliocaenicus is a fossil rodent from ...      0\n",
       "2  .hack dt hk is a series of single player actio...      0"
      ]
     },
     "execution_count": 31,
     "metadata": {},
     "output_type": "execute_result"
    }
   ],
   "source": [
    "df_good['label'] = 0\n",
    "df_good.head(3)"
   ]
  },
  {
   "cell_type": "code",
   "execution_count": null,
   "metadata": {
    "ExecuteTime": {
     "end_time": "2022-05-19T20:06:38.577561Z",
     "start_time": "2022-05-19T20:06:38.563414Z"
    },
    "scrolled": false
   },
   "outputs": [],
   "source": [
    "df_promo['label'] = 1\n",
    "df_promo.head(3)"
   ]
  },
  {
   "cell_type": "markdown",
   "metadata": {},
   "source": [
    "Next, we concatenate the dataframes using the pandas method `.append` - setting `ignore_index` to `True` means that the unique index values from `df_promo` are not carried over when this dataframe is appended to `df_good`; the indexing, rather, continues where `df_good`'s index leaves off."
   ]
  },
  {
   "cell_type": "code",
   "execution_count": null,
   "metadata": {
    "ExecuteTime": {
     "end_time": "2022-05-19T20:06:39.099835Z",
     "start_time": "2022-05-19T20:06:39.071243Z"
    }
   },
   "outputs": [],
   "source": [
    "df = df_good.append(other=df_promo,\n",
    "                    ignore_index=True)\n",
    "\n",
    "df"
   ]
  },
  {
   "cell_type": "code",
   "execution_count": null,
   "metadata": {
    "ExecuteTime": {
     "end_time": "2022-05-19T20:06:39.602970Z",
     "start_time": "2022-05-19T20:06:39.595022Z"
    }
   },
   "outputs": [],
   "source": [
    "# df = df.sample(frac = 1).reset_index(drop=True)\n",
    "\n",
    "# df"
   ]
  },
  {
   "cell_type": "code",
   "execution_count": null,
   "metadata": {
    "ExecuteTime": {
     "end_time": "2022-05-19T20:06:39.978091Z",
     "start_time": "2022-05-19T20:06:39.966133Z"
    },
    "scrolled": false
   },
   "outputs": [],
   "source": [
    "# freq_out(df, 'text', 10)"
   ]
  },
  {
   "cell_type": "code",
   "execution_count": null,
   "metadata": {
    "ExecuteTime": {
     "end_time": "2022-05-19T20:06:40.210233Z",
     "start_time": "2022-05-19T20:06:40.203021Z"
    },
    "scrolled": true
   },
   "outputs": [],
   "source": [
    "# df['text_lem'] = df['text'].apply(parse_doc) "
   ]
  },
  {
   "cell_type": "code",
   "execution_count": null,
   "metadata": {
    "ExecuteTime": {
     "end_time": "2022-05-19T20:06:40.428333Z",
     "start_time": "2022-05-19T20:06:40.422329Z"
    }
   },
   "outputs": [],
   "source": [
    "# df.to_csv('lemmed_combined.csv')"
   ]
  },
  {
   "cell_type": "markdown",
   "metadata": {},
   "source": [
    "## Reading in Newly Created csv file (with lemmas)"
   ]
  },
  {
   "cell_type": "code",
   "execution_count": 53,
   "metadata": {
    "ExecuteTime": {
     "end_time": "2022-05-20T15:42:03.899891Z",
     "start_time": "2022-05-20T15:41:53.595021Z"
    }
   },
   "outputs": [],
   "source": [
    "lemmed_df = pd.read_csv('../../data/lemmed_combined.csv', index_col=0)"
   ]
  },
  {
   "cell_type": "code",
   "execution_count": 54,
   "metadata": {
    "ExecuteTime": {
     "end_time": "2022-05-20T15:42:03.963719Z",
     "start_time": "2022-05-20T15:42:03.949758Z"
    }
   },
   "outputs": [
    {
     "data": {
      "text/html": [
       "<div>\n",
       "<style scoped>\n",
       "    .dataframe tbody tr th:only-of-type {\n",
       "        vertical-align: middle;\n",
       "    }\n",
       "\n",
       "    .dataframe tbody tr th {\n",
       "        vertical-align: top;\n",
       "    }\n",
       "\n",
       "    .dataframe thead th {\n",
       "        text-align: right;\n",
       "    }\n",
       "</style>\n",
       "<table border=\"1\" class=\"dataframe\">\n",
       "  <thead>\n",
       "    <tr style=\"text-align: right;\">\n",
       "      <th></th>\n",
       "      <th>text</th>\n",
       "      <th>label</th>\n",
       "      <th>text_lem</th>\n",
       "    </tr>\n",
       "  </thead>\n",
       "  <tbody>\n",
       "    <tr>\n",
       "      <th>0</th>\n",
       "      <td>Ryan Steven Lochte lkti LOK tee born August 3,...</td>\n",
       "      <td>0</td>\n",
       "      <td>ryan steven lochte lkti lok tee bear august am...</td>\n",
       "    </tr>\n",
       "    <tr>\n",
       "      <th>1</th>\n",
       "      <td>CAM ships were World War II era British mercha...</td>\n",
       "      <td>0</td>\n",
       "      <td>cam ship world war ii era british merchant shi...</td>\n",
       "    </tr>\n",
       "    <tr>\n",
       "      <th>2</th>\n",
       "      <td>The politics of Vietnam are defined by a singl...</td>\n",
       "      <td>0</td>\n",
       "      <td>politics vietnam define single party socialist...</td>\n",
       "    </tr>\n",
       "  </tbody>\n",
       "</table>\n",
       "</div>"
      ],
      "text/plain": [
       "                                                text  label  \\\n",
       "0  Ryan Steven Lochte lkti LOK tee born August 3,...      0   \n",
       "1  CAM ships were World War II era British mercha...      0   \n",
       "2  The politics of Vietnam are defined by a singl...      0   \n",
       "\n",
       "                                            text_lem  \n",
       "0  ryan steven lochte lkti lok tee bear august am...  \n",
       "1  cam ship world war ii era british merchant shi...  \n",
       "2  politics vietnam define single party socialist...  "
      ]
     },
     "execution_count": 54,
     "metadata": {},
     "output_type": "execute_result"
    }
   ],
   "source": [
    "lemmed_df.head(3)"
   ]
  },
  {
   "cell_type": "code",
   "execution_count": null,
   "metadata": {
    "ExecuteTime": {
     "end_time": "2022-05-18T20:24:59.427803Z",
     "start_time": "2022-05-18T20:24:59.367003Z"
    }
   },
   "outputs": [],
   "source": [
    "additional_sw = ['january',\n",
    "                 'february',\n",
    "                 'april', # 'march' and 'may' are English verbs and\n",
    "                          #  are thus excluded\n",
    "                 'june',\n",
    "                 'july',\n",
    "                 'august',\n",
    "                 'september',\n",
    "                 'october',\n",
    "                 'november',\n",
    "                 'december']"
   ]
  },
  {
   "cell_type": "markdown",
   "metadata": {},
   "source": [
    "# Modeling Setup/Brainstorming"
   ]
  },
  {
   "cell_type": "code",
   "execution_count": 55,
   "metadata": {
    "ExecuteTime": {
     "end_time": "2022-05-20T15:42:06.532126Z",
     "start_time": "2022-05-20T15:42:06.526140Z"
    }
   },
   "outputs": [],
   "source": [
    "X = lemmed_df['text_lem']\n",
    "y = lemmed_df['label']"
   ]
  },
  {
   "cell_type": "code",
   "execution_count": 56,
   "metadata": {
    "ExecuteTime": {
     "end_time": "2022-05-20T15:42:06.890287Z",
     "start_time": "2022-05-20T15:42:06.873256Z"
    }
   },
   "outputs": [
    {
     "data": {
      "text/plain": [
       "0        ryan steven lochte lkti lok tee bear august am...\n",
       "1        cam ship world war ii era british merchant shi...\n",
       "2        politics vietnam define single party socialist...\n",
       "3        pennsylvania route pa state highway locate mon...\n",
       "4        clubland tv british free air dance music chann...\n",
       "                               ...                        \n",
       "54111    guatemala send delegation compete summer paral...\n",
       "54112    charles augustus ollivierre july march vincent...\n",
       "54113    dhanushka jayakody bear july colombo sri lanka...\n",
       "54114    elmer harrison flick january january american ...\n",
       "54115    safdarjung tomb sandstone marble mausoleum del...\n",
       "Name: text_lem, Length: 54116, dtype: object"
      ]
     },
     "execution_count": 56,
     "metadata": {},
     "output_type": "execute_result"
    }
   ],
   "source": [
    "X"
   ]
  },
  {
   "cell_type": "code",
   "execution_count": 57,
   "metadata": {
    "ExecuteTime": {
     "end_time": "2022-05-20T15:42:07.932690Z",
     "start_time": "2022-05-20T15:42:07.924714Z"
    },
    "scrolled": true
   },
   "outputs": [
    {
     "data": {
      "text/plain": [
       "0        0\n",
       "1        0\n",
       "2        0\n",
       "3        0\n",
       "4        1\n",
       "        ..\n",
       "54111    0\n",
       "54112    0\n",
       "54113    1\n",
       "54114    0\n",
       "54115    0\n",
       "Name: label, Length: 54116, dtype: int64"
      ]
     },
     "execution_count": 57,
     "metadata": {},
     "output_type": "execute_result"
    }
   ],
   "source": [
    "y"
   ]
  },
  {
   "cell_type": "code",
   "execution_count": 58,
   "metadata": {
    "ExecuteTime": {
     "end_time": "2022-05-20T15:42:08.789494Z",
     "start_time": "2022-05-20T15:42:08.716195Z"
    }
   },
   "outputs": [],
   "source": [
    "X_train, X_test, y_train, y_test = train_test_split(X, y,\n",
    "                                                    test_size=0.33,\n",
    "                                                    random_state=42,\n",
    "                                                    stratify=y)"
   ]
  },
  {
   "cell_type": "code",
   "execution_count": 59,
   "metadata": {
    "ExecuteTime": {
     "end_time": "2022-05-20T15:42:09.739667Z",
     "start_time": "2022-05-20T15:42:09.712211Z"
    },
    "scrolled": true
   },
   "outputs": [
    {
     "data": {
      "text/plain": [
       "0    0.559533\n",
       "1    0.440467\n",
       "Name: label, dtype: float64"
      ]
     },
     "execution_count": 59,
     "metadata": {},
     "output_type": "execute_result"
    }
   ],
   "source": [
    "y_train.value_counts(normalize=True)"
   ]
  },
  {
   "cell_type": "code",
   "execution_count": 60,
   "metadata": {
    "ExecuteTime": {
     "end_time": "2022-05-20T15:42:10.618878Z",
     "start_time": "2022-05-20T15:42:10.607481Z"
    }
   },
   "outputs": [
    {
     "data": {
      "text/plain": [
       "0    0.559494\n",
       "1    0.440506\n",
       "Name: label, dtype: float64"
      ]
     },
     "execution_count": 60,
     "metadata": {},
     "output_type": "execute_result"
    }
   ],
   "source": [
    "y_test.value_counts(normalize=True)"
   ]
  },
  {
   "cell_type": "markdown",
   "metadata": {},
   "source": [
    "## `DummyClassifier`"
   ]
  },
  {
   "cell_type": "code",
   "execution_count": 46,
   "metadata": {
    "ExecuteTime": {
     "end_time": "2022-05-19T22:00:21.969760Z",
     "start_time": "2022-05-19T21:58:05.008403Z"
    },
    "scrolled": true
   },
   "outputs": [
    {
     "name": "stderr",
     "output_type": "stream",
     "text": [
      "[Parallel(n_jobs=-2)]: Using backend LokyBackend with 7 concurrent workers.\n"
     ]
    },
    {
     "name": "stdout",
     "output_type": "stream",
     "text": [
      "CV Results\n",
      "================================\n",
      "Accuracy\n",
      "--------------------------------\n",
      "Training accuracy: 0.560\n",
      "Test accuracy:     0.560\n",
      "F-1 Score\n",
      "--------------------------------\n",
      "Training F1 score: 0.359\n",
      "Test F1 score:     0.359\n"
     ]
    },
    {
     "name": "stderr",
     "output_type": "stream",
     "text": [
      "[Parallel(n_jobs=-2)]: Done   5 out of   5 | elapsed:  2.3min finished\n"
     ]
    }
   ],
   "source": [
    "dum_pipe = Pipeline(steps=[\n",
    "    ('cvec', CountVectorizer()),\n",
    "    ('dum', DummyClassifier(strategy='most_frequent'))\n",
    "])\n",
    "\n",
    "dum_cv_res = cross_validate(dum_pipe,\n",
    "                            X_train,\n",
    "                            y_train,\n",
    "                            scoring=('accuracy', 'f1_macro'),\n",
    "                            cv=5,\n",
    "                            verbose=1,\n",
    "                            n_jobs=-2,\n",
    "                            return_train_score=True)\n",
    "\n",
    "pretty_cv(dum_cv_res)"
   ]
  },
  {
   "cell_type": "markdown",
   "metadata": {},
   "source": [
    "Results from cross-validation with `DummyClassifier`:\n",
    "- Validation accuracy = `0.56` - proportion of majority class, and **baseline performance**\n",
    "- Validation F1 = `0.36`\n",
    "- **Execution time:** 1m, 30s"
   ]
  },
  {
   "cell_type": "markdown",
   "metadata": {},
   "source": [
    "## `DecisionTreeClassifier`"
   ]
  },
  {
   "cell_type": "code",
   "execution_count": 47,
   "metadata": {
    "ExecuteTime": {
     "end_time": "2022-05-19T22:07:30.825866Z",
     "start_time": "2022-05-19T22:00:31.701511Z"
    },
    "scrolled": false
   },
   "outputs": [
    {
     "name": "stderr",
     "output_type": "stream",
     "text": [
      "[Parallel(n_jobs=-2)]: Using backend LokyBackend with 7 concurrent workers.\n"
     ]
    },
    {
     "name": "stdout",
     "output_type": "stream",
     "text": [
      "CV Results\n",
      "================================\n",
      "Accuracy\n",
      "--------------------------------\n",
      "Training accuracy: 1.000\n",
      "Test accuracy:     0.872\n",
      "F-1 Score\n",
      "--------------------------------\n",
      "Training F1 score: 1.000\n",
      "Test F1 score:     0.870\n"
     ]
    },
    {
     "name": "stderr",
     "output_type": "stream",
     "text": [
      "[Parallel(n_jobs=-2)]: Done   5 out of   5 | elapsed:  7.0min finished\n"
     ]
    }
   ],
   "source": [
    "dtc_pipe = Pipeline(steps=[\n",
    "    ('cvec', CountVectorizer()),\n",
    "    ('dtc', DecisionTreeClassifier())\n",
    "])\n",
    "\n",
    "dtc_cv_res = cross_validate(dtc_pipe,\n",
    "                            X_train,\n",
    "                            y_train,\n",
    "                            scoring=('accuracy', 'f1_macro'),\n",
    "                            cv=5,\n",
    "                            verbose=1,\n",
    "                            n_jobs=-2,\n",
    "                            return_train_score=True)\n",
    "\n",
    "pretty_cv(dtc_cv_res)"
   ]
  },
  {
   "cell_type": "markdown",
   "metadata": {},
   "source": [
    "Results from cross-validation with `DecisionTreeClassifer`, count vectorized:\n",
    "- Validation accuracy = `0.87`\n",
    "- Validation F1 = `0.87`\n",
    "- **Execution time:** 3m, 57s"
   ]
  },
  {
   "cell_type": "code",
   "execution_count": 61,
   "metadata": {
    "ExecuteTime": {
     "end_time": "2022-05-20T15:51:09.875485Z",
     "start_time": "2022-05-20T15:42:14.913186Z"
    }
   },
   "outputs": [
    {
     "name": "stderr",
     "output_type": "stream",
     "text": [
      "[Parallel(n_jobs=-2)]: Using backend LokyBackend with 7 concurrent workers.\n"
     ]
    },
    {
     "name": "stdout",
     "output_type": "stream",
     "text": [
      "CV Results\n",
      "================================\n",
      "Accuracy\n",
      "--------------------------------\n",
      "Training accuracy: 1.000\n",
      "Test accuracy:     0.865\n",
      "F-1 Score\n",
      "--------------------------------\n",
      "Training F1 score: 1.000\n",
      "Test F1 score:     0.863\n"
     ]
    },
    {
     "name": "stderr",
     "output_type": "stream",
     "text": [
      "[Parallel(n_jobs=-2)]: Done   5 out of   5 | elapsed:  8.9min finished\n"
     ]
    }
   ],
   "source": [
    "dtc_tfidf_pipe = Pipeline(steps=[\n",
    "    ('tfidf', TfidfVectorizer()),\n",
    "    ('dtc', DecisionTreeClassifier())\n",
    "])\n",
    "\n",
    "dtc_tfidf_cv_res = cross_validate(dtc_tfidf_pipe,\n",
    "                                  X_train,\n",
    "                                  y_train,\n",
    "                                  scoring=('accuracy', 'f1_macro'),\n",
    "                                  cv=5,\n",
    "                                  verbose=1,\n",
    "                                  n_jobs=-2,\n",
    "                                  return_train_score=True)\n",
    "\n",
    "pretty_cv(dtc_tfidf_cv_res)"
   ]
  },
  {
   "cell_type": "markdown",
   "metadata": {},
   "source": [
    "Results from cross-validation with `DecisionTreeClassifer`, TF-IDF vectorized:\n",
    "- Validation accuracy = `0.86`\n",
    "- Validation F1 = `0.86`\n",
    "- **Execution time:** 8m, 55s"
   ]
  },
  {
   "cell_type": "markdown",
   "metadata": {},
   "source": [
    "## `MultinomialNB`"
   ]
  },
  {
   "cell_type": "code",
   "execution_count": 44,
   "metadata": {
    "ExecuteTime": {
     "end_time": "2022-05-19T21:54:44.967850Z",
     "start_time": "2022-05-19T21:52:19.818013Z"
    }
   },
   "outputs": [
    {
     "name": "stderr",
     "output_type": "stream",
     "text": [
      "[Parallel(n_jobs=-2)]: Using backend LokyBackend with 7 concurrent workers.\n"
     ]
    },
    {
     "name": "stdout",
     "output_type": "stream",
     "text": [
      "CV Results\n",
      "================================\n",
      "Accuracy\n",
      "--------------------------------\n",
      "Training accuracy: 0.940\n",
      "Test accuracy:     0.898\n",
      "F-1 Score\n",
      "--------------------------------\n",
      "Training F1 score: 0.939\n",
      "Test F1 score:     0.896\n"
     ]
    },
    {
     "name": "stderr",
     "output_type": "stream",
     "text": [
      "[Parallel(n_jobs=-2)]: Done   5 out of   5 | elapsed:  2.4min finished\n"
     ]
    }
   ],
   "source": [
    "mnb_pipe = Pipeline(steps=[\n",
    "    ('cvec', CountVectorizer()),\n",
    "    ('mnb', MultinomialNB())\n",
    "])\n",
    "\n",
    "mnb_cv_res = cross_validate(mnb_pipe,\n",
    "                            X_train,\n",
    "                            y_train,\n",
    "                            scoring=('accuracy', 'f1_macro'),\n",
    "                            cv=5,\n",
    "                            verbose=1,\n",
    "                            n_jobs=-2,\n",
    "                            return_train_score=True)\n",
    "\n",
    "pretty_cv(mnb_cv_res)"
   ]
  },
  {
   "cell_type": "markdown",
   "metadata": {},
   "source": [
    "Results from cross-validation with `MultinomialNB`, count vectorized:\n",
    "- Validation accuracy = `0.90`\n",
    "- Validation F1 = `0.90`\n",
    "- **Execution time:** 2m, 25s"
   ]
  },
  {
   "cell_type": "code",
   "execution_count": 45,
   "metadata": {
    "ExecuteTime": {
     "end_time": "2022-05-19T21:57:33.872147Z",
     "start_time": "2022-05-19T21:55:01.389057Z"
    },
    "scrolled": true
   },
   "outputs": [
    {
     "name": "stderr",
     "output_type": "stream",
     "text": [
      "[Parallel(n_jobs=-2)]: Using backend LokyBackend with 7 concurrent workers.\n"
     ]
    },
    {
     "name": "stdout",
     "output_type": "stream",
     "text": [
      "CV Results\n",
      "================================\n",
      "Accuracy\n",
      "--------------------------------\n",
      "Training accuracy: 0.833\n",
      "Test accuracy:     0.793\n",
      "F-1 Score\n",
      "--------------------------------\n",
      "Training F1 score: 0.819\n",
      "Test F1 score:     0.770\n"
     ]
    },
    {
     "name": "stderr",
     "output_type": "stream",
     "text": [
      "[Parallel(n_jobs=-2)]: Done   5 out of   5 | elapsed:  2.5min finished\n"
     ]
    }
   ],
   "source": [
    "mnb_tfidf_pipe = Pipeline(steps=[\n",
    "    ('tfidf', TfidfVectorizer()),\n",
    "    ('mnb', MultinomialNB())\n",
    "])\n",
    "\n",
    "mnb_tfidf_cv_res = cross_validate(mnb_tfidf_pipe,\n",
    "                                  X_train,\n",
    "                                  y_train,\n",
    "                                  scoring=('accuracy', 'f1_macro'),\n",
    "                                  cv=5,\n",
    "                                  verbose=1,\n",
    "                                  n_jobs=-2,\n",
    "                                  return_train_score=True)\n",
    "\n",
    "pretty_cv(mnb_tfidf_cv_res)"
   ]
  },
  {
   "cell_type": "markdown",
   "metadata": {},
   "source": [
    "Results from cross-validation with `MultinomialNB`, TF-IDF vectorized:\n",
    "- Validation accuracy = `0.79`\n",
    "- Validation F1 = `0.77`\n",
    "- **Execution time:** 2m, 32s"
   ]
  },
  {
   "cell_type": "markdown",
   "metadata": {},
   "source": [
    "## `RandomForestClassifier`"
   ]
  },
  {
   "cell_type": "code",
   "execution_count": 40,
   "metadata": {
    "ExecuteTime": {
     "end_time": "2022-05-19T20:39:24.312937Z",
     "start_time": "2022-05-19T20:29:40.110248Z"
    }
   },
   "outputs": [
    {
     "name": "stderr",
     "output_type": "stream",
     "text": [
      "[Parallel(n_jobs=-2)]: Using backend LokyBackend with 7 concurrent workers.\n"
     ]
    },
    {
     "name": "stdout",
     "output_type": "stream",
     "text": [
      "CV Results\n",
      "================================\n",
      "Accuracy\n",
      "--------------------------------\n",
      "Training accuracy: 1.000\n",
      "Test accuracy:     0.925\n",
      "F-1 Score\n",
      "--------------------------------\n",
      "Training F1 score: 1.000\n",
      "Test F1 score:     0.923\n"
     ]
    },
    {
     "name": "stderr",
     "output_type": "stream",
     "text": [
      "[Parallel(n_jobs=-2)]: Done   5 out of   5 | elapsed:  9.7min finished\n"
     ]
    }
   ],
   "source": [
    "rfc_cvec_pipe = Pipeline(steps=[\n",
    "    ('cvec', CountVectorizer()),\n",
    "    ('rfc', RandomForestClassifier())\n",
    "])\n",
    "\n",
    "rfc_cvec_cv_res = cross_validate(rfc_cvec_pipe,\n",
    "                                 X_train,\n",
    "                                 y_train,\n",
    "                                 scoring=('accuracy', 'f1_macro'),\n",
    "                                 cv=5,\n",
    "                                 verbose=1,\n",
    "                                 n_jobs=-2,\n",
    "                                 return_train_score=True)\n",
    "\n",
    "pretty_cv(rfc_cvec_cv_res)"
   ]
  },
  {
   "cell_type": "markdown",
   "metadata": {},
   "source": [
    "Results from cross-validation with `RandomForestClassifer`, count vectorized:\n",
    "- Validation accuracy = `0.93`\n",
    "- Validation F1 = `0.92`\n",
    "- **Execution time:** 9m, 44s"
   ]
  },
  {
   "cell_type": "code",
   "execution_count": 41,
   "metadata": {
    "ExecuteTime": {
     "end_time": "2022-05-19T20:46:01.172481Z",
     "start_time": "2022-05-19T20:39:24.467852Z"
    },
    "scrolled": false
   },
   "outputs": [
    {
     "name": "stderr",
     "output_type": "stream",
     "text": [
      "[Parallel(n_jobs=-2)]: Using backend LokyBackend with 7 concurrent workers.\n"
     ]
    },
    {
     "name": "stdout",
     "output_type": "stream",
     "text": [
      "CV Results\n",
      "================================\n",
      "Accuracy\n",
      "--------------------------------\n",
      "Training accuracy: 1.000\n",
      "Test accuracy:     0.930\n",
      "F-1 Score\n",
      "--------------------------------\n",
      "Training F1 score: 1.000\n",
      "Test F1 score:     0.929\n"
     ]
    },
    {
     "name": "stderr",
     "output_type": "stream",
     "text": [
      "[Parallel(n_jobs=-2)]: Done   5 out of   5 | elapsed:  6.6min finished\n"
     ]
    }
   ],
   "source": [
    "rfc_tfidf_pipe = Pipeline(steps=[\n",
    "    ('tfidf', TfidfVectorizer()),\n",
    "    ('rfc', RandomForestClassifier())\n",
    "])\n",
    "\n",
    "rfc_tfidf_cv_res = cross_validate(rfc_tfidf_pipe,\n",
    "                                  X_train,\n",
    "                                  y_train,\n",
    "                                  scoring=('accuracy', 'f1_macro'),\n",
    "                                  cv=5,\n",
    "                                  verbose=1,\n",
    "                                  n_jobs=-2,\n",
    "                                  return_train_score=True)\n",
    "\n",
    "pretty_cv(rfc_tfidf_cv_res)"
   ]
  },
  {
   "cell_type": "markdown",
   "metadata": {},
   "source": [
    "Results from cross-validation with `RandomForestClassifer`, TF-IDF vectorized:\n",
    "- Validation accuracy = `0.93`\n",
    "- Validation F1 = `0.93`\n",
    "- **Execution time:** 6m, 37s"
   ]
  },
  {
   "cell_type": "markdown",
   "metadata": {},
   "source": [
    "## `GradientBoostingClassifier`"
   ]
  },
  {
   "cell_type": "code",
   "execution_count": 42,
   "metadata": {
    "ExecuteTime": {
     "end_time": "2022-05-19T21:27:14.096579Z",
     "start_time": "2022-05-19T21:14:48.902849Z"
    }
   },
   "outputs": [
    {
     "name": "stderr",
     "output_type": "stream",
     "text": [
      "[Parallel(n_jobs=-2)]: Using backend LokyBackend with 7 concurrent workers.\n"
     ]
    },
    {
     "name": "stdout",
     "output_type": "stream",
     "text": [
      "CV Results\n",
      "================================\n",
      "Accuracy\n",
      "--------------------------------\n",
      "Training accuracy: 0.942\n",
      "Test accuracy:     0.935\n",
      "F-1 Score\n",
      "--------------------------------\n",
      "Training F1 score: 0.941\n",
      "Test F1 score:     0.934\n"
     ]
    },
    {
     "name": "stderr",
     "output_type": "stream",
     "text": [
      "[Parallel(n_jobs=-2)]: Done   5 out of   5 | elapsed: 12.4min finished\n"
     ]
    }
   ],
   "source": [
    "gbc_cvec_pipe = Pipeline(steps=[\n",
    "    ('cvec', CountVectorizer()),\n",
    "    ('gbc', GradientBoostingClassifier())\n",
    "])\n",
    "\n",
    "gbc_cvec_cv_res = cross_validate(gbc_cvec_pipe,\n",
    "                                 X_train,\n",
    "                                 y_train,\n",
    "                                 scoring=('accuracy', 'f1_macro'),\n",
    "                                 cv=5,\n",
    "                                 verbose=1,\n",
    "                                 n_jobs=-2,\n",
    "                                 return_train_score=True)\n",
    "\n",
    "pretty_cv(gbc_cvec_cv_res)"
   ]
  },
  {
   "cell_type": "markdown",
   "metadata": {},
   "source": [
    "Results from cross-validation with `GradientBoostingClassifier`, count vectorized:\n",
    "- Validation accuracy = `0.93`\n",
    "- Validation F1 = `0.93`\n",
    "- **Execution time:** 12m, 25s"
   ]
  },
  {
   "cell_type": "code",
   "execution_count": 43,
   "metadata": {
    "ExecuteTime": {
     "end_time": "2022-05-19T21:52:19.576918Z",
     "start_time": "2022-05-19T21:27:14.269308Z"
    },
    "scrolled": true
   },
   "outputs": [
    {
     "name": "stderr",
     "output_type": "stream",
     "text": [
      "[Parallel(n_jobs=-2)]: Using backend LokyBackend with 7 concurrent workers.\n"
     ]
    },
    {
     "name": "stdout",
     "output_type": "stream",
     "text": [
      "CV Results\n",
      "================================\n",
      "Accuracy\n",
      "--------------------------------\n",
      "Training accuracy: 0.946\n",
      "Test accuracy:     0.937\n",
      "F-1 Score\n",
      "--------------------------------\n",
      "Training F1 score: 0.945\n",
      "Test F1 score:     0.936\n"
     ]
    },
    {
     "name": "stderr",
     "output_type": "stream",
     "text": [
      "[Parallel(n_jobs=-2)]: Done   5 out of   5 | elapsed: 25.1min finished\n"
     ]
    }
   ],
   "source": [
    "gbc_tfidf_pipe = Pipeline(steps=[\n",
    "    ('tfidf', TfidfVectorizer()),\n",
    "    ('gbc', GradientBoostingClassifier())\n",
    "])\n",
    "\n",
    "gbc_tfidf_cv_res = cross_validate(gbc_tfidf_pipe,\n",
    "                                  X_train,\n",
    "                                  y_train,\n",
    "                                  scoring=('accuracy', 'f1_macro'),\n",
    "                                  cv=5,\n",
    "                                  verbose=1,\n",
    "                                  n_jobs=-2,\n",
    "                                  return_train_score=True)\n",
    "\n",
    "pretty_cv(gbc_tfidf_cv_res)"
   ]
  },
  {
   "cell_type": "markdown",
   "metadata": {},
   "source": [
    "Results from cross-validation with `GradientBoostingClassifier`, TF-IDF vectorized:\n",
    "- Validation accuracy = `0.94`\n",
    "- Validation F1 = `0.94`\n",
    "- **Execution time:** 25m, 5s"
   ]
  },
  {
   "cell_type": "markdown",
   "metadata": {},
   "source": [
    "## `XGBClassifier`"
   ]
  },
  {
   "cell_type": "code",
   "execution_count": 80,
   "metadata": {
    "ExecuteTime": {
     "end_time": "2022-05-20T16:10:00.795888Z",
     "start_time": "2022-05-20T16:01:13.877648Z"
    }
   },
   "outputs": [
    {
     "name": "stderr",
     "output_type": "stream",
     "text": [
      "[Parallel(n_jobs=-2)]: Using backend LokyBackend with 7 concurrent workers.\n"
     ]
    },
    {
     "name": "stdout",
     "output_type": "stream",
     "text": [
      "CV Results\n",
      "================================\n",
      "Accuracy\n",
      "--------------------------------\n",
      "Training accuracy: 0.998\n",
      "Test accuracy:     0.952\n",
      "F-1 Score\n",
      "--------------------------------\n",
      "Training F1 score: 0.998\n",
      "Test F1 score:     0.952\n"
     ]
    },
    {
     "name": "stderr",
     "output_type": "stream",
     "text": [
      "[Parallel(n_jobs=-2)]: Done   5 out of   5 | elapsed:  8.8min finished\n"
     ]
    }
   ],
   "source": [
    "xgb_cvec_pipe = Pipeline(steps=[\n",
    "    ('cvec', CountVectorizer()),\n",
    "    ('xgb', XGBClassifier())\n",
    "])\n",
    "\n",
    "xgb_cvec_cv_res = cross_validate(xgb_cvec_pipe,\n",
    "                                 X_train,\n",
    "                                 y_train,\n",
    "                                 scoring=('accuracy', 'f1_macro'),\n",
    "                                 cv=5,\n",
    "                                 verbose=1,\n",
    "                                 n_jobs=-2,\n",
    "                                 return_train_score=True)\n",
    "\n",
    "pretty_cv(xgb_cvec_cv_res)"
   ]
  },
  {
   "cell_type": "markdown",
   "metadata": {},
   "source": [
    "Results from cross-validation with `XGBClassifier`, count vectorized:\n",
    "- Validation accuracy = `0.95`\n",
    "- Validation F1 = `0.95`\n",
    "- **Execution time:** 8m, 47s"
   ]
  },
  {
   "cell_type": "code",
   "execution_count": 81,
   "metadata": {
    "ExecuteTime": {
     "end_time": "2022-05-20T16:28:23.375602Z",
     "start_time": "2022-05-20T16:10:00.978876Z"
    }
   },
   "outputs": [
    {
     "name": "stderr",
     "output_type": "stream",
     "text": [
      "[Parallel(n_jobs=-2)]: Using backend LokyBackend with 7 concurrent workers.\n"
     ]
    },
    {
     "name": "stdout",
     "output_type": "stream",
     "text": [
      "CV Results\n",
      "================================\n",
      "Accuracy\n",
      "--------------------------------\n",
      "Training accuracy: 0.998\n",
      "Test accuracy:     0.954\n",
      "F-1 Score\n",
      "--------------------------------\n",
      "Training F1 score: 0.998\n",
      "Test F1 score:     0.953\n"
     ]
    },
    {
     "name": "stderr",
     "output_type": "stream",
     "text": [
      "[Parallel(n_jobs=-2)]: Done   5 out of   5 | elapsed: 18.4min finished\n"
     ]
    }
   ],
   "source": [
    "xgb_tfidf_pipe = Pipeline(steps=[\n",
    "    ('tfidf', TfidfVectorizer()),\n",
    "    ('xgb', XGBClassifier())\n",
    "])\n",
    "\n",
    "xgb_tfidf_cv_res = cross_validate(xgb_tfidf_pipe,\n",
    "                                  X_train,\n",
    "                                  y_train,\n",
    "                                  scoring=('accuracy', 'f1_macro'),\n",
    "                                  cv=5,\n",
    "                                  verbose=1,\n",
    "                                  n_jobs=-2,\n",
    "                                  return_train_score=True)\n",
    "\n",
    "pretty_cv(xgb_tfidf_cv_res)"
   ]
  },
  {
   "cell_type": "markdown",
   "metadata": {},
   "source": [
    "Results from cross-validation with `XGBClassifier`, TF-IDF vectorized:\n",
    "- Validation accuracy = `0.95`\n",
    "- Validation F1 = `0.95`\n",
    "- **Execution time:** 18m, 22s"
   ]
  },
  {
   "cell_type": "markdown",
   "metadata": {},
   "source": [
    "## `XGBRFClassifier`"
   ]
  },
  {
   "cell_type": "code",
   "execution_count": 83,
   "metadata": {
    "ExecuteTime": {
     "end_time": "2022-05-20T16:55:19.614132Z",
     "start_time": "2022-05-20T16:46:55.362462Z"
    }
   },
   "outputs": [
    {
     "name": "stderr",
     "output_type": "stream",
     "text": [
      "[Parallel(n_jobs=-2)]: Using backend LokyBackend with 7 concurrent workers.\n"
     ]
    },
    {
     "name": "stdout",
     "output_type": "stream",
     "text": [
      "CV Results\n",
      "================================\n",
      "Accuracy\n",
      "--------------------------------\n",
      "Training accuracy: 0.894\n",
      "Test accuracy:     0.882\n",
      "F-1 Score\n",
      "--------------------------------\n",
      "Training F1 score: 0.892\n",
      "Test F1 score:     0.879\n"
     ]
    },
    {
     "name": "stderr",
     "output_type": "stream",
     "text": [
      "[Parallel(n_jobs=-2)]: Done   5 out of   5 | elapsed:  8.4min finished\n"
     ]
    }
   ],
   "source": [
    "xgbrf_cvec_pipe = Pipeline(steps=[\n",
    "    ('cvec', CountVectorizer()),\n",
    "    ('xgbrf', XGBRFClassifier())\n",
    "])\n",
    "\n",
    "xgbrf_cvec_cv_res = cross_validate(xgbrf_cvec_pipe,\n",
    "                                   X_train,\n",
    "                                   y_train,\n",
    "                                   scoring=('accuracy', 'f1_macro'),\n",
    "                                   cv=5,\n",
    "                                   verbose=1,\n",
    "                                   n_jobs=-2,\n",
    "                                   return_train_score=True)\n",
    "\n",
    "pretty_cv(xgbrf_cvec_cv_res)"
   ]
  },
  {
   "cell_type": "markdown",
   "metadata": {},
   "source": [
    "Results from cross-validation with `XGBRFClassifier`, count vectorized:\n",
    "- Validation accuracy = `0.88`\n",
    "- Validation F1 = `0.88`\n",
    "- **Execution time:** 8m, 24s"
   ]
  },
  {
   "cell_type": "code",
   "execution_count": 84,
   "metadata": {
    "ExecuteTime": {
     "end_time": "2022-05-20T17:09:19.987248Z",
     "start_time": "2022-05-20T16:55:19.865377Z"
    }
   },
   "outputs": [
    {
     "name": "stderr",
     "output_type": "stream",
     "text": [
      "[Parallel(n_jobs=-2)]: Using backend LokyBackend with 7 concurrent workers.\n"
     ]
    },
    {
     "name": "stdout",
     "output_type": "stream",
     "text": [
      "CV Results\n",
      "================================\n",
      "Accuracy\n",
      "--------------------------------\n",
      "Training accuracy: 0.902\n",
      "Test accuracy:     0.888\n",
      "F-1 Score\n",
      "--------------------------------\n",
      "Training F1 score: 0.900\n",
      "Test F1 score:     0.886\n"
     ]
    },
    {
     "name": "stderr",
     "output_type": "stream",
     "text": [
      "[Parallel(n_jobs=-2)]: Done   5 out of   5 | elapsed: 14.0min finished\n"
     ]
    }
   ],
   "source": [
    "xgbrf_tfidf_pipe = Pipeline(steps=[\n",
    "    ('tfidf', TfidfVectorizer()),\n",
    "    ('xgbrf', XGBRFClassifier())\n",
    "])\n",
    "\n",
    "xgbrf_tfidf_cv_res = cross_validate(xgbrf_tfidf_pipe,\n",
    "                                    X_train,\n",
    "                                    y_train,\n",
    "                                    scoring=('accuracy', 'f1_macro'),\n",
    "                                    cv=5,\n",
    "                                    verbose=1,\n",
    "                                    n_jobs=-2,\n",
    "                                    return_train_score=True)\n",
    "\n",
    "pretty_cv(xgbrf_tfidf_cv_res)"
   ]
  },
  {
   "cell_type": "markdown",
   "metadata": {},
   "source": [
    "Results from cross-validation with `XGBRFClassifier`, TF-IDF vectorized:\n",
    "- Validation accuracy = `0.89`\n",
    "- Validation F1 = `0.89`\n",
    "- **Execution time:** 14m, 0s"
   ]
  }
 ],
 "metadata": {
  "kernelspec": {
   "display_name": "Python (learn-env)",
   "language": "python",
   "name": "learn-env"
  },
  "language_info": {
   "codemirror_mode": {
    "name": "ipython",
    "version": 3
   },
   "file_extension": ".py",
   "mimetype": "text/x-python",
   "name": "python",
   "nbconvert_exporter": "python",
   "pygments_lexer": "ipython3",
   "version": "3.8.5"
  },
  "toc": {
   "base_numbering": 1,
   "nav_menu": {},
   "number_sections": true,
   "sideBar": true,
   "skip_h1_title": false,
   "title_cell": "Table of Contents",
   "title_sidebar": "Contents",
   "toc_cell": false,
   "toc_position": {},
   "toc_section_display": true,
   "toc_window_display": true
  },
  "varInspector": {
   "cols": {
    "lenName": 16,
    "lenType": 16,
    "lenVar": 40
   },
   "kernels_config": {
    "python": {
     "delete_cmd_postfix": "",
     "delete_cmd_prefix": "del ",
     "library": "var_list.py",
     "varRefreshCmd": "print(var_dic_list())"
    },
    "r": {
     "delete_cmd_postfix": ") ",
     "delete_cmd_prefix": "rm(",
     "library": "var_list.r",
     "varRefreshCmd": "cat(var_dic_list()) "
    }
   },
   "types_to_exclude": [
    "module",
    "function",
    "builtin_function_or_method",
    "instance",
    "_Feature"
   ],
   "window_display": false
  }
 },
 "nbformat": 4,
 "nbformat_minor": 4
}
