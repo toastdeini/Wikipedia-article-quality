{
 "cells": [
  {
   "cell_type": "markdown",
   "metadata": {},
   "source": [
    "# Exploratory Data Analysis"
   ]
  },
  {
   "cell_type": "markdown",
   "metadata": {},
   "source": [
    "# Imports, Read-in"
   ]
  },
  {
   "cell_type": "code",
   "execution_count": 1,
   "metadata": {
    "ExecuteTime": {
     "end_time": "2022-05-20T18:49:03.256954Z",
     "start_time": "2022-05-20T18:49:00.025054Z"
    }
   },
   "outputs": [],
   "source": [
    "# Data manip.\n",
    "import pandas as pd\n",
    "import numpy as np\n",
    "\n",
    "# Vizz\n",
    "import matplotlib.pyplot as plt\n",
    "%matplotlib inline\n",
    "import seaborn as sns\n",
    "\n",
    "# scikit-learn\n",
    "from sklearn.dummy import DummyClassifier\n",
    "from sklearn.ensemble import RandomForestClassifier, GradientBoostingClassifier\n",
    "from sklearn.feature_extraction.text import CountVectorizer, TfidfVectorizer\n",
    "from sklearn.metrics import confusion_matrix, classification_report\n",
    "from sklearn.model_selection import train_test_split, cross_validate, GridSearchCV\n",
    "from sklearn.naive_bayes import MultinomialNB\n",
    "from sklearn.pipeline import Pipeline\n",
    "from sklearn.tree import DecisionTreeClassifier\n",
    "\n",
    "# NLTK\n",
    "import nltk\n",
    "from nltk.corpus import stopwords\n",
    "from nltk.probability import FreqDist\n",
    "from nltk.stem import WordNetLemmatizer\n",
    "# nltk.download('stopwords')\n",
    "sw = stopwords.words('english')\n",
    "\n",
    "# etc.\n",
    "import sys\n",
    "sys.path.append( '../src' )\n",
    "from xgboost import XGBClassifier, XGBRFClassifier\n",
    "from parse_it import get_wordnet_pos, parse_doc\n",
    "from pretty_results import *"
   ]
  },
  {
   "cell_type": "markdown",
   "metadata": {},
   "source": [
    "The data is stored in two separate `.csv` files."
   ]
  },
  {
   "cell_type": "code",
   "execution_count": 2,
   "metadata": {
    "ExecuteTime": {
     "end_time": "2022-05-20T18:49:08.845490Z",
     "start_time": "2022-05-20T18:49:03.926804Z"
    }
   },
   "outputs": [],
   "source": [
    "df_good = pd.read_csv('../../data/good.csv')\n",
    "df_promo = pd.read_csv('../../data/promotional.csv')"
   ]
  },
  {
   "cell_type": "markdown",
   "metadata": {},
   "source": [
    "Taking a look at a sample article from the `good` articles dataset."
   ]
  },
  {
   "cell_type": "code",
   "execution_count": 3,
   "metadata": {
    "ExecuteTime": {
     "end_time": "2022-05-20T18:49:10.086232Z",
     "start_time": "2022-05-20T18:49:10.067239Z"
    },
    "scrolled": true
   },
   "outputs": [
    {
     "data": {
      "text/plain": [
       "\"Jamal A Davis Here I Stand is a song by American recording artist Usher. It was sent to urban adult contemporary radio on August 18, 2008 by LaFace Records and RCA Records as the fifth single from Usher's fifth studio album of the same name. Penned by the singer with Polow da Don, Adam Blackstone, Gerrell Gaddis, and Dre Vidal, and produced by Dre Vidal, Here I Stand is a slow soul ballad and contains similarities to Stevie Wonder's music. The record was nominated for the Best Male R B Vocal Performance award at the 51st Grammy Awards. Here I Stand maintained a position on the United States Hot R B Hip Hop Songs for several weeks in 2008 and 2009, reaching the top twenty. It also appeared on the US Radio Songs and Bubbling Under Hot 100 Singles charts, peaking at numbers seventy two and six, respectively. Here I Stand was written by Usher, Polow da Don, Adam Blackstone and Gerrell Gaddis, as well as Dre Vidal, who also produced the track. The song was recorded by Vincent Dilorenzo, with assistance from Geoff Rice, at Sony Music Studios, New York City and Zac Recording, Atlanta. Dilorenzo also mixed the record, with assistance from Matt DeSando, at Studio 609, Philadelphia. According to Josh Eells of Blender, Here I Stand was written for Tameka Foster, whom Usher married in August 2007. Composed before their engagement, Here I Stand was played at Usher and Foster's wedding, on Foster's request. The tune is an assurance of sexual fidelity and commitment. In an interview with MTV News, Usher stated, If you listen to the words of 'Here I Stand' , it is very heartfelt, simplistic, yet very soulful. ... It's a man's words to his woman a vow to say that you are the one, and I'll be there for you. A slow jam soul ballad, Here I Stand has been compared to the work of Stevie Wonder by critics. It was included on Usher's fifth studio album of the same name, released on May 13, 2008 by LaFace Records. The song was released to urban adult contemporary radio by LaFace and RCA Records on August 18, 2008, serving as the fifth single from Here I Stand. Usher sang Here I Stand along with Trading Places and What's Your Name at the warmup concert for the 2008 National Football League Kickoff game on September 4. Usher performed Here I Stand at Sony's keynote address at the 2009 Consumer Electronics Show. The song was performed on his One Night Stand Ladies Only Tour, with a slower tempo. Leah Greenblatt of Entertainment Weekly called Here I Stand a throwback to Stevie Wonder, and was disappointed that it was placed near the end of the parent album. USA Today's Steve Jones noted the track as a highlight of the album. Joshua Alston from The A.V. Club wrote that the song lyrically and musically sounds more passionate and more adult than Usher ever has, and called it a syrupy ballad . However, Blender's Josh Eells called the chivalrous number sweet but taxing, like looking at photos from someone elses wedding, while Jim Farber of the Daily News wrote that the song's melody fails . The song ranked at number one on AOL Radio's list of top Usher songs. At the 51st Grammy Awards, Here I Stand was nominated for the Best Male R B Vocal Performance award, but lost to Ne Yo's Miss Independent from his 2008 album, Year of the Gentleman. Following its radio release, Here I Stand debuted on the Hot R B Hip Hop Songs at number seventy five on the issue dated September 20, 2008, and peaked at number eighteen on March 14, 2009. On July 18, 2009 it fell off the chart, having spent forty three weeks on the chart. Here I Stand entered the Bubbling Under Hot 100 Singles at number fourteen on the chart of December 17, 2008. It peaked at number six on January 3, 2009, before it slipped off the chart the following week, having lasted four weeks there. On February 7, 2009, the song appeared on the Hot 100 Airplay Radio Songs at number seventy three, but failed to reappear on the chart the next week. It re entered one place higher, at number seventy two, on March 14, 2009, but again did not gain any traction, with no place achieved on the following chart.\""
      ]
     },
     "execution_count": 3,
     "metadata": {},
     "output_type": "execute_result"
    }
   ],
   "source": [
    "df_good.iloc[12345].text"
   ]
  },
  {
   "cell_type": "markdown",
   "metadata": {},
   "source": [
    "Testing out a custom function, `parse_doc`, which takes care of several NLP preprocessing steps: lowercasing, punctuation and character stripping, lemmatizing, and removing stopwords. It returns a string of *non-unique lemmas*, but can also return a list by setting the argument `as_list = True`. If stemming is preferred to lemmatizing, this can also be done within the function: `stem = 'stem'`."
   ]
  },
  {
   "cell_type": "code",
   "execution_count": 4,
   "metadata": {
    "ExecuteTime": {
     "end_time": "2022-05-20T18:49:12.820079Z",
     "start_time": "2022-05-20T18:49:11.059149Z"
    },
    "scrolled": true
   },
   "outputs": [
    {
     "data": {
      "text/plain": [
       "'jamal davis stand song american record artist usher send urban adult contemporary radio august laface record rca record fifth single usher fifth studio album name pen singer polow da adam blackstone gerrell gaddi dre vidal produce dre vidal stand slow soul ballad contain similarity stevie wonder music record nominate best male r b vocal performance award st grammy award stand maintain position united state hot r b hip hop songs several week reach top twenty also appear u radio song bubble hot single chart peak number seventy two six respectively stand write usher polow da adam blackstone gerrell gaddis well dre vidal also produce track song record vincent dilorenzo assistance geoff rice sony music studios new york city zac record atlanta dilorenzo also mixed record assistance matt desando studio philadelphia accord josh eells blender stand write tameka foster usher marry august compose engagement stand play usher foster wed foster request tune assurance sexual fidelity commitment interview mtv news usher state listen word stand heartfelt simplistic yet soulful man word woman vow say one slow jam soul ballad stand compare work stevie wonder critic include usher fifth studio album name release may laface record song release urban adult contemporary radio laface rca record august serve fifth single stand usher sing stand along trading place name warmup concert national football league kickoff game september usher perform stand sony keynote address consumer electronics show song perform one night stand ladies tour slow tempo leah greenblatt entertainment weekly call stand throwback stevie wonder disappoint place near end parent album usa today steve jones note track highlight album joshua alston v club write song lyrically musically sound passionate adult usher ever call syrupy ballad however blender josh eells call chivalrous number sweet tax like look photo someone elses wed jim farber daily news write song melody fail song ranked number one aol radio list top usher song st grammy award stand nominate best male r b vocal performance award lose ne yo miss independent album year gentleman follow radio release stand debut hot r b hip hop song number seventy five issue date september peak number eighteen march july fell chart spent forty three week chart stand entered bubbling hot single number fourteen chart december peak number six january slip chart follow week last four week february song appear hot airplay radio song number seventy three fail reappear chart next week enter one place high number seventy two march gain traction place achieve follow chart'"
      ]
     },
     "execution_count": 4,
     "metadata": {},
     "output_type": "execute_result"
    }
   ],
   "source": [
    "parse_doc( df_good.iloc[12345].text )"
   ]
  },
  {
   "cell_type": "markdown",
   "metadata": {},
   "source": [
    "And, just to get the lay of the land, a look at one of the `promotional` articles."
   ]
  },
  {
   "cell_type": "code",
   "execution_count": 5,
   "metadata": {
    "ExecuteTime": {
     "end_time": "2022-05-20T18:49:14.141689Z",
     "start_time": "2022-05-20T18:49:14.116706Z"
    },
    "scrolled": true
   },
   "outputs": [
    {
     "data": {
      "text/plain": [
       "'Love Justice International LJI , formerly Tiny Hands International, is a nonprofit organization dedicated to combating social injustice. Love Justice was established in 2005 and is based in Lincoln, Nebraska. Through a child sponsorship program, Love Justice International currently operates 18 family like childrens homes for over 200 orphaned and abandoned children in South Asia. In 2015 Love Justice established a K 12 school located in South Asia. The school provides education for over 150 children in this region. Love Justice developed a strategy called transit monitoring and interception. The strategy is to attack trafficking while it is in the process of occurring and before exploitation and enslavement. The staff monitors at border crossings, bus stations, train stations, and airports, and they look for signs of human trafficking. Love Justice currently operates in 11 countries throughout Asia and Africa, and they have intercepted over 15,000 people who were at risk of human trafficking. Love Justice International acquires detailed data from each trafficking victim . This information is then uploaded into a database that is used to help better understand and fight trafficking networks around the world. Through intelligence led investigations, Love Justice collaborates with local police and uses this detailed and actionable data to arrest, prosecute, and convict traffickers. Their efforts have resulted in over 60 convictions of traffickers around the world, in addition to numerous active cases seeking prosecution and conviction. Love Justice International, formerly Tiny Hands International, was established in 2005 by a group of graduates from Taylor University. Based in Lincoln, Nebraska, this nonprofit organization focuses on helping orphaned and abandoned street children in South Asia and combating human trafficking around the world. Initially, Love Justice focused their efforts on helping orphaned and abandoned children in South Asia by providing stable homes and education. In 2015, Love Justice opened a K 12 school for children in South Asia. In 2006, the organization piloted its first border monitoring station. Over time, this work has expanded to over 200 staff members stationed at multiple transit stations in 11 countries around the world. Tiny Hands is accredited by the Evangelical Council for Financial Accountability.'"
      ]
     },
     "execution_count": 5,
     "metadata": {},
     "output_type": "execute_result"
    }
   ],
   "source": [
    "df_promo.iloc[12345].text"
   ]
  },
  {
   "cell_type": "code",
   "execution_count": 6,
   "metadata": {
    "ExecuteTime": {
     "end_time": "2022-05-20T18:49:14.447003Z",
     "start_time": "2022-05-20T18:49:14.398044Z"
    }
   },
   "outputs": [
    {
     "data": {
      "text/plain": [
       "'love justice international lji formerly tiny hand international nonprofit organization dedicate combat social injustice love justice establish base lincoln nebraska child sponsorship program love justice international currently operate family like childrens home orphan abandoned child south asia love justice establish k school locate south asia school provide education child region love justice develop strategy call transit monitoring interception strategy attack traffic process occur exploitation enslavement staff monitor border crossing bus station train station airport look sign human traffic love justice currently operate country throughout asia africa intercept people risk human traffic love justice international acquires detail data traffic victim information upload database use help well understand fight traffic network around world intelligence lead investigation love justice collaborates local police us detail actionable data arrest prosecute convict trafficker effort result conviction trafficker around world addition numerous active case seek prosecution conviction love justice international formerly tiny hand international establish group graduate taylor university base lincoln nebraska nonprofit organization focus help orphan abandoned street child south asia combat human traffic around world initially love justice focus effort help orphan abandoned child south asia provide stable home education love justice open k school child south asia organization pilot first border monitoring station time work expand staff member station multiple transit station country around world tiny hand accredit evangelical council financial accountability'"
      ]
     },
     "execution_count": 6,
     "metadata": {},
     "output_type": "execute_result"
    }
   ],
   "source": [
    "parse_doc(df_promo.iloc[12345].text)"
   ]
  },
  {
   "cell_type": "markdown",
   "metadata": {},
   "source": [
    "# Sample Size, Scope, and Content"
   ]
  },
  {
   "cell_type": "code",
   "execution_count": 7,
   "metadata": {
    "ExecuteTime": {
     "end_time": "2022-05-20T18:49:15.881067Z",
     "start_time": "2022-05-20T18:49:15.874111Z"
    },
    "scrolled": true
   },
   "outputs": [
    {
     "name": "stdout",
     "output_type": "stream",
     "text": [
      "(30279, 2)\n",
      "(23837, 7)\n"
     ]
    }
   ],
   "source": [
    "print(df_good.shape)\n",
    "print(df_promo.shape)"
   ]
  },
  {
   "cell_type": "code",
   "execution_count": 8,
   "metadata": {
    "ExecuteTime": {
     "end_time": "2022-05-20T18:49:16.156543Z",
     "start_time": "2022-05-20T18:49:16.140919Z"
    }
   },
   "outputs": [
    {
     "data": {
      "text/plain": [
       "54116"
      ]
     },
     "execution_count": 8,
     "metadata": {},
     "output_type": "execute_result"
    }
   ],
   "source": [
    "df_good.shape[0] + df_promo.shape[0]"
   ]
  },
  {
   "cell_type": "markdown",
   "metadata": {},
   "source": [
    "In terms of **rows/records**,\n",
    "- The dataframe containing **\"good\"** articles has 30,279 entries.\n",
    "- The dataframe containing **\"promotional\"** articles has 23,837 entries.\n",
    "\n",
    "Combined, we have **54,116** articles for examination.\n",
    "\n",
    "Next, let's discuss features/columns."
   ]
  },
  {
   "cell_type": "code",
   "execution_count": 9,
   "metadata": {
    "ExecuteTime": {
     "end_time": "2022-05-20T18:49:16.682486Z",
     "start_time": "2022-05-20T18:49:16.668703Z"
    }
   },
   "outputs": [
    {
     "name": "stdout",
     "output_type": "stream",
     "text": [
      "Index(['text', 'url'], dtype='object')\n",
      "Index(['text', 'advert', 'coi', 'fanpov', 'pr', 'resume', 'url'], dtype='object')\n"
     ]
    }
   ],
   "source": [
    "print(df_good.columns)\n",
    "print(df_promo.columns)"
   ]
  },
  {
   "cell_type": "markdown",
   "metadata": {},
   "source": [
    "- The dataframe containing **\"good\"** articles has 2 columns - `text` and `url`.\n",
    "- The dataframe containing **\"promotional\"** articles has 7 columns - in addition to `text` and `url`, there are five subtypes of \"promotional tone\":\n",
    "\n",
    "    - `advert`: The article reads like an advertisement.\n",
    "    - `coi`: The article appears to have been written by someone with a close connection to the subject.\n",
    "    - `fanpov`: The article appears to have been written from a fan's point of view, rather than a neutral point of view.\n",
    "    - `pr`: The article reads like a press release/news article.\n",
    "    - `resume`: The (biographical) article reads like a résumé, i.e. it is neither neutral nor encylopedic in nature.\n",
    "    \n",
    "    The values contained in these columns are one-hot encoded binary values. See the dataframe heads below for a tabular representation of the data."
   ]
  },
  {
   "cell_type": "code",
   "execution_count": 10,
   "metadata": {
    "ExecuteTime": {
     "end_time": "2022-05-20T18:49:17.045808Z",
     "start_time": "2022-05-20T18:49:17.013573Z"
    },
    "scrolled": false
   },
   "outputs": [
    {
     "data": {
      "text/html": [
       "<div>\n",
       "<style scoped>\n",
       "    .dataframe tbody tr th:only-of-type {\n",
       "        vertical-align: middle;\n",
       "    }\n",
       "\n",
       "    .dataframe tbody tr th {\n",
       "        vertical-align: top;\n",
       "    }\n",
       "\n",
       "    .dataframe thead th {\n",
       "        text-align: right;\n",
       "    }\n",
       "</style>\n",
       "<table border=\"1\" class=\"dataframe\">\n",
       "  <thead>\n",
       "    <tr style=\"text-align: right;\">\n",
       "      <th></th>\n",
       "      <th>text</th>\n",
       "      <th>url</th>\n",
       "    </tr>\n",
       "  </thead>\n",
       "  <tbody>\n",
       "    <tr>\n",
       "      <th>0</th>\n",
       "      <td>Nycticebus linglom is a fossil strepsirrhine p...</td>\n",
       "      <td>https://en.wikipedia.org/wiki/%3F%20Nycticebus...</td>\n",
       "    </tr>\n",
       "    <tr>\n",
       "      <th>1</th>\n",
       "      <td>Oryzomys pliocaenicus is a fossil rodent from ...</td>\n",
       "      <td>https://en.wikipedia.org/wiki/%3F%20Oryzomys%2...</td>\n",
       "    </tr>\n",
       "    <tr>\n",
       "      <th>2</th>\n",
       "      <td>.hack dt hk is a series of single player actio...</td>\n",
       "      <td>https://en.wikipedia.org/wiki/.hack%20%28video...</td>\n",
       "    </tr>\n",
       "  </tbody>\n",
       "</table>\n",
       "</div>"
      ],
      "text/plain": [
       "                                                text  \\\n",
       "0  Nycticebus linglom is a fossil strepsirrhine p...   \n",
       "1  Oryzomys pliocaenicus is a fossil rodent from ...   \n",
       "2  .hack dt hk is a series of single player actio...   \n",
       "\n",
       "                                                 url  \n",
       "0  https://en.wikipedia.org/wiki/%3F%20Nycticebus...  \n",
       "1  https://en.wikipedia.org/wiki/%3F%20Oryzomys%2...  \n",
       "2  https://en.wikipedia.org/wiki/.hack%20%28video...  "
      ]
     },
     "execution_count": 10,
     "metadata": {},
     "output_type": "execute_result"
    }
   ],
   "source": [
    "df_good.head(3)"
   ]
  },
  {
   "cell_type": "code",
   "execution_count": 11,
   "metadata": {
    "ExecuteTime": {
     "end_time": "2022-05-20T18:49:17.337958Z",
     "start_time": "2022-05-20T18:49:17.307010Z"
    },
    "scrolled": false
   },
   "outputs": [
    {
     "data": {
      "text/html": [
       "<div>\n",
       "<style scoped>\n",
       "    .dataframe tbody tr th:only-of-type {\n",
       "        vertical-align: middle;\n",
       "    }\n",
       "\n",
       "    .dataframe tbody tr th {\n",
       "        vertical-align: top;\n",
       "    }\n",
       "\n",
       "    .dataframe thead th {\n",
       "        text-align: right;\n",
       "    }\n",
       "</style>\n",
       "<table border=\"1\" class=\"dataframe\">\n",
       "  <thead>\n",
       "    <tr style=\"text-align: right;\">\n",
       "      <th></th>\n",
       "      <th>text</th>\n",
       "      <th>advert</th>\n",
       "      <th>coi</th>\n",
       "      <th>fanpov</th>\n",
       "      <th>pr</th>\n",
       "      <th>resume</th>\n",
       "      <th>url</th>\n",
       "    </tr>\n",
       "  </thead>\n",
       "  <tbody>\n",
       "    <tr>\n",
       "      <th>0</th>\n",
       "      <td>1 Litre no Namida 1, lit. 1 Litre of Tears als...</td>\n",
       "      <td>0</td>\n",
       "      <td>0</td>\n",
       "      <td>1</td>\n",
       "      <td>0</td>\n",
       "      <td>0</td>\n",
       "      <td>https://en.wikipedia.org/wiki/1%20Litre%20no%2...</td>\n",
       "    </tr>\n",
       "    <tr>\n",
       "      <th>1</th>\n",
       "      <td>1DayLater was free, web based software that wa...</td>\n",
       "      <td>1</td>\n",
       "      <td>1</td>\n",
       "      <td>0</td>\n",
       "      <td>0</td>\n",
       "      <td>0</td>\n",
       "      <td>https://en.wikipedia.org/wiki/1DayLater</td>\n",
       "    </tr>\n",
       "    <tr>\n",
       "      <th>2</th>\n",
       "      <td>1E is a privately owned IT software and servic...</td>\n",
       "      <td>1</td>\n",
       "      <td>0</td>\n",
       "      <td>0</td>\n",
       "      <td>0</td>\n",
       "      <td>0</td>\n",
       "      <td>https://en.wikipedia.org/wiki/1E</td>\n",
       "    </tr>\n",
       "  </tbody>\n",
       "</table>\n",
       "</div>"
      ],
      "text/plain": [
       "                                                text  advert  coi  fanpov  pr  \\\n",
       "0  1 Litre no Namida 1, lit. 1 Litre of Tears als...       0    0       1   0   \n",
       "1  1DayLater was free, web based software that wa...       1    1       0   0   \n",
       "2  1E is a privately owned IT software and servic...       1    0       0   0   \n",
       "\n",
       "   resume                                                url  \n",
       "0       0  https://en.wikipedia.org/wiki/1%20Litre%20no%2...  \n",
       "1       0            https://en.wikipedia.org/wiki/1DayLater  \n",
       "2       0                   https://en.wikipedia.org/wiki/1E  "
      ]
     },
     "execution_count": 11,
     "metadata": {},
     "output_type": "execute_result"
    }
   ],
   "source": [
    "df_promo.head(3)"
   ]
  },
  {
   "cell_type": "markdown",
   "metadata": {},
   "source": [
    "### Side Investigation: Average Length of Articles?"
   ]
  },
  {
   "cell_type": "markdown",
   "metadata": {},
   "source": [
    "While reading in the data, I noticed that the `promotional` article I selected at semi-random was considerably shorter than the semi-random `good` article - I had to wonder if this observation held true at all in the rest of the dataset and decided to investigate average article length for each class.\n",
    "\n",
    "`len()` can give us a count of characters - `split()` must be used to get a word count."
   ]
  },
  {
   "cell_type": "code",
   "execution_count": 12,
   "metadata": {
    "ExecuteTime": {
     "end_time": "2022-05-20T18:49:18.486120Z",
     "start_time": "2022-05-20T18:49:18.457435Z"
    }
   },
   "outputs": [
    {
     "name": "stdout",
     "output_type": "stream",
     "text": [
      "Character count in first 'good' article: 3466\n",
      "Word count in first 'good' article: 590\n"
     ]
    }
   ],
   "source": [
    "print(f\"Character count in first 'good' article: {len(df_good.iloc[0].text)}\")\n",
    "print(f\"Word count in first 'good' article: {len(df_good.iloc[0].text.split())}\")"
   ]
  },
  {
   "cell_type": "markdown",
   "metadata": {},
   "source": [
    "We can use string methods on the dataframes by calling `.str` - this makes calculations a lot easier."
   ]
  },
  {
   "cell_type": "code",
   "execution_count": 13,
   "metadata": {
    "ExecuteTime": {
     "end_time": "2022-05-20T18:49:18.923055Z",
     "start_time": "2022-05-20T18:49:18.863257Z"
    },
    "scrolled": false
   },
   "outputs": [
    {
     "data": {
      "text/plain": [
       "0         3466\n",
       "1         3230\n",
       "2        22691\n",
       "3         5620\n",
       "4         9303\n",
       "         ...  \n",
       "30274    32625\n",
       "30275     6667\n",
       "30276     9625\n",
       "30277    15576\n",
       "30278    11186\n",
       "Name: text, Length: 30279, dtype: int64"
      ]
     },
     "execution_count": 13,
     "metadata": {},
     "output_type": "execute_result"
    }
   ],
   "source": [
    "df_good.text.str.len()"
   ]
  },
  {
   "cell_type": "code",
   "execution_count": 14,
   "metadata": {
    "ExecuteTime": {
     "end_time": "2022-05-20T18:49:19.053392Z",
     "start_time": "2022-05-20T18:49:19.021443Z"
    },
    "scrolled": true
   },
   "outputs": [
    {
     "data": {
      "text/plain": [
       "0         3439\n",
       "1         1546\n",
       "2         5550\n",
       "3        11461\n",
       "4         1300\n",
       "         ...  \n",
       "23832      895\n",
       "23833     2677\n",
       "23834     1306\n",
       "23835     4642\n",
       "23836     2946\n",
       "Name: text, Length: 23837, dtype: int64"
      ]
     },
     "execution_count": 14,
     "metadata": {},
     "output_type": "execute_result"
    }
   ],
   "source": [
    "df_promo.text.str.len()"
   ]
  },
  {
   "cell_type": "code",
   "execution_count": 15,
   "metadata": {
    "ExecuteTime": {
     "end_time": "2022-05-20T18:49:19.322103Z",
     "start_time": "2022-05-20T18:49:19.268970Z"
    }
   },
   "outputs": [],
   "source": [
    "avg_char_good = df_good.text.str.len().mean()\n",
    "avg_char_promo = df_promo.text.str.len().mean()"
   ]
  },
  {
   "cell_type": "code",
   "execution_count": 16,
   "metadata": {
    "ExecuteTime": {
     "end_time": "2022-05-20T18:49:31.884322Z",
     "start_time": "2022-05-20T18:49:19.507569Z"
    }
   },
   "outputs": [],
   "source": [
    "split_words_good = df_good.text.str.split()\n",
    "split_words_promo = df_promo.text.str.split()"
   ]
  },
  {
   "cell_type": "code",
   "execution_count": 17,
   "metadata": {
    "ExecuteTime": {
     "end_time": "2022-05-20T18:49:32.045922Z",
     "start_time": "2022-05-20T18:49:32.009495Z"
    }
   },
   "outputs": [
    {
     "name": "stdout",
     "output_type": "stream",
     "text": [
      "2628.5815581756333\n"
     ]
    }
   ],
   "source": [
    "word_count_good = 0\n",
    "\n",
    "for article in split_words_good:\n",
    "    word_count_good += len(article)\n",
    "    \n",
    "avg_words_good = word_count_good / len(split_words_good)\n",
    "\n",
    "print(avg_words_good)"
   ]
  },
  {
   "cell_type": "code",
   "execution_count": 18,
   "metadata": {
    "ExecuteTime": {
     "end_time": "2022-05-20T18:49:32.190053Z",
     "start_time": "2022-05-20T18:49:32.167590Z"
    },
    "scrolled": true
   },
   "outputs": [
    {
     "name": "stdout",
     "output_type": "stream",
     "text": [
      "768.2722658052608\n"
     ]
    }
   ],
   "source": [
    "word_count_promo = 0\n",
    "\n",
    "for article in split_words_promo:\n",
    "    word_count_promo += len(article)\n",
    "    \n",
    "avg_words_promo = word_count_promo / len(split_words_promo)\n",
    "\n",
    "print(avg_words_promo)"
   ]
  },
  {
   "cell_type": "code",
   "execution_count": 45,
   "metadata": {
    "ExecuteTime": {
     "end_time": "2022-05-20T18:53:25.898114Z",
     "start_time": "2022-05-20T18:53:25.870375Z"
    },
    "scrolled": true
   },
   "outputs": [
    {
     "name": "stdout",
     "output_type": "stream",
     "text": [
      "Average 'good' article length: 15649 characters, 2629 words\n",
      "Average 'promotional' article length: 4771 characters, 768 words\n",
      "\n",
      "Rough calc of characters per word, 'good' articles: 5.95\n",
      "Rough calc of characters per word, 'promotional' articles: 6.21\n",
      "\n",
      "On average, 'good' articles are 3.4 times longer than 'promotional' articles\n"
     ]
    }
   ],
   "source": [
    "print(f\"Average 'good' article length: {avg_char_good:.0f} characters, {avg_words_good:.0f} words\")\n",
    "print(f\"Average 'promotional' article length: {avg_char_promo:.0f} characters, {avg_words_promo:.0f} words\\n\")\n",
    "print(f\"Rough calc of characters per word, 'good' articles: {(avg_char_good / avg_words_good):.2f}\")\n",
    "print(f\"Rough calc of characters per word, 'promotional' articles: {(avg_char_promo / avg_words_promo):.2f}\\n\")\n",
    "print(f\"On average, 'good' articles are {(avg_words_good / avg_words_promo):.1f} times longer than 'promotional' articles\")"
   ]
  },
  {
   "cell_type": "code",
   "execution_count": 20,
   "metadata": {
    "ExecuteTime": {
     "end_time": "2022-05-20T18:49:32.389952Z",
     "start_time": "2022-05-20T18:49:32.384387Z"
    }
   },
   "outputs": [],
   "source": [
    "plt.style.use('seaborn-dark')"
   ]
  },
  {
   "cell_type": "code",
   "execution_count": 46,
   "metadata": {
    "ExecuteTime": {
     "end_time": "2022-05-20T18:53:34.525257Z",
     "start_time": "2022-05-20T18:53:33.519503Z"
    },
    "scrolled": false
   },
   "outputs": [
    {
     "data": {
      "image/png": "[encoded data removed]",
      "text/plain": [
       "<Figure size 576x720 with 1 Axes>"
      ]
     },
     "metadata": {},
     "output_type": "display_data"
    }
   ],
   "source": [
    "# Visualization of average lengths\n",
    "fig, ax = plt.subplots(figsize=(8, 10))\n",
    "\n",
    "plt.xticks(fontsize=15)\n",
    "plt.yticks(fontsize=14)\n",
    "ax.tick_params(axis='x', which='major', pad=8)\n",
    "\n",
    "ax.bar(x=[\"'Good' articles\", \"'Promotional' articles\"],\n",
    "       height=(avg_words_good, avg_words_promo),\n",
    "       color=['tab:orange', 'tab:blue'])\n",
    "\n",
    "ax.set_title(\"Average word count\",\n",
    "             pad=10,\n",
    "             fontsize=22)\n",
    "ax.set_ylabel(\"# of words\",\n",
    "              labelpad=20,\n",
    "              fontsize=16)\n",
    "\n",
    "fig.savefig(fname='../images/avg_word_count.png',\n",
    "            dpi=600,\n",
    "            bbox_inches='tight');"
   ]
  },
  {
   "cell_type": "markdown",
   "metadata": {},
   "source": [
    "## Checking for Nulls / Data Types"
   ]
  },
  {
   "cell_type": "code",
   "execution_count": 47,
   "metadata": {
    "ExecuteTime": {
     "end_time": "2022-05-20T18:53:37.789852Z",
     "start_time": "2022-05-20T18:53:37.762974Z"
    }
   },
   "outputs": [
    {
     "name": "stdout",
     "output_type": "stream",
     "text": [
      "<class 'pandas.core.frame.DataFrame'>\n",
      "RangeIndex: 30279 entries, 0 to 30278\n",
      "Data columns (total 2 columns):\n",
      " #   Column  Non-Null Count  Dtype \n",
      "---  ------  --------------  ----- \n",
      " 0   text    30279 non-null  object\n",
      " 1   url     30279 non-null  object\n",
      "dtypes: object(2)\n",
      "memory usage: 473.2+ KB\n"
     ]
    }
   ],
   "source": [
    "df_good.info()"
   ]
  },
  {
   "cell_type": "code",
   "execution_count": 48,
   "metadata": {
    "ExecuteTime": {
     "end_time": "2022-05-20T18:53:37.949731Z",
     "start_time": "2022-05-20T18:53:37.926649Z"
    }
   },
   "outputs": [
    {
     "name": "stdout",
     "output_type": "stream",
     "text": [
      "<class 'pandas.core.frame.DataFrame'>\n",
      "RangeIndex: 23837 entries, 0 to 23836\n",
      "Data columns (total 7 columns):\n",
      " #   Column  Non-Null Count  Dtype \n",
      "---  ------  --------------  ----- \n",
      " 0   text    23837 non-null  object\n",
      " 1   advert  23837 non-null  int64 \n",
      " 2   coi     23837 non-null  int64 \n",
      " 3   fanpov  23837 non-null  int64 \n",
      " 4   pr      23837 non-null  int64 \n",
      " 5   resume  23837 non-null  int64 \n",
      " 6   url     23837 non-null  object\n",
      "dtypes: int64(5), object(2)\n",
      "memory usage: 1.3+ MB\n"
     ]
    }
   ],
   "source": [
    "df_promo.info()"
   ]
  },
  {
   "cell_type": "markdown",
   "metadata": {},
   "source": [
    "No nulls in either dataframe. Text is predictably coded as an object/string, and `df_promo` comes with some labels built in: one-hot encoded columns that indicate *subclass* of promotional article."
   ]
  },
  {
   "cell_type": "markdown",
   "metadata": {},
   "source": [
    "## Value Counts for Subclasses"
   ]
  },
  {
   "cell_type": "markdown",
   "metadata": {},
   "source": [
    "Knowing there are five different subtypes of promotional article indicated within the dataset raises a further question: *how are those subtypes distributed?*"
   ]
  },
  {
   "cell_type": "code",
   "execution_count": 49,
   "metadata": {
    "ExecuteTime": {
     "end_time": "2022-05-20T18:53:39.926130Z",
     "start_time": "2022-05-20T18:53:39.905220Z"
    }
   },
   "outputs": [
    {
     "data": {
      "text/plain": [
       "Index(['advert', 'coi', 'fanpov', 'pr', 'resume'], dtype='object')"
      ]
     },
     "execution_count": 49,
     "metadata": {},
     "output_type": "execute_result"
    }
   ],
   "source": [
    "df_promo.select_dtypes(include='number').columns"
   ]
  },
  {
   "cell_type": "code",
   "execution_count": 50,
   "metadata": {
    "ExecuteTime": {
     "end_time": "2022-05-20T18:53:40.078894Z",
     "start_time": "2022-05-20T18:53:40.063271Z"
    }
   },
   "outputs": [
    {
     "data": {
      "text/plain": [
       "['advert', 'coi', 'fanpov', 'pr', 'resume']"
      ]
     },
     "execution_count": 50,
     "metadata": {},
     "output_type": "execute_result"
    }
   ],
   "source": [
    "# class_cols = df_promo.select_dtypes(include='number').columns\n",
    "class_cols = df_promo.select_dtypes(include='number').columns.tolist()\n",
    "\n",
    "class_cols"
   ]
  },
  {
   "cell_type": "code",
   "execution_count": 51,
   "metadata": {
    "ExecuteTime": {
     "end_time": "2022-05-20T18:53:40.374030Z",
     "start_time": "2022-05-20T18:53:40.326544Z"
    },
    "scrolled": false
   },
   "outputs": [
    {
     "name": "stdout",
     "output_type": "stream",
     "text": [
      "advert\n",
      "1         0.793346\n",
      "0         0.206654\n",
      "dtype: float64\n",
      "\n",
      "coi\n",
      "0      0.91014\n",
      "1      0.08986\n",
      "dtype: float64\n",
      "\n",
      "fanpov\n",
      "0         0.93724\n",
      "1         0.06276\n",
      "dtype: float64\n",
      "\n",
      "pr\n",
      "0     0.936401\n",
      "1     0.063599\n",
      "dtype: float64\n",
      "\n",
      "resume\n",
      "0         0.90779\n",
      "1         0.09221\n",
      "dtype: float64\n",
      "\n"
     ]
    }
   ],
   "source": [
    "for col in class_cols:\n",
    "    print(f\"{df_promo[[col]].value_counts(normalize=True)}\\n\")"
   ]
  },
  {
   "cell_type": "code",
   "execution_count": 52,
   "metadata": {
    "ExecuteTime": {
     "end_time": "2022-05-20T18:53:40.686424Z",
     "start_time": "2022-05-20T18:53:40.655459Z"
    }
   },
   "outputs": [
    {
     "data": {
      "text/plain": [
       "[0.7933464781641986,\n",
       " 0.08986030121240089,\n",
       " 0.06275957544993079,\n",
       " 0.06359860720728279,\n",
       " 0.09220959013298653]"
      ]
     },
     "execution_count": 52,
     "metadata": {},
     "output_type": "execute_result"
    }
   ],
   "source": [
    "advert_posi = df_promo.advert.value_counts(normalize=True).values[0]\n",
    "coi_posi = df_promo.coi.value_counts(normalize=True).values[1]\n",
    "fanpov_posi = df_promo.fanpov.value_counts(normalize=True).values[1]\n",
    "pr_posi = df_promo.pr.value_counts(normalize=True).values[1]\n",
    "resume_posi = df_promo.resume.value_counts(normalize=True).values[1]\n",
    "\n",
    "posi_counts = [advert_posi, coi_posi, fanpov_posi, pr_posi, resume_posi]\n",
    "\n",
    "posi_counts"
   ]
  },
  {
   "cell_type": "code",
   "execution_count": 53,
   "metadata": {
    "ExecuteTime": {
     "end_time": "2022-05-20T18:53:42.871193Z",
     "start_time": "2022-05-20T18:53:42.864947Z"
    }
   },
   "outputs": [
    {
     "data": {
      "text/plain": [
       "Index(['text', 'advert', 'coi', 'fanpov', 'pr', 'resume', 'url'], dtype='object')"
      ]
     },
     "execution_count": 53,
     "metadata": {},
     "output_type": "execute_result"
    }
   ],
   "source": [
    "df_promo.columns"
   ]
  },
  {
   "cell_type": "code",
   "execution_count": 54,
   "metadata": {
    "ExecuteTime": {
     "end_time": "2022-05-20T18:53:46.689500Z",
     "start_time": "2022-05-20T18:53:46.684679Z"
    },
    "scrolled": true
   },
   "outputs": [],
   "source": [
    "# fig, ax = plt.subplots(nrows=1,\n",
    "#                        ncols=5,\n",
    "#                        figsize=(30,6),\n",
    "#                        sharey='all')\n",
    "\n",
    "# ax[0].bar(x=df_promo['advert'].value_counts(normalize=True).index,\n",
    "#           height=df_promo['advert'].value_counts(normalize=True).values,\n",
    "#           tick_label=['True', 'False'])\n",
    "# ax[0].set_title(\"Advertisement-like\")\n",
    "\n",
    "# ax[1].bar(x=df_promo['coi'].value_counts(normalize=True).index,\n",
    "#           height=df_promo['coi'].value_counts(normalize=True).values,\n",
    "#           tick_label=['False', 'True'])\n",
    "# ax[1].set_title(\"Conflict of interest\")\n",
    "\n",
    "# ax[2].bar(x=df_promo['fanpov'].value_counts(normalize=True).index,\n",
    "#           height=df_promo['fanpov'].value_counts(normalize=True).values,\n",
    "#           tick_label=['False', 'True'])\n",
    "# ax[2].set_title(\"Written from fan's point of view\")\n",
    "\n",
    "# ax[3].bar(x=df_promo['pr'].value_counts(normalize=True).index,\n",
    "#           height=df_promo['pr'].value_counts(normalize=True).values,\n",
    "#           tick_label=['False', 'True'])\n",
    "# ax[3].set_title(\"Written like a news article/press release\")\n",
    "\n",
    "# ax[4].bar(x=df_promo['resume'].value_counts(normalize=True).index,\n",
    "#           height=df_promo['resume'].value_counts(normalize=True).values,\n",
    "#           tick_label=['False', 'True'])\n",
    "# ax[4].set_title(\"Reads like a résumé\");"
   ]
  },
  {
   "cell_type": "code",
   "execution_count": 69,
   "metadata": {
    "ExecuteTime": {
     "end_time": "2022-05-20T18:57:28.547542Z",
     "start_time": "2022-05-20T18:57:26.286663Z"
    }
   },
   "outputs": [
    {
     "data": {
      "image/png": "[encoded data removed]",
      "text/plain": [
       "<Figure size 1440x720 with 1 Axes>"
      ]
     },
     "metadata": {},
     "output_type": "display_data"
    }
   ],
   "source": [
    "fig, ax = plt.subplots(figsize=(20, 10))\n",
    "\n",
    "y_ticks = np.linspace(0, 0.8, 9)\n",
    "y_tick_labels = []\n",
    "\n",
    "for x in np.linspace(0, 80, 9).tolist():\n",
    "    x = str(x).replace('.0', '')\n",
    "    y_tick_labels.append(x)\n",
    "\n",
    "plt.xticks(fontsize=17)\n",
    "plt.yticks(fontsize=16)\n",
    "ax.tick_params(axis='x', which='major', pad=10)   \n",
    "    \n",
    "ax.bar(x=[\"Advertisement-like\",\n",
    "          \"Conflict of interest\",\n",
    "          \"Fan's point of view\",\n",
    "          \"News/press release-like\",\n",
    "          \"Résumé-like\"],\n",
    "       height=posi_counts,\n",
    "       color=['tab:orange', 'tab:blue', 'tab:blue', 'tab:blue', 'tab:blue'])\n",
    "\n",
    "ax.set_yticks(y_ticks)\n",
    "ax.set_yticklabels(y_tick_labels,\n",
    "                   fontsize=15)\n",
    "ax.set_ylabel(\"% of articles with tag\",\n",
    "              fontsize = 20,\n",
    "              labelpad = 16)\n",
    "ax.set_title(\"Distribution of promotional article subclasses\",\n",
    "             fontsize=35,\n",
    "             pad=16)\n",
    "\n",
    "fig.savefig(fname='../images/promo_dist.png',\n",
    "            dpi=600,\n",
    "            bbox_inches='tight');"
   ]
  },
  {
   "cell_type": "markdown",
   "metadata": {},
   "source": [
    "# Set-up for Simple Binary Classification"
   ]
  },
  {
   "cell_type": "markdown",
   "metadata": {},
   "source": [
    "First, we drop all columns but `text`, which will be our primary feature."
   ]
  },
  {
   "cell_type": "code",
   "execution_count": 55,
   "metadata": {
    "ExecuteTime": {
     "end_time": "2022-05-20T18:53:52.241748Z",
     "start_time": "2022-05-20T18:53:52.233772Z"
    }
   },
   "outputs": [],
   "source": [
    "df_good = df_good[['text']]\n",
    "df_promo = df_promo[['text']]"
   ]
  },
  {
   "cell_type": "markdown",
   "metadata": {},
   "source": [
    "Before concatening the simplified dataframes, I create a new column `label` in each dataframe and give it the same value in every row. In `df_good`, each row is given the label `0` to indicate `False`, i.e. the article does ***not*** have a promotional tone. Conversely, each row in `df_promo` is given the label `1` to represent `True`, that the article ***does*** contain content that is promotional in tone.\n",
    "\n",
    "Multi-class classification is explored in a [separate notebook](Multi-label.ipynb)."
   ]
  },
  {
   "cell_type": "code",
   "execution_count": 56,
   "metadata": {
    "ExecuteTime": {
     "end_time": "2022-05-20T18:53:55.947108Z",
     "start_time": "2022-05-20T18:53:55.917365Z"
    },
    "scrolled": true
   },
   "outputs": [
    {
     "data": {
      "text/html": [
       "<div>\n",
       "<style scoped>\n",
       "    .dataframe tbody tr th:only-of-type {\n",
       "        vertical-align: middle;\n",
       "    }\n",
       "\n",
       "    .dataframe tbody tr th {\n",
       "        vertical-align: top;\n",
       "    }\n",
       "\n",
       "    .dataframe thead th {\n",
       "        text-align: right;\n",
       "    }\n",
       "</style>\n",
       "<table border=\"1\" class=\"dataframe\">\n",
       "  <thead>\n",
       "    <tr style=\"text-align: right;\">\n",
       "      <th></th>\n",
       "      <th>text</th>\n",
       "      <th>label</th>\n",
       "    </tr>\n",
       "  </thead>\n",
       "  <tbody>\n",
       "    <tr>\n",
       "      <th>0</th>\n",
       "      <td>Nycticebus linglom is a fossil strepsirrhine p...</td>\n",
       "      <td>0</td>\n",
       "    </tr>\n",
       "    <tr>\n",
       "      <th>1</th>\n",
       "      <td>Oryzomys pliocaenicus is a fossil rodent from ...</td>\n",
       "      <td>0</td>\n",
       "    </tr>\n",
       "    <tr>\n",
       "      <th>2</th>\n",
       "      <td>.hack dt hk is a series of single player actio...</td>\n",
       "      <td>0</td>\n",
       "    </tr>\n",
       "  </tbody>\n",
       "</table>\n",
       "</div>"
      ],
      "text/plain": [
       "                                                text  label\n",
       "0  Nycticebus linglom is a fossil strepsirrhine p...      0\n",
       "1  Oryzomys pliocaenicus is a fossil rodent from ...      0\n",
       "2  .hack dt hk is a series of single player actio...      0"
      ]
     },
     "execution_count": 56,
     "metadata": {},
     "output_type": "execute_result"
    }
   ],
   "source": [
    "df_good['label'] = 0\n",
    "df_good.head(3)"
   ]
  },
  {
   "cell_type": "code",
   "execution_count": 57,
   "metadata": {
    "ExecuteTime": {
     "end_time": "2022-05-20T18:53:56.534943Z",
     "start_time": "2022-05-20T18:53:56.520803Z"
    },
    "scrolled": false
   },
   "outputs": [
    {
     "data": {
      "text/html": [
       "<div>\n",
       "<style scoped>\n",
       "    .dataframe tbody tr th:only-of-type {\n",
       "        vertical-align: middle;\n",
       "    }\n",
       "\n",
       "    .dataframe tbody tr th {\n",
       "        vertical-align: top;\n",
       "    }\n",
       "\n",
       "    .dataframe thead th {\n",
       "        text-align: right;\n",
       "    }\n",
       "</style>\n",
       "<table border=\"1\" class=\"dataframe\">\n",
       "  <thead>\n",
       "    <tr style=\"text-align: right;\">\n",
       "      <th></th>\n",
       "      <th>text</th>\n",
       "      <th>label</th>\n",
       "    </tr>\n",
       "  </thead>\n",
       "  <tbody>\n",
       "    <tr>\n",
       "      <th>0</th>\n",
       "      <td>1 Litre no Namida 1, lit. 1 Litre of Tears als...</td>\n",
       "      <td>1</td>\n",
       "    </tr>\n",
       "    <tr>\n",
       "      <th>1</th>\n",
       "      <td>1DayLater was free, web based software that wa...</td>\n",
       "      <td>1</td>\n",
       "    </tr>\n",
       "    <tr>\n",
       "      <th>2</th>\n",
       "      <td>1E is a privately owned IT software and servic...</td>\n",
       "      <td>1</td>\n",
       "    </tr>\n",
       "  </tbody>\n",
       "</table>\n",
       "</div>"
      ],
      "text/plain": [
       "                                                text  label\n",
       "0  1 Litre no Namida 1, lit. 1 Litre of Tears als...      1\n",
       "1  1DayLater was free, web based software that wa...      1\n",
       "2  1E is a privately owned IT software and servic...      1"
      ]
     },
     "execution_count": 57,
     "metadata": {},
     "output_type": "execute_result"
    }
   ],
   "source": [
    "df_promo['label'] = 1\n",
    "df_promo.head(3)"
   ]
  },
  {
   "cell_type": "markdown",
   "metadata": {},
   "source": [
    "Next, we concatenate the dataframes using the pandas method `.append` - setting `ignore_index` to `True` means that the unique index values from `df_promo` are not carried over when this dataframe is appended to `df_good`; the indexing, rather, continues where `df_good`'s index leaves off."
   ]
  },
  {
   "cell_type": "code",
   "execution_count": 58,
   "metadata": {
    "ExecuteTime": {
     "end_time": "2022-05-20T18:53:57.969622Z",
     "start_time": "2022-05-20T18:53:57.942417Z"
    }
   },
   "outputs": [
    {
     "data": {
      "text/html": [
       "<div>\n",
       "<style scoped>\n",
       "    .dataframe tbody tr th:only-of-type {\n",
       "        vertical-align: middle;\n",
       "    }\n",
       "\n",
       "    .dataframe tbody tr th {\n",
       "        vertical-align: top;\n",
       "    }\n",
       "\n",
       "    .dataframe thead th {\n",
       "        text-align: right;\n",
       "    }\n",
       "</style>\n",
       "<table border=\"1\" class=\"dataframe\">\n",
       "  <thead>\n",
       "    <tr style=\"text-align: right;\">\n",
       "      <th></th>\n",
       "      <th>text</th>\n",
       "      <th>label</th>\n",
       "    </tr>\n",
       "  </thead>\n",
       "  <tbody>\n",
       "    <tr>\n",
       "      <th>0</th>\n",
       "      <td>Nycticebus linglom is a fossil strepsirrhine p...</td>\n",
       "      <td>0</td>\n",
       "    </tr>\n",
       "    <tr>\n",
       "      <th>1</th>\n",
       "      <td>Oryzomys pliocaenicus is a fossil rodent from ...</td>\n",
       "      <td>0</td>\n",
       "    </tr>\n",
       "    <tr>\n",
       "      <th>2</th>\n",
       "      <td>.hack dt hk is a series of single player actio...</td>\n",
       "      <td>0</td>\n",
       "    </tr>\n",
       "    <tr>\n",
       "      <th>3</th>\n",
       "      <td>The You Drive Me Crazy Tour was the second con...</td>\n",
       "      <td>0</td>\n",
       "    </tr>\n",
       "    <tr>\n",
       "      <th>4</th>\n",
       "      <td>0 8 4 is the second episode of the first seaso...</td>\n",
       "      <td>0</td>\n",
       "    </tr>\n",
       "    <tr>\n",
       "      <th>...</th>\n",
       "      <td>...</td>\n",
       "      <td>...</td>\n",
       "    </tr>\n",
       "    <tr>\n",
       "      <th>54111</th>\n",
       "      <td>ZURICH.MINDS is a non profit foundation set up...</td>\n",
       "      <td>1</td>\n",
       "    </tr>\n",
       "    <tr>\n",
       "      <th>54112</th>\n",
       "      <td>zvelo, Inc. or simply zvelo is a privately hel...</td>\n",
       "      <td>1</td>\n",
       "    </tr>\n",
       "    <tr>\n",
       "      <th>54113</th>\n",
       "      <td>Zygote Media Group is a 3D human anatomy conte...</td>\n",
       "      <td>1</td>\n",
       "    </tr>\n",
       "    <tr>\n",
       "      <th>54114</th>\n",
       "      <td>Zylom is a distributor of casual games for PC ...</td>\n",
       "      <td>1</td>\n",
       "    </tr>\n",
       "    <tr>\n",
       "      <th>54115</th>\n",
       "      <td>Zynx Health Incorporated is an American corpor...</td>\n",
       "      <td>1</td>\n",
       "    </tr>\n",
       "  </tbody>\n",
       "</table>\n",
       "<p>54116 rows × 2 columns</p>\n",
       "</div>"
      ],
      "text/plain": [
       "                                                    text  label\n",
       "0      Nycticebus linglom is a fossil strepsirrhine p...      0\n",
       "1      Oryzomys pliocaenicus is a fossil rodent from ...      0\n",
       "2      .hack dt hk is a series of single player actio...      0\n",
       "3      The You Drive Me Crazy Tour was the second con...      0\n",
       "4      0 8 4 is the second episode of the first seaso...      0\n",
       "...                                                  ...    ...\n",
       "54111  ZURICH.MINDS is a non profit foundation set up...      1\n",
       "54112  zvelo, Inc. or simply zvelo is a privately hel...      1\n",
       "54113  Zygote Media Group is a 3D human anatomy conte...      1\n",
       "54114  Zylom is a distributor of casual games for PC ...      1\n",
       "54115  Zynx Health Incorporated is an American corpor...      1\n",
       "\n",
       "[54116 rows x 2 columns]"
      ]
     },
     "execution_count": 58,
     "metadata": {},
     "output_type": "execute_result"
    }
   ],
   "source": [
    "df = df_good.append(other=df_promo,\n",
    "                    ignore_index=True)\n",
    "\n",
    "df"
   ]
  },
  {
   "cell_type": "markdown",
   "metadata": {},
   "source": [
    "The following code cell shuffles the index of the dataframe so that `good` and `promotional` articles are mixed in together. This is included purely for the purpose of reproducibility, which is why the next few cells (prior to section `Reading in .csv file with lemmas`) are commented out."
   ]
  },
  {
   "cell_type": "code",
   "execution_count": 65,
   "metadata": {
    "ExecuteTime": {
     "end_time": "2022-05-20T18:54:22.225422Z",
     "start_time": "2022-05-20T18:54:22.189302Z"
    },
    "scrolled": true
   },
   "outputs": [
    {
     "data": {
      "text/html": [
       "<div>\n",
       "<style scoped>\n",
       "    .dataframe tbody tr th:only-of-type {\n",
       "        vertical-align: middle;\n",
       "    }\n",
       "\n",
       "    .dataframe tbody tr th {\n",
       "        vertical-align: top;\n",
       "    }\n",
       "\n",
       "    .dataframe thead th {\n",
       "        text-align: right;\n",
       "    }\n",
       "</style>\n",
       "<table border=\"1\" class=\"dataframe\">\n",
       "  <thead>\n",
       "    <tr style=\"text-align: right;\">\n",
       "      <th></th>\n",
       "      <th>text</th>\n",
       "      <th>label</th>\n",
       "    </tr>\n",
       "  </thead>\n",
       "  <tbody>\n",
       "    <tr>\n",
       "      <th>0</th>\n",
       "      <td>Mutares AG styled Mutares is a German based ho...</td>\n",
       "      <td>1</td>\n",
       "    </tr>\n",
       "    <tr>\n",
       "      <th>1</th>\n",
       "      <td>Federico Martinez Roda is a professor of histo...</td>\n",
       "      <td>1</td>\n",
       "    </tr>\n",
       "    <tr>\n",
       "      <th>2</th>\n",
       "      <td>Jorg M. Colberg born 15 February 1968 writes a...</td>\n",
       "      <td>1</td>\n",
       "    </tr>\n",
       "    <tr>\n",
       "      <th>3</th>\n",
       "      <td>Signal 30 is the fifth episode of the fifth se...</td>\n",
       "      <td>0</td>\n",
       "    </tr>\n",
       "    <tr>\n",
       "      <th>4</th>\n",
       "      <td>M 247 is a northsouth state trunkline highway ...</td>\n",
       "      <td>0</td>\n",
       "    </tr>\n",
       "    <tr>\n",
       "      <th>...</th>\n",
       "      <td>...</td>\n",
       "      <td>...</td>\n",
       "    </tr>\n",
       "    <tr>\n",
       "      <th>54111</th>\n",
       "      <td>Swaziland competed at the 2012 Summer Olympics...</td>\n",
       "      <td>0</td>\n",
       "    </tr>\n",
       "    <tr>\n",
       "      <th>54112</th>\n",
       "      <td>Established on April 1, 2007, the Interactive ...</td>\n",
       "      <td>1</td>\n",
       "    </tr>\n",
       "    <tr>\n",
       "      <th>54113</th>\n",
       "      <td>Student directed teaching is a teaching techno...</td>\n",
       "      <td>1</td>\n",
       "    </tr>\n",
       "    <tr>\n",
       "      <th>54114</th>\n",
       "      <td>Nobody's Business is a song recorded by Barbad...</td>\n",
       "      <td>0</td>\n",
       "    </tr>\n",
       "    <tr>\n",
       "      <th>54115</th>\n",
       "      <td>King's Highway 36, commonly referred to as Hig...</td>\n",
       "      <td>0</td>\n",
       "    </tr>\n",
       "  </tbody>\n",
       "</table>\n",
       "<p>54116 rows × 2 columns</p>\n",
       "</div>"
      ],
      "text/plain": [
       "                                                    text  label\n",
       "0      Mutares AG styled Mutares is a German based ho...      1\n",
       "1      Federico Martinez Roda is a professor of histo...      1\n",
       "2      Jorg M. Colberg born 15 February 1968 writes a...      1\n",
       "3      Signal 30 is the fifth episode of the fifth se...      0\n",
       "4      M 247 is a northsouth state trunkline highway ...      0\n",
       "...                                                  ...    ...\n",
       "54111  Swaziland competed at the 2012 Summer Olympics...      0\n",
       "54112  Established on April 1, 2007, the Interactive ...      1\n",
       "54113  Student directed teaching is a teaching techno...      1\n",
       "54114  Nobody's Business is a song recorded by Barbad...      0\n",
       "54115  King's Highway 36, commonly referred to as Hig...      0\n",
       "\n",
       "[54116 rows x 2 columns]"
      ]
     },
     "execution_count": 65,
     "metadata": {},
     "output_type": "execute_result"
    }
   ],
   "source": [
    "df = df.sample(frac=1,\n",
    "               random_state=138).reset_index(drop=True)\n",
    "\n",
    "df"
   ]
  },
  {
   "cell_type": "code",
   "execution_count": 66,
   "metadata": {
    "ExecuteTime": {
     "end_time": "2022-05-20T18:54:22.704136Z",
     "start_time": "2022-05-20T18:54:22.689176Z"
    },
    "scrolled": false
   },
   "outputs": [],
   "source": [
    "# freq_out(df, 'text', 10)"
   ]
  },
  {
   "cell_type": "markdown",
   "metadata": {},
   "source": [
    "The following cell is one of the most computationally expensive tasks in this whole project - it applies the custom function `parse_doc` (see the [.py file](../src/parse_it.py) for further information) to the content of the `text` column for each row in the dataframe, i.e. each document in the corpus. The result is a string of **lemmas**, the approximate morphological roots of each word in the document, stored in a new column called `text_lem`. This helps standardize the text for vectorization and, eventually, modeling.\n",
    "\n",
    "Again, the following two cells are only necessary to run if you're interested in completing reproducing the project, step by step. For convenience, the output is saved as a `.csv` file, which "
   ]
  },
  {
   "cell_type": "code",
   "execution_count": null,
   "metadata": {
    "ExecuteTime": {
     "end_time": "2022-05-19T20:06:40.210233Z",
     "start_time": "2022-05-19T20:06:40.203021Z"
    },
    "scrolled": true
   },
   "outputs": [],
   "source": [
    "# df['text_lem'] = df['text'].apply(parse_doc) "
   ]
  },
  {
   "cell_type": "code",
   "execution_count": null,
   "metadata": {
    "ExecuteTime": {
     "end_time": "2022-05-19T20:06:40.428333Z",
     "start_time": "2022-05-19T20:06:40.422329Z"
    }
   },
   "outputs": [],
   "source": [
    "# df.to_csv('lemmed_combined.csv')"
   ]
  },
  {
   "cell_type": "markdown",
   "metadata": {},
   "source": [
    "## Reading in Newly Created csv file (with lemmas)"
   ]
  },
  {
   "cell_type": "code",
   "execution_count": null,
   "metadata": {
    "ExecuteTime": {
     "end_time": "2022-05-20T15:42:03.899891Z",
     "start_time": "2022-05-20T15:41:53.595021Z"
    }
   },
   "outputs": [],
   "source": [
    "lemmed_df = pd.read_csv('../../data/lemmed_combined.csv', index_col=0)"
   ]
  },
  {
   "cell_type": "code",
   "execution_count": null,
   "metadata": {
    "ExecuteTime": {
     "end_time": "2022-05-20T15:42:03.963719Z",
     "start_time": "2022-05-20T15:42:03.949758Z"
    }
   },
   "outputs": [],
   "source": [
    "lemmed_df.head(3)"
   ]
  },
  {
   "cell_type": "code",
   "execution_count": null,
   "metadata": {
    "ExecuteTime": {
     "end_time": "2022-05-18T20:24:59.427803Z",
     "start_time": "2022-05-18T20:24:59.367003Z"
    }
   },
   "outputs": [],
   "source": [
    "additional_sw = ['january',\n",
    "                 'february',\n",
    "                 'april', # 'march' and 'may' are English verbs and\n",
    "                          #  are thus excluded\n",
    "                 'june',\n",
    "                 'july',\n",
    "                 'august',\n",
    "                 'september',\n",
    "                 'october',\n",
    "                 'november',\n",
    "                 'december']"
   ]
  },
  {
   "cell_type": "markdown",
   "metadata": {},
   "source": [
    "# Modeling Setup/Brainstorming"
   ]
  },
  {
   "cell_type": "code",
   "execution_count": null,
   "metadata": {
    "ExecuteTime": {
     "end_time": "2022-05-20T15:42:06.532126Z",
     "start_time": "2022-05-20T15:42:06.526140Z"
    }
   },
   "outputs": [],
   "source": [
    "X = lemmed_df['text_lem']\n",
    "y = lemmed_df['label']"
   ]
  },
  {
   "cell_type": "code",
   "execution_count": null,
   "metadata": {
    "ExecuteTime": {
     "end_time": "2022-05-20T15:42:06.890287Z",
     "start_time": "2022-05-20T15:42:06.873256Z"
    }
   },
   "outputs": [],
   "source": [
    "X"
   ]
  },
  {
   "cell_type": "code",
   "execution_count": null,
   "metadata": {
    "ExecuteTime": {
     "end_time": "2022-05-20T15:42:07.932690Z",
     "start_time": "2022-05-20T15:42:07.924714Z"
    },
    "scrolled": true
   },
   "outputs": [],
   "source": [
    "y"
   ]
  },
  {
   "cell_type": "code",
   "execution_count": null,
   "metadata": {
    "ExecuteTime": {
     "end_time": "2022-05-20T15:42:08.789494Z",
     "start_time": "2022-05-20T15:42:08.716195Z"
    }
   },
   "outputs": [],
   "source": [
    "X_train, X_test, y_train, y_test = train_test_split(X, y,\n",
    "                                                    test_size=0.33,\n",
    "                                                    random_state=42,\n",
    "                                                    stratify=y)"
   ]
  },
  {
   "cell_type": "code",
   "execution_count": null,
   "metadata": {
    "ExecuteTime": {
     "end_time": "2022-05-20T15:42:09.739667Z",
     "start_time": "2022-05-20T15:42:09.712211Z"
    },
    "scrolled": true
   },
   "outputs": [],
   "source": [
    "y_train.value_counts(normalize=True)"
   ]
  },
  {
   "cell_type": "code",
   "execution_count": null,
   "metadata": {
    "ExecuteTime": {
     "end_time": "2022-05-20T15:42:10.618878Z",
     "start_time": "2022-05-20T15:42:10.607481Z"
    }
   },
   "outputs": [],
   "source": [
    "y_test.value_counts(normalize=True)"
   ]
  },
  {
   "cell_type": "markdown",
   "metadata": {},
   "source": [
    "## `DummyClassifier`"
   ]
  },
  {
   "cell_type": "code",
   "execution_count": null,
   "metadata": {
    "ExecuteTime": {
     "end_time": "2022-05-19T22:00:21.969760Z",
     "start_time": "2022-05-19T21:58:05.008403Z"
    },
    "scrolled": true
   },
   "outputs": [],
   "source": [
    "dum_pipe = Pipeline(steps=[\n",
    "    ('cvec', CountVectorizer()),\n",
    "    ('dum', DummyClassifier(strategy='most_frequent'))\n",
    "])\n",
    "\n",
    "dum_cv_res = cross_validate(dum_pipe,\n",
    "                            X_train,\n",
    "                            y_train,\n",
    "                            scoring=('accuracy', 'f1_macro'),\n",
    "                            cv=5,\n",
    "                            verbose=1,\n",
    "                            n_jobs=-2,\n",
    "                            return_train_score=True)\n",
    "\n",
    "pretty_cv(dum_cv_res)"
   ]
  },
  {
   "cell_type": "markdown",
   "metadata": {},
   "source": [
    "Results from cross-validation with `DummyClassifier`:\n",
    "- Validation accuracy = `0.56` - proportion of majority class, and **baseline performance**\n",
    "- Validation F1 = `0.36`\n",
    "- **Execution time:** 1m, 30s"
   ]
  },
  {
   "cell_type": "markdown",
   "metadata": {},
   "source": [
    "## `DecisionTreeClassifier`"
   ]
  },
  {
   "cell_type": "code",
   "execution_count": null,
   "metadata": {
    "ExecuteTime": {
     "end_time": "2022-05-19T22:07:30.825866Z",
     "start_time": "2022-05-19T22:00:31.701511Z"
    },
    "scrolled": false
   },
   "outputs": [],
   "source": [
    "dtc_pipe = Pipeline(steps=[\n",
    "    ('cvec', CountVectorizer()),\n",
    "    ('dtc', DecisionTreeClassifier())\n",
    "])\n",
    "\n",
    "dtc_cv_res = cross_validate(dtc_pipe,\n",
    "                            X_train,\n",
    "                            y_train,\n",
    "                            scoring=('accuracy', 'f1_macro'),\n",
    "                            cv=5,\n",
    "                            verbose=1,\n",
    "                            n_jobs=-2,\n",
    "                            return_train_score=True)\n",
    "\n",
    "pretty_cv(dtc_cv_res)"
   ]
  },
  {
   "cell_type": "markdown",
   "metadata": {},
   "source": [
    "Results from cross-validation with `DecisionTreeClassifer`, count vectorized:\n",
    "- Validation accuracy = `0.87`\n",
    "- Validation F1 = `0.87`\n",
    "- **Execution time:** 3m, 57s"
   ]
  },
  {
   "cell_type": "code",
   "execution_count": null,
   "metadata": {
    "ExecuteTime": {
     "end_time": "2022-05-20T15:51:09.875485Z",
     "start_time": "2022-05-20T15:42:14.913186Z"
    }
   },
   "outputs": [],
   "source": [
    "dtc_tfidf_pipe = Pipeline(steps=[\n",
    "    ('tfidf', TfidfVectorizer()),\n",
    "    ('dtc', DecisionTreeClassifier())\n",
    "])\n",
    "\n",
    "dtc_tfidf_cv_res = cross_validate(dtc_tfidf_pipe,\n",
    "                                  X_train,\n",
    "                                  y_train,\n",
    "                                  scoring=('accuracy', 'f1_macro'),\n",
    "                                  cv=5,\n",
    "                                  verbose=1,\n",
    "                                  n_jobs=-2,\n",
    "                                  return_train_score=True)\n",
    "\n",
    "pretty_cv(dtc_tfidf_cv_res)"
   ]
  },
  {
   "cell_type": "markdown",
   "metadata": {},
   "source": [
    "Results from cross-validation with `DecisionTreeClassifer`, TF-IDF vectorized:\n",
    "- Validation accuracy = `0.86`\n",
    "- Validation F1 = `0.86`\n",
    "- **Execution time:** 8m, 55s"
   ]
  },
  {
   "cell_type": "markdown",
   "metadata": {},
   "source": [
    "## `MultinomialNB`"
   ]
  },
  {
   "cell_type": "code",
   "execution_count": null,
   "metadata": {
    "ExecuteTime": {
     "end_time": "2022-05-19T21:54:44.967850Z",
     "start_time": "2022-05-19T21:52:19.818013Z"
    }
   },
   "outputs": [],
   "source": [
    "mnb_pipe = Pipeline(steps=[\n",
    "    ('cvec', CountVectorizer()),\n",
    "    ('mnb', MultinomialNB())\n",
    "])\n",
    "\n",
    "mnb_cv_res = cross_validate(mnb_pipe,\n",
    "                            X_train,\n",
    "                            y_train,\n",
    "                            scoring=('accuracy', 'f1_macro'),\n",
    "                            cv=5,\n",
    "                            verbose=1,\n",
    "                            n_jobs=-2,\n",
    "                            return_train_score=True)\n",
    "\n",
    "pretty_cv(mnb_cv_res)"
   ]
  },
  {
   "cell_type": "markdown",
   "metadata": {},
   "source": [
    "Results from cross-validation with `MultinomialNB`, count vectorized:\n",
    "- Validation accuracy = `0.90`\n",
    "- Validation F1 = `0.90`\n",
    "- **Execution time:** 2m, 25s"
   ]
  },
  {
   "cell_type": "code",
   "execution_count": null,
   "metadata": {
    "ExecuteTime": {
     "end_time": "2022-05-19T21:57:33.872147Z",
     "start_time": "2022-05-19T21:55:01.389057Z"
    },
    "scrolled": true
   },
   "outputs": [],
   "source": [
    "mnb_tfidf_pipe = Pipeline(steps=[\n",
    "    ('tfidf', TfidfVectorizer()),\n",
    "    ('mnb', MultinomialNB())\n",
    "])\n",
    "\n",
    "mnb_tfidf_cv_res = cross_validate(mnb_tfidf_pipe,\n",
    "                                  X_train,\n",
    "                                  y_train,\n",
    "                                  scoring=('accuracy', 'f1_macro'),\n",
    "                                  cv=5,\n",
    "                                  verbose=1,\n",
    "                                  n_jobs=-2,\n",
    "                                  return_train_score=True)\n",
    "\n",
    "pretty_cv(mnb_tfidf_cv_res)"
   ]
  },
  {
   "cell_type": "markdown",
   "metadata": {},
   "source": [
    "Results from cross-validation with `MultinomialNB`, TF-IDF vectorized:\n",
    "- Validation accuracy = `0.79`\n",
    "- Validation F1 = `0.77`\n",
    "- **Execution time:** 2m, 32s"
   ]
  },
  {
   "cell_type": "markdown",
   "metadata": {},
   "source": [
    "## `RandomForestClassifier`"
   ]
  },
  {
   "cell_type": "code",
   "execution_count": null,
   "metadata": {
    "ExecuteTime": {
     "end_time": "2022-05-19T20:39:24.312937Z",
     "start_time": "2022-05-19T20:29:40.110248Z"
    }
   },
   "outputs": [],
   "source": [
    "rfc_cvec_pipe = Pipeline(steps=[\n",
    "    ('cvec', CountVectorizer()),\n",
    "    ('rfc', RandomForestClassifier())\n",
    "])\n",
    "\n",
    "rfc_cvec_cv_res = cross_validate(rfc_cvec_pipe,\n",
    "                                 X_train,\n",
    "                                 y_train,\n",
    "                                 scoring=('accuracy', 'f1_macro'),\n",
    "                                 cv=5,\n",
    "                                 verbose=1,\n",
    "                                 n_jobs=-2,\n",
    "                                 return_train_score=True)\n",
    "\n",
    "pretty_cv(rfc_cvec_cv_res)"
   ]
  },
  {
   "cell_type": "markdown",
   "metadata": {},
   "source": [
    "Results from cross-validation with `RandomForestClassifer`, count vectorized:\n",
    "- Validation accuracy = `0.93`\n",
    "- Validation F1 = `0.92`\n",
    "- **Execution time:** 9m, 44s"
   ]
  },
  {
   "cell_type": "code",
   "execution_count": null,
   "metadata": {
    "ExecuteTime": {
     "end_time": "2022-05-19T20:46:01.172481Z",
     "start_time": "2022-05-19T20:39:24.467852Z"
    },
    "scrolled": false
   },
   "outputs": [],
   "source": [
    "rfc_tfidf_pipe = Pipeline(steps=[\n",
    "    ('tfidf', TfidfVectorizer()),\n",
    "    ('rfc', RandomForestClassifier())\n",
    "])\n",
    "\n",
    "rfc_tfidf_cv_res = cross_validate(rfc_tfidf_pipe,\n",
    "                                  X_train,\n",
    "                                  y_train,\n",
    "                                  scoring=('accuracy', 'f1_macro'),\n",
    "                                  cv=5,\n",
    "                                  verbose=1,\n",
    "                                  n_jobs=-2,\n",
    "                                  return_train_score=True)\n",
    "\n",
    "pretty_cv(rfc_tfidf_cv_res)"
   ]
  },
  {
   "cell_type": "markdown",
   "metadata": {},
   "source": [
    "Results from cross-validation with `RandomForestClassifer`, TF-IDF vectorized:\n",
    "- Validation accuracy = `0.93`\n",
    "- Validation F1 = `0.93`\n",
    "- **Execution time:** 6m, 37s"
   ]
  },
  {
   "cell_type": "markdown",
   "metadata": {},
   "source": [
    "## `GradientBoostingClassifier`"
   ]
  },
  {
   "cell_type": "code",
   "execution_count": null,
   "metadata": {
    "ExecuteTime": {
     "end_time": "2022-05-19T21:27:14.096579Z",
     "start_time": "2022-05-19T21:14:48.902849Z"
    }
   },
   "outputs": [],
   "source": [
    "gbc_cvec_pipe = Pipeline(steps=[\n",
    "    ('cvec', CountVectorizer()),\n",
    "    ('gbc', GradientBoostingClassifier())\n",
    "])\n",
    "\n",
    "gbc_cvec_cv_res = cross_validate(gbc_cvec_pipe,\n",
    "                                 X_train,\n",
    "                                 y_train,\n",
    "                                 scoring=('accuracy', 'f1_macro'),\n",
    "                                 cv=5,\n",
    "                                 verbose=1,\n",
    "                                 n_jobs=-2,\n",
    "                                 return_train_score=True)\n",
    "\n",
    "pretty_cv(gbc_cvec_cv_res)"
   ]
  },
  {
   "cell_type": "markdown",
   "metadata": {},
   "source": [
    "Results from cross-validation with `GradientBoostingClassifier`, count vectorized:\n",
    "- Validation accuracy = `0.93`\n",
    "- Validation F1 = `0.93`\n",
    "- **Execution time:** 12m, 25s"
   ]
  },
  {
   "cell_type": "code",
   "execution_count": null,
   "metadata": {
    "ExecuteTime": {
     "end_time": "2022-05-19T21:52:19.576918Z",
     "start_time": "2022-05-19T21:27:14.269308Z"
    },
    "scrolled": true
   },
   "outputs": [],
   "source": [
    "gbc_tfidf_pipe = Pipeline(steps=[\n",
    "    ('tfidf', TfidfVectorizer()),\n",
    "    ('gbc', GradientBoostingClassifier())\n",
    "])\n",
    "\n",
    "gbc_tfidf_cv_res = cross_validate(gbc_tfidf_pipe,\n",
    "                                  X_train,\n",
    "                                  y_train,\n",
    "                                  scoring=('accuracy', 'f1_macro'),\n",
    "                                  cv=5,\n",
    "                                  verbose=1,\n",
    "                                  n_jobs=-2,\n",
    "                                  return_train_score=True)\n",
    "\n",
    "pretty_cv(gbc_tfidf_cv_res)"
   ]
  },
  {
   "cell_type": "markdown",
   "metadata": {},
   "source": [
    "Results from cross-validation with `GradientBoostingClassifier`, TF-IDF vectorized:\n",
    "- Validation accuracy = `0.94`\n",
    "- Validation F1 = `0.94`\n",
    "- **Execution time:** 25m, 5s"
   ]
  },
  {
   "cell_type": "markdown",
   "metadata": {},
   "source": [
    "## `XGBClassifier`"
   ]
  },
  {
   "cell_type": "code",
   "execution_count": null,
   "metadata": {
    "ExecuteTime": {
     "end_time": "2022-05-20T16:10:00.795888Z",
     "start_time": "2022-05-20T16:01:13.877648Z"
    }
   },
   "outputs": [],
   "source": [
    "xgb_cvec_pipe = Pipeline(steps=[\n",
    "    ('cvec', CountVectorizer()),\n",
    "    ('xgb', XGBClassifier())\n",
    "])\n",
    "\n",
    "xgb_cvec_cv_res = cross_validate(xgb_cvec_pipe,\n",
    "                                 X_train,\n",
    "                                 y_train,\n",
    "                                 scoring=('accuracy', 'f1_macro'),\n",
    "                                 cv=5,\n",
    "                                 verbose=1,\n",
    "                                 n_jobs=-2,\n",
    "                                 return_train_score=True)\n",
    "\n",
    "pretty_cv(xgb_cvec_cv_res)"
   ]
  },
  {
   "cell_type": "markdown",
   "metadata": {},
   "source": [
    "Results from cross-validation with `XGBClassifier`, count vectorized:\n",
    "- Validation accuracy = `0.95`\n",
    "- Validation F1 = `0.95`\n",
    "- **Execution time:** 8m, 47s"
   ]
  },
  {
   "cell_type": "code",
   "execution_count": null,
   "metadata": {
    "ExecuteTime": {
     "end_time": "2022-05-20T16:28:23.375602Z",
     "start_time": "2022-05-20T16:10:00.978876Z"
    }
   },
   "outputs": [],
   "source": [
    "xgb_tfidf_pipe = Pipeline(steps=[\n",
    "    ('tfidf', TfidfVectorizer()),\n",
    "    ('xgb', XGBClassifier())\n",
    "])\n",
    "\n",
    "xgb_tfidf_cv_res = cross_validate(xgb_tfidf_pipe,\n",
    "                                  X_train,\n",
    "                                  y_train,\n",
    "                                  scoring=('accuracy', 'f1_macro'),\n",
    "                                  cv=5,\n",
    "                                  verbose=1,\n",
    "                                  n_jobs=-2,\n",
    "                                  return_train_score=True)\n",
    "\n",
    "pretty_cv(xgb_tfidf_cv_res)"
   ]
  },
  {
   "cell_type": "markdown",
   "metadata": {},
   "source": [
    "Results from cross-validation with `XGBClassifier`, TF-IDF vectorized:\n",
    "- Validation accuracy = `0.95`\n",
    "- Validation F1 = `0.95`\n",
    "- **Execution time:** 18m, 22s"
   ]
  },
  {
   "cell_type": "markdown",
   "metadata": {},
   "source": [
    "## `XGBRFClassifier`"
   ]
  },
  {
   "cell_type": "code",
   "execution_count": null,
   "metadata": {
    "ExecuteTime": {
     "end_time": "2022-05-20T16:55:19.614132Z",
     "start_time": "2022-05-20T16:46:55.362462Z"
    }
   },
   "outputs": [],
   "source": [
    "xgbrf_cvec_pipe = Pipeline(steps=[\n",
    "    ('cvec', CountVectorizer()),\n",
    "    ('xgbrf', XGBRFClassifier())\n",
    "])\n",
    "\n",
    "xgbrf_cvec_cv_res = cross_validate(xgbrf_cvec_pipe,\n",
    "                                   X_train,\n",
    "                                   y_train,\n",
    "                                   scoring=('accuracy', 'f1_macro'),\n",
    "                                   cv=5,\n",
    "                                   verbose=1,\n",
    "                                   n_jobs=-2,\n",
    "                                   return_train_score=True)\n",
    "\n",
    "pretty_cv(xgbrf_cvec_cv_res)"
   ]
  },
  {
   "cell_type": "markdown",
   "metadata": {},
   "source": [
    "Results from cross-validation with `XGBRFClassifier`, count vectorized:\n",
    "- Validation accuracy = `0.88`\n",
    "- Validation F1 = `0.88`\n",
    "- **Execution time:** 8m, 24s"
   ]
  },
  {
   "cell_type": "code",
   "execution_count": null,
   "metadata": {
    "ExecuteTime": {
     "end_time": "2022-05-20T17:09:19.987248Z",
     "start_time": "2022-05-20T16:55:19.865377Z"
    }
   },
   "outputs": [],
   "source": [
    "xgbrf_tfidf_pipe = Pipeline(steps=[\n",
    "    ('tfidf', TfidfVectorizer()),\n",
    "    ('xgbrf', XGBRFClassifier())\n",
    "])\n",
    "\n",
    "xgbrf_tfidf_cv_res = cross_validate(xgbrf_tfidf_pipe,\n",
    "                                    X_train,\n",
    "                                    y_train,\n",
    "                                    scoring=('accuracy', 'f1_macro'),\n",
    "                                    cv=5,\n",
    "                                    verbose=1,\n",
    "                                    n_jobs=-2,\n",
    "                                    return_train_score=True)\n",
    "\n",
    "pretty_cv(xgbrf_tfidf_cv_res)"
   ]
  },
  {
   "cell_type": "markdown",
   "metadata": {},
   "source": [
    "Results from cross-validation with `XGBRFClassifier`, TF-IDF vectorized:\n",
    "- Validation accuracy = `0.89`\n",
    "- Validation F1 = `0.89`\n",
    "- **Execution time:** 14m, 0s"
   ]
  }
 ],
 "metadata": {
  "kernelspec": {
   "display_name": "Python (learn-env)",
   "language": "python",
   "name": "learn-env"
  },
  "language_info": {
   "codemirror_mode": {
    "name": "ipython",
    "version": 3
   },
   "file_extension": ".py",
   "mimetype": "text/x-python",
   "name": "python",
   "nbconvert_exporter": "python",
   "pygments_lexer": "ipython3",
   "version": "3.8.5"
  },
  "toc": {
   "base_numbering": 1,
   "nav_menu": {},
   "number_sections": true,
   "sideBar": true,
   "skip_h1_title": false,
   "title_cell": "Table of Contents",
   "title_sidebar": "Contents",
   "toc_cell": false,
   "toc_position": {},
   "toc_section_display": true,
   "toc_window_display": true
  },
  "varInspector": {
   "cols": {
    "lenName": 16,
    "lenType": 16,
    "lenVar": 40
   },
   "kernels_config": {
    "python": {
     "delete_cmd_postfix": "",
     "delete_cmd_prefix": "del ",
     "library": "var_list.py",
     "varRefreshCmd": "print(var_dic_list())"
    },
    "r": {
     "delete_cmd_postfix": ") ",
     "delete_cmd_prefix": "rm(",
     "library": "var_list.r",
     "varRefreshCmd": "cat(var_dic_list()) "
    }
   },
   "types_to_exclude": [
    "module",
    "function",
    "builtin_function_or_method",
    "instance",
    "_Feature"
   ],
   "window_display": false
  }
 },
 "nbformat": 4,
 "nbformat_minor": 4
}
