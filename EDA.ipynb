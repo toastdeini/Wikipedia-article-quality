{
 "cells": [
  {
   "cell_type": "markdown",
   "metadata": {},
   "source": [
    "# Title"
   ]
  },
  {
   "cell_type": "code",
   "execution_count": 1,
   "metadata": {
    "ExecuteTime": {
     "end_time": "2022-05-10T19:16:28.544692Z",
     "start_time": "2022-05-10T19:16:27.980166Z"
    }
   },
   "outputs": [],
   "source": [
    "import pandas as pd\n",
    "import numpy as np\n",
    "import matplotlib.pyplot as plt"
   ]
  },
  {
   "cell_type": "code",
   "execution_count": 7,
   "metadata": {
    "ExecuteTime": {
     "end_time": "2022-05-10T19:17:46.324777Z",
     "start_time": "2022-05-10T19:17:41.480956Z"
    }
   },
   "outputs": [],
   "source": [
    "df_good = pd.read_csv('../data/good.csv')\n",
    "df_promo = pd.read_csv('../data/promotional.csv')"
   ]
  },
  {
   "cell_type": "code",
   "execution_count": 8,
   "metadata": {
    "ExecuteTime": {
     "end_time": "2022-05-10T19:17:48.539924Z",
     "start_time": "2022-05-10T19:17:48.531802Z"
    }
   },
   "outputs": [
    {
     "data": {
      "text/plain": [
       "'Nycticebus linglom is a fossil strepsirrhine primate from the Miocene of Thailand. Known only from a single tooth, an upper third molar, it is thought to be related to the living slow lorises genus Nycticebus , but the material is not sufficient to assign the species to Nycticebus with certainty, and the species name therefore uses open nomenclature. With a width of 1.82 mm, this tooth is very small for a primate. It is triangular in shape, supported by a single root, and shows three main cusps, in addition to various crests. The absence of a fourth cusp, the hypocone, distinguishes it from various other prosimian primates. Nycticebus linglom was described in 1997 by French paleontologists Pierre Mein and Leonard Ginsburg in a report on the fossil mammals of Li Mae Long, a Miocene site in Thailand. The animal is known from a single tooth, and on the basis of comparisons with other prosimian primates Mein and Ginsburg concluded that it is most closely related to the living slow lorises genus Nycticebus . However, in view of the very limited material, they only tentatively assigned the fossil species to Nycticebus, using open nomenclature. The specific name, linglom, is the Thai word for loris . The single known tooth, a third upper molar M3 known as T Li 41, is tiny, with a length of 1.29 mm and width of 1.82 mm. Mein and Ginsburg claim that it is the smallest known prosimian molar. The tooth is triangular in shape and shows a simple, reduced morphology. Three important cuspsthe protocone, paracone, and metaconeare present, connected by a crest. They are low and rounded. The metacone, located at the back of the tooth, is closer to the protocone, which is on the front lingual corner the side of the tongue , than it is to the paracone on the front labial corner the side of the cheeks . The protocone is rounded on the lingual side and is attached to a weak crest on the front and back. On the front labial corner, a lengthy crest, the parastylar crest, is present, which includes a minor cusp known as a parastyle. Some wear is visible on the parastylar crest, and at the front of the tooth a contact facet with the preceding second upper molar is present. The tooth has a single, well developed root, which contains a number of grooves, suggesting that it consists of three smaller, fused rootlets. Nycticebus linglom is much smaller than the fossil sivaladapinae primates, and unlike tarsier M3s, the single known fossil is reduced in form and lacks a fourth main cusp, a hypocone. With its reduced, triangular form, it more closely resembles lorises family Lorisidae , but the absence of a hypocone also distinguishes it from the slender lorises Loris , the angwantibos Arctocebus , and the pygmy slow loris Nycticebus pygmaeus . The fossil genus Nycticeboides lacks the rounded lingual face of the protocone seen in N. linglom and possesses additional cuspules. However, N. linglom strongly resembles the Bengal slow loris Nycticebus bengalensis , from which it is distinguished by its smaller size and fused roots. Li Mae Long, the collection site of N. linglom, is dated to the latest Early Miocene, corresponding to the European zone MN 4, around 18 mya. It is in the Thai province of Lamphun. The fossil fauna encompasses 34 species of mammals, including the tarsier Tarsius thailandica and the treeshrew Tupaia miocenica. Mein and Ginsburg conclude that the fauna represents a tropical forest environment close to a shallow lake.'"
      ]
     },
     "execution_count": 8,
     "metadata": {},
     "output_type": "execute_result"
    }
   ],
   "source": [
    "df_good.iloc[0].text"
   ]
  },
  {
   "cell_type": "code",
   "execution_count": 9,
   "metadata": {
    "ExecuteTime": {
     "end_time": "2022-05-10T19:17:57.288144Z",
     "start_time": "2022-05-10T19:17:57.277132Z"
    }
   },
   "outputs": [
    {
     "data": {
      "text/plain": [
       "'Susan Abrams born 1964 is an American business executive who is the Chief Executive Officer of the Illinois Holocaust Museum and Education Center. Abrams was born in New York City and attended the University of Pennsylvania, graduating in 1986 from the Wharton School summa cum laude. Abrams went on to get her Master of Management from Kellogg Graduate School of Management at Northwestern University. Abrams has served on the Chicago Childrens Museum Board of directors as well as the Board of Advisors for the Womens Business Association and Center for Nonprofit Management at Kellogg School of Management. After graduation, Abrams became a financial analyst at Goldman Sachs and, later, a management consultant at McKinsey Company. After McKinsey, Abrams took the position of Vice President of Business, Strategic Planning, Marketing and Communications at the Chicago Childrens Museum. In 1997, Abrams left the Chicago Childrens Museum. Three years later, she published The New Success Rules for Women 10 Surefire Strategies for Reaching Your Career Goals. After this, she founded a residential real estate company. In 2009, Abrams became the Director of Program Review at Northwestern University. After two years there, Abrams moved on to become COO of JCC Chicago. Since 2014, Abrams has been the CEO of the Illinois Holocaust Museum and Education Center.'"
      ]
     },
     "execution_count": 9,
     "metadata": {},
     "output_type": "execute_result"
    }
   ],
   "source": [
    "df_promo.iloc[138].text"
   ]
  },
  {
   "cell_type": "code",
   "execution_count": 12,
   "metadata": {
    "ExecuteTime": {
     "end_time": "2022-05-10T19:18:32.149059Z",
     "start_time": "2022-05-10T19:18:32.135862Z"
    }
   },
   "outputs": [
    {
     "name": "stdout",
     "output_type": "stream",
     "text": [
      "(30279, 2)\n",
      "(23837, 7)\n"
     ]
    }
   ],
   "source": [
    "print(df_good.shape)\n",
    "print(df_promo.shape)"
   ]
  },
  {
   "cell_type": "code",
   "execution_count": null,
   "metadata": {},
   "outputs": [],
   "source": []
  }
 ],
 "metadata": {
  "kernelspec": {
   "display_name": "Python (learn-env)",
   "language": "python",
   "name": "learn-env"
  },
  "language_info": {
   "codemirror_mode": {
    "name": "ipython",
    "version": 3
   },
   "file_extension": ".py",
   "mimetype": "text/x-python",
   "name": "python",
   "nbconvert_exporter": "python",
   "pygments_lexer": "ipython3",
   "version": "3.8.5"
  },
  "toc": {
   "base_numbering": 1,
   "nav_menu": {},
   "number_sections": true,
   "sideBar": true,
   "skip_h1_title": false,
   "title_cell": "Table of Contents",
   "title_sidebar": "Contents",
   "toc_cell": false,
   "toc_position": {},
   "toc_section_display": true,
   "toc_window_display": false
  },
  "varInspector": {
   "cols": {
    "lenName": 16,
    "lenType": 16,
    "lenVar": 40
   },
   "kernels_config": {
    "python": {
     "delete_cmd_postfix": "",
     "delete_cmd_prefix": "del ",
     "library": "var_list.py",
     "varRefreshCmd": "print(var_dic_list())"
    },
    "r": {
     "delete_cmd_postfix": ") ",
     "delete_cmd_prefix": "rm(",
     "library": "var_list.r",
     "varRefreshCmd": "cat(var_dic_list()) "
    }
   },
   "types_to_exclude": [
    "module",
    "function",
    "builtin_function_or_method",
    "instance",
    "_Feature"
   ],
   "window_display": false
  }
 },
 "nbformat": 4,
 "nbformat_minor": 4
}
